{
 "cells": [
  {
   "cell_type": "code",
   "execution_count": 1,
   "id": "dda03ba2",
   "metadata": {
    "ExecuteTime": {
     "end_time": "2022-11-10T04:58:54.891949Z",
     "start_time": "2022-11-10T04:58:54.186689Z"
    }
   },
   "outputs": [],
   "source": [
    "import numpy as np\n",
    "import pandas as pd"
   ]
  },
  {
   "cell_type": "code",
   "execution_count": 2,
   "id": "f50e0dae",
   "metadata": {
    "ExecuteTime": {
     "end_time": "2022-11-10T04:58:57.820194Z",
     "start_time": "2022-11-10T04:58:54.893943Z"
    }
   },
   "outputs": [],
   "source": [
    "df = pd.read_parquet(r'D:\\University\\Y4S1\\QBUS4934\\Modeling\\df_concat.parquet')"
   ]
  },
  {
   "cell_type": "code",
   "execution_count": 3,
   "id": "cabf540a",
   "metadata": {
    "ExecuteTime": {
     "end_time": "2022-11-10T04:58:57.851090Z",
     "start_time": "2022-11-10T04:58:57.822163Z"
    }
   },
   "outputs": [
    {
     "data": {
      "text/html": [
       "<div>\n",
       "<style scoped>\n",
       "    .dataframe tbody tr th:only-of-type {\n",
       "        vertical-align: middle;\n",
       "    }\n",
       "\n",
       "    .dataframe tbody tr th {\n",
       "        vertical-align: top;\n",
       "    }\n",
       "\n",
       "    .dataframe thead th {\n",
       "        text-align: right;\n",
       "    }\n",
       "</style>\n",
       "<table border=\"1\" class=\"dataframe\">\n",
       "  <thead>\n",
       "    <tr style=\"text-align: right;\">\n",
       "      <th>index</th>\n",
       "      <th>4</th>\n",
       "      <th>8</th>\n",
       "      <th>13</th>\n",
       "      <th>14</th>\n",
       "      <th>16</th>\n",
       "    </tr>\n",
       "  </thead>\n",
       "  <tbody>\n",
       "    <tr>\n",
       "      <th>race_ethnicity_combined</th>\n",
       "      <td>NA</td>\n",
       "      <td>Black, Non-Hispanic</td>\n",
       "      <td>NA</td>\n",
       "      <td>NA</td>\n",
       "      <td>NA</td>\n",
       "    </tr>\n",
       "    <tr>\n",
       "      <th>current_status</th>\n",
       "      <td>Laboratory-confirmed case</td>\n",
       "      <td>Laboratory-confirmed case</td>\n",
       "      <td>Laboratory-confirmed case</td>\n",
       "      <td>Probable Case</td>\n",
       "      <td>Laboratory-confirmed case</td>\n",
       "    </tr>\n",
       "    <tr>\n",
       "      <th>cdc_case_earliest_dt</th>\n",
       "      <td>2020-07-07 00:00:00</td>\n",
       "      <td>2020-07-02 00:00:00</td>\n",
       "      <td>2020-10-30 00:00:00</td>\n",
       "      <td>2020-10-30 00:00:00</td>\n",
       "      <td>2020-05-29 00:00:00</td>\n",
       "    </tr>\n",
       "    <tr>\n",
       "      <th>cdc_report_dt</th>\n",
       "      <td>2020-07-13 00:00:00</td>\n",
       "      <td>2020-07-04 00:00:00</td>\n",
       "      <td>2020-10-30 00:00:00</td>\n",
       "      <td>2021-02-03 00:00:00</td>\n",
       "      <td>2020-05-29 00:00:00</td>\n",
       "    </tr>\n",
       "    <tr>\n",
       "      <th>sex</th>\n",
       "      <td>Male</td>\n",
       "      <td>Male</td>\n",
       "      <td>Male</td>\n",
       "      <td>Male</td>\n",
       "      <td>Male</td>\n",
       "    </tr>\n",
       "    <tr>\n",
       "      <th>onset_dt</th>\n",
       "      <td>2020-07-07 00:00:00</td>\n",
       "      <td>2020-07-02 00:00:00</td>\n",
       "      <td>NaT</td>\n",
       "      <td>NaT</td>\n",
       "      <td>NaT</td>\n",
       "    </tr>\n",
       "    <tr>\n",
       "      <th>pos_spec_dt</th>\n",
       "      <td>None</td>\n",
       "      <td>None</td>\n",
       "      <td>2020-10-30</td>\n",
       "      <td>2020-10-30</td>\n",
       "      <td>2020-05-29</td>\n",
       "    </tr>\n",
       "    <tr>\n",
       "      <th>hosp_yn</th>\n",
       "      <td>No</td>\n",
       "      <td>No</td>\n",
       "      <td>No</td>\n",
       "      <td>No</td>\n",
       "      <td>No</td>\n",
       "    </tr>\n",
       "    <tr>\n",
       "      <th>icu_yn</th>\n",
       "      <td>Unknown</td>\n",
       "      <td>No</td>\n",
       "      <td>Missing</td>\n",
       "      <td>Missing</td>\n",
       "      <td>Missing</td>\n",
       "    </tr>\n",
       "    <tr>\n",
       "      <th>death_yn</th>\n",
       "      <td>Unknown</td>\n",
       "      <td>Unknown</td>\n",
       "      <td>Missing</td>\n",
       "      <td>No</td>\n",
       "      <td>Missing</td>\n",
       "    </tr>\n",
       "    <tr>\n",
       "      <th>hc_work_yn</th>\n",
       "      <td>NA</td>\n",
       "      <td>Missing</td>\n",
       "      <td>NA</td>\n",
       "      <td>NA</td>\n",
       "      <td>NA</td>\n",
       "    </tr>\n",
       "    <tr>\n",
       "      <th>pna_yn</th>\n",
       "      <td>No</td>\n",
       "      <td>No</td>\n",
       "      <td>No</td>\n",
       "      <td>No</td>\n",
       "      <td>No</td>\n",
       "    </tr>\n",
       "    <tr>\n",
       "      <th>abxchest_yn</th>\n",
       "      <td>No</td>\n",
       "      <td>Unknown</td>\n",
       "      <td>No</td>\n",
       "      <td>No</td>\n",
       "      <td>No</td>\n",
       "    </tr>\n",
       "    <tr>\n",
       "      <th>acuterespdistress_yn</th>\n",
       "      <td>Missing</td>\n",
       "      <td>Missing</td>\n",
       "      <td>No</td>\n",
       "      <td>No</td>\n",
       "      <td>No</td>\n",
       "    </tr>\n",
       "    <tr>\n",
       "      <th>mechvent_yn</th>\n",
       "      <td>No</td>\n",
       "      <td>No</td>\n",
       "      <td>No</td>\n",
       "      <td>No</td>\n",
       "      <td>No</td>\n",
       "    </tr>\n",
       "    <tr>\n",
       "      <th>fever_yn</th>\n",
       "      <td>No</td>\n",
       "      <td>No</td>\n",
       "      <td>Yes</td>\n",
       "      <td>Missing</td>\n",
       "      <td>Missing</td>\n",
       "    </tr>\n",
       "    <tr>\n",
       "      <th>sfever_yn</th>\n",
       "      <td>Missing</td>\n",
       "      <td>Missing</td>\n",
       "      <td>No</td>\n",
       "      <td>Missing</td>\n",
       "      <td>Missing</td>\n",
       "    </tr>\n",
       "    <tr>\n",
       "      <th>chills_yn</th>\n",
       "      <td>Yes</td>\n",
       "      <td>No</td>\n",
       "      <td>Missing</td>\n",
       "      <td>Missing</td>\n",
       "      <td>Missing</td>\n",
       "    </tr>\n",
       "    <tr>\n",
       "      <th>myalgia_yn</th>\n",
       "      <td>Yes</td>\n",
       "      <td>No</td>\n",
       "      <td>Yes</td>\n",
       "      <td>Missing</td>\n",
       "      <td>Missing</td>\n",
       "    </tr>\n",
       "    <tr>\n",
       "      <th>runnose_yn</th>\n",
       "      <td>Missing</td>\n",
       "      <td>Missing</td>\n",
       "      <td>Yes</td>\n",
       "      <td>Missing</td>\n",
       "      <td>Missing</td>\n",
       "    </tr>\n",
       "    <tr>\n",
       "      <th>sthroat_yn</th>\n",
       "      <td>No</td>\n",
       "      <td>No</td>\n",
       "      <td>Yes</td>\n",
       "      <td>Missing</td>\n",
       "      <td>Missing</td>\n",
       "    </tr>\n",
       "    <tr>\n",
       "      <th>cough_yn</th>\n",
       "      <td>No</td>\n",
       "      <td>No</td>\n",
       "      <td>Yes</td>\n",
       "      <td>Missing</td>\n",
       "      <td>Missing</td>\n",
       "    </tr>\n",
       "    <tr>\n",
       "      <th>sob_yn</th>\n",
       "      <td>No</td>\n",
       "      <td>No</td>\n",
       "      <td>No</td>\n",
       "      <td>Missing</td>\n",
       "      <td>Missing</td>\n",
       "    </tr>\n",
       "    <tr>\n",
       "      <th>nauseavomit_yn</th>\n",
       "      <td>No</td>\n",
       "      <td>No</td>\n",
       "      <td>No</td>\n",
       "      <td>Missing</td>\n",
       "      <td>Missing</td>\n",
       "    </tr>\n",
       "    <tr>\n",
       "      <th>headache_yn</th>\n",
       "      <td>Yes</td>\n",
       "      <td>Yes</td>\n",
       "      <td>Yes</td>\n",
       "      <td>Missing</td>\n",
       "      <td>Missing</td>\n",
       "    </tr>\n",
       "    <tr>\n",
       "      <th>abdom_yn</th>\n",
       "      <td>Yes</td>\n",
       "      <td>No</td>\n",
       "      <td>No</td>\n",
       "      <td>Missing</td>\n",
       "      <td>Missing</td>\n",
       "    </tr>\n",
       "    <tr>\n",
       "      <th>diarrhea_yn</th>\n",
       "      <td>No</td>\n",
       "      <td>No</td>\n",
       "      <td>Yes</td>\n",
       "      <td>Missing</td>\n",
       "      <td>Missing</td>\n",
       "    </tr>\n",
       "    <tr>\n",
       "      <th>medcond_yn</th>\n",
       "      <td>Yes</td>\n",
       "      <td>Missing</td>\n",
       "      <td>Yes</td>\n",
       "      <td>Yes</td>\n",
       "      <td>Yes</td>\n",
       "    </tr>\n",
       "    <tr>\n",
       "      <th>county_fips_code</th>\n",
       "      <td>17001</td>\n",
       "      <td>17001</td>\n",
       "      <td>72001</td>\n",
       "      <td>72001</td>\n",
       "      <td>72001</td>\n",
       "    </tr>\n",
       "    <tr>\n",
       "      <th>res_county</th>\n",
       "      <td>ADAMS</td>\n",
       "      <td>ADAMS</td>\n",
       "      <td>ADJUNTAS</td>\n",
       "      <td>ADJUNTAS</td>\n",
       "      <td>ADJUNTAS</td>\n",
       "    </tr>\n",
       "    <tr>\n",
       "      <th>res_state</th>\n",
       "      <td>IL</td>\n",
       "      <td>IL</td>\n",
       "      <td>PR</td>\n",
       "      <td>PR</td>\n",
       "      <td>PR</td>\n",
       "    </tr>\n",
       "    <tr>\n",
       "      <th>age_group</th>\n",
       "      <td>30 - 39 Years</td>\n",
       "      <td>60 - 69 Years</td>\n",
       "      <td>70 - 79 Years</td>\n",
       "      <td>70 - 79 Years</td>\n",
       "      <td>70 - 79 Years</td>\n",
       "    </tr>\n",
       "  </tbody>\n",
       "</table>\n",
       "</div>"
      ],
      "text/plain": [
       "index                                           4                          8   \\\n",
       "race_ethnicity_combined                         NA        Black, Non-Hispanic   \n",
       "current_status           Laboratory-confirmed case  Laboratory-confirmed case   \n",
       "cdc_case_earliest_dt           2020-07-07 00:00:00        2020-07-02 00:00:00   \n",
       "cdc_report_dt                  2020-07-13 00:00:00        2020-07-04 00:00:00   \n",
       "sex                                           Male                       Male   \n",
       "onset_dt                       2020-07-07 00:00:00        2020-07-02 00:00:00   \n",
       "pos_spec_dt                                   None                       None   \n",
       "hosp_yn                                         No                         No   \n",
       "icu_yn                                     Unknown                         No   \n",
       "death_yn                                   Unknown                    Unknown   \n",
       "hc_work_yn                                      NA                    Missing   \n",
       "pna_yn                                          No                         No   \n",
       "abxchest_yn                                     No                    Unknown   \n",
       "acuterespdistress_yn                       Missing                    Missing   \n",
       "mechvent_yn                                     No                         No   \n",
       "fever_yn                                        No                         No   \n",
       "sfever_yn                                  Missing                    Missing   \n",
       "chills_yn                                      Yes                         No   \n",
       "myalgia_yn                                     Yes                         No   \n",
       "runnose_yn                                 Missing                    Missing   \n",
       "sthroat_yn                                      No                         No   \n",
       "cough_yn                                        No                         No   \n",
       "sob_yn                                          No                         No   \n",
       "nauseavomit_yn                                  No                         No   \n",
       "headache_yn                                    Yes                        Yes   \n",
       "abdom_yn                                       Yes                         No   \n",
       "diarrhea_yn                                     No                         No   \n",
       "medcond_yn                                     Yes                    Missing   \n",
       "county_fips_code                             17001                      17001   \n",
       "res_county                                   ADAMS                      ADAMS   \n",
       "res_state                                       IL                         IL   \n",
       "age_group                            30 - 39 Years              60 - 69 Years   \n",
       "\n",
       "index                                           13                   14  \\\n",
       "race_ethnicity_combined                         NA                   NA   \n",
       "current_status           Laboratory-confirmed case        Probable Case   \n",
       "cdc_case_earliest_dt           2020-10-30 00:00:00  2020-10-30 00:00:00   \n",
       "cdc_report_dt                  2020-10-30 00:00:00  2021-02-03 00:00:00   \n",
       "sex                                           Male                 Male   \n",
       "onset_dt                                       NaT                  NaT   \n",
       "pos_spec_dt                             2020-10-30           2020-10-30   \n",
       "hosp_yn                                         No                   No   \n",
       "icu_yn                                     Missing              Missing   \n",
       "death_yn                                   Missing                   No   \n",
       "hc_work_yn                                      NA                   NA   \n",
       "pna_yn                                          No                   No   \n",
       "abxchest_yn                                     No                   No   \n",
       "acuterespdistress_yn                            No                   No   \n",
       "mechvent_yn                                     No                   No   \n",
       "fever_yn                                       Yes              Missing   \n",
       "sfever_yn                                       No              Missing   \n",
       "chills_yn                                  Missing              Missing   \n",
       "myalgia_yn                                     Yes              Missing   \n",
       "runnose_yn                                     Yes              Missing   \n",
       "sthroat_yn                                     Yes              Missing   \n",
       "cough_yn                                       Yes              Missing   \n",
       "sob_yn                                          No              Missing   \n",
       "nauseavomit_yn                                  No              Missing   \n",
       "headache_yn                                    Yes              Missing   \n",
       "abdom_yn                                        No              Missing   \n",
       "diarrhea_yn                                    Yes              Missing   \n",
       "medcond_yn                                     Yes                  Yes   \n",
       "county_fips_code                             72001                72001   \n",
       "res_county                                ADJUNTAS             ADJUNTAS   \n",
       "res_state                                       PR                   PR   \n",
       "age_group                            70 - 79 Years        70 - 79 Years   \n",
       "\n",
       "index                                           16  \n",
       "race_ethnicity_combined                         NA  \n",
       "current_status           Laboratory-confirmed case  \n",
       "cdc_case_earliest_dt           2020-05-29 00:00:00  \n",
       "cdc_report_dt                  2020-05-29 00:00:00  \n",
       "sex                                           Male  \n",
       "onset_dt                                       NaT  \n",
       "pos_spec_dt                             2020-05-29  \n",
       "hosp_yn                                         No  \n",
       "icu_yn                                     Missing  \n",
       "death_yn                                   Missing  \n",
       "hc_work_yn                                      NA  \n",
       "pna_yn                                          No  \n",
       "abxchest_yn                                     No  \n",
       "acuterespdistress_yn                            No  \n",
       "mechvent_yn                                     No  \n",
       "fever_yn                                   Missing  \n",
       "sfever_yn                                  Missing  \n",
       "chills_yn                                  Missing  \n",
       "myalgia_yn                                 Missing  \n",
       "runnose_yn                                 Missing  \n",
       "sthroat_yn                                 Missing  \n",
       "cough_yn                                   Missing  \n",
       "sob_yn                                     Missing  \n",
       "nauseavomit_yn                             Missing  \n",
       "headache_yn                                Missing  \n",
       "abdom_yn                                   Missing  \n",
       "diarrhea_yn                                Missing  \n",
       "medcond_yn                                     Yes  \n",
       "county_fips_code                             72001  \n",
       "res_county                                ADJUNTAS  \n",
       "res_state                                       PR  \n",
       "age_group                            70 - 79 Years  "
      ]
     },
     "execution_count": 3,
     "metadata": {},
     "output_type": "execute_result"
    }
   ],
   "source": [
    "df.head().T"
   ]
  },
  {
   "cell_type": "code",
   "execution_count": 4,
   "id": "d6624a86",
   "metadata": {
    "ExecuteTime": {
     "end_time": "2022-11-10T04:58:57.946282Z",
     "start_time": "2022-11-10T04:58:57.853080Z"
    }
   },
   "outputs": [
    {
     "data": {
      "text/plain": [
       "Laboratory-confirmed case    1400366\n",
       "Probable Case                 114895\n",
       "Name: current_status, dtype: int64"
      ]
     },
     "execution_count": 4,
     "metadata": {},
     "output_type": "execute_result"
    }
   ],
   "source": [
    "df['current_status'].value_counts(dropna=False)"
   ]
  },
  {
   "cell_type": "code",
   "execution_count": 5,
   "id": "671bf8fa",
   "metadata": {
    "ExecuteTime": {
     "end_time": "2022-11-10T04:58:58.116826Z",
     "start_time": "2022-11-10T04:58:57.947279Z"
    }
   },
   "outputs": [
    {
     "data": {
      "text/plain": [
       "Female     808661\n",
       "Male       694824\n",
       "NA           8970\n",
       "Unknown      1572\n",
       "Missing      1215\n",
       "Other          19\n",
       "Name: sex, dtype: int64"
      ]
     },
     "execution_count": 5,
     "metadata": {},
     "output_type": "execute_result"
    }
   ],
   "source": [
    "df['sex'].value_counts(dropna=False)"
   ]
  },
  {
   "cell_type": "code",
   "execution_count": 6,
   "id": "ee58613c",
   "metadata": {
    "ExecuteTime": {
     "end_time": "2022-11-10T04:58:58.415062Z",
     "start_time": "2022-11-10T04:58:58.118820Z"
    }
   },
   "outputs": [
    {
     "name": "stdout",
     "output_type": "stream",
     "text": [
      "county_fips_code length: 1309\n",
      "res_county length: 901\n",
      "res_state length: 56\n"
     ]
    }
   ],
   "source": [
    "geo_features = ['county_fips_code', 'res_county', 'res_state']\n",
    "\n",
    "for cols in df[geo_features].columns:\n",
    "    print(f'{cols} length: {len(df[cols].unique())}')"
   ]
  },
  {
   "cell_type": "code",
   "execution_count": 7,
   "id": "5d857c8e",
   "metadata": {
    "ExecuteTime": {
     "end_time": "2022-11-10T04:58:58.494816Z",
     "start_time": "2022-11-10T04:58:58.417024Z"
    }
   },
   "outputs": [
    {
     "data": {
      "text/plain": [
       "CLARK        133244\n",
       "SALT LAKE     50853\n",
       "CUYAHOGA      36765\n",
       "DAVIS         32057\n",
       "WAKE          27390\n",
       "              ...  \n",
       "HARDY             1\n",
       "NOXUBEE           1\n",
       "MCCREARY          1\n",
       "SAGUACHE          1\n",
       "MCLENNAN          1\n",
       "Name: res_county, Length: 901, dtype: int64"
      ]
     },
     "execution_count": 7,
     "metadata": {},
     "output_type": "execute_result"
    }
   ],
   "source": [
    "df['res_county'].value_counts(dropna=False)"
   ]
  },
  {
   "cell_type": "code",
   "execution_count": 8,
   "id": "bb82a76f",
   "metadata": {
    "ExecuteTime": {
     "end_time": "2022-11-10T04:58:58.573606Z",
     "start_time": "2022-11-10T04:58:58.495814Z"
    }
   },
   "outputs": [
    {
     "data": {
      "text/plain": [
       "NC         296627\n",
       "OH         295039\n",
       "PA         182184\n",
       "NV         157148\n",
       "AR         147555\n",
       "UT         139264\n",
       "IA         101882\n",
       "IL          61394\n",
       "KS          60209\n",
       "NJ          22270\n",
       "VT          14084\n",
       "LA           8032\n",
       "NY           6728\n",
       "MA           5063\n",
       "AK           4855\n",
       "DC           2576\n",
       "PR           2568\n",
       "GU           2140\n",
       "CO           2070\n",
       "VI           1068\n",
       "WY            901\n",
       "NH            370\n",
       "NA            169\n",
       "MS            145\n",
       "KY            140\n",
       "MO            105\n",
       "FL             94\n",
       "WV             89\n",
       "MP             76\n",
       "TX             60\n",
       "WA             59\n",
       "IN             36\n",
       "GA             31\n",
       "CT             23\n",
       "SD             20\n",
       "WI             19\n",
       "RI             19\n",
       "Missing        18\n",
       "CA             17\n",
       "OK             15\n",
       "MT             14\n",
       "AZ             12\n",
       "ND             10\n",
       "VA             10\n",
       "DE              8\n",
       "NE              8\n",
       "MD              6\n",
       "SC              5\n",
       "ME              5\n",
       "NM              5\n",
       "MI              4\n",
       "TN              3\n",
       "HI              3\n",
       "OR              2\n",
       "MN              2\n",
       "AL              2\n",
       "Name: res_state, dtype: int64"
      ]
     },
     "execution_count": 8,
     "metadata": {},
     "output_type": "execute_result"
    }
   ],
   "source": [
    "df['res_state'].value_counts(dropna=False)"
   ]
  },
  {
   "cell_type": "code",
   "execution_count": 9,
   "id": "ad4c2326",
   "metadata": {
    "ExecuteTime": {
     "end_time": "2022-11-10T04:58:58.619659Z",
     "start_time": "2022-11-10T04:58:58.574603Z"
    }
   },
   "outputs": [
    {
     "data": {
      "text/plain": [
       "56"
      ]
     },
     "execution_count": 9,
     "metadata": {},
     "output_type": "execute_result"
    }
   ],
   "source": [
    "len(df['res_state'].value_counts(dropna=False))"
   ]
  },
  {
   "cell_type": "markdown",
   "id": "67217300",
   "metadata": {},
   "source": [
    "NTS: Could be interesting to look at date vs geographical location"
   ]
  },
  {
   "cell_type": "markdown",
   "id": "8e1d8eec",
   "metadata": {},
   "source": [
    "Measuring correlation between 'county_fips_code', 'res_county', 'res_state'\n",
    "* country_FIPS_code should demonstrate multicollinearity wth res_state"
   ]
  },
  {
   "cell_type": "code",
   "execution_count": 10,
   "id": "bc268f79",
   "metadata": {
    "ExecuteTime": {
     "end_time": "2022-11-10T04:59:00.071392Z",
     "start_time": "2022-11-10T04:58:58.622651Z"
    }
   },
   "outputs": [
    {
     "name": "stdout",
     "output_type": "stream",
     "text": [
      "The P-Value of the ChiSq Test is: 0.0\n"
     ]
    }
   ],
   "source": [
    "# Cross tabulation between GENDER and APPROVE_LOAN\n",
    "CrosstabResult=pd.crosstab(index=df['county_fips_code'],columns=df['res_county'])\n",
    "# print(CrosstabResult)\n",
    " \n",
    "# importing the required function\n",
    "from scipy.stats import chi2_contingency\n",
    " \n",
    "# Performing Chi-sq test\n",
    "ChiSqResult = chi2_contingency(CrosstabResult)\n",
    " \n",
    "# P-Value is the Probability of H0 being True\n",
    "# If P-Value&gt;0.05 then only we Accept the assumption(H0)\n",
    " \n",
    "print('The P-Value of the ChiSq Test is:', ChiSqResult[1])"
   ]
  },
  {
   "cell_type": "code",
   "execution_count": 11,
   "id": "299dbe61",
   "metadata": {
    "ExecuteTime": {
     "end_time": "2022-11-10T04:59:00.385581Z",
     "start_time": "2022-11-10T04:59:00.072390Z"
    }
   },
   "outputs": [
    {
     "name": "stdout",
     "output_type": "stream",
     "text": [
      "The P-Value of the ChiSq Test is: 0.0\n"
     ]
    }
   ],
   "source": [
    "# Cross tabulation between GENDER and APPROVE_LOAN\n",
    "CrosstabResult=pd.crosstab(index=df['county_fips_code'],columns=df['res_state'])\n",
    "# print(CrosstabResult)\n",
    " \n",
    "# importing the required function\n",
    "from scipy.stats import chi2_contingency\n",
    " \n",
    "# Performing Chi-sq test\n",
    "ChiSqResult = chi2_contingency(CrosstabResult)\n",
    " \n",
    "# P-Value is the Probability of H0 being True\n",
    "# If P-Value&gt;0.05 then only we Accept the assumption(H0)\n",
    " \n",
    "print('The P-Value of the ChiSq Test is:', ChiSqResult[1])"
   ]
  },
  {
   "cell_type": "code",
   "execution_count": 12,
   "id": "3e8b381c",
   "metadata": {
    "ExecuteTime": {
     "end_time": "2022-11-10T04:59:00.666829Z",
     "start_time": "2022-11-10T04:59:00.387558Z"
    }
   },
   "outputs": [
    {
     "name": "stdout",
     "output_type": "stream",
     "text": [
      "The P-Value of the ChiSq Test is: 0.0\n"
     ]
    }
   ],
   "source": [
    "# Cross tabulation between GENDER and APPROVE_LOAN\n",
    "CrosstabResult=pd.crosstab(index=df['res_county'],columns=df['res_state'])\n",
    "# print(CrosstabResult)\n",
    " \n",
    "# importing the required function\n",
    "from scipy.stats import chi2_contingency\n",
    " \n",
    "# Performing Chi-sq test\n",
    "ChiSqResult = chi2_contingency(CrosstabResult)\n",
    " \n",
    "# P-Value is the Probability of H0 being True\n",
    "# If P-Value&gt;0.05 then only we Accept the assumption(H0)\n",
    " \n",
    "print('The P-Value of the ChiSq Test is:', ChiSqResult[1])"
   ]
  },
  {
   "cell_type": "markdown",
   "id": "70ccb1e5",
   "metadata": {},
   "source": [
    "Since 'county_fips_code' is already technically in binary encoding, only 'res_county' and 'res_state' require encoding. They will be target encoded because high cardinality. Target variable, 'pna_yn' will be dummy encoded.\n",
    "\n",
    "https://medium.com/analytics-vidhya/target-encoding-vs-one-hot-encoding-with-simple-examples-276a7e7b3e64\n",
    "https://towardsdatascience.com/targeting-multicollinearity-with-python-3bd3b4088d0b\n",
    "https://www.geeksforgeeks.org/detecting-multicollinearity-with-vif-python/\n",
    "https://towardsdatascience.com/statistics-in-python-collinearity-and-multicollinearity-4cc4dcd82b3f"
   ]
  },
  {
   "cell_type": "code",
   "execution_count": 13,
   "id": "25bcdd22",
   "metadata": {
    "ExecuteTime": {
     "end_time": "2022-11-10T04:59:00.759581Z",
     "start_time": "2022-11-10T04:59:00.667800Z"
    }
   },
   "outputs": [
    {
     "data": {
      "text/html": [
       "<div>\n",
       "<style scoped>\n",
       "    .dataframe tbody tr th:only-of-type {\n",
       "        vertical-align: middle;\n",
       "    }\n",
       "\n",
       "    .dataframe tbody tr th {\n",
       "        vertical-align: top;\n",
       "    }\n",
       "\n",
       "    .dataframe thead th {\n",
       "        text-align: right;\n",
       "    }\n",
       "</style>\n",
       "<table border=\"1\" class=\"dataframe\">\n",
       "  <thead>\n",
       "    <tr style=\"text-align: right;\">\n",
       "      <th></th>\n",
       "      <th>Yes</th>\n",
       "    </tr>\n",
       "    <tr>\n",
       "      <th>index</th>\n",
       "      <th></th>\n",
       "    </tr>\n",
       "  </thead>\n",
       "  <tbody>\n",
       "    <tr>\n",
       "      <th>4</th>\n",
       "      <td>0</td>\n",
       "    </tr>\n",
       "    <tr>\n",
       "      <th>8</th>\n",
       "      <td>0</td>\n",
       "    </tr>\n",
       "    <tr>\n",
       "      <th>13</th>\n",
       "      <td>0</td>\n",
       "    </tr>\n",
       "    <tr>\n",
       "      <th>14</th>\n",
       "      <td>0</td>\n",
       "    </tr>\n",
       "    <tr>\n",
       "      <th>16</th>\n",
       "      <td>0</td>\n",
       "    </tr>\n",
       "  </tbody>\n",
       "</table>\n",
       "</div>"
      ],
      "text/plain": [
       "       Yes\n",
       "index     \n",
       "4        0\n",
       "8        0\n",
       "13       0\n",
       "14       0\n",
       "16       0"
      ]
     },
     "execution_count": 13,
     "metadata": {},
     "output_type": "execute_result"
    }
   ],
   "source": [
    "target = df['pna_yn']\n",
    "target = pd.get_dummies(target, drop_first=True)\n",
    "target.head(5)"
   ]
  },
  {
   "cell_type": "code",
   "execution_count": 14,
   "id": "15086575",
   "metadata": {
    "ExecuteTime": {
     "end_time": "2022-11-10T04:59:01.554053Z",
     "start_time": "2022-11-10T04:59:00.760565Z"
    }
   },
   "outputs": [],
   "source": [
    "df['pna_yn_yes'] = target\n",
    "df = df.drop(['pna_yn'], axis=1)"
   ]
  },
  {
   "cell_type": "code",
   "execution_count": 15,
   "id": "f4d8c429",
   "metadata": {
    "ExecuteTime": {
     "end_time": "2022-11-10T04:59:01.569981Z",
     "start_time": "2022-11-10T04:59:01.556018Z"
    }
   },
   "outputs": [
    {
     "data": {
      "text/html": [
       "<div>\n",
       "<style scoped>\n",
       "    .dataframe tbody tr th:only-of-type {\n",
       "        vertical-align: middle;\n",
       "    }\n",
       "\n",
       "    .dataframe tbody tr th {\n",
       "        vertical-align: top;\n",
       "    }\n",
       "\n",
       "    .dataframe thead th {\n",
       "        text-align: right;\n",
       "    }\n",
       "</style>\n",
       "<table border=\"1\" class=\"dataframe\">\n",
       "  <thead>\n",
       "    <tr style=\"text-align: right;\">\n",
       "      <th>index</th>\n",
       "      <th>4</th>\n",
       "      <th>8</th>\n",
       "      <th>13</th>\n",
       "      <th>14</th>\n",
       "      <th>16</th>\n",
       "    </tr>\n",
       "  </thead>\n",
       "  <tbody>\n",
       "    <tr>\n",
       "      <th>race_ethnicity_combined</th>\n",
       "      <td>NA</td>\n",
       "      <td>Black, Non-Hispanic</td>\n",
       "      <td>NA</td>\n",
       "      <td>NA</td>\n",
       "      <td>NA</td>\n",
       "    </tr>\n",
       "    <tr>\n",
       "      <th>current_status</th>\n",
       "      <td>Laboratory-confirmed case</td>\n",
       "      <td>Laboratory-confirmed case</td>\n",
       "      <td>Laboratory-confirmed case</td>\n",
       "      <td>Probable Case</td>\n",
       "      <td>Laboratory-confirmed case</td>\n",
       "    </tr>\n",
       "    <tr>\n",
       "      <th>cdc_case_earliest_dt</th>\n",
       "      <td>2020-07-07 00:00:00</td>\n",
       "      <td>2020-07-02 00:00:00</td>\n",
       "      <td>2020-10-30 00:00:00</td>\n",
       "      <td>2020-10-30 00:00:00</td>\n",
       "      <td>2020-05-29 00:00:00</td>\n",
       "    </tr>\n",
       "    <tr>\n",
       "      <th>cdc_report_dt</th>\n",
       "      <td>2020-07-13 00:00:00</td>\n",
       "      <td>2020-07-04 00:00:00</td>\n",
       "      <td>2020-10-30 00:00:00</td>\n",
       "      <td>2021-02-03 00:00:00</td>\n",
       "      <td>2020-05-29 00:00:00</td>\n",
       "    </tr>\n",
       "    <tr>\n",
       "      <th>sex</th>\n",
       "      <td>Male</td>\n",
       "      <td>Male</td>\n",
       "      <td>Male</td>\n",
       "      <td>Male</td>\n",
       "      <td>Male</td>\n",
       "    </tr>\n",
       "    <tr>\n",
       "      <th>onset_dt</th>\n",
       "      <td>2020-07-07 00:00:00</td>\n",
       "      <td>2020-07-02 00:00:00</td>\n",
       "      <td>NaT</td>\n",
       "      <td>NaT</td>\n",
       "      <td>NaT</td>\n",
       "    </tr>\n",
       "    <tr>\n",
       "      <th>pos_spec_dt</th>\n",
       "      <td>None</td>\n",
       "      <td>None</td>\n",
       "      <td>2020-10-30</td>\n",
       "      <td>2020-10-30</td>\n",
       "      <td>2020-05-29</td>\n",
       "    </tr>\n",
       "    <tr>\n",
       "      <th>hosp_yn</th>\n",
       "      <td>No</td>\n",
       "      <td>No</td>\n",
       "      <td>No</td>\n",
       "      <td>No</td>\n",
       "      <td>No</td>\n",
       "    </tr>\n",
       "    <tr>\n",
       "      <th>icu_yn</th>\n",
       "      <td>Unknown</td>\n",
       "      <td>No</td>\n",
       "      <td>Missing</td>\n",
       "      <td>Missing</td>\n",
       "      <td>Missing</td>\n",
       "    </tr>\n",
       "    <tr>\n",
       "      <th>death_yn</th>\n",
       "      <td>Unknown</td>\n",
       "      <td>Unknown</td>\n",
       "      <td>Missing</td>\n",
       "      <td>No</td>\n",
       "      <td>Missing</td>\n",
       "    </tr>\n",
       "    <tr>\n",
       "      <th>hc_work_yn</th>\n",
       "      <td>NA</td>\n",
       "      <td>Missing</td>\n",
       "      <td>NA</td>\n",
       "      <td>NA</td>\n",
       "      <td>NA</td>\n",
       "    </tr>\n",
       "    <tr>\n",
       "      <th>abxchest_yn</th>\n",
       "      <td>No</td>\n",
       "      <td>Unknown</td>\n",
       "      <td>No</td>\n",
       "      <td>No</td>\n",
       "      <td>No</td>\n",
       "    </tr>\n",
       "    <tr>\n",
       "      <th>acuterespdistress_yn</th>\n",
       "      <td>Missing</td>\n",
       "      <td>Missing</td>\n",
       "      <td>No</td>\n",
       "      <td>No</td>\n",
       "      <td>No</td>\n",
       "    </tr>\n",
       "    <tr>\n",
       "      <th>mechvent_yn</th>\n",
       "      <td>No</td>\n",
       "      <td>No</td>\n",
       "      <td>No</td>\n",
       "      <td>No</td>\n",
       "      <td>No</td>\n",
       "    </tr>\n",
       "    <tr>\n",
       "      <th>fever_yn</th>\n",
       "      <td>No</td>\n",
       "      <td>No</td>\n",
       "      <td>Yes</td>\n",
       "      <td>Missing</td>\n",
       "      <td>Missing</td>\n",
       "    </tr>\n",
       "    <tr>\n",
       "      <th>sfever_yn</th>\n",
       "      <td>Missing</td>\n",
       "      <td>Missing</td>\n",
       "      <td>No</td>\n",
       "      <td>Missing</td>\n",
       "      <td>Missing</td>\n",
       "    </tr>\n",
       "    <tr>\n",
       "      <th>chills_yn</th>\n",
       "      <td>Yes</td>\n",
       "      <td>No</td>\n",
       "      <td>Missing</td>\n",
       "      <td>Missing</td>\n",
       "      <td>Missing</td>\n",
       "    </tr>\n",
       "    <tr>\n",
       "      <th>myalgia_yn</th>\n",
       "      <td>Yes</td>\n",
       "      <td>No</td>\n",
       "      <td>Yes</td>\n",
       "      <td>Missing</td>\n",
       "      <td>Missing</td>\n",
       "    </tr>\n",
       "    <tr>\n",
       "      <th>runnose_yn</th>\n",
       "      <td>Missing</td>\n",
       "      <td>Missing</td>\n",
       "      <td>Yes</td>\n",
       "      <td>Missing</td>\n",
       "      <td>Missing</td>\n",
       "    </tr>\n",
       "    <tr>\n",
       "      <th>sthroat_yn</th>\n",
       "      <td>No</td>\n",
       "      <td>No</td>\n",
       "      <td>Yes</td>\n",
       "      <td>Missing</td>\n",
       "      <td>Missing</td>\n",
       "    </tr>\n",
       "    <tr>\n",
       "      <th>cough_yn</th>\n",
       "      <td>No</td>\n",
       "      <td>No</td>\n",
       "      <td>Yes</td>\n",
       "      <td>Missing</td>\n",
       "      <td>Missing</td>\n",
       "    </tr>\n",
       "    <tr>\n",
       "      <th>sob_yn</th>\n",
       "      <td>No</td>\n",
       "      <td>No</td>\n",
       "      <td>No</td>\n",
       "      <td>Missing</td>\n",
       "      <td>Missing</td>\n",
       "    </tr>\n",
       "    <tr>\n",
       "      <th>nauseavomit_yn</th>\n",
       "      <td>No</td>\n",
       "      <td>No</td>\n",
       "      <td>No</td>\n",
       "      <td>Missing</td>\n",
       "      <td>Missing</td>\n",
       "    </tr>\n",
       "    <tr>\n",
       "      <th>headache_yn</th>\n",
       "      <td>Yes</td>\n",
       "      <td>Yes</td>\n",
       "      <td>Yes</td>\n",
       "      <td>Missing</td>\n",
       "      <td>Missing</td>\n",
       "    </tr>\n",
       "    <tr>\n",
       "      <th>abdom_yn</th>\n",
       "      <td>Yes</td>\n",
       "      <td>No</td>\n",
       "      <td>No</td>\n",
       "      <td>Missing</td>\n",
       "      <td>Missing</td>\n",
       "    </tr>\n",
       "    <tr>\n",
       "      <th>diarrhea_yn</th>\n",
       "      <td>No</td>\n",
       "      <td>No</td>\n",
       "      <td>Yes</td>\n",
       "      <td>Missing</td>\n",
       "      <td>Missing</td>\n",
       "    </tr>\n",
       "    <tr>\n",
       "      <th>medcond_yn</th>\n",
       "      <td>Yes</td>\n",
       "      <td>Missing</td>\n",
       "      <td>Yes</td>\n",
       "      <td>Yes</td>\n",
       "      <td>Yes</td>\n",
       "    </tr>\n",
       "    <tr>\n",
       "      <th>county_fips_code</th>\n",
       "      <td>17001</td>\n",
       "      <td>17001</td>\n",
       "      <td>72001</td>\n",
       "      <td>72001</td>\n",
       "      <td>72001</td>\n",
       "    </tr>\n",
       "    <tr>\n",
       "      <th>res_county</th>\n",
       "      <td>ADAMS</td>\n",
       "      <td>ADAMS</td>\n",
       "      <td>ADJUNTAS</td>\n",
       "      <td>ADJUNTAS</td>\n",
       "      <td>ADJUNTAS</td>\n",
       "    </tr>\n",
       "    <tr>\n",
       "      <th>res_state</th>\n",
       "      <td>IL</td>\n",
       "      <td>IL</td>\n",
       "      <td>PR</td>\n",
       "      <td>PR</td>\n",
       "      <td>PR</td>\n",
       "    </tr>\n",
       "    <tr>\n",
       "      <th>age_group</th>\n",
       "      <td>30 - 39 Years</td>\n",
       "      <td>60 - 69 Years</td>\n",
       "      <td>70 - 79 Years</td>\n",
       "      <td>70 - 79 Years</td>\n",
       "      <td>70 - 79 Years</td>\n",
       "    </tr>\n",
       "    <tr>\n",
       "      <th>pna_yn_yes</th>\n",
       "      <td>0</td>\n",
       "      <td>0</td>\n",
       "      <td>0</td>\n",
       "      <td>0</td>\n",
       "      <td>0</td>\n",
       "    </tr>\n",
       "  </tbody>\n",
       "</table>\n",
       "</div>"
      ],
      "text/plain": [
       "index                                           4                          8   \\\n",
       "race_ethnicity_combined                         NA        Black, Non-Hispanic   \n",
       "current_status           Laboratory-confirmed case  Laboratory-confirmed case   \n",
       "cdc_case_earliest_dt           2020-07-07 00:00:00        2020-07-02 00:00:00   \n",
       "cdc_report_dt                  2020-07-13 00:00:00        2020-07-04 00:00:00   \n",
       "sex                                           Male                       Male   \n",
       "onset_dt                       2020-07-07 00:00:00        2020-07-02 00:00:00   \n",
       "pos_spec_dt                                   None                       None   \n",
       "hosp_yn                                         No                         No   \n",
       "icu_yn                                     Unknown                         No   \n",
       "death_yn                                   Unknown                    Unknown   \n",
       "hc_work_yn                                      NA                    Missing   \n",
       "abxchest_yn                                     No                    Unknown   \n",
       "acuterespdistress_yn                       Missing                    Missing   \n",
       "mechvent_yn                                     No                         No   \n",
       "fever_yn                                        No                         No   \n",
       "sfever_yn                                  Missing                    Missing   \n",
       "chills_yn                                      Yes                         No   \n",
       "myalgia_yn                                     Yes                         No   \n",
       "runnose_yn                                 Missing                    Missing   \n",
       "sthroat_yn                                      No                         No   \n",
       "cough_yn                                        No                         No   \n",
       "sob_yn                                          No                         No   \n",
       "nauseavomit_yn                                  No                         No   \n",
       "headache_yn                                    Yes                        Yes   \n",
       "abdom_yn                                       Yes                         No   \n",
       "diarrhea_yn                                     No                         No   \n",
       "medcond_yn                                     Yes                    Missing   \n",
       "county_fips_code                             17001                      17001   \n",
       "res_county                                   ADAMS                      ADAMS   \n",
       "res_state                                       IL                         IL   \n",
       "age_group                            30 - 39 Years              60 - 69 Years   \n",
       "pna_yn_yes                                       0                          0   \n",
       "\n",
       "index                                           13                   14  \\\n",
       "race_ethnicity_combined                         NA                   NA   \n",
       "current_status           Laboratory-confirmed case        Probable Case   \n",
       "cdc_case_earliest_dt           2020-10-30 00:00:00  2020-10-30 00:00:00   \n",
       "cdc_report_dt                  2020-10-30 00:00:00  2021-02-03 00:00:00   \n",
       "sex                                           Male                 Male   \n",
       "onset_dt                                       NaT                  NaT   \n",
       "pos_spec_dt                             2020-10-30           2020-10-30   \n",
       "hosp_yn                                         No                   No   \n",
       "icu_yn                                     Missing              Missing   \n",
       "death_yn                                   Missing                   No   \n",
       "hc_work_yn                                      NA                   NA   \n",
       "abxchest_yn                                     No                   No   \n",
       "acuterespdistress_yn                            No                   No   \n",
       "mechvent_yn                                     No                   No   \n",
       "fever_yn                                       Yes              Missing   \n",
       "sfever_yn                                       No              Missing   \n",
       "chills_yn                                  Missing              Missing   \n",
       "myalgia_yn                                     Yes              Missing   \n",
       "runnose_yn                                     Yes              Missing   \n",
       "sthroat_yn                                     Yes              Missing   \n",
       "cough_yn                                       Yes              Missing   \n",
       "sob_yn                                          No              Missing   \n",
       "nauseavomit_yn                                  No              Missing   \n",
       "headache_yn                                    Yes              Missing   \n",
       "abdom_yn                                        No              Missing   \n",
       "diarrhea_yn                                    Yes              Missing   \n",
       "medcond_yn                                     Yes                  Yes   \n",
       "county_fips_code                             72001                72001   \n",
       "res_county                                ADJUNTAS             ADJUNTAS   \n",
       "res_state                                       PR                   PR   \n",
       "age_group                            70 - 79 Years        70 - 79 Years   \n",
       "pna_yn_yes                                       0                    0   \n",
       "\n",
       "index                                           16  \n",
       "race_ethnicity_combined                         NA  \n",
       "current_status           Laboratory-confirmed case  \n",
       "cdc_case_earliest_dt           2020-05-29 00:00:00  \n",
       "cdc_report_dt                  2020-05-29 00:00:00  \n",
       "sex                                           Male  \n",
       "onset_dt                                       NaT  \n",
       "pos_spec_dt                             2020-05-29  \n",
       "hosp_yn                                         No  \n",
       "icu_yn                                     Missing  \n",
       "death_yn                                   Missing  \n",
       "hc_work_yn                                      NA  \n",
       "abxchest_yn                                     No  \n",
       "acuterespdistress_yn                            No  \n",
       "mechvent_yn                                     No  \n",
       "fever_yn                                   Missing  \n",
       "sfever_yn                                  Missing  \n",
       "chills_yn                                  Missing  \n",
       "myalgia_yn                                 Missing  \n",
       "runnose_yn                                 Missing  \n",
       "sthroat_yn                                 Missing  \n",
       "cough_yn                                   Missing  \n",
       "sob_yn                                     Missing  \n",
       "nauseavomit_yn                             Missing  \n",
       "headache_yn                                Missing  \n",
       "abdom_yn                                   Missing  \n",
       "diarrhea_yn                                Missing  \n",
       "medcond_yn                                     Yes  \n",
       "county_fips_code                             72001  \n",
       "res_county                                ADJUNTAS  \n",
       "res_state                                       PR  \n",
       "age_group                            70 - 79 Years  \n",
       "pna_yn_yes                                       0  "
      ]
     },
     "execution_count": 15,
     "metadata": {},
     "output_type": "execute_result"
    }
   ],
   "source": [
    "df.head().T"
   ]
  },
  {
   "cell_type": "code",
   "execution_count": 16,
   "id": "9fe0c49b",
   "metadata": {
    "ExecuteTime": {
     "end_time": "2022-11-10T04:59:05.190022Z",
     "start_time": "2022-11-10T04:59:01.571977Z"
    }
   },
   "outputs": [
    {
     "name": "stderr",
     "output_type": "stream",
     "text": [
      "C:\\Users\\Owner\\anaconda3\\envs\\qbus4934\\lib\\site-packages\\category_encoders\\target_encoder.py:122: FutureWarning: Default parameter min_samples_leaf will change in version 2.6.See https://github.com/scikit-learn-contrib/category_encoders/issues/327\n",
      "  warnings.warn(\"Default parameter min_samples_leaf will change in version 2.6.\"\n",
      "C:\\Users\\Owner\\anaconda3\\envs\\qbus4934\\lib\\site-packages\\category_encoders\\target_encoder.py:127: FutureWarning: Default parameter smoothing will change in version 2.6.See https://github.com/scikit-learn-contrib/category_encoders/issues/327\n",
      "  warnings.warn(\"Default parameter smoothing will change in version 2.6.\"\n"
     ]
    }
   ],
   "source": [
    "from category_encoders import TargetEncoder\n",
    "encoder = TargetEncoder()\n",
    "\n",
    "df['res_county_encoded'] = encoder.fit_transform(df['res_county'], df['pna_yn_yes'])\n",
    "df['res_state_encoded'] = encoder.fit_transform(df['res_state'], df['pna_yn_yes'])"
   ]
  },
  {
   "cell_type": "code",
   "execution_count": 17,
   "id": "37d79648",
   "metadata": {
    "ExecuteTime": {
     "end_time": "2022-11-10T04:59:06.582329Z",
     "start_time": "2022-11-10T04:59:05.192016Z"
    }
   },
   "outputs": [],
   "source": [
    "df = df.drop(['res_county'], axis=1)\n",
    "df = df.drop(['res_state'], axis=1)"
   ]
  },
  {
   "cell_type": "code",
   "execution_count": 18,
   "id": "7ac27f46",
   "metadata": {
    "ExecuteTime": {
     "end_time": "2022-11-10T04:59:06.630201Z",
     "start_time": "2022-11-10T04:59:06.583344Z"
    }
   },
   "outputs": [
    {
     "data": {
      "text/html": [
       "<div>\n",
       "<style scoped>\n",
       "    .dataframe tbody tr th:only-of-type {\n",
       "        vertical-align: middle;\n",
       "    }\n",
       "\n",
       "    .dataframe tbody tr th {\n",
       "        vertical-align: top;\n",
       "    }\n",
       "\n",
       "    .dataframe thead th {\n",
       "        text-align: right;\n",
       "    }\n",
       "</style>\n",
       "<table border=\"1\" class=\"dataframe\">\n",
       "  <thead>\n",
       "    <tr style=\"text-align: right;\">\n",
       "      <th></th>\n",
       "      <th>county_fips_code</th>\n",
       "      <th>res_county_encoded</th>\n",
       "      <th>res_state_encoded</th>\n",
       "    </tr>\n",
       "    <tr>\n",
       "      <th>index</th>\n",
       "      <th></th>\n",
       "      <th></th>\n",
       "      <th></th>\n",
       "    </tr>\n",
       "  </thead>\n",
       "  <tbody>\n",
       "    <tr>\n",
       "      <th>4</th>\n",
       "      <td>17001</td>\n",
       "      <td>0.070389</td>\n",
       "      <td>0.225918</td>\n",
       "    </tr>\n",
       "    <tr>\n",
       "      <th>8</th>\n",
       "      <td>17001</td>\n",
       "      <td>0.070389</td>\n",
       "      <td>0.225918</td>\n",
       "    </tr>\n",
       "    <tr>\n",
       "      <th>13</th>\n",
       "      <td>72001</td>\n",
       "      <td>0.026786</td>\n",
       "      <td>0.430685</td>\n",
       "    </tr>\n",
       "    <tr>\n",
       "      <th>14</th>\n",
       "      <td>72001</td>\n",
       "      <td>0.026786</td>\n",
       "      <td>0.430685</td>\n",
       "    </tr>\n",
       "    <tr>\n",
       "      <th>16</th>\n",
       "      <td>72001</td>\n",
       "      <td>0.026786</td>\n",
       "      <td>0.430685</td>\n",
       "    </tr>\n",
       "  </tbody>\n",
       "</table>\n",
       "</div>"
      ],
      "text/plain": [
       "      county_fips_code  res_county_encoded  res_state_encoded\n",
       "index                                                        \n",
       "4                17001            0.070389           0.225918\n",
       "8                17001            0.070389           0.225918\n",
       "13               72001            0.026786           0.430685\n",
       "14               72001            0.026786           0.430685\n",
       "16               72001            0.026786           0.430685"
      ]
     },
     "execution_count": 18,
     "metadata": {},
     "output_type": "execute_result"
    }
   ],
   "source": [
    "feat = ['county_fips_code', 'res_county_encoded', 'res_state_encoded']\n",
    "df2 = df[feat]\n",
    "df2.head(5)"
   ]
  },
  {
   "cell_type": "code",
   "execution_count": 19,
   "id": "ea79bb3d",
   "metadata": {
    "ExecuteTime": {
     "end_time": "2022-11-10T04:59:06.771826Z",
     "start_time": "2022-11-10T04:59:06.631204Z"
    }
   },
   "outputs": [
    {
     "data": {
      "text/plain": [
       "county_fips_code      8863\n",
       "res_county_encoded       0\n",
       "res_state_encoded        0\n",
       "dtype: int64"
      ]
     },
     "execution_count": 19,
     "metadata": {},
     "output_type": "execute_result"
    }
   ],
   "source": [
    "df2.isna().sum()"
   ]
  },
  {
   "cell_type": "code",
   "execution_count": 20,
   "id": "f09b9755",
   "metadata": {
    "ExecuteTime": {
     "end_time": "2022-11-10T04:59:06.851612Z",
     "start_time": "2022-11-10T04:59:06.772823Z"
    }
   },
   "outputs": [
    {
     "data": {
      "text/plain": [
       "169"
      ]
     },
     "execution_count": 20,
     "metadata": {},
     "output_type": "execute_result"
    }
   ],
   "source": [
    "df2['county_fips_code'][df2['county_fips_code'] == 'NA'].count()"
   ]
  },
  {
   "cell_type": "markdown",
   "id": "7c6c9edd",
   "metadata": {},
   "source": [
    "count_fips_code has 836 missing values, and has 31 'NA' string\n",
    "\n",
    "Another reason to drop count_fips_code is because it has more missing value, alongside high cardinality. drop na for now"
   ]
  },
  {
   "cell_type": "code",
   "execution_count": 21,
   "id": "3f55a9b8",
   "metadata": {
    "ExecuteTime": {
     "end_time": "2022-11-10T04:59:07.180730Z",
     "start_time": "2022-11-10T04:59:06.852608Z"
    }
   },
   "outputs": [
    {
     "data": {
      "text/plain": [
       "county_fips_code      0\n",
       "res_county_encoded    0\n",
       "res_state_encoded     0\n",
       "dtype: int64"
      ]
     },
     "execution_count": 21,
     "metadata": {},
     "output_type": "execute_result"
    }
   ],
   "source": [
    "df2 = df2.dropna() # drop nan values\n",
    "df2.isna().sum()"
   ]
  },
  {
   "cell_type": "code",
   "execution_count": 22,
   "id": "79e477ad",
   "metadata": {
    "ExecuteTime": {
     "end_time": "2022-11-10T04:59:07.750339Z",
     "start_time": "2022-11-10T04:59:07.181728Z"
    }
   },
   "outputs": [
    {
     "data": {
      "text/plain": [
       "0"
      ]
     },
     "execution_count": 22,
     "metadata": {},
     "output_type": "execute_result"
    }
   ],
   "source": [
    "df2 = df2[~df2['county_fips_code'].str.contains('NA')] # drop na strings\n",
    "df2['county_fips_code'][df2['county_fips_code'] == 'NA'].count()"
   ]
  },
  {
   "cell_type": "code",
   "execution_count": 23,
   "id": "059e33b7",
   "metadata": {
    "ExecuteTime": {
     "end_time": "2022-11-10T04:59:07.862040Z",
     "start_time": "2022-11-10T04:59:07.751308Z"
    }
   },
   "outputs": [
    {
     "data": {
      "text/plain": [
       "county_fips_code       object\n",
       "res_county_encoded    float64\n",
       "res_state_encoded     float64\n",
       "dtype: object"
      ]
     },
     "execution_count": 23,
     "metadata": {},
     "output_type": "execute_result"
    }
   ],
   "source": [
    "df2['county_fips_code'].astype('int32')\n",
    "df2.dtypes"
   ]
  },
  {
   "cell_type": "code",
   "execution_count": 24,
   "id": "639011d5",
   "metadata": {
    "ExecuteTime": {
     "end_time": "2022-11-10T04:59:08.882369Z",
     "start_time": "2022-11-10T04:59:07.863010Z"
    }
   },
   "outputs": [
    {
     "name": "stderr",
     "output_type": "stream",
     "text": [
      "C:\\Users\\Owner\\AppData\\Local\\Temp\\ipykernel_26704\\3923591580.py:3: FutureWarning: The default value of numeric_only in DataFrame.corr is deprecated. In a future version, it will default to False. Select only valid columns or specify the value of numeric_only to silence this warning.\n",
      "  corr = df2.corr(method = 'spearman')\n"
     ]
    },
    {
     "data": {
      "text/plain": [
       "<AxesSubplot: >"
      ]
     },
     "execution_count": 24,
     "metadata": {},
     "output_type": "execute_result"
    },
    {
     "data": {
      "image/png": "[encoded data removed]",
      "text/plain": [
       "<Figure size 432x288 with 2 Axes>"
      ]
     },
     "metadata": {
      "needs_background": "light"
     },
     "output_type": "display_data"
    }
   ],
   "source": [
    "import seaborn as sns\n",
    "\n",
    "corr = df2.corr(method = 'spearman')\n",
    "sns.heatmap(corr, annot=True)"
   ]
  },
  {
   "cell_type": "markdown",
   "id": "a24cbcfd",
   "metadata": {},
   "source": [
    "Based on spearman, county_fips_code and res_state are moderately correlated"
   ]
  },
  {
   "cell_type": "code",
   "execution_count": 25,
   "id": "40ff53f6",
   "metadata": {
    "ExecuteTime": {
     "end_time": "2022-11-10T04:59:09.087786Z",
     "start_time": "2022-11-10T04:59:08.884330Z"
    }
   },
   "outputs": [],
   "source": [
    "from sklearn.linear_model import LinearRegression\n",
    "def calculate_vif(df, features):    \n",
    "    vif, tolerance = {}, {}\n",
    "    # all the features that you want to examine\n",
    "    for feature in features:\n",
    "        # extract all the other features you will regress against\n",
    "        X = [f for f in features if f != feature]        \n",
    "        X, y = df[X], df[feature]\n",
    "        # extract r-squared from the fit\n",
    "        r2 = LinearRegression().fit(X, y).score(X, y)                \n",
    "        \n",
    "        # calculate tolerance\n",
    "        tolerance[feature] = 1 - r2\n",
    "        # calculate VIF\n",
    "        vif[feature] = 1/(tolerance[feature])\n",
    "    # return VIF DataFrame\n",
    "    return pd.DataFrame({'VIF': vif, 'Tolerance': tolerance})"
   ]
  },
  {
   "cell_type": "code",
   "execution_count": 26,
   "id": "e08eb2a0",
   "metadata": {
    "ExecuteTime": {
     "end_time": "2022-11-10T04:59:11.178200Z",
     "start_time": "2022-11-10T04:59:09.088783Z"
    }
   },
   "outputs": [
    {
     "data": {
      "text/html": [
       "<div>\n",
       "<style scoped>\n",
       "    .dataframe tbody tr th:only-of-type {\n",
       "        vertical-align: middle;\n",
       "    }\n",
       "\n",
       "    .dataframe tbody tr th {\n",
       "        vertical-align: top;\n",
       "    }\n",
       "\n",
       "    .dataframe thead th {\n",
       "        text-align: right;\n",
       "    }\n",
       "</style>\n",
       "<table border=\"1\" class=\"dataframe\">\n",
       "  <thead>\n",
       "    <tr style=\"text-align: right;\">\n",
       "      <th></th>\n",
       "      <th>VIF</th>\n",
       "      <th>Tolerance</th>\n",
       "    </tr>\n",
       "  </thead>\n",
       "  <tbody>\n",
       "    <tr>\n",
       "      <th>county_fips_code</th>\n",
       "      <td>1.001048</td>\n",
       "      <td>0.998953</td>\n",
       "    </tr>\n",
       "    <tr>\n",
       "      <th>res_county_encoded</th>\n",
       "      <td>2.471359</td>\n",
       "      <td>0.404636</td>\n",
       "    </tr>\n",
       "    <tr>\n",
       "      <th>res_state_encoded</th>\n",
       "      <td>2.469967</td>\n",
       "      <td>0.404864</td>\n",
       "    </tr>\n",
       "  </tbody>\n",
       "</table>\n",
       "</div>"
      ],
      "text/plain": [
       "                         VIF  Tolerance\n",
       "county_fips_code    1.001048   0.998953\n",
       "res_county_encoded  2.471359   0.404636\n",
       "res_state_encoded   2.469967   0.404864"
      ]
     },
     "execution_count": 26,
     "metadata": {},
     "output_type": "execute_result"
    }
   ],
   "source": [
    "from statsmodels.stats.outliers_influence import variance_inflation_factor\n",
    "\n",
    "calculate_vif(df=df2, features=feat)"
   ]
  },
  {
   "cell_type": "markdown",
   "id": "4d5a3a88",
   "metadata": {},
   "source": [
    "Interestingly based on VIF, these three categories would not demonstrate high multicollinearity"
   ]
  },
  {
   "cell_type": "code",
   "execution_count": null,
   "id": "1d0de493",
   "metadata": {},
   "outputs": [],
   "source": []
  }
 ],
 "metadata": {
  "kernelspec": {
   "display_name": "qbus4934",
   "language": "python",
   "name": "qbus4934"
  },
  "language_info": {
   "codemirror_mode": {
    "name": "ipython",
    "version": 3
   },
   "file_extension": ".py",
   "mimetype": "text/x-python",
   "name": "python",
   "nbconvert_exporter": "python",
   "pygments_lexer": "ipython3",
   "version": "3.10.4"
  },
  "toc": {
   "base_numbering": 1,
   "nav_menu": {},
   "number_sections": true,
   "sideBar": true,
   "skip_h1_title": false,
   "title_cell": "Table of Contents",
   "title_sidebar": "Contents",
   "toc_cell": false,
   "toc_position": {},
   "toc_section_display": true,
   "toc_window_display": false
  }
 },
 "nbformat": 4,
 "nbformat_minor": 5
}
