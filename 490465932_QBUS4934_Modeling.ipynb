{
 "cells": [
  {
   "cell_type": "markdown",
   "id": "df211469",
   "metadata": {},
   "source": [
    "# Pre-processing"
   ]
  },
  {
   "cell_type": "markdown",
   "id": "d464364f",
   "metadata": {},
   "source": [
    "## Import dependencies"
   ]
  },
  {
   "cell_type": "code",
   "execution_count": 1,
   "id": "fea0eee4",
   "metadata": {
    "ExecuteTime": {
     "end_time": "2022-11-08T15:04:18.992670Z",
     "start_time": "2022-11-08T15:04:17.792064Z"
    }
   },
   "outputs": [
    {
     "name": "stdout",
     "output_type": "stream",
     "text": [
      "Package versions: \n",
      "\n",
      "numpy 1.23.1\n",
      "scipy 1.9.2\n",
      "pandas 1.4.4\n",
      "seaborn 0.12.0\n",
      "scikit-learn 1.1.2\n"
     ]
    }
   ],
   "source": [
    "import numpy as np\n",
    "import scipy\n",
    "import pandas as pd\n",
    "import matplotlib.pyplot as plt\n",
    "import seaborn as sns\n",
    "import sklearn\n",
    "\n",
    "print(f'Package versions: \\n')\n",
    "\n",
    "print(f'numpy {np.__version__}')\n",
    "print(f'scipy {scipy.__version__}')\n",
    "print(f'pandas {pd.__version__}')\n",
    "print(f'seaborn {sns.__version__}')\n",
    "print(f'scikit-learn {sklearn.__version__}')\n",
    "\n",
    "# Notebook tested on: \n",
    "# numpy 1.22.2\n",
    "# scipy 1.7.1\n",
    "# pandas 1.3.4\n",
    "# seaborn 0.11.2\n",
    "# scikit-learn 0.24.2"
   ]
  },
  {
   "cell_type": "code",
   "execution_count": 2,
   "id": "0143a4c8",
   "metadata": {
    "ExecuteTime": {
     "end_time": "2022-11-08T15:04:19.032192Z",
     "start_time": "2022-11-08T15:04:18.994694Z"
    }
   },
   "outputs": [],
   "source": [
    "# This is to clear the warnings from the notebook, usually we should leave this on\n",
    "import warnings\n",
    "warnings.filterwarnings('ignore') \n",
    "\n",
    "# Plot settings\n",
    "sns.set_context('notebook') # optimises figures for notebook display\n",
    "sns.set_style('ticks') # set default plot style\n",
    "colours = ['#4E79A7','#F28E2C','#E15759','#76B7B2','#59A14F', \n",
    "          '#EDC949','#AF7AA1','#FF9DA7','#9C755F','#BAB0AB']\n",
    "sns.set_palette(colours) # set custom color scheme\n",
    "%matplotlib inline\n",
    "plt.rcParams['figure.figsize'] = (9, 6)"
   ]
  },
  {
   "cell_type": "code",
   "execution_count": 3,
   "id": "14d4661a",
   "metadata": {
    "ExecuteTime": {
     "end_time": "2022-11-08T15:04:19.067484Z",
     "start_time": "2022-11-08T15:04:19.036174Z"
    }
   },
   "outputs": [],
   "source": [
    "# Make noise after finish executing cell\n",
    "\n",
    "#method 1\n",
    "from IPython.lib.display import Audio\n",
    "import numpy as np\n",
    "\n",
    "framerate = 4410\n",
    "play_time_seconds = 1\n",
    "\n",
    "t = np.linspace(0, play_time_seconds, framerate*play_time_seconds)\n",
    "audio_data = np.sin(2*np.pi*300*t) + np.sin(2*np.pi*240*t)\n",
    "\n",
    "# Audio(audio_data, rate=framerate, autoplay=True)\n",
    "\n",
    "#method 2\n",
    "import winsound\n",
    "# winsound.MessageBeep()"
   ]
  },
  {
   "cell_type": "markdown",
   "id": "52cf5de1",
   "metadata": {},
   "source": [
    "## Import data"
   ]
  },
  {
   "cell_type": "code",
   "execution_count": 4,
   "id": "61fbfe80",
   "metadata": {
    "ExecuteTime": {
     "end_time": "2022-11-08T15:04:25.176220Z",
     "start_time": "2022-11-08T15:04:19.072584Z"
    }
   },
   "outputs": [],
   "source": [
    "df1 = pd.read_parquet(r'COVID_Cases_Restricted_Details_03312021_Part_1_parquetnew.parquet')\n",
    "df2 = pd.read_parquet(r'COVID_Cases_Restricted_Details_03312021_Part_2_parquetnew.parquet')\n",
    "df3 = pd.read_parquet(r'COVID_Cases_Restricted_Details_03312021_Part_3_parquetnew.parquet')"
   ]
  },
  {
   "cell_type": "code",
   "execution_count": 5,
   "id": "7febccef",
   "metadata": {
    "ExecuteTime": {
     "end_time": "2022-11-08T15:04:26.955999Z",
     "start_time": "2022-11-08T15:04:25.182643Z"
    }
   },
   "outputs": [],
   "source": [
    "frames = [df1, df2, df3]\n",
    "df = pd.concat(frames)"
   ]
  },
  {
   "cell_type": "code",
   "execution_count": 6,
   "id": "bec9f97f",
   "metadata": {
    "ExecuteTime": {
     "end_time": "2022-11-08T15:04:27.076139Z",
     "start_time": "2022-11-08T15:04:26.961604Z"
    }
   },
   "outputs": [
    {
     "data": {
      "text/html": [
       "<div>\n",
       "<style scoped>\n",
       "    .dataframe tbody tr th:only-of-type {\n",
       "        vertical-align: middle;\n",
       "    }\n",
       "\n",
       "    .dataframe tbody tr th {\n",
       "        vertical-align: top;\n",
       "    }\n",
       "\n",
       "    .dataframe thead th {\n",
       "        text-align: right;\n",
       "    }\n",
       "</style>\n",
       "<table border=\"1\" class=\"dataframe\">\n",
       "  <thead>\n",
       "    <tr style=\"text-align: right;\">\n",
       "      <th>index</th>\n",
       "      <th>4</th>\n",
       "      <th>8</th>\n",
       "      <th>13</th>\n",
       "      <th>14</th>\n",
       "      <th>16</th>\n",
       "    </tr>\n",
       "  </thead>\n",
       "  <tbody>\n",
       "    <tr>\n",
       "      <th>race_ethnicity_combined</th>\n",
       "      <td>NA</td>\n",
       "      <td>Black, Non-Hispanic</td>\n",
       "      <td>NA</td>\n",
       "      <td>NA</td>\n",
       "      <td>NA</td>\n",
       "    </tr>\n",
       "    <tr>\n",
       "      <th>current_status</th>\n",
       "      <td>Laboratory-confirmed case</td>\n",
       "      <td>Laboratory-confirmed case</td>\n",
       "      <td>Laboratory-confirmed case</td>\n",
       "      <td>Probable Case</td>\n",
       "      <td>Laboratory-confirmed case</td>\n",
       "    </tr>\n",
       "    <tr>\n",
       "      <th>cdc_case_earliest_dt</th>\n",
       "      <td>2020-07-07 00:00:00</td>\n",
       "      <td>2020-07-02 00:00:00</td>\n",
       "      <td>2020-10-30 00:00:00</td>\n",
       "      <td>2020-10-30 00:00:00</td>\n",
       "      <td>2020-05-29 00:00:00</td>\n",
       "    </tr>\n",
       "    <tr>\n",
       "      <th>cdc_report_dt</th>\n",
       "      <td>2020-07-13 00:00:00</td>\n",
       "      <td>2020-07-04 00:00:00</td>\n",
       "      <td>2020-10-30 00:00:00</td>\n",
       "      <td>2021-02-03 00:00:00</td>\n",
       "      <td>2020-05-29 00:00:00</td>\n",
       "    </tr>\n",
       "    <tr>\n",
       "      <th>sex</th>\n",
       "      <td>Male</td>\n",
       "      <td>Male</td>\n",
       "      <td>Male</td>\n",
       "      <td>Male</td>\n",
       "      <td>Male</td>\n",
       "    </tr>\n",
       "    <tr>\n",
       "      <th>onset_dt</th>\n",
       "      <td>2020-07-07 00:00:00</td>\n",
       "      <td>2020-07-02 00:00:00</td>\n",
       "      <td>NaT</td>\n",
       "      <td>NaT</td>\n",
       "      <td>NaT</td>\n",
       "    </tr>\n",
       "    <tr>\n",
       "      <th>pos_spec_dt</th>\n",
       "      <td>None</td>\n",
       "      <td>None</td>\n",
       "      <td>2020-10-30</td>\n",
       "      <td>2020-10-30</td>\n",
       "      <td>2020-05-29</td>\n",
       "    </tr>\n",
       "    <tr>\n",
       "      <th>hosp_yn</th>\n",
       "      <td>No</td>\n",
       "      <td>No</td>\n",
       "      <td>No</td>\n",
       "      <td>No</td>\n",
       "      <td>No</td>\n",
       "    </tr>\n",
       "    <tr>\n",
       "      <th>icu_yn</th>\n",
       "      <td>Unknown</td>\n",
       "      <td>No</td>\n",
       "      <td>Missing</td>\n",
       "      <td>Missing</td>\n",
       "      <td>Missing</td>\n",
       "    </tr>\n",
       "    <tr>\n",
       "      <th>death_yn</th>\n",
       "      <td>Unknown</td>\n",
       "      <td>Unknown</td>\n",
       "      <td>Missing</td>\n",
       "      <td>No</td>\n",
       "      <td>Missing</td>\n",
       "    </tr>\n",
       "    <tr>\n",
       "      <th>hc_work_yn</th>\n",
       "      <td>NA</td>\n",
       "      <td>Missing</td>\n",
       "      <td>NA</td>\n",
       "      <td>NA</td>\n",
       "      <td>NA</td>\n",
       "    </tr>\n",
       "    <tr>\n",
       "      <th>pna_yn</th>\n",
       "      <td>No</td>\n",
       "      <td>No</td>\n",
       "      <td>No</td>\n",
       "      <td>No</td>\n",
       "      <td>No</td>\n",
       "    </tr>\n",
       "    <tr>\n",
       "      <th>abxchest_yn</th>\n",
       "      <td>No</td>\n",
       "      <td>Unknown</td>\n",
       "      <td>No</td>\n",
       "      <td>No</td>\n",
       "      <td>No</td>\n",
       "    </tr>\n",
       "    <tr>\n",
       "      <th>acuterespdistress_yn</th>\n",
       "      <td>Missing</td>\n",
       "      <td>Missing</td>\n",
       "      <td>No</td>\n",
       "      <td>No</td>\n",
       "      <td>No</td>\n",
       "    </tr>\n",
       "    <tr>\n",
       "      <th>mechvent_yn</th>\n",
       "      <td>No</td>\n",
       "      <td>No</td>\n",
       "      <td>No</td>\n",
       "      <td>No</td>\n",
       "      <td>No</td>\n",
       "    </tr>\n",
       "    <tr>\n",
       "      <th>fever_yn</th>\n",
       "      <td>No</td>\n",
       "      <td>No</td>\n",
       "      <td>Yes</td>\n",
       "      <td>Missing</td>\n",
       "      <td>Missing</td>\n",
       "    </tr>\n",
       "    <tr>\n",
       "      <th>sfever_yn</th>\n",
       "      <td>Missing</td>\n",
       "      <td>Missing</td>\n",
       "      <td>No</td>\n",
       "      <td>Missing</td>\n",
       "      <td>Missing</td>\n",
       "    </tr>\n",
       "    <tr>\n",
       "      <th>chills_yn</th>\n",
       "      <td>Yes</td>\n",
       "      <td>No</td>\n",
       "      <td>Missing</td>\n",
       "      <td>Missing</td>\n",
       "      <td>Missing</td>\n",
       "    </tr>\n",
       "    <tr>\n",
       "      <th>myalgia_yn</th>\n",
       "      <td>Yes</td>\n",
       "      <td>No</td>\n",
       "      <td>Yes</td>\n",
       "      <td>Missing</td>\n",
       "      <td>Missing</td>\n",
       "    </tr>\n",
       "    <tr>\n",
       "      <th>runnose_yn</th>\n",
       "      <td>Missing</td>\n",
       "      <td>Missing</td>\n",
       "      <td>Yes</td>\n",
       "      <td>Missing</td>\n",
       "      <td>Missing</td>\n",
       "    </tr>\n",
       "    <tr>\n",
       "      <th>sthroat_yn</th>\n",
       "      <td>No</td>\n",
       "      <td>No</td>\n",
       "      <td>Yes</td>\n",
       "      <td>Missing</td>\n",
       "      <td>Missing</td>\n",
       "    </tr>\n",
       "    <tr>\n",
       "      <th>cough_yn</th>\n",
       "      <td>No</td>\n",
       "      <td>No</td>\n",
       "      <td>Yes</td>\n",
       "      <td>Missing</td>\n",
       "      <td>Missing</td>\n",
       "    </tr>\n",
       "    <tr>\n",
       "      <th>sob_yn</th>\n",
       "      <td>No</td>\n",
       "      <td>No</td>\n",
       "      <td>No</td>\n",
       "      <td>Missing</td>\n",
       "      <td>Missing</td>\n",
       "    </tr>\n",
       "    <tr>\n",
       "      <th>nauseavomit_yn</th>\n",
       "      <td>No</td>\n",
       "      <td>No</td>\n",
       "      <td>No</td>\n",
       "      <td>Missing</td>\n",
       "      <td>Missing</td>\n",
       "    </tr>\n",
       "    <tr>\n",
       "      <th>headache_yn</th>\n",
       "      <td>Yes</td>\n",
       "      <td>Yes</td>\n",
       "      <td>Yes</td>\n",
       "      <td>Missing</td>\n",
       "      <td>Missing</td>\n",
       "    </tr>\n",
       "    <tr>\n",
       "      <th>abdom_yn</th>\n",
       "      <td>Yes</td>\n",
       "      <td>No</td>\n",
       "      <td>No</td>\n",
       "      <td>Missing</td>\n",
       "      <td>Missing</td>\n",
       "    </tr>\n",
       "    <tr>\n",
       "      <th>diarrhea_yn</th>\n",
       "      <td>No</td>\n",
       "      <td>No</td>\n",
       "      <td>Yes</td>\n",
       "      <td>Missing</td>\n",
       "      <td>Missing</td>\n",
       "    </tr>\n",
       "    <tr>\n",
       "      <th>medcond_yn</th>\n",
       "      <td>Yes</td>\n",
       "      <td>Missing</td>\n",
       "      <td>Yes</td>\n",
       "      <td>Yes</td>\n",
       "      <td>Yes</td>\n",
       "    </tr>\n",
       "    <tr>\n",
       "      <th>county_fips_code</th>\n",
       "      <td>17001</td>\n",
       "      <td>17001</td>\n",
       "      <td>72001</td>\n",
       "      <td>72001</td>\n",
       "      <td>72001</td>\n",
       "    </tr>\n",
       "    <tr>\n",
       "      <th>res_county</th>\n",
       "      <td>ADAMS</td>\n",
       "      <td>ADAMS</td>\n",
       "      <td>ADJUNTAS</td>\n",
       "      <td>ADJUNTAS</td>\n",
       "      <td>ADJUNTAS</td>\n",
       "    </tr>\n",
       "    <tr>\n",
       "      <th>res_state</th>\n",
       "      <td>IL</td>\n",
       "      <td>IL</td>\n",
       "      <td>PR</td>\n",
       "      <td>PR</td>\n",
       "      <td>PR</td>\n",
       "    </tr>\n",
       "    <tr>\n",
       "      <th>age_group</th>\n",
       "      <td>30 - 39 Years</td>\n",
       "      <td>60 - 69 Years</td>\n",
       "      <td>70 - 79 Years</td>\n",
       "      <td>70 - 79 Years</td>\n",
       "      <td>70 - 79 Years</td>\n",
       "    </tr>\n",
       "  </tbody>\n",
       "</table>\n",
       "</div>"
      ],
      "text/plain": [
       "index                                           4                          8   \\\n",
       "race_ethnicity_combined                         NA        Black, Non-Hispanic   \n",
       "current_status           Laboratory-confirmed case  Laboratory-confirmed case   \n",
       "cdc_case_earliest_dt           2020-07-07 00:00:00        2020-07-02 00:00:00   \n",
       "cdc_report_dt                  2020-07-13 00:00:00        2020-07-04 00:00:00   \n",
       "sex                                           Male                       Male   \n",
       "onset_dt                       2020-07-07 00:00:00        2020-07-02 00:00:00   \n",
       "pos_spec_dt                                   None                       None   \n",
       "hosp_yn                                         No                         No   \n",
       "icu_yn                                     Unknown                         No   \n",
       "death_yn                                   Unknown                    Unknown   \n",
       "hc_work_yn                                      NA                    Missing   \n",
       "pna_yn                                          No                         No   \n",
       "abxchest_yn                                     No                    Unknown   \n",
       "acuterespdistress_yn                       Missing                    Missing   \n",
       "mechvent_yn                                     No                         No   \n",
       "fever_yn                                        No                         No   \n",
       "sfever_yn                                  Missing                    Missing   \n",
       "chills_yn                                      Yes                         No   \n",
       "myalgia_yn                                     Yes                         No   \n",
       "runnose_yn                                 Missing                    Missing   \n",
       "sthroat_yn                                      No                         No   \n",
       "cough_yn                                        No                         No   \n",
       "sob_yn                                          No                         No   \n",
       "nauseavomit_yn                                  No                         No   \n",
       "headache_yn                                    Yes                        Yes   \n",
       "abdom_yn                                       Yes                         No   \n",
       "diarrhea_yn                                     No                         No   \n",
       "medcond_yn                                     Yes                    Missing   \n",
       "county_fips_code                             17001                      17001   \n",
       "res_county                                   ADAMS                      ADAMS   \n",
       "res_state                                       IL                         IL   \n",
       "age_group                            30 - 39 Years              60 - 69 Years   \n",
       "\n",
       "index                                           13                   14  \\\n",
       "race_ethnicity_combined                         NA                   NA   \n",
       "current_status           Laboratory-confirmed case        Probable Case   \n",
       "cdc_case_earliest_dt           2020-10-30 00:00:00  2020-10-30 00:00:00   \n",
       "cdc_report_dt                  2020-10-30 00:00:00  2021-02-03 00:00:00   \n",
       "sex                                           Male                 Male   \n",
       "onset_dt                                       NaT                  NaT   \n",
       "pos_spec_dt                             2020-10-30           2020-10-30   \n",
       "hosp_yn                                         No                   No   \n",
       "icu_yn                                     Missing              Missing   \n",
       "death_yn                                   Missing                   No   \n",
       "hc_work_yn                                      NA                   NA   \n",
       "pna_yn                                          No                   No   \n",
       "abxchest_yn                                     No                   No   \n",
       "acuterespdistress_yn                            No                   No   \n",
       "mechvent_yn                                     No                   No   \n",
       "fever_yn                                       Yes              Missing   \n",
       "sfever_yn                                       No              Missing   \n",
       "chills_yn                                  Missing              Missing   \n",
       "myalgia_yn                                     Yes              Missing   \n",
       "runnose_yn                                     Yes              Missing   \n",
       "sthroat_yn                                     Yes              Missing   \n",
       "cough_yn                                       Yes              Missing   \n",
       "sob_yn                                          No              Missing   \n",
       "nauseavomit_yn                                  No              Missing   \n",
       "headache_yn                                    Yes              Missing   \n",
       "abdom_yn                                        No              Missing   \n",
       "diarrhea_yn                                    Yes              Missing   \n",
       "medcond_yn                                     Yes                  Yes   \n",
       "county_fips_code                             72001                72001   \n",
       "res_county                                ADJUNTAS             ADJUNTAS   \n",
       "res_state                                       PR                   PR   \n",
       "age_group                            70 - 79 Years        70 - 79 Years   \n",
       "\n",
       "index                                           16  \n",
       "race_ethnicity_combined                         NA  \n",
       "current_status           Laboratory-confirmed case  \n",
       "cdc_case_earliest_dt           2020-05-29 00:00:00  \n",
       "cdc_report_dt                  2020-05-29 00:00:00  \n",
       "sex                                           Male  \n",
       "onset_dt                                       NaT  \n",
       "pos_spec_dt                             2020-05-29  \n",
       "hosp_yn                                         No  \n",
       "icu_yn                                     Missing  \n",
       "death_yn                                   Missing  \n",
       "hc_work_yn                                      NA  \n",
       "pna_yn                                          No  \n",
       "abxchest_yn                                     No  \n",
       "acuterespdistress_yn                            No  \n",
       "mechvent_yn                                     No  \n",
       "fever_yn                                   Missing  \n",
       "sfever_yn                                  Missing  \n",
       "chills_yn                                  Missing  \n",
       "myalgia_yn                                 Missing  \n",
       "runnose_yn                                 Missing  \n",
       "sthroat_yn                                 Missing  \n",
       "cough_yn                                   Missing  \n",
       "sob_yn                                     Missing  \n",
       "nauseavomit_yn                             Missing  \n",
       "headache_yn                                Missing  \n",
       "abdom_yn                                   Missing  \n",
       "diarrhea_yn                                Missing  \n",
       "medcond_yn                                     Yes  \n",
       "county_fips_code                             72001  \n",
       "res_county                                ADJUNTAS  \n",
       "res_state                                       PR  \n",
       "age_group                            70 - 79 Years  "
      ]
     },
     "execution_count": 6,
     "metadata": {},
     "output_type": "execute_result"
    }
   ],
   "source": [
    "df.head().T"
   ]
  },
  {
   "cell_type": "code",
   "execution_count": 7,
   "id": "32d04863",
   "metadata": {
    "ExecuteTime": {
     "end_time": "2022-11-08T15:04:31.451079Z",
     "start_time": "2022-11-08T15:04:27.080051Z"
    }
   },
   "outputs": [
    {
     "name": "stdout",
     "output_type": "stream",
     "text": [
      "<class 'pandas.core.frame.DataFrame'>\n",
      "Int64Index: 1515261 entries, 4 to 7131819\n",
      "Data columns (total 32 columns):\n",
      " #   Column                   Non-Null Count    Dtype         \n",
      "---  ------                   --------------    -----         \n",
      " 0   race_ethnicity_combined  1515261 non-null  object        \n",
      " 1   current_status           1515261 non-null  object        \n",
      " 2   cdc_case_earliest_dt     1515261 non-null  datetime64[ns]\n",
      " 3   cdc_report_dt            1515260 non-null  datetime64[ns]\n",
      " 4   sex                      1515261 non-null  object        \n",
      " 5   onset_dt                 1328084 non-null  datetime64[ns]\n",
      " 6   pos_spec_dt              1070506 non-null  object        \n",
      " 7   hosp_yn                  1515261 non-null  object        \n",
      " 8   icu_yn                   1515261 non-null  object        \n",
      " 9   death_yn                 1515261 non-null  object        \n",
      " 10  hc_work_yn               1515261 non-null  object        \n",
      " 11  pna_yn                   1515261 non-null  object        \n",
      " 12  abxchest_yn              1515261 non-null  object        \n",
      " 13  acuterespdistress_yn     1515261 non-null  object        \n",
      " 14  mechvent_yn              1515261 non-null  object        \n",
      " 15  fever_yn                 1515261 non-null  object        \n",
      " 16  sfever_yn                1515261 non-null  object        \n",
      " 17  chills_yn                1515261 non-null  object        \n",
      " 18  myalgia_yn               1515261 non-null  object        \n",
      " 19  runnose_yn               1515261 non-null  object        \n",
      " 20  sthroat_yn               1515261 non-null  object        \n",
      " 21  cough_yn                 1515261 non-null  object        \n",
      " 22  sob_yn                   1515261 non-null  object        \n",
      " 23  nauseavomit_yn           1515261 non-null  object        \n",
      " 24  headache_yn              1515261 non-null  object        \n",
      " 25  abdom_yn                 1515261 non-null  object        \n",
      " 26  diarrhea_yn              1515261 non-null  object        \n",
      " 27  medcond_yn               1515261 non-null  object        \n",
      " 28  county_fips_code         1506398 non-null  object        \n",
      " 29  res_county               1515261 non-null  object        \n",
      " 30  res_state                1515261 non-null  object        \n",
      " 31  age_group                1515261 non-null  object        \n",
      "dtypes: datetime64[ns](3), object(29)\n",
      "memory usage: 381.5+ MB\n"
     ]
    }
   ],
   "source": [
    "df.info()"
   ]
  },
  {
   "cell_type": "markdown",
   "id": "9ee63595",
   "metadata": {},
   "source": [
    "## 'Unknown' values\n",
    "1. Convert 'Missing' values into 'Unknown'\n",
    "2. Fill NaNs with 'Unkown' string"
   ]
  },
  {
   "cell_type": "code",
   "execution_count": 8,
   "id": "c2e06b4c",
   "metadata": {
    "ExecuteTime": {
     "end_time": "2022-11-08T15:04:38.078844Z",
     "start_time": "2022-11-08T15:04:31.458165Z"
    }
   },
   "outputs": [
    {
     "data": {
      "text/html": [
       "<div>\n",
       "<style scoped>\n",
       "    .dataframe tbody tr th:only-of-type {\n",
       "        vertical-align: middle;\n",
       "    }\n",
       "\n",
       "    .dataframe tbody tr th {\n",
       "        vertical-align: top;\n",
       "    }\n",
       "\n",
       "    .dataframe thead th {\n",
       "        text-align: right;\n",
       "    }\n",
       "</style>\n",
       "<table border=\"1\" class=\"dataframe\">\n",
       "  <thead>\n",
       "    <tr style=\"text-align: right;\">\n",
       "      <th></th>\n",
       "      <th>race_ethnicity_combined</th>\n",
       "      <th>current_status</th>\n",
       "      <th>cdc_case_earliest_dt</th>\n",
       "      <th>cdc_report_dt</th>\n",
       "      <th>sex</th>\n",
       "      <th>onset_dt</th>\n",
       "      <th>pos_spec_dt</th>\n",
       "      <th>hosp_yn</th>\n",
       "      <th>icu_yn</th>\n",
       "      <th>death_yn</th>\n",
       "      <th>...</th>\n",
       "      <th>sob_yn</th>\n",
       "      <th>nauseavomit_yn</th>\n",
       "      <th>headache_yn</th>\n",
       "      <th>abdom_yn</th>\n",
       "      <th>diarrhea_yn</th>\n",
       "      <th>medcond_yn</th>\n",
       "      <th>county_fips_code</th>\n",
       "      <th>res_county</th>\n",
       "      <th>res_state</th>\n",
       "      <th>age_group</th>\n",
       "    </tr>\n",
       "    <tr>\n",
       "      <th>index</th>\n",
       "      <th></th>\n",
       "      <th></th>\n",
       "      <th></th>\n",
       "      <th></th>\n",
       "      <th></th>\n",
       "      <th></th>\n",
       "      <th></th>\n",
       "      <th></th>\n",
       "      <th></th>\n",
       "      <th></th>\n",
       "      <th></th>\n",
       "      <th></th>\n",
       "      <th></th>\n",
       "      <th></th>\n",
       "      <th></th>\n",
       "      <th></th>\n",
       "      <th></th>\n",
       "      <th></th>\n",
       "      <th></th>\n",
       "      <th></th>\n",
       "      <th></th>\n",
       "    </tr>\n",
       "  </thead>\n",
       "  <tbody>\n",
       "    <tr>\n",
       "      <th>4</th>\n",
       "      <td>NA</td>\n",
       "      <td>Laboratory-confirmed case</td>\n",
       "      <td>2020-07-07</td>\n",
       "      <td>2020-07-13</td>\n",
       "      <td>Male</td>\n",
       "      <td>2020-07-07</td>\n",
       "      <td>None</td>\n",
       "      <td>No</td>\n",
       "      <td>Unknown</td>\n",
       "      <td>Unknown</td>\n",
       "      <td>...</td>\n",
       "      <td>No</td>\n",
       "      <td>No</td>\n",
       "      <td>Yes</td>\n",
       "      <td>Yes</td>\n",
       "      <td>No</td>\n",
       "      <td>Yes</td>\n",
       "      <td>17001</td>\n",
       "      <td>ADAMS</td>\n",
       "      <td>IL</td>\n",
       "      <td>30 - 39 Years</td>\n",
       "    </tr>\n",
       "    <tr>\n",
       "      <th>8</th>\n",
       "      <td>Black, Non-Hispanic</td>\n",
       "      <td>Laboratory-confirmed case</td>\n",
       "      <td>2020-07-02</td>\n",
       "      <td>2020-07-04</td>\n",
       "      <td>Male</td>\n",
       "      <td>2020-07-02</td>\n",
       "      <td>None</td>\n",
       "      <td>No</td>\n",
       "      <td>No</td>\n",
       "      <td>Unknown</td>\n",
       "      <td>...</td>\n",
       "      <td>No</td>\n",
       "      <td>No</td>\n",
       "      <td>Yes</td>\n",
       "      <td>No</td>\n",
       "      <td>No</td>\n",
       "      <td>Unknown</td>\n",
       "      <td>17001</td>\n",
       "      <td>ADAMS</td>\n",
       "      <td>IL</td>\n",
       "      <td>60 - 69 Years</td>\n",
       "    </tr>\n",
       "    <tr>\n",
       "      <th>13</th>\n",
       "      <td>NA</td>\n",
       "      <td>Laboratory-confirmed case</td>\n",
       "      <td>2020-10-30</td>\n",
       "      <td>2020-10-30</td>\n",
       "      <td>Male</td>\n",
       "      <td>NaT</td>\n",
       "      <td>2020-10-30</td>\n",
       "      <td>No</td>\n",
       "      <td>Unknown</td>\n",
       "      <td>Unknown</td>\n",
       "      <td>...</td>\n",
       "      <td>No</td>\n",
       "      <td>No</td>\n",
       "      <td>Yes</td>\n",
       "      <td>No</td>\n",
       "      <td>Yes</td>\n",
       "      <td>Yes</td>\n",
       "      <td>72001</td>\n",
       "      <td>ADJUNTAS</td>\n",
       "      <td>PR</td>\n",
       "      <td>70 - 79 Years</td>\n",
       "    </tr>\n",
       "    <tr>\n",
       "      <th>14</th>\n",
       "      <td>NA</td>\n",
       "      <td>Probable Case</td>\n",
       "      <td>2020-10-30</td>\n",
       "      <td>2021-02-03</td>\n",
       "      <td>Male</td>\n",
       "      <td>NaT</td>\n",
       "      <td>2020-10-30</td>\n",
       "      <td>No</td>\n",
       "      <td>Unknown</td>\n",
       "      <td>No</td>\n",
       "      <td>...</td>\n",
       "      <td>Unknown</td>\n",
       "      <td>Unknown</td>\n",
       "      <td>Unknown</td>\n",
       "      <td>Unknown</td>\n",
       "      <td>Unknown</td>\n",
       "      <td>Yes</td>\n",
       "      <td>72001</td>\n",
       "      <td>ADJUNTAS</td>\n",
       "      <td>PR</td>\n",
       "      <td>70 - 79 Years</td>\n",
       "    </tr>\n",
       "    <tr>\n",
       "      <th>16</th>\n",
       "      <td>NA</td>\n",
       "      <td>Laboratory-confirmed case</td>\n",
       "      <td>2020-05-29</td>\n",
       "      <td>2020-05-29</td>\n",
       "      <td>Male</td>\n",
       "      <td>NaT</td>\n",
       "      <td>2020-05-29</td>\n",
       "      <td>No</td>\n",
       "      <td>Unknown</td>\n",
       "      <td>Unknown</td>\n",
       "      <td>...</td>\n",
       "      <td>Unknown</td>\n",
       "      <td>Unknown</td>\n",
       "      <td>Unknown</td>\n",
       "      <td>Unknown</td>\n",
       "      <td>Unknown</td>\n",
       "      <td>Yes</td>\n",
       "      <td>72001</td>\n",
       "      <td>ADJUNTAS</td>\n",
       "      <td>PR</td>\n",
       "      <td>70 - 79 Years</td>\n",
       "    </tr>\n",
       "    <tr>\n",
       "      <th>...</th>\n",
       "      <td>...</td>\n",
       "      <td>...</td>\n",
       "      <td>...</td>\n",
       "      <td>...</td>\n",
       "      <td>...</td>\n",
       "      <td>...</td>\n",
       "      <td>...</td>\n",
       "      <td>...</td>\n",
       "      <td>...</td>\n",
       "      <td>...</td>\n",
       "      <td>...</td>\n",
       "      <td>...</td>\n",
       "      <td>...</td>\n",
       "      <td>...</td>\n",
       "      <td>...</td>\n",
       "      <td>...</td>\n",
       "      <td>...</td>\n",
       "      <td>...</td>\n",
       "      <td>...</td>\n",
       "      <td>...</td>\n",
       "      <td>...</td>\n",
       "    </tr>\n",
       "    <tr>\n",
       "      <th>7131763</th>\n",
       "      <td>White, Non-Hispanic</td>\n",
       "      <td>Laboratory-confirmed case</td>\n",
       "      <td>2021-01-21</td>\n",
       "      <td>2021-01-21</td>\n",
       "      <td>Female</td>\n",
       "      <td>NaT</td>\n",
       "      <td>2021-01-21</td>\n",
       "      <td>No</td>\n",
       "      <td>Unknown</td>\n",
       "      <td>No</td>\n",
       "      <td>...</td>\n",
       "      <td>Unknown</td>\n",
       "      <td>Unknown</td>\n",
       "      <td>Unknown</td>\n",
       "      <td>Unknown</td>\n",
       "      <td>Unknown</td>\n",
       "      <td>Yes</td>\n",
       "      <td>50027</td>\n",
       "      <td>WINDSOR</td>\n",
       "      <td>VT</td>\n",
       "      <td>50 - 59 Years</td>\n",
       "    </tr>\n",
       "    <tr>\n",
       "      <th>7131764</th>\n",
       "      <td>White, Non-Hispanic</td>\n",
       "      <td>Laboratory-confirmed case</td>\n",
       "      <td>2021-02-03</td>\n",
       "      <td>2021-03-22</td>\n",
       "      <td>Female</td>\n",
       "      <td>2021-02-03</td>\n",
       "      <td>2021-02-06</td>\n",
       "      <td>No</td>\n",
       "      <td>Unknown</td>\n",
       "      <td>No</td>\n",
       "      <td>...</td>\n",
       "      <td>No</td>\n",
       "      <td>No</td>\n",
       "      <td>Yes</td>\n",
       "      <td>No</td>\n",
       "      <td>No</td>\n",
       "      <td>No</td>\n",
       "      <td>50027</td>\n",
       "      <td>WINDSOR</td>\n",
       "      <td>VT</td>\n",
       "      <td>50 - 59 Years</td>\n",
       "    </tr>\n",
       "    <tr>\n",
       "      <th>7131765</th>\n",
       "      <td>White, Non-Hispanic</td>\n",
       "      <td>Laboratory-confirmed case</td>\n",
       "      <td>2021-01-28</td>\n",
       "      <td>2021-01-28</td>\n",
       "      <td>Female</td>\n",
       "      <td>NaT</td>\n",
       "      <td>2021-01-28</td>\n",
       "      <td>No</td>\n",
       "      <td>Unknown</td>\n",
       "      <td>No</td>\n",
       "      <td>...</td>\n",
       "      <td>Unknown</td>\n",
       "      <td>Unknown</td>\n",
       "      <td>Unknown</td>\n",
       "      <td>Unknown</td>\n",
       "      <td>Unknown</td>\n",
       "      <td>Yes</td>\n",
       "      <td>50027</td>\n",
       "      <td>WINDSOR</td>\n",
       "      <td>VT</td>\n",
       "      <td>50 - 59 Years</td>\n",
       "    </tr>\n",
       "    <tr>\n",
       "      <th>7131793</th>\n",
       "      <td>Multiple/Other, Non-Hispanic</td>\n",
       "      <td>Laboratory-confirmed case</td>\n",
       "      <td>2021-02-27</td>\n",
       "      <td>2021-02-27</td>\n",
       "      <td>Male</td>\n",
       "      <td>2021-02-27</td>\n",
       "      <td>2021-03-01</td>\n",
       "      <td>No</td>\n",
       "      <td>No</td>\n",
       "      <td>No</td>\n",
       "      <td>...</td>\n",
       "      <td>Yes</td>\n",
       "      <td>Yes</td>\n",
       "      <td>Yes</td>\n",
       "      <td>No</td>\n",
       "      <td>No</td>\n",
       "      <td>No</td>\n",
       "      <td>39175</td>\n",
       "      <td>WYANDOT</td>\n",
       "      <td>OH</td>\n",
       "      <td>20 - 29 Years</td>\n",
       "    </tr>\n",
       "    <tr>\n",
       "      <th>7131819</th>\n",
       "      <td>Hispanic/Latino</td>\n",
       "      <td>Laboratory-confirmed case</td>\n",
       "      <td>2020-12-29</td>\n",
       "      <td>2021-01-09</td>\n",
       "      <td>Male</td>\n",
       "      <td>2020-12-29</td>\n",
       "      <td>2021-01-04</td>\n",
       "      <td>No</td>\n",
       "      <td>Unknown</td>\n",
       "      <td>Unknown</td>\n",
       "      <td>...</td>\n",
       "      <td>Yes</td>\n",
       "      <td>Yes</td>\n",
       "      <td>Yes</td>\n",
       "      <td>No</td>\n",
       "      <td>Yes</td>\n",
       "      <td>No</td>\n",
       "      <td>53077</td>\n",
       "      <td>YAKIMA</td>\n",
       "      <td>WA</td>\n",
       "      <td>30 - 39 Years</td>\n",
       "    </tr>\n",
       "  </tbody>\n",
       "</table>\n",
       "<p>1515261 rows × 32 columns</p>\n",
       "</div>"
      ],
      "text/plain": [
       "               race_ethnicity_combined             current_status  \\\n",
       "index                                                               \n",
       "4                                   NA  Laboratory-confirmed case   \n",
       "8                  Black, Non-Hispanic  Laboratory-confirmed case   \n",
       "13                                  NA  Laboratory-confirmed case   \n",
       "14                                  NA              Probable Case   \n",
       "16                                  NA  Laboratory-confirmed case   \n",
       "...                                ...                        ...   \n",
       "7131763            White, Non-Hispanic  Laboratory-confirmed case   \n",
       "7131764            White, Non-Hispanic  Laboratory-confirmed case   \n",
       "7131765            White, Non-Hispanic  Laboratory-confirmed case   \n",
       "7131793  Multiple/Other, Non-Hispanic   Laboratory-confirmed case   \n",
       "7131819                Hispanic/Latino  Laboratory-confirmed case   \n",
       "\n",
       "        cdc_case_earliest_dt cdc_report_dt     sex   onset_dt pos_spec_dt  \\\n",
       "index                                                                       \n",
       "4                 2020-07-07    2020-07-13    Male 2020-07-07        None   \n",
       "8                 2020-07-02    2020-07-04    Male 2020-07-02        None   \n",
       "13                2020-10-30    2020-10-30    Male        NaT  2020-10-30   \n",
       "14                2020-10-30    2021-02-03    Male        NaT  2020-10-30   \n",
       "16                2020-05-29    2020-05-29    Male        NaT  2020-05-29   \n",
       "...                      ...           ...     ...        ...         ...   \n",
       "7131763           2021-01-21    2021-01-21  Female        NaT  2021-01-21   \n",
       "7131764           2021-02-03    2021-03-22  Female 2021-02-03  2021-02-06   \n",
       "7131765           2021-01-28    2021-01-28  Female        NaT  2021-01-28   \n",
       "7131793           2021-02-27    2021-02-27    Male 2021-02-27  2021-03-01   \n",
       "7131819           2020-12-29    2021-01-09    Male 2020-12-29  2021-01-04   \n",
       "\n",
       "        hosp_yn   icu_yn death_yn  ...   sob_yn nauseavomit_yn headache_yn  \\\n",
       "index                              ...                                       \n",
       "4            No  Unknown  Unknown  ...       No             No         Yes   \n",
       "8            No       No  Unknown  ...       No             No         Yes   \n",
       "13           No  Unknown  Unknown  ...       No             No         Yes   \n",
       "14           No  Unknown       No  ...  Unknown        Unknown     Unknown   \n",
       "16           No  Unknown  Unknown  ...  Unknown        Unknown     Unknown   \n",
       "...         ...      ...      ...  ...      ...            ...         ...   \n",
       "7131763      No  Unknown       No  ...  Unknown        Unknown     Unknown   \n",
       "7131764      No  Unknown       No  ...       No             No         Yes   \n",
       "7131765      No  Unknown       No  ...  Unknown        Unknown     Unknown   \n",
       "7131793      No       No       No  ...      Yes            Yes         Yes   \n",
       "7131819      No  Unknown  Unknown  ...      Yes            Yes         Yes   \n",
       "\n",
       "        abdom_yn diarrhea_yn medcond_yn county_fips_code res_county res_state  \\\n",
       "index                                                                           \n",
       "4            Yes          No        Yes            17001      ADAMS        IL   \n",
       "8             No          No    Unknown            17001      ADAMS        IL   \n",
       "13            No         Yes        Yes            72001   ADJUNTAS        PR   \n",
       "14       Unknown     Unknown        Yes            72001   ADJUNTAS        PR   \n",
       "16       Unknown     Unknown        Yes            72001   ADJUNTAS        PR   \n",
       "...          ...         ...        ...              ...        ...       ...   \n",
       "7131763  Unknown     Unknown        Yes            50027    WINDSOR        VT   \n",
       "7131764       No          No         No            50027    WINDSOR        VT   \n",
       "7131765  Unknown     Unknown        Yes            50027    WINDSOR        VT   \n",
       "7131793       No          No         No            39175    WYANDOT        OH   \n",
       "7131819       No         Yes         No            53077     YAKIMA        WA   \n",
       "\n",
       "             age_group  \n",
       "index                   \n",
       "4        30 - 39 Years  \n",
       "8        60 - 69 Years  \n",
       "13       70 - 79 Years  \n",
       "14       70 - 79 Years  \n",
       "16       70 - 79 Years  \n",
       "...                ...  \n",
       "7131763  50 - 59 Years  \n",
       "7131764  50 - 59 Years  \n",
       "7131765  50 - 59 Years  \n",
       "7131793  20 - 29 Years  \n",
       "7131819  30 - 39 Years  \n",
       "\n",
       "[1515261 rows x 32 columns]"
      ]
     },
     "execution_count": 8,
     "metadata": {},
     "output_type": "execute_result"
    }
   ],
   "source": [
    "df = df.apply(lambda x: x.replace('Missing', 'Unknown'))\n",
    "df"
   ]
  },
  {
   "cell_type": "code",
   "execution_count": 9,
   "id": "1efc85d3",
   "metadata": {
    "ExecuteTime": {
     "end_time": "2022-11-08T15:05:30.410538Z",
     "start_time": "2022-11-08T15:04:38.084553Z"
    }
   },
   "outputs": [],
   "source": [
    "df = df.apply(lambda x: x.replace('NA', 'Unknown'))\n",
    "df = df.fillna('Unknown')"
   ]
  },
  {
   "cell_type": "markdown",
   "id": "c5811361",
   "metadata": {},
   "source": [
    "## Encoding"
   ]
  },
  {
   "cell_type": "code",
   "execution_count": 10,
   "id": "7369059e",
   "metadata": {
    "ExecuteTime": {
     "end_time": "2022-11-08T15:05:31.287486Z",
     "start_time": "2022-11-08T15:05:30.423771Z"
    }
   },
   "outputs": [],
   "source": [
    "from sklearn.preprocessing import LabelEncoder\n",
    "from category_encoders import TargetEncoder\n",
    "from sklearn.preprocessing import OrdinalEncoder\n",
    "from sklearn.preprocessing import OneHotEncoder"
   ]
  },
  {
   "cell_type": "code",
   "execution_count": 11,
   "id": "300e0b52",
   "metadata": {
    "ExecuteTime": {
     "end_time": "2022-11-08T15:05:34.335272Z",
     "start_time": "2022-11-08T15:05:31.293430Z"
    }
   },
   "outputs": [],
   "source": [
    "df_encoded = df.copy()"
   ]
  },
  {
   "cell_type": "code",
   "execution_count": 12,
   "id": "a46ce877",
   "metadata": {
    "ExecuteTime": {
     "end_time": "2022-11-08T15:05:34.380130Z",
     "start_time": "2022-11-08T15:05:34.350053Z"
    }
   },
   "outputs": [],
   "source": [
    "def label_encode(df, features):\n",
    "    for feature in features:\n",
    "        le = LabelEncoder()\n",
    "        label_encoded = le.fit_transform(df[f'{feature}'])\n",
    "        df_encoded[f'{feature}'] = label_encoded\n",
    "        \n",
    "def target_encode(df, features):\n",
    "    for feature in features:\n",
    "        te = TargetEncoder()\n",
    "        te_encoded = te.fit_transform(df[f'{feature}'], df_encoded['pna_yn'])\n",
    "        df_encoded[f'{feature}'] = te_encoded\n",
    "        \n",
    "def ordinal_encode(df, features):\n",
    "    for feature in features:\n",
    "        oe = OrdinalEncoder()\n",
    "        oe_encoded = oe.fit_transform(df[f'{feature}'], df_encoded['pna_yn'])\n",
    "        df_encoded[f'{feature}'] = oe_encoded\n",
    "        \n",
    "def onehot_encode(df, features):\n",
    "    for feature in features:\n",
    "        ohe = OneHotEncoder(drop='missing', sparse=False)\n",
    "        onehot_encoded = ohe.fit_transform(df[f'{feature}'])\n",
    "        df_encoded = pd.concat([df, onehot_encoded], axis=1)\n",
    "        df_encoded.drop(f'{feature}', axis=1, inplace=True)"
   ]
  },
  {
   "cell_type": "code",
   "execution_count": 13,
   "id": "21fbdd98",
   "metadata": {
    "ExecuteTime": {
     "end_time": "2022-11-08T15:05:34.411253Z",
     "start_time": "2022-11-08T15:05:34.383719Z"
    }
   },
   "outputs": [],
   "source": [
    "le_features = ['pna_yn', 'current_status', 'hosp_yn', 'icu_yn', 'death_yn', 'hc_work_yn',\n",
    "              'abxchest_yn', 'acuterespdistress_yn', 'mechvent_yn',\n",
    "              'fever_yn', 'sfever_yn', 'chills_yn', 'myalgia_yn',\n",
    "              'runnose_yn', 'sthroat_yn', 'cough_yn', 'sob_yn',\n",
    "              'nauseavomit_yn', 'headache_yn', 'abdom_yn', \n",
    "               'diarrhea_yn', 'medcond_yn', 'sex'] \n",
    "# Note: i think '_yn' stands for yes no\n",
    "\n",
    "# te_features = ['race_ethnicity_combined', 'res_state'] # res_county dropped for cardinality\n",
    "te_features = ['race_ethnicity_combined', 'res_county', 'res_state']\n",
    "\n",
    "# oe_features = ['age_group'] #not needed anymore, manually converted to numerical data\n",
    "\n",
    "# ohe_features = ['sex'] # moved to label encoder\n",
    "\n",
    "other_features = ['cdc_report_dt', 'cdc_case_earliest_dt', 'county_fips_code', \n",
    "                  'onset_dt', 'pos_spec_dt']"
   ]
  },
  {
   "cell_type": "code",
   "execution_count": 14,
   "id": "4656abe8",
   "metadata": {
    "ExecuteTime": {
     "end_time": "2022-11-08T15:06:09.569167Z",
     "start_time": "2022-11-08T15:05:34.416184Z"
    }
   },
   "outputs": [],
   "source": [
    "label_encode(df, le_features)"
   ]
  },
  {
   "cell_type": "code",
   "execution_count": 15,
   "id": "458959bf",
   "metadata": {
    "ExecuteTime": {
     "end_time": "2022-11-08T15:06:22.961063Z",
     "start_time": "2022-11-08T15:06:09.571647Z"
    }
   },
   "outputs": [],
   "source": [
    "target_encode(df, te_features)"
   ]
  },
  {
   "cell_type": "code",
   "execution_count": 16,
   "id": "f7c57c24",
   "metadata": {
    "ExecuteTime": {
     "end_time": "2022-11-08T15:06:24.793054Z",
     "start_time": "2022-11-08T15:06:24.518522Z"
    }
   },
   "outputs": [
    {
     "data": {
      "text/plain": [
       "20 - 29 Years    267551\n",
       "30 - 39 Years    228548\n",
       "40 - 49 Years    224077\n",
       "50 - 59 Years    219631\n",
       "10 - 19 Years    178461\n",
       "60 - 69 Years    167067\n",
       "70 - 79 Years     96402\n",
       "0 - 9 Years       66575\n",
       "80+ Years         62167\n",
       "Unknown            4782\n",
       "Name: age_group, dtype: int64"
      ]
     },
     "execution_count": 16,
     "metadata": {},
     "output_type": "execute_result"
    }
   ],
   "source": [
    "df_encoded['age_group'].value_counts()"
   ]
  },
  {
   "cell_type": "code",
   "execution_count": 17,
   "id": "b364ba8c",
   "metadata": {
    "ExecuteTime": {
     "end_time": "2022-11-08T15:06:33.376398Z",
     "start_time": "2022-11-08T15:06:24.800127Z"
    }
   },
   "outputs": [],
   "source": [
    "# replace bin by the mean of range\n",
    "df_encoded['age_group'] = df_encoded['age_group'].apply(lambda x: x.replace('Years', ''))\n",
    "df_encoded['age_group'] = df_encoded['age_group'].apply(lambda x: x.replace('0 - 9', '5'))\n",
    "df_encoded['age_group'] = df_encoded['age_group'].apply(lambda x: x.replace('10 - 19', '15'))\n",
    "df_encoded['age_group'] = df_encoded['age_group'].apply(lambda x: x.replace('20 - 29', '25'))\n",
    "df_encoded['age_group'] = df_encoded['age_group'].apply(lambda x: x.replace('30 - 39', '35'))\n",
    "df_encoded['age_group'] = df_encoded['age_group'].apply(lambda x: x.replace('40 - 49', '45'))\n",
    "df_encoded['age_group'] = df_encoded['age_group'].apply(lambda x: x.replace('50 - 59', '55'))\n",
    "df_encoded['age_group'] = df_encoded['age_group'].apply(lambda x: x.replace('60 - 69', '65'))\n",
    "df_encoded['age_group'] = df_encoded['age_group'].apply(lambda x: x.replace('70 - 79', '75'))\n",
    "df_encoded['age_group'] = df_encoded['age_group'].apply(lambda x: x.replace('80+', '85'))"
   ]
  },
  {
   "cell_type": "code",
   "execution_count": 18,
   "id": "83be5356",
   "metadata": {
    "ExecuteTime": {
     "end_time": "2022-11-08T15:06:35.275148Z",
     "start_time": "2022-11-08T15:06:33.376398Z"
    }
   },
   "outputs": [],
   "source": [
    "# replace 'Unknown' with median\n",
    "df_encoded['age_group'] = df_encoded['age_group'].replace('Unknown', np.nan)\n",
    "df_encoded['age_group'] = df_encoded['age_group'].fillna(int(df_encoded['age_group'].median()))\n",
    "df_encoded['age_group'] = df_encoded['age_group'].astype(int)"
   ]
  },
  {
   "cell_type": "code",
   "execution_count": 19,
   "id": "8e4e063d",
   "metadata": {
    "ExecuteTime": {
     "end_time": "2022-11-08T15:06:35.377121Z",
     "start_time": "2022-11-08T15:06:35.275148Z"
    }
   },
   "outputs": [
    {
     "data": {
      "text/plain": [
       "25    267551\n",
       "45    228859\n",
       "35    228548\n",
       "55    219631\n",
       "15    178461\n",
       "65    167067\n",
       "75     96402\n",
       "5      66575\n",
       "85     62167\n",
       "Name: age_group, dtype: int64"
      ]
     },
     "execution_count": 19,
     "metadata": {},
     "output_type": "execute_result"
    }
   ],
   "source": [
    "df_encoded['age_group'].value_counts()"
   ]
  },
  {
   "cell_type": "markdown",
   "id": "62faca61",
   "metadata": {},
   "source": [
    "label_encode(df, le_features)\n",
    "target_encode(df, te_features)\n",
    "ordinal_encode(df, oe_features)\n",
    "onehot_encode(df, ohe_features)"
   ]
  },
  {
   "cell_type": "markdown",
   "id": "a7186948",
   "metadata": {},
   "source": [
    "experiment - testing"
   ]
  },
  {
   "cell_type": "code",
   "execution_count": 20,
   "id": "2f32a8a6",
   "metadata": {
    "ExecuteTime": {
     "end_time": "2022-11-08T15:06:35.392875Z",
     "start_time": "2022-11-08T15:06:35.382156Z"
    }
   },
   "outputs": [],
   "source": [
    "# label_encode(df, ['current_status'])"
   ]
  },
  {
   "cell_type": "code",
   "execution_count": 21,
   "id": "2f9c2fe2",
   "metadata": {
    "ExecuteTime": {
     "end_time": "2022-11-08T15:06:35.647471Z",
     "start_time": "2022-11-08T15:06:35.396267Z"
    }
   },
   "outputs": [
    {
     "data": {
      "text/plain": [
       "Laboratory-confirmed case    1400366\n",
       "Probable Case                 114895\n",
       "Name: current_status, dtype: int64"
      ]
     },
     "execution_count": 21,
     "metadata": {},
     "output_type": "execute_result"
    }
   ],
   "source": [
    "df['current_status'].value_counts(dropna=False)"
   ]
  },
  {
   "cell_type": "code",
   "execution_count": 22,
   "id": "8910d1f5",
   "metadata": {
    "ExecuteTime": {
     "end_time": "2022-11-08T15:06:35.726941Z",
     "start_time": "2022-11-08T15:06:35.653225Z"
    },
    "scrolled": true
   },
   "outputs": [
    {
     "data": {
      "text/plain": [
       "0    1400366\n",
       "1     114895\n",
       "Name: current_status, dtype: int64"
      ]
     },
     "execution_count": 22,
     "metadata": {},
     "output_type": "execute_result"
    }
   ],
   "source": [
    "df_encoded['current_status'].value_counts(dropna=False)"
   ]
  },
  {
   "cell_type": "markdown",
   "id": "3ebea8e2",
   "metadata": {},
   "source": [
    "## drop 'unnecessary' variables"
   ]
  },
  {
   "cell_type": "code",
   "execution_count": 23,
   "id": "7ffd65de",
   "metadata": {
    "ExecuteTime": {
     "end_time": "2022-11-08T15:06:36.232816Z",
     "start_time": "2022-11-08T15:06:35.732084Z"
    }
   },
   "outputs": [],
   "source": [
    "df_cleaned = df_encoded.drop(other_features, axis=1)"
   ]
  },
  {
   "cell_type": "markdown",
   "id": "ebe30cbc",
   "metadata": {},
   "source": [
    "## Save df as parqueet"
   ]
  },
  {
   "cell_type": "code",
   "execution_count": 24,
   "id": "91691051",
   "metadata": {
    "ExecuteTime": {
     "end_time": "2022-11-08T15:06:36.443128Z",
     "start_time": "2022-11-08T15:06:36.234812Z"
    }
   },
   "outputs": [
    {
     "name": "stdout",
     "output_type": "stream",
     "text": [
      "<class 'pandas.core.frame.DataFrame'>\n",
      "Int64Index: 1515261 entries, 4 to 7131819\n",
      "Data columns (total 27 columns):\n",
      " #   Column                   Non-Null Count    Dtype  \n",
      "---  ------                   --------------    -----  \n",
      " 0   race_ethnicity_combined  1515261 non-null  float64\n",
      " 1   current_status           1515261 non-null  int32  \n",
      " 2   sex                      1515261 non-null  int32  \n",
      " 3   hosp_yn                  1515261 non-null  int32  \n",
      " 4   icu_yn                   1515261 non-null  int32  \n",
      " 5   death_yn                 1515261 non-null  int32  \n",
      " 6   hc_work_yn               1515261 non-null  int32  \n",
      " 7   pna_yn                   1515261 non-null  int32  \n",
      " 8   abxchest_yn              1515261 non-null  int32  \n",
      " 9   acuterespdistress_yn     1515261 non-null  int32  \n",
      " 10  mechvent_yn              1515261 non-null  int32  \n",
      " 11  fever_yn                 1515261 non-null  int32  \n",
      " 12  sfever_yn                1515261 non-null  int32  \n",
      " 13  chills_yn                1515261 non-null  int32  \n",
      " 14  myalgia_yn               1515261 non-null  int32  \n",
      " 15  runnose_yn               1515261 non-null  int32  \n",
      " 16  sthroat_yn               1515261 non-null  int32  \n",
      " 17  cough_yn                 1515261 non-null  int32  \n",
      " 18  sob_yn                   1515261 non-null  int32  \n",
      " 19  nauseavomit_yn           1515261 non-null  int32  \n",
      " 20  headache_yn              1515261 non-null  int32  \n",
      " 21  abdom_yn                 1515261 non-null  int32  \n",
      " 22  diarrhea_yn              1515261 non-null  int32  \n",
      " 23  medcond_yn               1515261 non-null  int32  \n",
      " 24  res_county               1515261 non-null  float64\n",
      " 25  res_state                1515261 non-null  float64\n",
      " 26  age_group                1515261 non-null  int32  \n",
      "dtypes: float64(3), int32(24)\n",
      "memory usage: 185.0 MB\n"
     ]
    }
   ],
   "source": [
    "df_cleaned.info()"
   ]
  },
  {
   "cell_type": "code",
   "execution_count": 25,
   "id": "4ad6c869",
   "metadata": {
    "ExecuteTime": {
     "end_time": "2022-11-08T15:06:39.450104Z",
     "start_time": "2022-11-08T15:06:36.444506Z"
    }
   },
   "outputs": [],
   "source": [
    "df_cleaned.to_parquet('df_cleaned.parquet')"
   ]
  },
  {
   "cell_type": "code",
   "execution_count": 26,
   "id": "92238efb",
   "metadata": {
    "ExecuteTime": {
     "end_time": "2022-11-08T15:06:40.160831Z",
     "start_time": "2022-11-08T15:06:39.452393Z"
    }
   },
   "outputs": [],
   "source": [
    "df_cleaned = pd.read_parquet('df_cleaned.parquet')"
   ]
  },
  {
   "cell_type": "code",
   "execution_count": 27,
   "id": "6a879ad5",
   "metadata": {
    "ExecuteTime": {
     "end_time": "2022-11-08T15:06:40.288160Z",
     "start_time": "2022-11-08T15:06:40.181681Z"
    }
   },
   "outputs": [
    {
     "data": {
      "text/html": [
       "<div>\n",
       "<style scoped>\n",
       "    .dataframe tbody tr th:only-of-type {\n",
       "        vertical-align: middle;\n",
       "    }\n",
       "\n",
       "    .dataframe tbody tr th {\n",
       "        vertical-align: top;\n",
       "    }\n",
       "\n",
       "    .dataframe thead th {\n",
       "        text-align: right;\n",
       "    }\n",
       "</style>\n",
       "<table border=\"1\" class=\"dataframe\">\n",
       "  <thead>\n",
       "    <tr style=\"text-align: right;\">\n",
       "      <th></th>\n",
       "      <th>race_ethnicity_combined</th>\n",
       "      <th>current_status</th>\n",
       "      <th>sex</th>\n",
       "      <th>hosp_yn</th>\n",
       "      <th>icu_yn</th>\n",
       "      <th>death_yn</th>\n",
       "      <th>hc_work_yn</th>\n",
       "      <th>pna_yn</th>\n",
       "      <th>abxchest_yn</th>\n",
       "      <th>acuterespdistress_yn</th>\n",
       "      <th>...</th>\n",
       "      <th>cough_yn</th>\n",
       "      <th>sob_yn</th>\n",
       "      <th>nauseavomit_yn</th>\n",
       "      <th>headache_yn</th>\n",
       "      <th>abdom_yn</th>\n",
       "      <th>diarrhea_yn</th>\n",
       "      <th>medcond_yn</th>\n",
       "      <th>res_county</th>\n",
       "      <th>res_state</th>\n",
       "      <th>age_group</th>\n",
       "    </tr>\n",
       "    <tr>\n",
       "      <th>index</th>\n",
       "      <th></th>\n",
       "      <th></th>\n",
       "      <th></th>\n",
       "      <th></th>\n",
       "      <th></th>\n",
       "      <th></th>\n",
       "      <th></th>\n",
       "      <th></th>\n",
       "      <th></th>\n",
       "      <th></th>\n",
       "      <th></th>\n",
       "      <th></th>\n",
       "      <th></th>\n",
       "      <th></th>\n",
       "      <th></th>\n",
       "      <th></th>\n",
       "      <th></th>\n",
       "      <th></th>\n",
       "      <th></th>\n",
       "      <th></th>\n",
       "      <th></th>\n",
       "    </tr>\n",
       "  </thead>\n",
       "  <tbody>\n",
       "    <tr>\n",
       "      <th>4</th>\n",
       "      <td>0.060017</td>\n",
       "      <td>0</td>\n",
       "      <td>1</td>\n",
       "      <td>0</td>\n",
       "      <td>1</td>\n",
       "      <td>1</td>\n",
       "      <td>1</td>\n",
       "      <td>0</td>\n",
       "      <td>1</td>\n",
       "      <td>1</td>\n",
       "      <td>...</td>\n",
       "      <td>0</td>\n",
       "      <td>0</td>\n",
       "      <td>0</td>\n",
       "      <td>2</td>\n",
       "      <td>2</td>\n",
       "      <td>0</td>\n",
       "      <td>2</td>\n",
       "      <td>0.070389</td>\n",
       "      <td>0.225918</td>\n",
       "      <td>35</td>\n",
       "    </tr>\n",
       "    <tr>\n",
       "      <th>8</th>\n",
       "      <td>0.108255</td>\n",
       "      <td>0</td>\n",
       "      <td>1</td>\n",
       "      <td>0</td>\n",
       "      <td>0</td>\n",
       "      <td>1</td>\n",
       "      <td>1</td>\n",
       "      <td>0</td>\n",
       "      <td>2</td>\n",
       "      <td>1</td>\n",
       "      <td>...</td>\n",
       "      <td>0</td>\n",
       "      <td>0</td>\n",
       "      <td>0</td>\n",
       "      <td>2</td>\n",
       "      <td>0</td>\n",
       "      <td>0</td>\n",
       "      <td>1</td>\n",
       "      <td>0.070389</td>\n",
       "      <td>0.225918</td>\n",
       "      <td>65</td>\n",
       "    </tr>\n",
       "    <tr>\n",
       "      <th>13</th>\n",
       "      <td>0.060017</td>\n",
       "      <td>0</td>\n",
       "      <td>1</td>\n",
       "      <td>0</td>\n",
       "      <td>1</td>\n",
       "      <td>1</td>\n",
       "      <td>1</td>\n",
       "      <td>0</td>\n",
       "      <td>1</td>\n",
       "      <td>0</td>\n",
       "      <td>...</td>\n",
       "      <td>2</td>\n",
       "      <td>0</td>\n",
       "      <td>0</td>\n",
       "      <td>2</td>\n",
       "      <td>0</td>\n",
       "      <td>2</td>\n",
       "      <td>2</td>\n",
       "      <td>0.026786</td>\n",
       "      <td>0.430685</td>\n",
       "      <td>75</td>\n",
       "    </tr>\n",
       "    <tr>\n",
       "      <th>14</th>\n",
       "      <td>0.060017</td>\n",
       "      <td>1</td>\n",
       "      <td>1</td>\n",
       "      <td>0</td>\n",
       "      <td>1</td>\n",
       "      <td>0</td>\n",
       "      <td>1</td>\n",
       "      <td>0</td>\n",
       "      <td>1</td>\n",
       "      <td>0</td>\n",
       "      <td>...</td>\n",
       "      <td>1</td>\n",
       "      <td>1</td>\n",
       "      <td>1</td>\n",
       "      <td>1</td>\n",
       "      <td>1</td>\n",
       "      <td>1</td>\n",
       "      <td>2</td>\n",
       "      <td>0.026786</td>\n",
       "      <td>0.430685</td>\n",
       "      <td>75</td>\n",
       "    </tr>\n",
       "    <tr>\n",
       "      <th>16</th>\n",
       "      <td>0.060017</td>\n",
       "      <td>0</td>\n",
       "      <td>1</td>\n",
       "      <td>0</td>\n",
       "      <td>1</td>\n",
       "      <td>1</td>\n",
       "      <td>1</td>\n",
       "      <td>0</td>\n",
       "      <td>1</td>\n",
       "      <td>0</td>\n",
       "      <td>...</td>\n",
       "      <td>1</td>\n",
       "      <td>1</td>\n",
       "      <td>1</td>\n",
       "      <td>1</td>\n",
       "      <td>1</td>\n",
       "      <td>1</td>\n",
       "      <td>2</td>\n",
       "      <td>0.026786</td>\n",
       "      <td>0.430685</td>\n",
       "      <td>75</td>\n",
       "    </tr>\n",
       "  </tbody>\n",
       "</table>\n",
       "<p>5 rows × 27 columns</p>\n",
       "</div>"
      ],
      "text/plain": [
       "       race_ethnicity_combined  current_status  sex  hosp_yn  icu_yn  \\\n",
       "index                                                                  \n",
       "4                     0.060017               0    1        0       1   \n",
       "8                     0.108255               0    1        0       0   \n",
       "13                    0.060017               0    1        0       1   \n",
       "14                    0.060017               1    1        0       1   \n",
       "16                    0.060017               0    1        0       1   \n",
       "\n",
       "       death_yn  hc_work_yn  pna_yn  abxchest_yn  acuterespdistress_yn  ...  \\\n",
       "index                                                                   ...   \n",
       "4             1           1       0            1                     1  ...   \n",
       "8             1           1       0            2                     1  ...   \n",
       "13            1           1       0            1                     0  ...   \n",
       "14            0           1       0            1                     0  ...   \n",
       "16            1           1       0            1                     0  ...   \n",
       "\n",
       "       cough_yn  sob_yn  nauseavomit_yn  headache_yn  abdom_yn  diarrhea_yn  \\\n",
       "index                                                                         \n",
       "4             0       0               0            2         2            0   \n",
       "8             0       0               0            2         0            0   \n",
       "13            2       0               0            2         0            2   \n",
       "14            1       1               1            1         1            1   \n",
       "16            1       1               1            1         1            1   \n",
       "\n",
       "       medcond_yn  res_county  res_state  age_group  \n",
       "index                                                \n",
       "4               2    0.070389   0.225918         35  \n",
       "8               1    0.070389   0.225918         65  \n",
       "13              2    0.026786   0.430685         75  \n",
       "14              2    0.026786   0.430685         75  \n",
       "16              2    0.026786   0.430685         75  \n",
       "\n",
       "[5 rows x 27 columns]"
      ]
     },
     "execution_count": 27,
     "metadata": {},
     "output_type": "execute_result"
    }
   ],
   "source": [
    "df_cleaned.head()"
   ]
  },
  {
   "cell_type": "markdown",
   "id": "99ab4d54",
   "metadata": {},
   "source": [
    "## Training test split"
   ]
  },
  {
   "cell_type": "code",
   "execution_count": 28,
   "id": "c848e2fe",
   "metadata": {
    "ExecuteTime": {
     "end_time": "2022-11-08T15:06:40.528813Z",
     "start_time": "2022-11-08T15:06:40.296636Z"
    }
   },
   "outputs": [],
   "source": [
    "X = df_cleaned[df_cleaned.columns[df_cleaned.columns != 'pna_yn']]\n",
    "y = df_cleaned['pna_yn']"
   ]
  },
  {
   "cell_type": "code",
   "execution_count": 29,
   "id": "38b43715",
   "metadata": {
    "ExecuteTime": {
     "end_time": "2022-11-08T15:06:42.008890Z",
     "start_time": "2022-11-08T15:06:40.534897Z"
    }
   },
   "outputs": [],
   "source": [
    "from sklearn.model_selection import train_test_split\n",
    "\n",
    "X_train, X_test, y_train, y_test = train_test_split(\n",
    "    X, y, test_size=0.33, random_state=42)"
   ]
  },
  {
   "cell_type": "markdown",
   "id": "8c99af18",
   "metadata": {},
   "source": [
    "## Feature scaling"
   ]
  },
  {
   "cell_type": "code",
   "execution_count": 30,
   "id": "790e0475",
   "metadata": {
    "ExecuteTime": {
     "end_time": "2022-11-08T15:06:43.461469Z",
     "start_time": "2022-11-08T15:06:42.008890Z"
    }
   },
   "outputs": [],
   "source": [
    "from sklearn.preprocessing import StandardScaler\n",
    "scale=StandardScaler()\n",
    "X_train = scale.fit_transform(X_train)\n",
    "X_test = scale.transform(X_test)"
   ]
  },
  {
   "cell_type": "markdown",
   "id": "c626c7c5",
   "metadata": {},
   "source": [
    "## Class imbalance"
   ]
  },
  {
   "cell_type": "code",
   "execution_count": 31,
   "id": "5dbf2869",
   "metadata": {
    "ExecuteTime": {
     "end_time": "2022-11-08T15:06:43.510797Z",
     "start_time": "2022-11-08T15:06:43.462467Z"
    }
   },
   "outputs": [
    {
     "data": {
      "text/plain": [
       "0    0.933405\n",
       "1    0.066595\n",
       "Name: pna_yn, dtype: float64"
      ]
     },
     "execution_count": 31,
     "metadata": {},
     "output_type": "execute_result"
    }
   ],
   "source": [
    "y_train.value_counts(normalize=True)"
   ]
  },
  {
   "cell_type": "markdown",
   "id": "34864670",
   "metadata": {},
   "source": [
    "# Logistic Regression\n",
    "https://www.analyticsvidhya.com/blog/2021/09/guide-for-building-an-end-to-end-logistic-regression-model/"
   ]
  },
  {
   "cell_type": "markdown",
   "id": "a6734d6e",
   "metadata": {},
   "source": [
    "## Hyperparameter Tuning\n",
    "Penalty: l1 vs elastic net\n",
    "(with solver as 'saga')"
   ]
  },
  {
   "cell_type": "code",
   "execution_count": 32,
   "id": "6d52912c",
   "metadata": {
    "ExecuteTime": {
     "end_time": "2022-11-08T15:08:41.393279Z",
     "start_time": "2022-11-08T15:06:43.515447Z"
    }
   },
   "outputs": [
    {
     "name": "stdout",
     "output_type": "stream",
     "text": [
      "Fitting 5 folds for each of 2 candidates, totalling 10 fits\n",
      "[CV] END .........................................penalty=l1; total time=   7.2s\n",
      "[CV] END .........................................penalty=l1; total time=   7.1s\n",
      "[CV] END .........................................penalty=l1; total time=   7.1s\n",
      "[CV] END .........................................penalty=l1; total time=   7.1s\n",
      "[CV] END .........................................penalty=l1; total time=   6.6s\n",
      "[CV] END .................................penalty=elasticnet; total time=   0.0s\n",
      "[CV] END .................................penalty=elasticnet; total time=   0.0s\n",
      "[CV] END .................................penalty=elasticnet; total time=   0.0s\n",
      "[CV] END .................................penalty=elasticnet; total time=   0.0s\n",
      "[CV] END .................................penalty=elasticnet; total time=   0.0s\n"
     ]
    }
   ],
   "source": [
    "from sklearn.linear_model import LogisticRegression\n",
    "from sklearn.model_selection import StratifiedKFold\n",
    "from sklearn.model_selection import cross_val_score\n",
    "from sklearn.model_selection import RandomizedSearchCV\n",
    "from scipy.stats import uniform\n",
    "\n",
    "# create model\n",
    "lr = LogisticRegression(solver='saga',\n",
    "                        random_state=0)\n",
    "\n",
    "# hyperparameters\n",
    "distributions = dict(penalty = ['l1','elasticnet'])\n",
    "\n",
    "# prepare crossvalidation\n",
    "kfold = StratifiedKFold(n_splits=5, random_state=1, shuffle=True)\n",
    "\n",
    "# create the random search\n",
    "lr_search = RandomizedSearchCV(lr,\n",
    "                               distributions,\n",
    "                               random_state=0,\n",
    "                               cv = kfold,\n",
    "                               scoring=\"f1\",\n",
    "                               verbose=2)\n",
    "\n",
    "#fit the model\n",
    "search = lr_search.fit(X_train, y_train)"
   ]
  },
  {
   "cell_type": "code",
   "execution_count": 33,
   "id": "7f6525d2",
   "metadata": {
    "ExecuteTime": {
     "end_time": "2022-11-08T15:08:41.417682Z",
     "start_time": "2022-11-08T15:08:41.398309Z"
    }
   },
   "outputs": [
    {
     "name": "stdout",
     "output_type": "stream",
     "text": [
      "Best F1 score:  0.7473232371742784\n",
      "Best hyperparameters:  {'penalty': 'l1'}\n"
     ]
    }
   ],
   "source": [
    "# obtain best hyperparameter\n",
    "print(\"Best F1 score: \", search.best_score_)\n",
    "print(\"Best hyperparameters: \", search.best_params_)\n",
    "# print(search.best_estimator_)"
   ]
  },
  {
   "cell_type": "markdown",
   "id": "653a0a6b",
   "metadata": {},
   "source": [
    "According to random-search cross-validation, the best penalty is the 'l1'"
   ]
  },
  {
   "cell_type": "markdown",
   "id": "35574ce5",
   "metadata": {},
   "source": [
    "Since penalty is 'l1', can tune for solver: 'saga vs sag'"
   ]
  },
  {
   "cell_type": "code",
   "execution_count": 34,
   "id": "e1aa9efa",
   "metadata": {
    "ExecuteTime": {
     "end_time": "2022-11-08T15:11:00.467993Z",
     "start_time": "2022-11-08T15:08:41.423082Z"
    }
   },
   "outputs": [
    {
     "name": "stdout",
     "output_type": "stream",
     "text": [
      "Fitting 5 folds for each of 2 candidates, totalling 10 fits\n",
      "[CV] END .........................................solver=sag; total time=   0.0s\n",
      "[CV] END .........................................solver=sag; total time=   0.0s\n",
      "[CV] END .........................................solver=sag; total time=   0.0s\n",
      "[CV] END .........................................solver=sag; total time=   0.0s\n",
      "[CV] END .........................................solver=sag; total time=   0.0s\n",
      "[CV] END ........................................solver=saga; total time=   7.1s\n",
      "[CV] END ........................................solver=saga; total time=   7.1s\n",
      "[CV] END ........................................solver=saga; total time=   7.1s\n",
      "[CV] END ........................................solver=saga; total time=   7.1s\n",
      "[CV] END ........................................solver=saga; total time=   6.6s\n"
     ]
    }
   ],
   "source": [
    "# create model\n",
    "lr = LogisticRegression(penalty='l1',\n",
    "                        random_state=0)\n",
    "\n",
    "# hyperparameters\n",
    "distributions = dict(solver = ['sag','saga'])\n",
    "\n",
    "# prepare crossvalidation\n",
    "kfold = StratifiedKFold(n_splits=5, random_state=1, shuffle=True)\n",
    "\n",
    "# create the random search\n",
    "lr_search = RandomizedSearchCV(lr,\n",
    "                               distributions,\n",
    "                               random_state=0,\n",
    "                               cv = kfold,\n",
    "                               scoring=\"f1\",\n",
    "                               verbose=2)\n",
    "\n",
    "#fit the model\n",
    "search = lr_search.fit(X_train, y_train)"
   ]
  },
  {
   "cell_type": "code",
   "execution_count": 35,
   "id": "761a1c8e",
   "metadata": {
    "ExecuteTime": {
     "end_time": "2022-11-08T15:11:00.499743Z",
     "start_time": "2022-11-08T15:11:00.467993Z"
    }
   },
   "outputs": [
    {
     "name": "stdout",
     "output_type": "stream",
     "text": [
      "Best F1 score:  0.7473232371742784\n",
      "Best hyperparameters:  {'solver': 'saga'}\n"
     ]
    }
   ],
   "source": [
    "# obtain best hyperparameter\n",
    "print(\"Best F1 score: \", search.best_score_)\n",
    "print(\"Best hyperparameters: \", search.best_params_)\n",
    "# print(search.best_estimator_)"
   ]
  },
  {
   "cell_type": "markdown",
   "id": "5b6164b6",
   "metadata": {},
   "source": [
    "## Best model"
   ]
  },
  {
   "cell_type": "code",
   "execution_count": 36,
   "id": "9bc54504",
   "metadata": {
    "ExecuteTime": {
     "end_time": "2022-11-08T15:11:31.740908Z",
     "start_time": "2022-11-08T15:11:00.505045Z"
    }
   },
   "outputs": [
    {
     "data": {
      "text/html": [
       "<style>#sk-container-id-1 {color: black;background-color: white;}#sk-container-id-1 pre{padding: 0;}#sk-container-id-1 div.sk-toggleable {background-color: white;}#sk-container-id-1 label.sk-toggleable__label {cursor: pointer;display: block;width: 100%;margin-bottom: 0;padding: 0.3em;box-sizing: border-box;text-align: center;}#sk-container-id-1 label.sk-toggleable__label-arrow:before {content: \"▸\";float: left;margin-right: 0.25em;color: #696969;}#sk-container-id-1 label.sk-toggleable__label-arrow:hover:before {color: black;}#sk-container-id-1 div.sk-estimator:hover label.sk-toggleable__label-arrow:before {color: black;}#sk-container-id-1 div.sk-toggleable__content {max-height: 0;max-width: 0;overflow: hidden;text-align: left;background-color: #f0f8ff;}#sk-container-id-1 div.sk-toggleable__content pre {margin: 0.2em;color: black;border-radius: 0.25em;background-color: #f0f8ff;}#sk-container-id-1 input.sk-toggleable__control:checked~div.sk-toggleable__content {max-height: 200px;max-width: 100%;overflow: auto;}#sk-container-id-1 input.sk-toggleable__control:checked~label.sk-toggleable__label-arrow:before {content: \"▾\";}#sk-container-id-1 div.sk-estimator input.sk-toggleable__control:checked~label.sk-toggleable__label {background-color: #d4ebff;}#sk-container-id-1 div.sk-label input.sk-toggleable__control:checked~label.sk-toggleable__label {background-color: #d4ebff;}#sk-container-id-1 input.sk-hidden--visually {border: 0;clip: rect(1px 1px 1px 1px);clip: rect(1px, 1px, 1px, 1px);height: 1px;margin: -1px;overflow: hidden;padding: 0;position: absolute;width: 1px;}#sk-container-id-1 div.sk-estimator {font-family: monospace;background-color: #f0f8ff;border: 1px dotted black;border-radius: 0.25em;box-sizing: border-box;margin-bottom: 0.5em;}#sk-container-id-1 div.sk-estimator:hover {background-color: #d4ebff;}#sk-container-id-1 div.sk-parallel-item::after {content: \"\";width: 100%;border-bottom: 1px solid gray;flex-grow: 1;}#sk-container-id-1 div.sk-label:hover label.sk-toggleable__label {background-color: #d4ebff;}#sk-container-id-1 div.sk-serial::before {content: \"\";position: absolute;border-left: 1px solid gray;box-sizing: border-box;top: 0;bottom: 0;left: 50%;z-index: 0;}#sk-container-id-1 div.sk-serial {display: flex;flex-direction: column;align-items: center;background-color: white;padding-right: 0.2em;padding-left: 0.2em;position: relative;}#sk-container-id-1 div.sk-item {position: relative;z-index: 1;}#sk-container-id-1 div.sk-parallel {display: flex;align-items: stretch;justify-content: center;background-color: white;position: relative;}#sk-container-id-1 div.sk-item::before, #sk-container-id-1 div.sk-parallel-item::before {content: \"\";position: absolute;border-left: 1px solid gray;box-sizing: border-box;top: 0;bottom: 0;left: 50%;z-index: -1;}#sk-container-id-1 div.sk-parallel-item {display: flex;flex-direction: column;z-index: 1;position: relative;background-color: white;}#sk-container-id-1 div.sk-parallel-item:first-child::after {align-self: flex-end;width: 50%;}#sk-container-id-1 div.sk-parallel-item:last-child::after {align-self: flex-start;width: 50%;}#sk-container-id-1 div.sk-parallel-item:only-child::after {width: 0;}#sk-container-id-1 div.sk-dashed-wrapped {border: 1px dashed gray;margin: 0 0.4em 0.5em 0.4em;box-sizing: border-box;padding-bottom: 0.4em;background-color: white;}#sk-container-id-1 div.sk-label label {font-family: monospace;font-weight: bold;display: inline-block;line-height: 1.2em;}#sk-container-id-1 div.sk-label-container {text-align: center;}#sk-container-id-1 div.sk-container {/* jupyter's `normalize.less` sets `[hidden] { display: none; }` but bootstrap.min.css set `[hidden] { display: none !important; }` so we also need the `!important` here to be able to override the default hidden behavior on the sphinx rendered scikit-learn.org. See: https://github.com/scikit-learn/scikit-learn/issues/21755 */display: inline-block !important;position: relative;}#sk-container-id-1 div.sk-text-repr-fallback {display: none;}</style><div id=\"sk-container-id-1\" class=\"sk-top-container\"><div class=\"sk-text-repr-fallback\"><pre>LogisticRegression(penalty=&#x27;l1&#x27;, random_state=0, solver=&#x27;saga&#x27;)</pre><b>In a Jupyter environment, please rerun this cell to show the HTML representation or trust the notebook. <br />On GitHub, the HTML representation is unable to render, please try loading this page with nbviewer.org.</b></div><div class=\"sk-container\" hidden><div class=\"sk-item\"><div class=\"sk-estimator sk-toggleable\"><input class=\"sk-toggleable__control sk-hidden--visually\" id=\"sk-estimator-id-1\" type=\"checkbox\" checked><label for=\"sk-estimator-id-1\" class=\"sk-toggleable__label sk-toggleable__label-arrow\">LogisticRegression</label><div class=\"sk-toggleable__content\"><pre>LogisticRegression(penalty=&#x27;l1&#x27;, random_state=0, solver=&#x27;saga&#x27;)</pre></div></div></div></div></div>"
      ],
      "text/plain": [
       "LogisticRegression(penalty='l1', random_state=0, solver='saga')"
      ]
     },
     "execution_count": 36,
     "metadata": {},
     "output_type": "execute_result"
    }
   ],
   "source": [
    "# create model with best params\n",
    "lr2 = LogisticRegression(penalty = 'l1',\n",
    "                        solver='saga',\n",
    "                        random_state=0)\n",
    "\n",
    "# fit model\n",
    "lr2.fit(X_train, y_train)"
   ]
  },
  {
   "cell_type": "code",
   "execution_count": 37,
   "id": "f6bf65d9",
   "metadata": {
    "ExecuteTime": {
     "end_time": "2022-11-08T15:11:31.909316Z",
     "start_time": "2022-11-08T15:11:31.745883Z"
    }
   },
   "outputs": [],
   "source": [
    "# predict probabilities on Test and take probability for class 1([:1])\n",
    "y_pred_prob_test = lr2.predict_proba(X_test)[:, 1]\n",
    "\n",
    "#predict labels on test dataset\n",
    "y_pred_test = lr2.predict(X_test)"
   ]
  },
  {
   "cell_type": "code",
   "execution_count": 38,
   "id": "e5d3796b",
   "metadata": {
    "ExecuteTime": {
     "end_time": "2022-11-08T15:11:33.617348Z",
     "start_time": "2022-11-08T15:11:31.911314Z"
    }
   },
   "outputs": [
    {
     "name": "stdout",
     "output_type": "stream",
     "text": [
      "Confusion Matrix is : \n",
      " [[462867   3945]\n",
      " [ 10883  22342]]\n",
      "\n",
      "\n",
      "ROC-AUC score test dataset:  \t 0.9566734421767018\n",
      "Precision score test dataset:\t 0.8499258188458173\n",
      "Recall score test dataset:  \t 0.6724454477050413\n",
      "f1 score test dataset :  \t 0.7508401666890712\n"
     ]
    }
   ],
   "source": [
    "from sklearn.metrics import confusion_matrix, roc_auc_score, precision_score, recall_score, f1_score\n",
    "\n",
    "# create onfusion matrix\n",
    "cm = confusion_matrix(y_test, y_pred_test)\n",
    "print(\"Confusion Matrix is : \\n\", cm)\n",
    "print(\"\\n\")\n",
    "\n",
    "# ROC- AUC score\n",
    "print(\"ROC-AUC score test dataset:  \\t\", roc_auc_score(y_test,y_pred_prob_test))\n",
    "#Precision score\n",
    "print(\"Precision score test dataset:\\t\", precision_score(y_test,y_pred_test))\n",
    "#Recall Score\n",
    "print(\"Recall score test dataset:  \\t\", recall_score(y_test,y_pred_test))\n",
    "#f1 score\n",
    "print(\"f1 score test dataset :  \\t\", f1_score(y_test,y_pred_test))"
   ]
  },
  {
   "cell_type": "markdown",
   "id": "bb452b00",
   "metadata": {},
   "source": [
    "## Feature importance\n",
    "https://machinelearningmastery.com/calculate-feature-importance-with-python/\n",
    "https://zetcode.com/python/fstring/\n",
    "https://realpython.com/python-formatted-output/\n",
    "https://stackoverflow.com/questions/59890977/f-string-multiple-format-specifiers"
   ]
  },
  {
   "cell_type": "code",
   "execution_count": 39,
   "id": "5bc20683",
   "metadata": {
    "ExecuteTime": {
     "end_time": "2022-11-08T15:11:33.654549Z",
     "start_time": "2022-11-08T15:11:33.622517Z"
    }
   },
   "outputs": [
    {
     "name": "stdout",
     "output_type": "stream",
     "text": [
      "(0) race_ethnicity_combined  :             0.026             \n",
      "(1) current_status           :             -0.071            \n",
      "(2) sex                      :             0.060             \n",
      "(3) hosp_yn                  :             0.642             \n",
      "(4) icu_yn                   :             -0.068            \n",
      "(5) death_yn                 :             0.120             \n",
      "(6) hc_work_yn               :             -0.009            \n",
      "(7) pna_yn                   :             1.247             \n",
      "(8) abxchest_yn              :             0.347             \n",
      "(9) acuterespdistress_yn     :             0.040             \n",
      "(10) mechvent_yn              :             0.172             \n",
      "(11) fever_yn                 :             0.113             \n",
      "(12) sfever_yn                :             0.072             \n",
      "(13) chills_yn                :             0.019             \n",
      "(14) myalgia_yn               :             -0.143            \n",
      "(15) runnose_yn               :             -0.029            \n",
      "(16) sthroat_yn               :             0.228             \n",
      "(17) cough_yn                 :             0.513             \n",
      "(18) sob_yn                   :             0.181             \n",
      "(19) nauseavomit_yn           :             -0.065            \n",
      "(20) headache_yn              :             0.040             \n",
      "(21) abdom_yn                 :             0.054             \n",
      "(22) diarrhea_yn              :             0.145             \n",
      "(23) medcond_yn               :             0.100             \n",
      "(24) res_county               :             0.216             \n",
      "(25) res_state                :             0.453             \n"
     ]
    }
   ],
   "source": [
    "# get importance\n",
    "importance = lr2.coef_[0]\n",
    "\n",
    "# summarize feature importance\n",
    "features = df_cleaned.columns\n",
    "for i,v in enumerate(importance):\n",
    "    print(f'({i}) {features[i] : <25}: {v : ^30.3f}')"
   ]
  },
  {
   "cell_type": "code",
   "execution_count": 66,
   "id": "a8b447af",
   "metadata": {
    "ExecuteTime": {
     "end_time": "2022-11-08T15:11:34.444215Z",
     "start_time": "2022-11-08T15:11:33.660072Z"
    }
   },
   "outputs": [
    {
     "data": {
      "image/png": "[encoded data removed]",
      "text/plain": [
       "<Figure size 648x432 with 1 Axes>"
      ]
     },
     "metadata": {
      "needs_background": "light"
     },
     "output_type": "display_data"
    }
   ],
   "source": [
    "# plot feature importance\n",
    "plt.bar([x for x in range(len(importance))], importance)\n",
    "plt.title('Feature Importance for Logistic Regression')\n",
    "plt.xlabel('Feature #')\n",
    "plt.ylabel('Feature Coefficient')\n",
    "plt.savefig('Feature Importance for Logistic Regression.jpg', bbox_inches='tight')\n",
    "plt.show()"
   ]
  },
  {
   "cell_type": "markdown",
   "id": "88e4caed",
   "metadata": {},
   "source": [
    "Note: May need to un-normalize features to extract analysis"
   ]
  },
  {
   "cell_type": "markdown",
   "id": "dfb2bc74",
   "metadata": {},
   "source": [
    "## Regularization Path\n",
    "https://scikit-learn.org/stable/auto_examples/linear_model/plot_logistic_path.html"
   ]
  },
  {
   "cell_type": "code",
   "execution_count": 43,
   "id": "98a7996a",
   "metadata": {
    "ExecuteTime": {
     "start_time": "2022-11-08T16:23:56.515Z"
    }
   },
   "outputs": [
    {
     "name": "stdout",
     "output_type": "stream",
     "text": [
      "CPU times: total: 3h 9min 20s\n",
      "Wall time: 3h 9min 30s\n"
     ]
    }
   ],
   "source": [
    "%%time\n",
    "\n",
    "from sklearn import linear_model\n",
    "from sklearn.svm import l1_min_c\n",
    "\n",
    "cs = l1_min_c(X_train, y_train, loss=\"log\") * np.logspace(0, 7, 16)\n",
    "\n",
    "clf = linear_model.LogisticRegression(\n",
    "    penalty=\"l1\",\n",
    "    solver=\"saga\",\n",
    "    tol=1e-6,\n",
    "    max_iter=int(1e6),\n",
    "    warm_start=True,\n",
    "    intercept_scaling=10000.0,\n",
    "    random_state=0\n",
    ")\n",
    "\n",
    "coefs_ = []\n",
    "for c in cs:\n",
    "    clf.set_params(C=c)\n",
    "    clf.fit(X, y)\n",
    "    coefs_.append(clf.coef_.ravel().copy())\n",
    "\n",
    "coefs_ = np.array(coefs_)"
   ]
  },
  {
   "cell_type": "code",
   "execution_count": 68,
   "id": "3e4d2c0c",
   "metadata": {
    "ExecuteTime": {
     "start_time": "2022-11-08T15:11:39.661Z"
    }
   },
   "outputs": [
    {
     "data": {
      "image/png": "[encoded data removed]",
      "text/plain": [
       "<Figure size 648x432 with 1 Axes>"
      ]
     },
     "metadata": {
      "needs_background": "light"
     },
     "output_type": "display_data"
    }
   ],
   "source": [
    "import matplotlib.pyplot as plt\n",
    "\n",
    "plt.plot(np.log10(cs), coefs_, marker=\"o\")\n",
    "ymin, ymax = plt.ylim()\n",
    "plt.xlabel(\"log(C)\")\n",
    "plt.ylabel(\"Coefficients\")\n",
    "plt.title(\"Logistic Regression Path\")\n",
    "plt.axis(\"tight\")\n",
    "plt.savefig('regularization_path 1.jpg', bbox_inches='tight')\n",
    "plt.show()"
   ]
  },
  {
   "cell_type": "code",
   "execution_count": 69,
   "id": "1f5e1914",
   "metadata": {},
   "outputs": [
    {
     "name": "stdout",
     "output_type": "stream",
     "text": [
      "CPU times: total: 42min 9s\n",
      "Wall time: 42min 14s\n"
     ]
    }
   ],
   "source": [
    "%%time\n",
    "\n",
    "from sklearn import linear_model\n",
    "from sklearn.svm import l1_min_c\n",
    "\n",
    "cs = l1_min_c(X_train, y_train, loss=\"log\") * np.logspace(0, 7, 16)\n",
    "\n",
    "clf = linear_model.LogisticRegression(\n",
    "    penalty=\"l1\",\n",
    "    solver=\"saga\",\n",
    "    tol=1e-4,\n",
    "    max_iter=int(1e6),\n",
    "    warm_start=True,\n",
    "    intercept_scaling=10000.0,\n",
    "    random_state=0\n",
    ")\n",
    "\n",
    "coefs_ = []\n",
    "for c in cs:\n",
    "    clf.set_params(C=c)\n",
    "    clf.fit(X, y)\n",
    "    coefs_.append(clf.coef_.ravel().copy())\n",
    "\n",
    "coefs_ = np.array(coefs_)"
   ]
  },
  {
   "cell_type": "code",
   "execution_count": 70,
   "id": "092e47dc",
   "metadata": {},
   "outputs": [
    {
     "data": {
      "image/png": "[encoded data removed]",
      "text/plain": [
       "<Figure size 648x432 with 1 Axes>"
      ]
     },
     "metadata": {
      "needs_background": "light"
     },
     "output_type": "display_data"
    }
   ],
   "source": [
    "import matplotlib.pyplot as plt\n",
    "\n",
    "plt.plot(np.log10(cs), coefs_, marker=\"o\")\n",
    "ymin, ymax = plt.ylim()\n",
    "plt.xlabel(\"log(C)\")\n",
    "plt.ylabel(\"Coefficients\")\n",
    "plt.title(\"Logistic Regression Path\")\n",
    "plt.axis(\"tight\")\n",
    "plt.savefig('regularization_path 2.jpg', bbox_inches='tight')\n",
    "plt.show()"
   ]
  },
  {
   "cell_type": "markdown",
   "id": "47dbf2ba",
   "metadata": {},
   "source": [
    "https://scikit-learn.org/stable/modules/generated/sklearn.linear_model.lasso_path.html#sklearn.linear_model.lasso_path\n",
    "\n",
    "https://scikit-learn.org/stable/auto_examples/linear_model/plot_lasso_coordinate_descent_path.html#sphx-glr-auto-examples-linear-model-plot-lasso-coordinate-descent-path-py"
   ]
  },
  {
   "cell_type": "markdown",
   "id": "5d1a0323",
   "metadata": {},
   "source": [
    "# LinearSVC\n",
    "https://www.youtube.com/watch?v=jzKSAeJpC6s\n",
    "\n",
    "Often in Machine Learning and Data Science, you need to perform a sequence of different transformations of the input data (such as finding a set of features or generating new features) before applying a final estimator. Pipeline gives you a single interface for encapsulating transformers and predictors to simplify the process. Since transformers are usually combined with estimators for preprocessing, using pipeline in scikit-learn can be really useful. To be precise, Pipelines sequentially apply a list of transformers and a final estimator. Therefore, the purpose of the pipeline is to assemble several steps that can be cross-validated while setting different parameters.\n",
    "\n",
    "In summary: Piplelines are built up of a list of transformers and a final estimator, allowing us to make predictions based on the raw input data (basically pre-processing).\n",
    "\n",
    "* https://scikit-learn.org/stable/modules/svm.html\n",
    "* https://scikit-learn.org/stable/modules/generated/sklearn.svm.LinearSVC.html#sklearn.svm.LinearSVC\n",
    "* https://towardsdatascience.com/everything-about-svm-classification-above-and-beyond-cc665bfd993e"
   ]
  },
  {
   "cell_type": "markdown",
   "id": "da47a28d",
   "metadata": {},
   "source": [
    "## Benchmark model"
   ]
  },
  {
   "cell_type": "code",
   "execution_count": 45,
   "id": "468614ce",
   "metadata": {
    "ExecuteTime": {
     "end_time": "2022-11-08T15:03:53.474475Z",
     "start_time": "2022-11-08T15:03:53.474475Z"
    }
   },
   "outputs": [
    {
     "name": "stdout",
     "output_type": "stream",
     "text": [
      "CPU times: total: 5.75 s\n",
      "Wall time: 5.76 s\n"
     ]
    },
    {
     "data": {
      "text/html": [
       "<style>#sk-container-id-2 {color: black;background-color: white;}#sk-container-id-2 pre{padding: 0;}#sk-container-id-2 div.sk-toggleable {background-color: white;}#sk-container-id-2 label.sk-toggleable__label {cursor: pointer;display: block;width: 100%;margin-bottom: 0;padding: 0.3em;box-sizing: border-box;text-align: center;}#sk-container-id-2 label.sk-toggleable__label-arrow:before {content: \"▸\";float: left;margin-right: 0.25em;color: #696969;}#sk-container-id-2 label.sk-toggleable__label-arrow:hover:before {color: black;}#sk-container-id-2 div.sk-estimator:hover label.sk-toggleable__label-arrow:before {color: black;}#sk-container-id-2 div.sk-toggleable__content {max-height: 0;max-width: 0;overflow: hidden;text-align: left;background-color: #f0f8ff;}#sk-container-id-2 div.sk-toggleable__content pre {margin: 0.2em;color: black;border-radius: 0.25em;background-color: #f0f8ff;}#sk-container-id-2 input.sk-toggleable__control:checked~div.sk-toggleable__content {max-height: 200px;max-width: 100%;overflow: auto;}#sk-container-id-2 input.sk-toggleable__control:checked~label.sk-toggleable__label-arrow:before {content: \"▾\";}#sk-container-id-2 div.sk-estimator input.sk-toggleable__control:checked~label.sk-toggleable__label {background-color: #d4ebff;}#sk-container-id-2 div.sk-label input.sk-toggleable__control:checked~label.sk-toggleable__label {background-color: #d4ebff;}#sk-container-id-2 input.sk-hidden--visually {border: 0;clip: rect(1px 1px 1px 1px);clip: rect(1px, 1px, 1px, 1px);height: 1px;margin: -1px;overflow: hidden;padding: 0;position: absolute;width: 1px;}#sk-container-id-2 div.sk-estimator {font-family: monospace;background-color: #f0f8ff;border: 1px dotted black;border-radius: 0.25em;box-sizing: border-box;margin-bottom: 0.5em;}#sk-container-id-2 div.sk-estimator:hover {background-color: #d4ebff;}#sk-container-id-2 div.sk-parallel-item::after {content: \"\";width: 100%;border-bottom: 1px solid gray;flex-grow: 1;}#sk-container-id-2 div.sk-label:hover label.sk-toggleable__label {background-color: #d4ebff;}#sk-container-id-2 div.sk-serial::before {content: \"\";position: absolute;border-left: 1px solid gray;box-sizing: border-box;top: 0;bottom: 0;left: 50%;z-index: 0;}#sk-container-id-2 div.sk-serial {display: flex;flex-direction: column;align-items: center;background-color: white;padding-right: 0.2em;padding-left: 0.2em;position: relative;}#sk-container-id-2 div.sk-item {position: relative;z-index: 1;}#sk-container-id-2 div.sk-parallel {display: flex;align-items: stretch;justify-content: center;background-color: white;position: relative;}#sk-container-id-2 div.sk-item::before, #sk-container-id-2 div.sk-parallel-item::before {content: \"\";position: absolute;border-left: 1px solid gray;box-sizing: border-box;top: 0;bottom: 0;left: 50%;z-index: -1;}#sk-container-id-2 div.sk-parallel-item {display: flex;flex-direction: column;z-index: 1;position: relative;background-color: white;}#sk-container-id-2 div.sk-parallel-item:first-child::after {align-self: flex-end;width: 50%;}#sk-container-id-2 div.sk-parallel-item:last-child::after {align-self: flex-start;width: 50%;}#sk-container-id-2 div.sk-parallel-item:only-child::after {width: 0;}#sk-container-id-2 div.sk-dashed-wrapped {border: 1px dashed gray;margin: 0 0.4em 0.5em 0.4em;box-sizing: border-box;padding-bottom: 0.4em;background-color: white;}#sk-container-id-2 div.sk-label label {font-family: monospace;font-weight: bold;display: inline-block;line-height: 1.2em;}#sk-container-id-2 div.sk-label-container {text-align: center;}#sk-container-id-2 div.sk-container {/* jupyter's `normalize.less` sets `[hidden] { display: none; }` but bootstrap.min.css set `[hidden] { display: none !important; }` so we also need the `!important` here to be able to override the default hidden behavior on the sphinx rendered scikit-learn.org. See: https://github.com/scikit-learn/scikit-learn/issues/21755 */display: inline-block !important;position: relative;}#sk-container-id-2 div.sk-text-repr-fallback {display: none;}</style><div id=\"sk-container-id-2\" class=\"sk-top-container\"><div class=\"sk-text-repr-fallback\"><pre>Pipeline(steps=[(&#x27;standardscaler&#x27;, StandardScaler()),\n",
       "                (&#x27;linearsvc&#x27;,\n",
       "                 LinearSVC(dual=False, penalty=&#x27;l1&#x27;, random_state=0))])</pre><b>In a Jupyter environment, please rerun this cell to show the HTML representation or trust the notebook. <br />On GitHub, the HTML representation is unable to render, please try loading this page with nbviewer.org.</b></div><div class=\"sk-container\" hidden><div class=\"sk-item sk-dashed-wrapped\"><div class=\"sk-label-container\"><div class=\"sk-label sk-toggleable\"><input class=\"sk-toggleable__control sk-hidden--visually\" id=\"sk-estimator-id-2\" type=\"checkbox\" ><label for=\"sk-estimator-id-2\" class=\"sk-toggleable__label sk-toggleable__label-arrow\">Pipeline</label><div class=\"sk-toggleable__content\"><pre>Pipeline(steps=[(&#x27;standardscaler&#x27;, StandardScaler()),\n",
       "                (&#x27;linearsvc&#x27;,\n",
       "                 LinearSVC(dual=False, penalty=&#x27;l1&#x27;, random_state=0))])</pre></div></div></div><div class=\"sk-serial\"><div class=\"sk-item\"><div class=\"sk-estimator sk-toggleable\"><input class=\"sk-toggleable__control sk-hidden--visually\" id=\"sk-estimator-id-3\" type=\"checkbox\" ><label for=\"sk-estimator-id-3\" class=\"sk-toggleable__label sk-toggleable__label-arrow\">StandardScaler</label><div class=\"sk-toggleable__content\"><pre>StandardScaler()</pre></div></div></div><div class=\"sk-item\"><div class=\"sk-estimator sk-toggleable\"><input class=\"sk-toggleable__control sk-hidden--visually\" id=\"sk-estimator-id-4\" type=\"checkbox\" ><label for=\"sk-estimator-id-4\" class=\"sk-toggleable__label sk-toggleable__label-arrow\">LinearSVC</label><div class=\"sk-toggleable__content\"><pre>LinearSVC(dual=False, penalty=&#x27;l1&#x27;, random_state=0)</pre></div></div></div></div></div></div></div>"
      ],
      "text/plain": [
       "Pipeline(steps=[('standardscaler', StandardScaler()),\n",
       "                ('linearsvc',\n",
       "                 LinearSVC(dual=False, penalty='l1', random_state=0))])"
      ]
     },
     "execution_count": 45,
     "metadata": {},
     "output_type": "execute_result"
    }
   ],
   "source": [
    "%%time\n",
    "\n",
    "from sklearn.svm import LinearSVC\n",
    "from sklearn.pipeline import make_pipeline\n",
    "from sklearn.preprocessing import StandardScaler\n",
    "\n",
    "svc = make_pipeline(StandardScaler(),\n",
    "                    LinearSVC(penalty='l1', dual=False, random_state=0))\n",
    "\n",
    "svc.fit(X_train, y_train)"
   ]
  },
  {
   "cell_type": "code",
   "execution_count": 46,
   "id": "296e2253",
   "metadata": {
    "ExecuteTime": {
     "end_time": "2022-11-08T15:03:53.480418Z",
     "start_time": "2022-11-08T15:03:53.480418Z"
    }
   },
   "outputs": [
    {
     "name": "stdout",
     "output_type": "stream",
     "text": [
      "[[ 0.0062206  -0.01441258  0.01631655  0.17305426 -0.02016489  0.03562661\n",
      "  -0.00659419  0.34545787  0.08378971  0.0148933   0.04020687  0.02022684\n",
      "   0.01109387  0.00246272 -0.03585091 -0.00305641  0.04938131  0.10287676\n",
      "   0.04161665 -0.01357516  0.01068997  0.00681525  0.03161003  0.02826899\n",
      "   0.06038328  0.08752122]]\n",
      "[-1.20242551]\n",
      "[0 0 0 ... 0 0 0]\n"
     ]
    }
   ],
   "source": [
    "print(svc.named_steps['linearsvc'].coef_)\n",
    "print(svc.named_steps['linearsvc'].intercept_)\n",
    "print(svc.predict(X_test))"
   ]
  },
  {
   "cell_type": "code",
   "execution_count": 47,
   "id": "2c8e247f",
   "metadata": {
    "ExecuteTime": {
     "end_time": "2022-11-08T15:03:53.484510Z",
     "start_time": "2022-11-08T15:03:53.484510Z"
    }
   },
   "outputs": [
    {
     "name": "stdout",
     "output_type": "stream",
     "text": [
      "f1 score test dataset :  \t 0.747254624015849\n"
     ]
    }
   ],
   "source": [
    "#predict labels on test dataset\n",
    "y_pred_test = svc.predict(X_test)\n",
    "\n",
    "#f1 score\n",
    "print(\"f1 score test dataset :  \\t\", f1_score(y_test,y_pred_test))"
   ]
  },
  {
   "cell_type": "markdown",
   "id": "a452cbdd",
   "metadata": {},
   "source": [
    "## Hyperparameter tuning\n",
    "Hyperparameter tuning penalty term.\n",
    "If l1, loss must be the default squared_hinge, but if l2, can hypertune for hinge vs squared_hinge."
   ]
  },
  {
   "cell_type": "code",
   "execution_count": 48,
   "id": "5003002f",
   "metadata": {
    "ExecuteTime": {
     "end_time": "2022-11-08T15:03:53.490752Z",
     "start_time": "2022-11-08T15:03:53.490752Z"
    }
   },
   "outputs": [
    {
     "name": "stdout",
     "output_type": "stream",
     "text": [
      "Fitting 5 folds for each of 2 candidates, totalling 10 fits\n",
      "[CV] END .........................................penalty=l1; total time=   4.3s\n",
      "[CV] END .........................................penalty=l1; total time=   4.3s\n",
      "[CV] END .........................................penalty=l1; total time=   4.3s\n",
      "[CV] END .........................................penalty=l1; total time=   4.4s\n",
      "[CV] END .........................................penalty=l1; total time=   4.3s\n",
      "[CV] END .........................................penalty=l2; total time=   2.1s\n",
      "[CV] END .........................................penalty=l2; total time=   2.4s\n",
      "[CV] END .........................................penalty=l2; total time=   2.3s\n",
      "[CV] END .........................................penalty=l2; total time=   2.1s\n",
      "[CV] END .........................................penalty=l2; total time=   2.3s\n"
     ]
    }
   ],
   "source": [
    "# create model\n",
    "# svc2 = make_pipeline(StandardScaler(),\n",
    "#                      LinearSVC(dual=False, random_state=0))\n",
    "\n",
    "svc2 = LinearSVC(dual=False, random_state=0)\n",
    "\n",
    "\n",
    "# hyperparameters\n",
    "distributions = dict(penalty = ['l1','l2'])\n",
    "\n",
    "# prepare crossvalidation\n",
    "kfold = StratifiedKFold(n_splits=5, random_state=1, shuffle=True)\n",
    "\n",
    "# create the random search\n",
    "svc2_search = RandomizedSearchCV(svc2,\n",
    "                                   distributions,\n",
    "                                   random_state=0,\n",
    "                                   cv = kfold,\n",
    "                                   scoring=\"f1\",\n",
    "                                   verbose=2)\n",
    "\n",
    "#fit the model\n",
    "search2 = svc2_search.fit(X_train, y_train)"
   ]
  },
  {
   "cell_type": "code",
   "execution_count": 49,
   "id": "207071d2",
   "metadata": {
    "ExecuteTime": {
     "end_time": "2022-11-08T15:03:53.493744Z",
     "start_time": "2022-11-08T15:03:53.493744Z"
    }
   },
   "outputs": [
    {
     "name": "stdout",
     "output_type": "stream",
     "text": [
      "Best F1 score:  0.7428943241296023\n",
      "Best hyperparameters:  {'penalty': 'l1'}\n"
     ]
    }
   ],
   "source": [
    "# obtain best hyperparameter\n",
    "print(\"Best F1 score: \", search2.best_score_)\n",
    "print(\"Best hyperparameters: \", search2.best_params_)\n",
    "# print(search.best_estimator_)"
   ]
  },
  {
   "cell_type": "markdown",
   "id": "7ee87222",
   "metadata": {},
   "source": [
    "Hyperparameter tuning with pipeline"
   ]
  },
  {
   "cell_type": "code",
   "execution_count": 50,
   "id": "924d478d",
   "metadata": {
    "ExecuteTime": {
     "end_time": "2022-11-08T15:03:53.498364Z",
     "start_time": "2022-11-08T15:03:53.498364Z"
    }
   },
   "outputs": [
    {
     "name": "stdout",
     "output_type": "stream",
     "text": [
      "Fitting 5 folds for each of 2 candidates, totalling 10 fits\n",
      "[CV] END ....................................svc__penalty=l1; total time=   4.6s\n",
      "[CV] END ....................................svc__penalty=l1; total time=   4.7s\n",
      "[CV] END ....................................svc__penalty=l1; total time=   4.7s\n",
      "[CV] END ....................................svc__penalty=l1; total time=   4.6s\n",
      "[CV] END ....................................svc__penalty=l1; total time=   4.6s\n",
      "[CV] END ....................................svc__penalty=l2; total time=   2.7s\n",
      "[CV] END ....................................svc__penalty=l2; total time=   2.6s\n",
      "[CV] END ....................................svc__penalty=l2; total time=   2.4s\n",
      "[CV] END ....................................svc__penalty=l2; total time=   2.4s\n",
      "[CV] END ....................................svc__penalty=l2; total time=   2.7s\n"
     ]
    }
   ],
   "source": [
    "from sklearn.pipeline import Pipeline\n",
    "from sklearn.model_selection import GridSearchCV\n",
    "\n",
    "# create model\n",
    "svc3 = Pipeline([('scale', StandardScaler()),\n",
    "                 ('svc', LinearSVC(dual=False, random_state=0))])\n",
    "\n",
    "# hyperparameters\n",
    "param_grid = {'svc__penalty': ['l1','l2']}\n",
    "# param_grid = {'svc__loss': ['square_hinge', 'hinge']}\n",
    "\n",
    "# prepare crossvalidation\n",
    "kfold = StratifiedKFold(n_splits=5, random_state=1, shuffle=True)\n",
    "\n",
    "# create the random search\n",
    "svc3_search = GridSearchCV(svc3,\n",
    "                           param_grid,\n",
    "                           cv = kfold,\n",
    "                           scoring=\"f1\",\n",
    "                           verbose=2)\n",
    "\n",
    "#fit the model\n",
    "search3 = svc3_search.fit(X_train, y_train)"
   ]
  },
  {
   "cell_type": "code",
   "execution_count": 51,
   "id": "dd68345f",
   "metadata": {
    "ExecuteTime": {
     "end_time": "2022-11-08T15:03:53.502093Z",
     "start_time": "2022-11-08T15:03:53.501460Z"
    }
   },
   "outputs": [
    {
     "name": "stdout",
     "output_type": "stream",
     "text": [
      "Best F1 score:  0.7428943241296023\n",
      "Best hyperparameters:  {'svc__penalty': 'l1'}\n"
     ]
    }
   ],
   "source": [
    "# obtain best hyperparameter\n",
    "print(\"Best F1 score: \", search3.best_score_)\n",
    "print(\"Best hyperparameters: \", search3.best_params_)\n",
    "# print(search.best_estimator_)"
   ]
  },
  {
   "cell_type": "markdown",
   "id": "d5b31415",
   "metadata": {},
   "source": [
    "## Best model"
   ]
  },
  {
   "cell_type": "code",
   "execution_count": 52,
   "id": "9cbe44f6",
   "metadata": {
    "ExecuteTime": {
     "end_time": "2022-11-08T15:03:53.508566Z",
     "start_time": "2022-11-08T15:03:53.508566Z"
    }
   },
   "outputs": [
    {
     "data": {
      "text/html": [
       "<style>#sk-container-id-3 {color: black;background-color: white;}#sk-container-id-3 pre{padding: 0;}#sk-container-id-3 div.sk-toggleable {background-color: white;}#sk-container-id-3 label.sk-toggleable__label {cursor: pointer;display: block;width: 100%;margin-bottom: 0;padding: 0.3em;box-sizing: border-box;text-align: center;}#sk-container-id-3 label.sk-toggleable__label-arrow:before {content: \"▸\";float: left;margin-right: 0.25em;color: #696969;}#sk-container-id-3 label.sk-toggleable__label-arrow:hover:before {color: black;}#sk-container-id-3 div.sk-estimator:hover label.sk-toggleable__label-arrow:before {color: black;}#sk-container-id-3 div.sk-toggleable__content {max-height: 0;max-width: 0;overflow: hidden;text-align: left;background-color: #f0f8ff;}#sk-container-id-3 div.sk-toggleable__content pre {margin: 0.2em;color: black;border-radius: 0.25em;background-color: #f0f8ff;}#sk-container-id-3 input.sk-toggleable__control:checked~div.sk-toggleable__content {max-height: 200px;max-width: 100%;overflow: auto;}#sk-container-id-3 input.sk-toggleable__control:checked~label.sk-toggleable__label-arrow:before {content: \"▾\";}#sk-container-id-3 div.sk-estimator input.sk-toggleable__control:checked~label.sk-toggleable__label {background-color: #d4ebff;}#sk-container-id-3 div.sk-label input.sk-toggleable__control:checked~label.sk-toggleable__label {background-color: #d4ebff;}#sk-container-id-3 input.sk-hidden--visually {border: 0;clip: rect(1px 1px 1px 1px);clip: rect(1px, 1px, 1px, 1px);height: 1px;margin: -1px;overflow: hidden;padding: 0;position: absolute;width: 1px;}#sk-container-id-3 div.sk-estimator {font-family: monospace;background-color: #f0f8ff;border: 1px dotted black;border-radius: 0.25em;box-sizing: border-box;margin-bottom: 0.5em;}#sk-container-id-3 div.sk-estimator:hover {background-color: #d4ebff;}#sk-container-id-3 div.sk-parallel-item::after {content: \"\";width: 100%;border-bottom: 1px solid gray;flex-grow: 1;}#sk-container-id-3 div.sk-label:hover label.sk-toggleable__label {background-color: #d4ebff;}#sk-container-id-3 div.sk-serial::before {content: \"\";position: absolute;border-left: 1px solid gray;box-sizing: border-box;top: 0;bottom: 0;left: 50%;z-index: 0;}#sk-container-id-3 div.sk-serial {display: flex;flex-direction: column;align-items: center;background-color: white;padding-right: 0.2em;padding-left: 0.2em;position: relative;}#sk-container-id-3 div.sk-item {position: relative;z-index: 1;}#sk-container-id-3 div.sk-parallel {display: flex;align-items: stretch;justify-content: center;background-color: white;position: relative;}#sk-container-id-3 div.sk-item::before, #sk-container-id-3 div.sk-parallel-item::before {content: \"\";position: absolute;border-left: 1px solid gray;box-sizing: border-box;top: 0;bottom: 0;left: 50%;z-index: -1;}#sk-container-id-3 div.sk-parallel-item {display: flex;flex-direction: column;z-index: 1;position: relative;background-color: white;}#sk-container-id-3 div.sk-parallel-item:first-child::after {align-self: flex-end;width: 50%;}#sk-container-id-3 div.sk-parallel-item:last-child::after {align-self: flex-start;width: 50%;}#sk-container-id-3 div.sk-parallel-item:only-child::after {width: 0;}#sk-container-id-3 div.sk-dashed-wrapped {border: 1px dashed gray;margin: 0 0.4em 0.5em 0.4em;box-sizing: border-box;padding-bottom: 0.4em;background-color: white;}#sk-container-id-3 div.sk-label label {font-family: monospace;font-weight: bold;display: inline-block;line-height: 1.2em;}#sk-container-id-3 div.sk-label-container {text-align: center;}#sk-container-id-3 div.sk-container {/* jupyter's `normalize.less` sets `[hidden] { display: none; }` but bootstrap.min.css set `[hidden] { display: none !important; }` so we also need the `!important` here to be able to override the default hidden behavior on the sphinx rendered scikit-learn.org. See: https://github.com/scikit-learn/scikit-learn/issues/21755 */display: inline-block !important;position: relative;}#sk-container-id-3 div.sk-text-repr-fallback {display: none;}</style><div id=\"sk-container-id-3\" class=\"sk-top-container\"><div class=\"sk-text-repr-fallback\"><pre>Pipeline(steps=[(&#x27;scale&#x27;, StandardScaler()),\n",
       "                (&#x27;svc&#x27;, LinearSVC(dual=False, penalty=&#x27;l1&#x27;, random_state=0))])</pre><b>In a Jupyter environment, please rerun this cell to show the HTML representation or trust the notebook. <br />On GitHub, the HTML representation is unable to render, please try loading this page with nbviewer.org.</b></div><div class=\"sk-container\" hidden><div class=\"sk-item sk-dashed-wrapped\"><div class=\"sk-label-container\"><div class=\"sk-label sk-toggleable\"><input class=\"sk-toggleable__control sk-hidden--visually\" id=\"sk-estimator-id-5\" type=\"checkbox\" ><label for=\"sk-estimator-id-5\" class=\"sk-toggleable__label sk-toggleable__label-arrow\">Pipeline</label><div class=\"sk-toggleable__content\"><pre>Pipeline(steps=[(&#x27;scale&#x27;, StandardScaler()),\n",
       "                (&#x27;svc&#x27;, LinearSVC(dual=False, penalty=&#x27;l1&#x27;, random_state=0))])</pre></div></div></div><div class=\"sk-serial\"><div class=\"sk-item\"><div class=\"sk-estimator sk-toggleable\"><input class=\"sk-toggleable__control sk-hidden--visually\" id=\"sk-estimator-id-6\" type=\"checkbox\" ><label for=\"sk-estimator-id-6\" class=\"sk-toggleable__label sk-toggleable__label-arrow\">StandardScaler</label><div class=\"sk-toggleable__content\"><pre>StandardScaler()</pre></div></div></div><div class=\"sk-item\"><div class=\"sk-estimator sk-toggleable\"><input class=\"sk-toggleable__control sk-hidden--visually\" id=\"sk-estimator-id-7\" type=\"checkbox\" ><label for=\"sk-estimator-id-7\" class=\"sk-toggleable__label sk-toggleable__label-arrow\">LinearSVC</label><div class=\"sk-toggleable__content\"><pre>LinearSVC(dual=False, penalty=&#x27;l1&#x27;, random_state=0)</pre></div></div></div></div></div></div></div>"
      ],
      "text/plain": [
       "Pipeline(steps=[('scale', StandardScaler()),\n",
       "                ('svc', LinearSVC(dual=False, penalty='l1', random_state=0))])"
      ]
     },
     "execution_count": 52,
     "metadata": {},
     "output_type": "execute_result"
    }
   ],
   "source": [
    "svc4 = Pipeline([('scale', StandardScaler()),\n",
    "                 ('svc', LinearSVC(penalty='l1', dual=False, random_state=0))])\n",
    "\n",
    "svc4.fit(X_train, y_train)"
   ]
  },
  {
   "cell_type": "code",
   "execution_count": 53,
   "id": "d63702cd",
   "metadata": {
    "ExecuteTime": {
     "end_time": "2022-11-08T15:03:53.516854Z",
     "start_time": "2022-11-08T15:03:53.516854Z"
    }
   },
   "outputs": [
    {
     "name": "stdout",
     "output_type": "stream",
     "text": [
      "[[ 0.0062206  -0.01441258  0.01631655  0.17305426 -0.02016489  0.03562661\n",
      "  -0.00659419  0.34545787  0.08378971  0.0148933   0.04020687  0.02022684\n",
      "   0.01109387  0.00246272 -0.03585091 -0.00305641  0.04938131  0.10287676\n",
      "   0.04161665 -0.01357516  0.01068997  0.00681525  0.03161003  0.02826899\n",
      "   0.06038328  0.08752122]]\n",
      "[-1.20242551]\n",
      "[0 0 0 ... 0 0 0]\n"
     ]
    }
   ],
   "source": [
    "print(svc4.named_steps['svc'].coef_) #need to use .named_steps[''] to access model in pipeline\n",
    "print(svc4.named_steps['svc'].intercept_)\n",
    "print(svc4.named_steps['svc'].predict(X_test))"
   ]
  },
  {
   "cell_type": "code",
   "execution_count": 54,
   "id": "7156dc17",
   "metadata": {
    "ExecuteTime": {
     "end_time": "2022-11-08T15:03:53.522243Z",
     "start_time": "2022-11-08T15:03:53.522243Z"
    }
   },
   "outputs": [
    {
     "name": "stdout",
     "output_type": "stream",
     "text": [
      "f1 score test dataset :  \t 0.747254624015849\n"
     ]
    }
   ],
   "source": [
    "#predict labels on test dataset\n",
    "y_pred_test = svc4.named_steps['svc'].predict(X_test)\n",
    "\n",
    "#f1 score\n",
    "print(\"f1 score test dataset :  \\t\", f1_score(y_test,y_pred_test))"
   ]
  },
  {
   "cell_type": "markdown",
   "id": "1f913af7",
   "metadata": {},
   "source": [
    "## Feature importance\n",
    "https://aneesha.medium.com/visualising-top-features-in-linear-svm-with-scikit-learn-and-matplotlib-3454ab18a14d"
   ]
  },
  {
   "cell_type": "code",
   "execution_count": 65,
   "id": "73917c3a",
   "metadata": {
    "ExecuteTime": {
     "end_time": "2022-11-08T15:03:53.527424Z",
     "start_time": "2022-11-08T15:03:53.527424Z"
    }
   },
   "outputs": [
    {
     "data": {
      "image/png": "[encoded data removed]",
      "text/plain": [
       "<Figure size 1080x360 with 1 Axes>"
      ]
     },
     "metadata": {
      "needs_background": "light"
     },
     "output_type": "display_data"
    }
   ],
   "source": [
    "from sklearn.feature_extraction.text import CountVectorizer\n",
    "from sklearn.svm import LinearSVC\n",
    "import matplotlib.pyplot as plt\n",
    "\n",
    "def plot_coefficients(classifier, feature_names, top_features=20):\n",
    "    coef = classifier.coef_.ravel()\n",
    "    top_positive_coefficients = np.argsort(coef)[-top_features:]\n",
    "    top_negative_coefficients = np.argsort(coef)[:top_features]\n",
    "    top_coefficients = np.hstack([top_negative_coefficients, top_positive_coefficients])\n",
    "    \n",
    "    # create plot\n",
    "    plt.figure(figsize=(15, 5))\n",
    "    colors = ['red' if c < 0 else 'blue' for c in coef[top_coefficients]]\n",
    "    plt.bar(np.arange(2 * top_features), coef[top_coefficients], color=colors)\n",
    "    feature_names = np.array(feature_names)\n",
    "    plt.xticks(np.arange(1, 1 + 2 * top_features), feature_names[top_coefficients], rotation=60, ha='right')\n",
    "    plt.ylabel('Feature coefficient')\n",
    "    plt.xlabel('Feature name')\n",
    "    plt.title('Feature Importance for LinearSVC')\n",
    "    plt.savefig('Feature Importance for Linear SVC.jpg', bbox_inches='tight')\n",
    "    plt.show()\n",
    "    \n",
    "plot_coefficients(svc4.named_steps['svc'], features)"
   ]
  },
  {
   "cell_type": "code",
   "execution_count": null,
   "id": "d2586ff4",
   "metadata": {},
   "outputs": [],
   "source": []
  }
 ],
 "metadata": {
  "kernelspec": {
   "display_name": "qbus4934",
   "language": "python",
   "name": "qbus4934"
  },
  "language_info": {
   "codemirror_mode": {
    "name": "ipython",
    "version": 3
   },
   "file_extension": ".py",
   "mimetype": "text/x-python",
   "name": "python",
   "nbconvert_exporter": "python",
   "pygments_lexer": "ipython3",
   "version": "3.10.4"
  },
  "toc": {
   "base_numbering": 1,
   "nav_menu": {},
   "number_sections": true,
   "sideBar": true,
   "skip_h1_title": false,
   "title_cell": "Table of Contents",
   "title_sidebar": "Contents",
   "toc_cell": false,
   "toc_position": {},
   "toc_section_display": true,
   "toc_window_display": false
  },
  "varInspector": {
   "cols": {
    "lenName": 16,
    "lenType": 16,
    "lenVar": 40
   },
   "kernels_config": {
    "python": {
     "delete_cmd_postfix": "",
     "delete_cmd_prefix": "del ",
     "library": "var_list.py",
     "varRefreshCmd": "print(var_dic_list())"
    },
    "r": {
     "delete_cmd_postfix": ") ",
     "delete_cmd_prefix": "rm(",
     "library": "var_list.r",
     "varRefreshCmd": "cat(var_dic_list()) "
    }
   },
   "types_to_exclude": [
    "module",
    "function",
    "builtin_function_or_method",
    "instance",
    "_Feature"
   ],
   "window_display": false
  }
 },
 "nbformat": 4,
 "nbformat_minor": 5
}
