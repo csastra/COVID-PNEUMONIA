{
 "cells": [
  {
   "cell_type": "markdown",
   "id": "df211469",
   "metadata": {},
   "source": [
    "# Pre-processing"
   ]
  },
  {
   "cell_type": "markdown",
   "id": "d464364f",
   "metadata": {},
   "source": [
    "## Import dependencies"
   ]
  },
  {
   "cell_type": "code",
   "execution_count": 1,
   "id": "fea0eee4",
   "metadata": {
    "ExecuteTime": {
     "end_time": "2022-11-10T07:51:46.291687Z",
     "start_time": "2022-11-10T07:51:45.038937Z"
    }
   },
   "outputs": [
    {
     "name": "stdout",
     "output_type": "stream",
     "text": [
      "Package versions: \n",
      "\n",
      "numpy 1.23.1\n",
      "scipy 1.9.3\n",
      "pandas 1.5.1\n",
      "seaborn 0.12.1\n",
      "scikit-learn 1.1.3\n"
     ]
    }
   ],
   "source": [
    "import numpy as np\n",
    "import scipy\n",
    "import pandas as pd\n",
    "import matplotlib.pyplot as plt\n",
    "import seaborn as sns\n",
    "import sklearn\n",
    "\n",
    "print(f'Package versions: \\n')\n",
    "\n",
    "print(f'numpy {np.__version__}')\n",
    "print(f'scipy {scipy.__version__}')\n",
    "print(f'pandas {pd.__version__}')\n",
    "print(f'seaborn {sns.__version__}')\n",
    "print(f'scikit-learn {sklearn.__version__}')\n",
    "\n",
    "# Notebook tested on: \n",
    "# numpy 1.22.2\n",
    "# scipy 1.7.1\n",
    "# pandas 1.3.4\n",
    "# seaborn 0.11.2\n",
    "# scikit-learn 0.24.2"
   ]
  },
  {
   "cell_type": "code",
   "execution_count": 2,
   "id": "0143a4c8",
   "metadata": {
    "ExecuteTime": {
     "end_time": "2022-11-10T07:51:46.323603Z",
     "start_time": "2022-11-10T07:51:46.293676Z"
    }
   },
   "outputs": [],
   "source": [
    "# This is to clear the warnings from the notebook, usually we should leave this on\n",
    "import warnings\n",
    "warnings.filterwarnings('ignore') \n",
    "\n",
    "# Plot settings\n",
    "sns.set_context('notebook') # optimises figures for notebook display\n",
    "sns.set_style('ticks') # set default plot style\n",
    "colours = ['#4E79A7','#F28E2C','#E15759','#76B7B2','#59A14F', \n",
    "          '#EDC949','#AF7AA1','#FF9DA7','#9C755F','#BAB0AB']\n",
    "sns.set_palette(colours) # set custom color scheme\n",
    "%matplotlib inline\n",
    "plt.rcParams['figure.figsize'] = (9, 6)"
   ]
  },
  {
   "cell_type": "code",
   "execution_count": 3,
   "id": "14d4661a",
   "metadata": {
    "ExecuteTime": {
     "end_time": "2022-11-10T07:51:46.339556Z",
     "start_time": "2022-11-10T07:51:46.325594Z"
    }
   },
   "outputs": [],
   "source": [
    "# Make noise after finish executing cell\n",
    "\n",
    "#method 1\n",
    "from IPython.lib.display import Audio\n",
    "import numpy as np\n",
    "\n",
    "framerate = 4410\n",
    "play_time_seconds = 1\n",
    "\n",
    "t = np.linspace(0, play_time_seconds, framerate*play_time_seconds)\n",
    "audio_data = np.sin(2*np.pi*300*t) + np.sin(2*np.pi*240*t)\n",
    "\n",
    "# Audio(audio_data, rate=framerate, autoplay=True)\n",
    "\n",
    "#method 2\n",
    "import winsound\n",
    "# winsound.MessageBeep()"
   ]
  },
  {
   "cell_type": "markdown",
   "id": "52cf5de1",
   "metadata": {},
   "source": [
    "## Import data"
   ]
  },
  {
   "cell_type": "code",
   "execution_count": 4,
   "id": "61fbfe80",
   "metadata": {
    "ExecuteTime": {
     "end_time": "2022-11-10T07:51:49.070924Z",
     "start_time": "2022-11-10T07:51:46.342524Z"
    }
   },
   "outputs": [],
   "source": [
    "df1 = pd.read_parquet(r'COVID_Cases_Restricted_Details_03312021_Part_1_parquetnew.parquet')\n",
    "df2 = pd.read_parquet(r'COVID_Cases_Restricted_Details_03312021_Part_2_parquetnew.parquet')\n",
    "df3 = pd.read_parquet(r'COVID_Cases_Restricted_Details_03312021_Part_3_parquetnew.parquet')"
   ]
  },
  {
   "cell_type": "code",
   "execution_count": 5,
   "id": "7febccef",
   "metadata": {
    "ExecuteTime": {
     "end_time": "2022-11-10T07:51:50.132148Z",
     "start_time": "2022-11-10T07:51:49.071921Z"
    }
   },
   "outputs": [],
   "source": [
    "frames = [df1, df2, df3]\n",
    "df = pd.concat(frames)"
   ]
  },
  {
   "cell_type": "markdown",
   "id": "7e4d73b5",
   "metadata": {},
   "source": [
    "## Save df as parqueet"
   ]
  },
  {
   "cell_type": "code",
   "execution_count": 6,
   "id": "8617a866",
   "metadata": {
    "ExecuteTime": {
     "end_time": "2022-11-10T07:52:04.446018Z",
     "start_time": "2022-11-10T07:51:50.133271Z"
    }
   },
   "outputs": [],
   "source": [
    "df.to_parquet('df_concat.parquet')"
   ]
  },
  {
   "cell_type": "code",
   "execution_count": 7,
   "id": "bec9f97f",
   "metadata": {
    "ExecuteTime": {
     "end_time": "2022-11-10T07:52:04.477831Z",
     "start_time": "2022-11-10T07:52:04.446914Z"
    }
   },
   "outputs": [
    {
     "data": {
      "text/html": [
       "<div>\n",
       "<style scoped>\n",
       "    .dataframe tbody tr th:only-of-type {\n",
       "        vertical-align: middle;\n",
       "    }\n",
       "\n",
       "    .dataframe tbody tr th {\n",
       "        vertical-align: top;\n",
       "    }\n",
       "\n",
       "    .dataframe thead th {\n",
       "        text-align: right;\n",
       "    }\n",
       "</style>\n",
       "<table border=\"1\" class=\"dataframe\">\n",
       "  <thead>\n",
       "    <tr style=\"text-align: right;\">\n",
       "      <th>index</th>\n",
       "      <th>4</th>\n",
       "      <th>8</th>\n",
       "      <th>13</th>\n",
       "      <th>14</th>\n",
       "      <th>16</th>\n",
       "    </tr>\n",
       "  </thead>\n",
       "  <tbody>\n",
       "    <tr>\n",
       "      <th>race_ethnicity_combined</th>\n",
       "      <td>NA</td>\n",
       "      <td>Black, Non-Hispanic</td>\n",
       "      <td>NA</td>\n",
       "      <td>NA</td>\n",
       "      <td>NA</td>\n",
       "    </tr>\n",
       "    <tr>\n",
       "      <th>current_status</th>\n",
       "      <td>Laboratory-confirmed case</td>\n",
       "      <td>Laboratory-confirmed case</td>\n",
       "      <td>Laboratory-confirmed case</td>\n",
       "      <td>Probable Case</td>\n",
       "      <td>Laboratory-confirmed case</td>\n",
       "    </tr>\n",
       "    <tr>\n",
       "      <th>cdc_case_earliest_dt</th>\n",
       "      <td>2020-07-07 00:00:00</td>\n",
       "      <td>2020-07-02 00:00:00</td>\n",
       "      <td>2020-10-30 00:00:00</td>\n",
       "      <td>2020-10-30 00:00:00</td>\n",
       "      <td>2020-05-29 00:00:00</td>\n",
       "    </tr>\n",
       "    <tr>\n",
       "      <th>cdc_report_dt</th>\n",
       "      <td>2020-07-13 00:00:00</td>\n",
       "      <td>2020-07-04 00:00:00</td>\n",
       "      <td>2020-10-30 00:00:00</td>\n",
       "      <td>2021-02-03 00:00:00</td>\n",
       "      <td>2020-05-29 00:00:00</td>\n",
       "    </tr>\n",
       "    <tr>\n",
       "      <th>sex</th>\n",
       "      <td>Male</td>\n",
       "      <td>Male</td>\n",
       "      <td>Male</td>\n",
       "      <td>Male</td>\n",
       "      <td>Male</td>\n",
       "    </tr>\n",
       "    <tr>\n",
       "      <th>onset_dt</th>\n",
       "      <td>2020-07-07 00:00:00</td>\n",
       "      <td>2020-07-02 00:00:00</td>\n",
       "      <td>NaT</td>\n",
       "      <td>NaT</td>\n",
       "      <td>NaT</td>\n",
       "    </tr>\n",
       "    <tr>\n",
       "      <th>pos_spec_dt</th>\n",
       "      <td>None</td>\n",
       "      <td>None</td>\n",
       "      <td>2020-10-30</td>\n",
       "      <td>2020-10-30</td>\n",
       "      <td>2020-05-29</td>\n",
       "    </tr>\n",
       "    <tr>\n",
       "      <th>hosp_yn</th>\n",
       "      <td>No</td>\n",
       "      <td>No</td>\n",
       "      <td>No</td>\n",
       "      <td>No</td>\n",
       "      <td>No</td>\n",
       "    </tr>\n",
       "    <tr>\n",
       "      <th>icu_yn</th>\n",
       "      <td>Unknown</td>\n",
       "      <td>No</td>\n",
       "      <td>Missing</td>\n",
       "      <td>Missing</td>\n",
       "      <td>Missing</td>\n",
       "    </tr>\n",
       "    <tr>\n",
       "      <th>death_yn</th>\n",
       "      <td>Unknown</td>\n",
       "      <td>Unknown</td>\n",
       "      <td>Missing</td>\n",
       "      <td>No</td>\n",
       "      <td>Missing</td>\n",
       "    </tr>\n",
       "    <tr>\n",
       "      <th>hc_work_yn</th>\n",
       "      <td>NA</td>\n",
       "      <td>Missing</td>\n",
       "      <td>NA</td>\n",
       "      <td>NA</td>\n",
       "      <td>NA</td>\n",
       "    </tr>\n",
       "    <tr>\n",
       "      <th>pna_yn</th>\n",
       "      <td>No</td>\n",
       "      <td>No</td>\n",
       "      <td>No</td>\n",
       "      <td>No</td>\n",
       "      <td>No</td>\n",
       "    </tr>\n",
       "    <tr>\n",
       "      <th>abxchest_yn</th>\n",
       "      <td>No</td>\n",
       "      <td>Unknown</td>\n",
       "      <td>No</td>\n",
       "      <td>No</td>\n",
       "      <td>No</td>\n",
       "    </tr>\n",
       "    <tr>\n",
       "      <th>acuterespdistress_yn</th>\n",
       "      <td>Missing</td>\n",
       "      <td>Missing</td>\n",
       "      <td>No</td>\n",
       "      <td>No</td>\n",
       "      <td>No</td>\n",
       "    </tr>\n",
       "    <tr>\n",
       "      <th>mechvent_yn</th>\n",
       "      <td>No</td>\n",
       "      <td>No</td>\n",
       "      <td>No</td>\n",
       "      <td>No</td>\n",
       "      <td>No</td>\n",
       "    </tr>\n",
       "    <tr>\n",
       "      <th>fever_yn</th>\n",
       "      <td>No</td>\n",
       "      <td>No</td>\n",
       "      <td>Yes</td>\n",
       "      <td>Missing</td>\n",
       "      <td>Missing</td>\n",
       "    </tr>\n",
       "    <tr>\n",
       "      <th>sfever_yn</th>\n",
       "      <td>Missing</td>\n",
       "      <td>Missing</td>\n",
       "      <td>No</td>\n",
       "      <td>Missing</td>\n",
       "      <td>Missing</td>\n",
       "    </tr>\n",
       "    <tr>\n",
       "      <th>chills_yn</th>\n",
       "      <td>Yes</td>\n",
       "      <td>No</td>\n",
       "      <td>Missing</td>\n",
       "      <td>Missing</td>\n",
       "      <td>Missing</td>\n",
       "    </tr>\n",
       "    <tr>\n",
       "      <th>myalgia_yn</th>\n",
       "      <td>Yes</td>\n",
       "      <td>No</td>\n",
       "      <td>Yes</td>\n",
       "      <td>Missing</td>\n",
       "      <td>Missing</td>\n",
       "    </tr>\n",
       "    <tr>\n",
       "      <th>runnose_yn</th>\n",
       "      <td>Missing</td>\n",
       "      <td>Missing</td>\n",
       "      <td>Yes</td>\n",
       "      <td>Missing</td>\n",
       "      <td>Missing</td>\n",
       "    </tr>\n",
       "    <tr>\n",
       "      <th>sthroat_yn</th>\n",
       "      <td>No</td>\n",
       "      <td>No</td>\n",
       "      <td>Yes</td>\n",
       "      <td>Missing</td>\n",
       "      <td>Missing</td>\n",
       "    </tr>\n",
       "    <tr>\n",
       "      <th>cough_yn</th>\n",
       "      <td>No</td>\n",
       "      <td>No</td>\n",
       "      <td>Yes</td>\n",
       "      <td>Missing</td>\n",
       "      <td>Missing</td>\n",
       "    </tr>\n",
       "    <tr>\n",
       "      <th>sob_yn</th>\n",
       "      <td>No</td>\n",
       "      <td>No</td>\n",
       "      <td>No</td>\n",
       "      <td>Missing</td>\n",
       "      <td>Missing</td>\n",
       "    </tr>\n",
       "    <tr>\n",
       "      <th>nauseavomit_yn</th>\n",
       "      <td>No</td>\n",
       "      <td>No</td>\n",
       "      <td>No</td>\n",
       "      <td>Missing</td>\n",
       "      <td>Missing</td>\n",
       "    </tr>\n",
       "    <tr>\n",
       "      <th>headache_yn</th>\n",
       "      <td>Yes</td>\n",
       "      <td>Yes</td>\n",
       "      <td>Yes</td>\n",
       "      <td>Missing</td>\n",
       "      <td>Missing</td>\n",
       "    </tr>\n",
       "    <tr>\n",
       "      <th>abdom_yn</th>\n",
       "      <td>Yes</td>\n",
       "      <td>No</td>\n",
       "      <td>No</td>\n",
       "      <td>Missing</td>\n",
       "      <td>Missing</td>\n",
       "    </tr>\n",
       "    <tr>\n",
       "      <th>diarrhea_yn</th>\n",
       "      <td>No</td>\n",
       "      <td>No</td>\n",
       "      <td>Yes</td>\n",
       "      <td>Missing</td>\n",
       "      <td>Missing</td>\n",
       "    </tr>\n",
       "    <tr>\n",
       "      <th>medcond_yn</th>\n",
       "      <td>Yes</td>\n",
       "      <td>Missing</td>\n",
       "      <td>Yes</td>\n",
       "      <td>Yes</td>\n",
       "      <td>Yes</td>\n",
       "    </tr>\n",
       "    <tr>\n",
       "      <th>county_fips_code</th>\n",
       "      <td>17001</td>\n",
       "      <td>17001</td>\n",
       "      <td>72001</td>\n",
       "      <td>72001</td>\n",
       "      <td>72001</td>\n",
       "    </tr>\n",
       "    <tr>\n",
       "      <th>res_county</th>\n",
       "      <td>ADAMS</td>\n",
       "      <td>ADAMS</td>\n",
       "      <td>ADJUNTAS</td>\n",
       "      <td>ADJUNTAS</td>\n",
       "      <td>ADJUNTAS</td>\n",
       "    </tr>\n",
       "    <tr>\n",
       "      <th>res_state</th>\n",
       "      <td>IL</td>\n",
       "      <td>IL</td>\n",
       "      <td>PR</td>\n",
       "      <td>PR</td>\n",
       "      <td>PR</td>\n",
       "    </tr>\n",
       "    <tr>\n",
       "      <th>age_group</th>\n",
       "      <td>30 - 39 Years</td>\n",
       "      <td>60 - 69 Years</td>\n",
       "      <td>70 - 79 Years</td>\n",
       "      <td>70 - 79 Years</td>\n",
       "      <td>70 - 79 Years</td>\n",
       "    </tr>\n",
       "  </tbody>\n",
       "</table>\n",
       "</div>"
      ],
      "text/plain": [
       "index                                           4                          8   \\\n",
       "race_ethnicity_combined                         NA        Black, Non-Hispanic   \n",
       "current_status           Laboratory-confirmed case  Laboratory-confirmed case   \n",
       "cdc_case_earliest_dt           2020-07-07 00:00:00        2020-07-02 00:00:00   \n",
       "cdc_report_dt                  2020-07-13 00:00:00        2020-07-04 00:00:00   \n",
       "sex                                           Male                       Male   \n",
       "onset_dt                       2020-07-07 00:00:00        2020-07-02 00:00:00   \n",
       "pos_spec_dt                                   None                       None   \n",
       "hosp_yn                                         No                         No   \n",
       "icu_yn                                     Unknown                         No   \n",
       "death_yn                                   Unknown                    Unknown   \n",
       "hc_work_yn                                      NA                    Missing   \n",
       "pna_yn                                          No                         No   \n",
       "abxchest_yn                                     No                    Unknown   \n",
       "acuterespdistress_yn                       Missing                    Missing   \n",
       "mechvent_yn                                     No                         No   \n",
       "fever_yn                                        No                         No   \n",
       "sfever_yn                                  Missing                    Missing   \n",
       "chills_yn                                      Yes                         No   \n",
       "myalgia_yn                                     Yes                         No   \n",
       "runnose_yn                                 Missing                    Missing   \n",
       "sthroat_yn                                      No                         No   \n",
       "cough_yn                                        No                         No   \n",
       "sob_yn                                          No                         No   \n",
       "nauseavomit_yn                                  No                         No   \n",
       "headache_yn                                    Yes                        Yes   \n",
       "abdom_yn                                       Yes                         No   \n",
       "diarrhea_yn                                     No                         No   \n",
       "medcond_yn                                     Yes                    Missing   \n",
       "county_fips_code                             17001                      17001   \n",
       "res_county                                   ADAMS                      ADAMS   \n",
       "res_state                                       IL                         IL   \n",
       "age_group                            30 - 39 Years              60 - 69 Years   \n",
       "\n",
       "index                                           13                   14  \\\n",
       "race_ethnicity_combined                         NA                   NA   \n",
       "current_status           Laboratory-confirmed case        Probable Case   \n",
       "cdc_case_earliest_dt           2020-10-30 00:00:00  2020-10-30 00:00:00   \n",
       "cdc_report_dt                  2020-10-30 00:00:00  2021-02-03 00:00:00   \n",
       "sex                                           Male                 Male   \n",
       "onset_dt                                       NaT                  NaT   \n",
       "pos_spec_dt                             2020-10-30           2020-10-30   \n",
       "hosp_yn                                         No                   No   \n",
       "icu_yn                                     Missing              Missing   \n",
       "death_yn                                   Missing                   No   \n",
       "hc_work_yn                                      NA                   NA   \n",
       "pna_yn                                          No                   No   \n",
       "abxchest_yn                                     No                   No   \n",
       "acuterespdistress_yn                            No                   No   \n",
       "mechvent_yn                                     No                   No   \n",
       "fever_yn                                       Yes              Missing   \n",
       "sfever_yn                                       No              Missing   \n",
       "chills_yn                                  Missing              Missing   \n",
       "myalgia_yn                                     Yes              Missing   \n",
       "runnose_yn                                     Yes              Missing   \n",
       "sthroat_yn                                     Yes              Missing   \n",
       "cough_yn                                       Yes              Missing   \n",
       "sob_yn                                          No              Missing   \n",
       "nauseavomit_yn                                  No              Missing   \n",
       "headache_yn                                    Yes              Missing   \n",
       "abdom_yn                                        No              Missing   \n",
       "diarrhea_yn                                    Yes              Missing   \n",
       "medcond_yn                                     Yes                  Yes   \n",
       "county_fips_code                             72001                72001   \n",
       "res_county                                ADJUNTAS             ADJUNTAS   \n",
       "res_state                                       PR                   PR   \n",
       "age_group                            70 - 79 Years        70 - 79 Years   \n",
       "\n",
       "index                                           16  \n",
       "race_ethnicity_combined                         NA  \n",
       "current_status           Laboratory-confirmed case  \n",
       "cdc_case_earliest_dt           2020-05-29 00:00:00  \n",
       "cdc_report_dt                  2020-05-29 00:00:00  \n",
       "sex                                           Male  \n",
       "onset_dt                                       NaT  \n",
       "pos_spec_dt                             2020-05-29  \n",
       "hosp_yn                                         No  \n",
       "icu_yn                                     Missing  \n",
       "death_yn                                   Missing  \n",
       "hc_work_yn                                      NA  \n",
       "pna_yn                                          No  \n",
       "abxchest_yn                                     No  \n",
       "acuterespdistress_yn                            No  \n",
       "mechvent_yn                                     No  \n",
       "fever_yn                                   Missing  \n",
       "sfever_yn                                  Missing  \n",
       "chills_yn                                  Missing  \n",
       "myalgia_yn                                 Missing  \n",
       "runnose_yn                                 Missing  \n",
       "sthroat_yn                                 Missing  \n",
       "cough_yn                                   Missing  \n",
       "sob_yn                                     Missing  \n",
       "nauseavomit_yn                             Missing  \n",
       "headache_yn                                Missing  \n",
       "abdom_yn                                   Missing  \n",
       "diarrhea_yn                                Missing  \n",
       "medcond_yn                                     Yes  \n",
       "county_fips_code                             72001  \n",
       "res_county                                ADJUNTAS  \n",
       "res_state                                       PR  \n",
       "age_group                            70 - 79 Years  "
      ]
     },
     "execution_count": 7,
     "metadata": {},
     "output_type": "execute_result"
    }
   ],
   "source": [
    "df.head().T"
   ]
  },
  {
   "cell_type": "code",
   "execution_count": 8,
   "id": "32d04863",
   "metadata": {
    "ExecuteTime": {
     "end_time": "2022-11-10T07:52:08.384480Z",
     "start_time": "2022-11-10T07:52:04.478831Z"
    }
   },
   "outputs": [
    {
     "name": "stdout",
     "output_type": "stream",
     "text": [
      "<class 'pandas.core.frame.DataFrame'>\n",
      "Int64Index: 1515261 entries, 4 to 7131819\n",
      "Data columns (total 32 columns):\n",
      " #   Column                   Non-Null Count    Dtype         \n",
      "---  ------                   --------------    -----         \n",
      " 0   race_ethnicity_combined  1515261 non-null  object        \n",
      " 1   current_status           1515261 non-null  object        \n",
      " 2   cdc_case_earliest_dt     1515261 non-null  datetime64[ns]\n",
      " 3   cdc_report_dt            1515260 non-null  datetime64[ns]\n",
      " 4   sex                      1515261 non-null  object        \n",
      " 5   onset_dt                 1328084 non-null  datetime64[ns]\n",
      " 6   pos_spec_dt              1070506 non-null  object        \n",
      " 7   hosp_yn                  1515261 non-null  object        \n",
      " 8   icu_yn                   1515261 non-null  object        \n",
      " 9   death_yn                 1515261 non-null  object        \n",
      " 10  hc_work_yn               1515261 non-null  object        \n",
      " 11  pna_yn                   1515261 non-null  object        \n",
      " 12  abxchest_yn              1515261 non-null  object        \n",
      " 13  acuterespdistress_yn     1515261 non-null  object        \n",
      " 14  mechvent_yn              1515261 non-null  object        \n",
      " 15  fever_yn                 1515261 non-null  object        \n",
      " 16  sfever_yn                1515261 non-null  object        \n",
      " 17  chills_yn                1515261 non-null  object        \n",
      " 18  myalgia_yn               1515261 non-null  object        \n",
      " 19  runnose_yn               1515261 non-null  object        \n",
      " 20  sthroat_yn               1515261 non-null  object        \n",
      " 21  cough_yn                 1515261 non-null  object        \n",
      " 22  sob_yn                   1515261 non-null  object        \n",
      " 23  nauseavomit_yn           1515261 non-null  object        \n",
      " 24  headache_yn              1515261 non-null  object        \n",
      " 25  abdom_yn                 1515261 non-null  object        \n",
      " 26  diarrhea_yn              1515261 non-null  object        \n",
      " 27  medcond_yn               1515261 non-null  object        \n",
      " 28  county_fips_code         1506398 non-null  object        \n",
      " 29  res_county               1515261 non-null  object        \n",
      " 30  res_state                1515261 non-null  object        \n",
      " 31  age_group                1515261 non-null  object        \n",
      "dtypes: datetime64[ns](3), object(29)\n",
      "memory usage: 381.5+ MB\n"
     ]
    }
   ],
   "source": [
    "df.info()"
   ]
  },
  {
   "cell_type": "markdown",
   "id": "9ee63595",
   "metadata": {},
   "source": [
    "## 'Unknown' values\n",
    "1. Convert 'Missing' values into 'Unknown'\n",
    "2. Fill NaNs with 'Unkown' string"
   ]
  },
  {
   "cell_type": "code",
   "execution_count": 9,
   "id": "c2e06b4c",
   "metadata": {
    "ExecuteTime": {
     "end_time": "2022-11-10T07:52:12.890005Z",
     "start_time": "2022-11-10T07:52:08.386444Z"
    }
   },
   "outputs": [
    {
     "data": {
      "text/html": [
       "<div>\n",
       "<style scoped>\n",
       "    .dataframe tbody tr th:only-of-type {\n",
       "        vertical-align: middle;\n",
       "    }\n",
       "\n",
       "    .dataframe tbody tr th {\n",
       "        vertical-align: top;\n",
       "    }\n",
       "\n",
       "    .dataframe thead th {\n",
       "        text-align: right;\n",
       "    }\n",
       "</style>\n",
       "<table border=\"1\" class=\"dataframe\">\n",
       "  <thead>\n",
       "    <tr style=\"text-align: right;\">\n",
       "      <th></th>\n",
       "      <th>race_ethnicity_combined</th>\n",
       "      <th>current_status</th>\n",
       "      <th>cdc_case_earliest_dt</th>\n",
       "      <th>cdc_report_dt</th>\n",
       "      <th>sex</th>\n",
       "      <th>onset_dt</th>\n",
       "      <th>pos_spec_dt</th>\n",
       "      <th>hosp_yn</th>\n",
       "      <th>icu_yn</th>\n",
       "      <th>death_yn</th>\n",
       "      <th>...</th>\n",
       "      <th>sob_yn</th>\n",
       "      <th>nauseavomit_yn</th>\n",
       "      <th>headache_yn</th>\n",
       "      <th>abdom_yn</th>\n",
       "      <th>diarrhea_yn</th>\n",
       "      <th>medcond_yn</th>\n",
       "      <th>county_fips_code</th>\n",
       "      <th>res_county</th>\n",
       "      <th>res_state</th>\n",
       "      <th>age_group</th>\n",
       "    </tr>\n",
       "    <tr>\n",
       "      <th>index</th>\n",
       "      <th></th>\n",
       "      <th></th>\n",
       "      <th></th>\n",
       "      <th></th>\n",
       "      <th></th>\n",
       "      <th></th>\n",
       "      <th></th>\n",
       "      <th></th>\n",
       "      <th></th>\n",
       "      <th></th>\n",
       "      <th></th>\n",
       "      <th></th>\n",
       "      <th></th>\n",
       "      <th></th>\n",
       "      <th></th>\n",
       "      <th></th>\n",
       "      <th></th>\n",
       "      <th></th>\n",
       "      <th></th>\n",
       "      <th></th>\n",
       "      <th></th>\n",
       "    </tr>\n",
       "  </thead>\n",
       "  <tbody>\n",
       "    <tr>\n",
       "      <th>4</th>\n",
       "      <td>NA</td>\n",
       "      <td>Laboratory-confirmed case</td>\n",
       "      <td>2020-07-07</td>\n",
       "      <td>2020-07-13</td>\n",
       "      <td>Male</td>\n",
       "      <td>2020-07-07</td>\n",
       "      <td>None</td>\n",
       "      <td>No</td>\n",
       "      <td>Unknown</td>\n",
       "      <td>Unknown</td>\n",
       "      <td>...</td>\n",
       "      <td>No</td>\n",
       "      <td>No</td>\n",
       "      <td>Yes</td>\n",
       "      <td>Yes</td>\n",
       "      <td>No</td>\n",
       "      <td>Yes</td>\n",
       "      <td>17001</td>\n",
       "      <td>ADAMS</td>\n",
       "      <td>IL</td>\n",
       "      <td>30 - 39 Years</td>\n",
       "    </tr>\n",
       "    <tr>\n",
       "      <th>8</th>\n",
       "      <td>Black, Non-Hispanic</td>\n",
       "      <td>Laboratory-confirmed case</td>\n",
       "      <td>2020-07-02</td>\n",
       "      <td>2020-07-04</td>\n",
       "      <td>Male</td>\n",
       "      <td>2020-07-02</td>\n",
       "      <td>None</td>\n",
       "      <td>No</td>\n",
       "      <td>No</td>\n",
       "      <td>Unknown</td>\n",
       "      <td>...</td>\n",
       "      <td>No</td>\n",
       "      <td>No</td>\n",
       "      <td>Yes</td>\n",
       "      <td>No</td>\n",
       "      <td>No</td>\n",
       "      <td>Unknown</td>\n",
       "      <td>17001</td>\n",
       "      <td>ADAMS</td>\n",
       "      <td>IL</td>\n",
       "      <td>60 - 69 Years</td>\n",
       "    </tr>\n",
       "    <tr>\n",
       "      <th>13</th>\n",
       "      <td>NA</td>\n",
       "      <td>Laboratory-confirmed case</td>\n",
       "      <td>2020-10-30</td>\n",
       "      <td>2020-10-30</td>\n",
       "      <td>Male</td>\n",
       "      <td>NaT</td>\n",
       "      <td>2020-10-30</td>\n",
       "      <td>No</td>\n",
       "      <td>Unknown</td>\n",
       "      <td>Unknown</td>\n",
       "      <td>...</td>\n",
       "      <td>No</td>\n",
       "      <td>No</td>\n",
       "      <td>Yes</td>\n",
       "      <td>No</td>\n",
       "      <td>Yes</td>\n",
       "      <td>Yes</td>\n",
       "      <td>72001</td>\n",
       "      <td>ADJUNTAS</td>\n",
       "      <td>PR</td>\n",
       "      <td>70 - 79 Years</td>\n",
       "    </tr>\n",
       "    <tr>\n",
       "      <th>14</th>\n",
       "      <td>NA</td>\n",
       "      <td>Probable Case</td>\n",
       "      <td>2020-10-30</td>\n",
       "      <td>2021-02-03</td>\n",
       "      <td>Male</td>\n",
       "      <td>NaT</td>\n",
       "      <td>2020-10-30</td>\n",
       "      <td>No</td>\n",
       "      <td>Unknown</td>\n",
       "      <td>No</td>\n",
       "      <td>...</td>\n",
       "      <td>Unknown</td>\n",
       "      <td>Unknown</td>\n",
       "      <td>Unknown</td>\n",
       "      <td>Unknown</td>\n",
       "      <td>Unknown</td>\n",
       "      <td>Yes</td>\n",
       "      <td>72001</td>\n",
       "      <td>ADJUNTAS</td>\n",
       "      <td>PR</td>\n",
       "      <td>70 - 79 Years</td>\n",
       "    </tr>\n",
       "    <tr>\n",
       "      <th>16</th>\n",
       "      <td>NA</td>\n",
       "      <td>Laboratory-confirmed case</td>\n",
       "      <td>2020-05-29</td>\n",
       "      <td>2020-05-29</td>\n",
       "      <td>Male</td>\n",
       "      <td>NaT</td>\n",
       "      <td>2020-05-29</td>\n",
       "      <td>No</td>\n",
       "      <td>Unknown</td>\n",
       "      <td>Unknown</td>\n",
       "      <td>...</td>\n",
       "      <td>Unknown</td>\n",
       "      <td>Unknown</td>\n",
       "      <td>Unknown</td>\n",
       "      <td>Unknown</td>\n",
       "      <td>Unknown</td>\n",
       "      <td>Yes</td>\n",
       "      <td>72001</td>\n",
       "      <td>ADJUNTAS</td>\n",
       "      <td>PR</td>\n",
       "      <td>70 - 79 Years</td>\n",
       "    </tr>\n",
       "    <tr>\n",
       "      <th>...</th>\n",
       "      <td>...</td>\n",
       "      <td>...</td>\n",
       "      <td>...</td>\n",
       "      <td>...</td>\n",
       "      <td>...</td>\n",
       "      <td>...</td>\n",
       "      <td>...</td>\n",
       "      <td>...</td>\n",
       "      <td>...</td>\n",
       "      <td>...</td>\n",
       "      <td>...</td>\n",
       "      <td>...</td>\n",
       "      <td>...</td>\n",
       "      <td>...</td>\n",
       "      <td>...</td>\n",
       "      <td>...</td>\n",
       "      <td>...</td>\n",
       "      <td>...</td>\n",
       "      <td>...</td>\n",
       "      <td>...</td>\n",
       "      <td>...</td>\n",
       "    </tr>\n",
       "    <tr>\n",
       "      <th>7131763</th>\n",
       "      <td>White, Non-Hispanic</td>\n",
       "      <td>Laboratory-confirmed case</td>\n",
       "      <td>2021-01-21</td>\n",
       "      <td>2021-01-21</td>\n",
       "      <td>Female</td>\n",
       "      <td>NaT</td>\n",
       "      <td>2021-01-21</td>\n",
       "      <td>No</td>\n",
       "      <td>Unknown</td>\n",
       "      <td>No</td>\n",
       "      <td>...</td>\n",
       "      <td>Unknown</td>\n",
       "      <td>Unknown</td>\n",
       "      <td>Unknown</td>\n",
       "      <td>Unknown</td>\n",
       "      <td>Unknown</td>\n",
       "      <td>Yes</td>\n",
       "      <td>50027</td>\n",
       "      <td>WINDSOR</td>\n",
       "      <td>VT</td>\n",
       "      <td>50 - 59 Years</td>\n",
       "    </tr>\n",
       "    <tr>\n",
       "      <th>7131764</th>\n",
       "      <td>White, Non-Hispanic</td>\n",
       "      <td>Laboratory-confirmed case</td>\n",
       "      <td>2021-02-03</td>\n",
       "      <td>2021-03-22</td>\n",
       "      <td>Female</td>\n",
       "      <td>2021-02-03</td>\n",
       "      <td>2021-02-06</td>\n",
       "      <td>No</td>\n",
       "      <td>Unknown</td>\n",
       "      <td>No</td>\n",
       "      <td>...</td>\n",
       "      <td>No</td>\n",
       "      <td>No</td>\n",
       "      <td>Yes</td>\n",
       "      <td>No</td>\n",
       "      <td>No</td>\n",
       "      <td>No</td>\n",
       "      <td>50027</td>\n",
       "      <td>WINDSOR</td>\n",
       "      <td>VT</td>\n",
       "      <td>50 - 59 Years</td>\n",
       "    </tr>\n",
       "    <tr>\n",
       "      <th>7131765</th>\n",
       "      <td>White, Non-Hispanic</td>\n",
       "      <td>Laboratory-confirmed case</td>\n",
       "      <td>2021-01-28</td>\n",
       "      <td>2021-01-28</td>\n",
       "      <td>Female</td>\n",
       "      <td>NaT</td>\n",
       "      <td>2021-01-28</td>\n",
       "      <td>No</td>\n",
       "      <td>Unknown</td>\n",
       "      <td>No</td>\n",
       "      <td>...</td>\n",
       "      <td>Unknown</td>\n",
       "      <td>Unknown</td>\n",
       "      <td>Unknown</td>\n",
       "      <td>Unknown</td>\n",
       "      <td>Unknown</td>\n",
       "      <td>Yes</td>\n",
       "      <td>50027</td>\n",
       "      <td>WINDSOR</td>\n",
       "      <td>VT</td>\n",
       "      <td>50 - 59 Years</td>\n",
       "    </tr>\n",
       "    <tr>\n",
       "      <th>7131793</th>\n",
       "      <td>Multiple/Other, Non-Hispanic</td>\n",
       "      <td>Laboratory-confirmed case</td>\n",
       "      <td>2021-02-27</td>\n",
       "      <td>2021-02-27</td>\n",
       "      <td>Male</td>\n",
       "      <td>2021-02-27</td>\n",
       "      <td>2021-03-01</td>\n",
       "      <td>No</td>\n",
       "      <td>No</td>\n",
       "      <td>No</td>\n",
       "      <td>...</td>\n",
       "      <td>Yes</td>\n",
       "      <td>Yes</td>\n",
       "      <td>Yes</td>\n",
       "      <td>No</td>\n",
       "      <td>No</td>\n",
       "      <td>No</td>\n",
       "      <td>39175</td>\n",
       "      <td>WYANDOT</td>\n",
       "      <td>OH</td>\n",
       "      <td>20 - 29 Years</td>\n",
       "    </tr>\n",
       "    <tr>\n",
       "      <th>7131819</th>\n",
       "      <td>Hispanic/Latino</td>\n",
       "      <td>Laboratory-confirmed case</td>\n",
       "      <td>2020-12-29</td>\n",
       "      <td>2021-01-09</td>\n",
       "      <td>Male</td>\n",
       "      <td>2020-12-29</td>\n",
       "      <td>2021-01-04</td>\n",
       "      <td>No</td>\n",
       "      <td>Unknown</td>\n",
       "      <td>Unknown</td>\n",
       "      <td>...</td>\n",
       "      <td>Yes</td>\n",
       "      <td>Yes</td>\n",
       "      <td>Yes</td>\n",
       "      <td>No</td>\n",
       "      <td>Yes</td>\n",
       "      <td>No</td>\n",
       "      <td>53077</td>\n",
       "      <td>YAKIMA</td>\n",
       "      <td>WA</td>\n",
       "      <td>30 - 39 Years</td>\n",
       "    </tr>\n",
       "  </tbody>\n",
       "</table>\n",
       "<p>1515261 rows × 32 columns</p>\n",
       "</div>"
      ],
      "text/plain": [
       "               race_ethnicity_combined             current_status  \\\n",
       "index                                                               \n",
       "4                                   NA  Laboratory-confirmed case   \n",
       "8                  Black, Non-Hispanic  Laboratory-confirmed case   \n",
       "13                                  NA  Laboratory-confirmed case   \n",
       "14                                  NA              Probable Case   \n",
       "16                                  NA  Laboratory-confirmed case   \n",
       "...                                ...                        ...   \n",
       "7131763            White, Non-Hispanic  Laboratory-confirmed case   \n",
       "7131764            White, Non-Hispanic  Laboratory-confirmed case   \n",
       "7131765            White, Non-Hispanic  Laboratory-confirmed case   \n",
       "7131793  Multiple/Other, Non-Hispanic   Laboratory-confirmed case   \n",
       "7131819                Hispanic/Latino  Laboratory-confirmed case   \n",
       "\n",
       "        cdc_case_earliest_dt cdc_report_dt     sex   onset_dt pos_spec_dt  \\\n",
       "index                                                                       \n",
       "4                 2020-07-07    2020-07-13    Male 2020-07-07        None   \n",
       "8                 2020-07-02    2020-07-04    Male 2020-07-02        None   \n",
       "13                2020-10-30    2020-10-30    Male        NaT  2020-10-30   \n",
       "14                2020-10-30    2021-02-03    Male        NaT  2020-10-30   \n",
       "16                2020-05-29    2020-05-29    Male        NaT  2020-05-29   \n",
       "...                      ...           ...     ...        ...         ...   \n",
       "7131763           2021-01-21    2021-01-21  Female        NaT  2021-01-21   \n",
       "7131764           2021-02-03    2021-03-22  Female 2021-02-03  2021-02-06   \n",
       "7131765           2021-01-28    2021-01-28  Female        NaT  2021-01-28   \n",
       "7131793           2021-02-27    2021-02-27    Male 2021-02-27  2021-03-01   \n",
       "7131819           2020-12-29    2021-01-09    Male 2020-12-29  2021-01-04   \n",
       "\n",
       "        hosp_yn   icu_yn death_yn  ...   sob_yn nauseavomit_yn headache_yn  \\\n",
       "index                              ...                                       \n",
       "4            No  Unknown  Unknown  ...       No             No         Yes   \n",
       "8            No       No  Unknown  ...       No             No         Yes   \n",
       "13           No  Unknown  Unknown  ...       No             No         Yes   \n",
       "14           No  Unknown       No  ...  Unknown        Unknown     Unknown   \n",
       "16           No  Unknown  Unknown  ...  Unknown        Unknown     Unknown   \n",
       "...         ...      ...      ...  ...      ...            ...         ...   \n",
       "7131763      No  Unknown       No  ...  Unknown        Unknown     Unknown   \n",
       "7131764      No  Unknown       No  ...       No             No         Yes   \n",
       "7131765      No  Unknown       No  ...  Unknown        Unknown     Unknown   \n",
       "7131793      No       No       No  ...      Yes            Yes         Yes   \n",
       "7131819      No  Unknown  Unknown  ...      Yes            Yes         Yes   \n",
       "\n",
       "        abdom_yn diarrhea_yn medcond_yn county_fips_code res_county res_state  \\\n",
       "index                                                                           \n",
       "4            Yes          No        Yes            17001      ADAMS        IL   \n",
       "8             No          No    Unknown            17001      ADAMS        IL   \n",
       "13            No         Yes        Yes            72001   ADJUNTAS        PR   \n",
       "14       Unknown     Unknown        Yes            72001   ADJUNTAS        PR   \n",
       "16       Unknown     Unknown        Yes            72001   ADJUNTAS        PR   \n",
       "...          ...         ...        ...              ...        ...       ...   \n",
       "7131763  Unknown     Unknown        Yes            50027    WINDSOR        VT   \n",
       "7131764       No          No         No            50027    WINDSOR        VT   \n",
       "7131765  Unknown     Unknown        Yes            50027    WINDSOR        VT   \n",
       "7131793       No          No         No            39175    WYANDOT        OH   \n",
       "7131819       No         Yes         No            53077     YAKIMA        WA   \n",
       "\n",
       "             age_group  \n",
       "index                   \n",
       "4        30 - 39 Years  \n",
       "8        60 - 69 Years  \n",
       "13       70 - 79 Years  \n",
       "14       70 - 79 Years  \n",
       "16       70 - 79 Years  \n",
       "...                ...  \n",
       "7131763  50 - 59 Years  \n",
       "7131764  50 - 59 Years  \n",
       "7131765  50 - 59 Years  \n",
       "7131793  20 - 29 Years  \n",
       "7131819  30 - 39 Years  \n",
       "\n",
       "[1515261 rows x 32 columns]"
      ]
     },
     "execution_count": 9,
     "metadata": {},
     "output_type": "execute_result"
    }
   ],
   "source": [
    "df = df.apply(lambda x: x.replace('Missing', 'Unknown'))\n",
    "df"
   ]
  },
  {
   "cell_type": "code",
   "execution_count": 10,
   "id": "1efc85d3",
   "metadata": {
    "ExecuteTime": {
     "end_time": "2022-11-10T07:52:24.447998Z",
     "start_time": "2022-11-10T07:52:12.893012Z"
    }
   },
   "outputs": [],
   "source": [
    "df = df.apply(lambda x: x.replace('NA', 'Unknown'))\n",
    "df = df.apply(lambda x: x.replace('N/A', 'Unknown'))\n",
    "df = df.fillna('Unknown')"
   ]
  },
  {
   "cell_type": "markdown",
   "id": "c5811361",
   "metadata": {},
   "source": [
    "## Encoding"
   ]
  },
  {
   "cell_type": "code",
   "execution_count": 11,
   "id": "7369059e",
   "metadata": {
    "ExecuteTime": {
     "end_time": "2022-11-10T07:52:24.588718Z",
     "start_time": "2022-11-10T07:52:24.448866Z"
    }
   },
   "outputs": [],
   "source": [
    "from sklearn.preprocessing import LabelEncoder\n",
    "from category_encoders import TargetEncoder\n",
    "from sklearn.preprocessing import OrdinalEncoder\n",
    "from sklearn.preprocessing import OneHotEncoder"
   ]
  },
  {
   "cell_type": "code",
   "execution_count": 12,
   "id": "300e0b52",
   "metadata": {
    "ExecuteTime": {
     "end_time": "2022-11-10T07:52:26.217986Z",
     "start_time": "2022-11-10T07:52:24.589683Z"
    }
   },
   "outputs": [],
   "source": [
    "df_encoded = df.copy()"
   ]
  },
  {
   "cell_type": "code",
   "execution_count": 13,
   "id": "a46ce877",
   "metadata": {
    "ExecuteTime": {
     "end_time": "2022-11-10T07:52:26.233823Z",
     "start_time": "2022-11-10T07:52:26.218862Z"
    }
   },
   "outputs": [],
   "source": [
    "def label_encode(df, features):\n",
    "    for feature in features:\n",
    "        le = LabelEncoder()\n",
    "        label_encoded = le.fit_transform(df[f'{feature}'])\n",
    "        df_encoded[f'{feature}'] = label_encoded\n",
    "        \n",
    "def target_encode(df, features):\n",
    "    for feature in features:\n",
    "        te = TargetEncoder()\n",
    "        te_encoded = te.fit_transform(df[f'{feature}'], df_encoded['pna_yn'])\n",
    "        df_encoded[f'{feature}'] = te_encoded\n",
    "        \n",
    "def ordinal_encode(df, features):\n",
    "    for feature in features:\n",
    "        oe = OrdinalEncoder()\n",
    "        oe_encoded = oe.fit_transform(df[f'{feature}'], df_encoded['pna_yn'])\n",
    "        df_encoded[f'{feature}'] = oe_encoded\n",
    "        \n",
    "def onehot_encode(df, features):\n",
    "    for feature in features:\n",
    "        ohe = OneHotEncoder(drop='missing', sparse=False)\n",
    "        onehot_encoded = ohe.fit_transform(df[f'{feature}'])\n",
    "        df_encoded = pd.concat([df, onehot_encoded], axis=1)\n",
    "        df_encoded.drop(f'{feature}', axis=1, inplace=True)"
   ]
  },
  {
   "cell_type": "code",
   "execution_count": 14,
   "id": "21fbdd98",
   "metadata": {
    "ExecuteTime": {
     "end_time": "2022-11-10T07:52:26.248809Z",
     "start_time": "2022-11-10T07:52:26.234819Z"
    }
   },
   "outputs": [],
   "source": [
    "le_features = ['pna_yn', 'current_status', 'hosp_yn', 'icu_yn', 'death_yn', 'hc_work_yn',\n",
    "              'abxchest_yn', 'acuterespdistress_yn', 'mechvent_yn',\n",
    "              'fever_yn', 'sfever_yn', 'chills_yn', 'myalgia_yn',\n",
    "              'runnose_yn', 'sthroat_yn', 'cough_yn', 'sob_yn',\n",
    "              'nauseavomit_yn', 'headache_yn', 'abdom_yn', \n",
    "               'diarrhea_yn', 'medcond_yn', 'sex'] \n",
    "# Note: i think '_yn' stands for yes no\n",
    "\n",
    "# te_features = ['race_ethnicity_combined', 'res_state'] # res_county dropped for cardinality\n",
    "te_features = ['race_ethnicity_combined', 'res_county', 'res_state']\n",
    "\n",
    "# oe_features = ['age_group'] #not needed anymore, manually converted to numerical data\n",
    "\n",
    "# ohe_features = ['sex'] # moved to label encoder\n",
    "\n",
    "other_features = ['cdc_report_dt', 'cdc_case_earliest_dt', 'county_fips_code', \n",
    "                  'onset_dt', 'pos_spec_dt']"
   ]
  },
  {
   "cell_type": "code",
   "execution_count": 15,
   "id": "4656abe8",
   "metadata": {
    "ExecuteTime": {
     "end_time": "2022-11-10T07:52:41.587451Z",
     "start_time": "2022-11-10T07:52:26.249780Z"
    }
   },
   "outputs": [],
   "source": [
    "label_encode(df, le_features)"
   ]
  },
  {
   "cell_type": "code",
   "execution_count": 16,
   "id": "458959bf",
   "metadata": {
    "ExecuteTime": {
     "end_time": "2022-11-10T07:52:46.992834Z",
     "start_time": "2022-11-10T07:52:41.589411Z"
    }
   },
   "outputs": [],
   "source": [
    "target_encode(df, te_features)"
   ]
  },
  {
   "cell_type": "code",
   "execution_count": 17,
   "id": "f7c57c24",
   "metadata": {
    "ExecuteTime": {
     "end_time": "2022-11-10T07:52:47.101542Z",
     "start_time": "2022-11-10T07:52:46.994825Z"
    }
   },
   "outputs": [
    {
     "data": {
      "text/plain": [
       "20 - 29 Years    267551\n",
       "30 - 39 Years    228548\n",
       "40 - 49 Years    224077\n",
       "50 - 59 Years    219631\n",
       "10 - 19 Years    178461\n",
       "60 - 69 Years    167067\n",
       "70 - 79 Years     96402\n",
       "0 - 9 Years       66575\n",
       "80+ Years         62167\n",
       "Unknown            4782\n",
       "Name: age_group, dtype: int64"
      ]
     },
     "execution_count": 17,
     "metadata": {},
     "output_type": "execute_result"
    }
   ],
   "source": [
    "df_encoded['age_group'].value_counts()"
   ]
  },
  {
   "cell_type": "code",
   "execution_count": 18,
   "id": "b364ba8c",
   "metadata": {
    "ExecuteTime": {
     "end_time": "2022-11-10T07:52:50.215893Z",
     "start_time": "2022-11-10T07:52:47.102513Z"
    }
   },
   "outputs": [],
   "source": [
    "# replace bin by the mean of range\n",
    "df_encoded['age_group'] = df_encoded['age_group'].apply(lambda x: x.replace('Years', ''))\n",
    "df_encoded['age_group'] = df_encoded['age_group'].apply(lambda x: x.replace('0 - 9', '5'))\n",
    "df_encoded['age_group'] = df_encoded['age_group'].apply(lambda x: x.replace('10 - 19', '15'))\n",
    "df_encoded['age_group'] = df_encoded['age_group'].apply(lambda x: x.replace('20 - 29', '25'))\n",
    "df_encoded['age_group'] = df_encoded['age_group'].apply(lambda x: x.replace('30 - 39', '35'))\n",
    "df_encoded['age_group'] = df_encoded['age_group'].apply(lambda x: x.replace('40 - 49', '45'))\n",
    "df_encoded['age_group'] = df_encoded['age_group'].apply(lambda x: x.replace('50 - 59', '55'))\n",
    "df_encoded['age_group'] = df_encoded['age_group'].apply(lambda x: x.replace('60 - 69', '65'))\n",
    "df_encoded['age_group'] = df_encoded['age_group'].apply(lambda x: x.replace('70 - 79', '75'))\n",
    "df_encoded['age_group'] = df_encoded['age_group'].apply(lambda x: x.replace('80+', '85'))"
   ]
  },
  {
   "cell_type": "code",
   "execution_count": 19,
   "id": "83be5356",
   "metadata": {
    "ExecuteTime": {
     "end_time": "2022-11-10T07:52:50.828026Z",
     "start_time": "2022-11-10T07:52:50.216905Z"
    }
   },
   "outputs": [],
   "source": [
    "# replace 'Unknown' with median\n",
    "df_encoded['age_group'] = df_encoded['age_group'].replace('Unknown', np.nan)\n",
    "df_encoded['age_group'] = df_encoded['age_group'].fillna(int(df_encoded['age_group'].median()))\n",
    "df_encoded['age_group'] = df_encoded['age_group'].astype(int)"
   ]
  },
  {
   "cell_type": "code",
   "execution_count": 20,
   "id": "8e4e063d",
   "metadata": {
    "ExecuteTime": {
     "end_time": "2022-11-10T07:52:50.843714Z",
     "start_time": "2022-11-10T07:52:50.828895Z"
    }
   },
   "outputs": [
    {
     "data": {
      "text/plain": [
       "25    267551\n",
       "45    228859\n",
       "35    228548\n",
       "55    219631\n",
       "15    178461\n",
       "65    167067\n",
       "75     96402\n",
       "5      66575\n",
       "85     62167\n",
       "Name: age_group, dtype: int64"
      ]
     },
     "execution_count": 20,
     "metadata": {},
     "output_type": "execute_result"
    }
   ],
   "source": [
    "df_encoded['age_group'].value_counts()"
   ]
  },
  {
   "cell_type": "markdown",
   "id": "62faca61",
   "metadata": {},
   "source": [
    "label_encode(df, le_features)\n",
    "target_encode(df, te_features)\n",
    "ordinal_encode(df, oe_features)\n",
    "onehot_encode(df, ohe_features)"
   ]
  },
  {
   "cell_type": "markdown",
   "id": "a7186948",
   "metadata": {},
   "source": [
    "experiment - testing"
   ]
  },
  {
   "cell_type": "code",
   "execution_count": 21,
   "id": "2f32a8a6",
   "metadata": {
    "ExecuteTime": {
     "end_time": "2022-11-10T07:52:50.859678Z",
     "start_time": "2022-11-10T07:52:50.844688Z"
    }
   },
   "outputs": [],
   "source": [
    "# label_encode(df, ['current_status'])"
   ]
  },
  {
   "cell_type": "code",
   "execution_count": 22,
   "id": "2f9c2fe2",
   "metadata": {
    "ExecuteTime": {
     "end_time": "2022-11-10T07:52:50.922480Z",
     "start_time": "2022-11-10T07:52:50.860644Z"
    }
   },
   "outputs": [
    {
     "data": {
      "text/plain": [
       "Laboratory-confirmed case    1400366\n",
       "Probable Case                 114895\n",
       "Name: current_status, dtype: int64"
      ]
     },
     "execution_count": 22,
     "metadata": {},
     "output_type": "execute_result"
    }
   ],
   "source": [
    "df['current_status'].value_counts(dropna=False)"
   ]
  },
  {
   "cell_type": "code",
   "execution_count": 23,
   "id": "8910d1f5",
   "metadata": {
    "ExecuteTime": {
     "end_time": "2022-11-10T07:52:50.938437Z",
     "start_time": "2022-11-10T07:52:50.924474Z"
    },
    "scrolled": true
   },
   "outputs": [
    {
     "data": {
      "text/plain": [
       "0    1400366\n",
       "1     114895\n",
       "Name: current_status, dtype: int64"
      ]
     },
     "execution_count": 23,
     "metadata": {},
     "output_type": "execute_result"
    }
   ],
   "source": [
    "df_encoded['current_status'].value_counts(dropna=False)"
   ]
  },
  {
   "cell_type": "markdown",
   "id": "3ebea8e2",
   "metadata": {},
   "source": [
    "## drop 'unnecessary' variables"
   ]
  },
  {
   "cell_type": "code",
   "execution_count": 24,
   "id": "7ffd65de",
   "metadata": {
    "ExecuteTime": {
     "end_time": "2022-11-10T07:52:51.031217Z",
     "start_time": "2022-11-10T07:52:50.940432Z"
    }
   },
   "outputs": [],
   "source": [
    "df_cleaned = df_encoded.drop(other_features, axis=1)"
   ]
  },
  {
   "cell_type": "markdown",
   "id": "ebe30cbc",
   "metadata": {},
   "source": [
    "## Save df as parqueet"
   ]
  },
  {
   "cell_type": "code",
   "execution_count": 25,
   "id": "91691051",
   "metadata": {
    "ExecuteTime": {
     "end_time": "2022-11-10T07:52:51.110975Z",
     "start_time": "2022-11-10T07:52:51.032190Z"
    }
   },
   "outputs": [
    {
     "name": "stdout",
     "output_type": "stream",
     "text": [
      "<class 'pandas.core.frame.DataFrame'>\n",
      "Int64Index: 1515261 entries, 4 to 7131819\n",
      "Data columns (total 27 columns):\n",
      " #   Column                   Non-Null Count    Dtype  \n",
      "---  ------                   --------------    -----  \n",
      " 0   race_ethnicity_combined  1515261 non-null  float64\n",
      " 1   current_status           1515261 non-null  int32  \n",
      " 2   sex                      1515261 non-null  int32  \n",
      " 3   hosp_yn                  1515261 non-null  int32  \n",
      " 4   icu_yn                   1515261 non-null  int32  \n",
      " 5   death_yn                 1515261 non-null  int32  \n",
      " 6   hc_work_yn               1515261 non-null  int32  \n",
      " 7   pna_yn                   1515261 non-null  int32  \n",
      " 8   abxchest_yn              1515261 non-null  int32  \n",
      " 9   acuterespdistress_yn     1515261 non-null  int32  \n",
      " 10  mechvent_yn              1515261 non-null  int32  \n",
      " 11  fever_yn                 1515261 non-null  int32  \n",
      " 12  sfever_yn                1515261 non-null  int32  \n",
      " 13  chills_yn                1515261 non-null  int32  \n",
      " 14  myalgia_yn               1515261 non-null  int32  \n",
      " 15  runnose_yn               1515261 non-null  int32  \n",
      " 16  sthroat_yn               1515261 non-null  int32  \n",
      " 17  cough_yn                 1515261 non-null  int32  \n",
      " 18  sob_yn                   1515261 non-null  int32  \n",
      " 19  nauseavomit_yn           1515261 non-null  int32  \n",
      " 20  headache_yn              1515261 non-null  int32  \n",
      " 21  abdom_yn                 1515261 non-null  int32  \n",
      " 22  diarrhea_yn              1515261 non-null  int32  \n",
      " 23  medcond_yn               1515261 non-null  int32  \n",
      " 24  res_county               1515261 non-null  float64\n",
      " 25  res_state                1515261 non-null  float64\n",
      " 26  age_group                1515261 non-null  int32  \n",
      "dtypes: float64(3), int32(24)\n",
      "memory usage: 185.0 MB\n"
     ]
    }
   ],
   "source": [
    "df_cleaned.info()"
   ]
  },
  {
   "cell_type": "code",
   "execution_count": 26,
   "id": "4ad6c869",
   "metadata": {
    "ExecuteTime": {
     "end_time": "2022-11-10T07:52:52.134270Z",
     "start_time": "2022-11-10T07:52:51.111973Z"
    }
   },
   "outputs": [],
   "source": [
    "df_cleaned.to_parquet('df_cleaned.parquet')"
   ]
  },
  {
   "cell_type": "code",
   "execution_count": 27,
   "id": "92238efb",
   "metadata": {
    "ExecuteTime": {
     "end_time": "2022-11-10T07:52:52.372634Z",
     "start_time": "2022-11-10T07:52:52.136265Z"
    }
   },
   "outputs": [],
   "source": [
    "df_cleaned = pd.read_parquet('df_cleaned.parquet')"
   ]
  },
  {
   "cell_type": "code",
   "execution_count": 28,
   "id": "6a879ad5",
   "metadata": {
    "ExecuteTime": {
     "end_time": "2022-11-10T07:52:52.404549Z",
     "start_time": "2022-11-10T07:52:52.378616Z"
    }
   },
   "outputs": [
    {
     "data": {
      "text/html": [
       "<div>\n",
       "<style scoped>\n",
       "    .dataframe tbody tr th:only-of-type {\n",
       "        vertical-align: middle;\n",
       "    }\n",
       "\n",
       "    .dataframe tbody tr th {\n",
       "        vertical-align: top;\n",
       "    }\n",
       "\n",
       "    .dataframe thead th {\n",
       "        text-align: right;\n",
       "    }\n",
       "</style>\n",
       "<table border=\"1\" class=\"dataframe\">\n",
       "  <thead>\n",
       "    <tr style=\"text-align: right;\">\n",
       "      <th></th>\n",
       "      <th>race_ethnicity_combined</th>\n",
       "      <th>current_status</th>\n",
       "      <th>sex</th>\n",
       "      <th>hosp_yn</th>\n",
       "      <th>icu_yn</th>\n",
       "      <th>death_yn</th>\n",
       "      <th>hc_work_yn</th>\n",
       "      <th>pna_yn</th>\n",
       "      <th>abxchest_yn</th>\n",
       "      <th>acuterespdistress_yn</th>\n",
       "      <th>...</th>\n",
       "      <th>cough_yn</th>\n",
       "      <th>sob_yn</th>\n",
       "      <th>nauseavomit_yn</th>\n",
       "      <th>headache_yn</th>\n",
       "      <th>abdom_yn</th>\n",
       "      <th>diarrhea_yn</th>\n",
       "      <th>medcond_yn</th>\n",
       "      <th>res_county</th>\n",
       "      <th>res_state</th>\n",
       "      <th>age_group</th>\n",
       "    </tr>\n",
       "    <tr>\n",
       "      <th>index</th>\n",
       "      <th></th>\n",
       "      <th></th>\n",
       "      <th></th>\n",
       "      <th></th>\n",
       "      <th></th>\n",
       "      <th></th>\n",
       "      <th></th>\n",
       "      <th></th>\n",
       "      <th></th>\n",
       "      <th></th>\n",
       "      <th></th>\n",
       "      <th></th>\n",
       "      <th></th>\n",
       "      <th></th>\n",
       "      <th></th>\n",
       "      <th></th>\n",
       "      <th></th>\n",
       "      <th></th>\n",
       "      <th></th>\n",
       "      <th></th>\n",
       "      <th></th>\n",
       "    </tr>\n",
       "  </thead>\n",
       "  <tbody>\n",
       "    <tr>\n",
       "      <th>4</th>\n",
       "      <td>0.060017</td>\n",
       "      <td>0</td>\n",
       "      <td>1</td>\n",
       "      <td>0</td>\n",
       "      <td>1</td>\n",
       "      <td>1</td>\n",
       "      <td>1</td>\n",
       "      <td>0</td>\n",
       "      <td>0</td>\n",
       "      <td>1</td>\n",
       "      <td>...</td>\n",
       "      <td>0</td>\n",
       "      <td>0</td>\n",
       "      <td>0</td>\n",
       "      <td>2</td>\n",
       "      <td>2</td>\n",
       "      <td>0</td>\n",
       "      <td>2</td>\n",
       "      <td>0.070389</td>\n",
       "      <td>0.225918</td>\n",
       "      <td>35</td>\n",
       "    </tr>\n",
       "    <tr>\n",
       "      <th>8</th>\n",
       "      <td>0.108255</td>\n",
       "      <td>0</td>\n",
       "      <td>1</td>\n",
       "      <td>0</td>\n",
       "      <td>0</td>\n",
       "      <td>1</td>\n",
       "      <td>1</td>\n",
       "      <td>0</td>\n",
       "      <td>1</td>\n",
       "      <td>1</td>\n",
       "      <td>...</td>\n",
       "      <td>0</td>\n",
       "      <td>0</td>\n",
       "      <td>0</td>\n",
       "      <td>2</td>\n",
       "      <td>0</td>\n",
       "      <td>0</td>\n",
       "      <td>1</td>\n",
       "      <td>0.070389</td>\n",
       "      <td>0.225918</td>\n",
       "      <td>65</td>\n",
       "    </tr>\n",
       "    <tr>\n",
       "      <th>13</th>\n",
       "      <td>0.060017</td>\n",
       "      <td>0</td>\n",
       "      <td>1</td>\n",
       "      <td>0</td>\n",
       "      <td>1</td>\n",
       "      <td>1</td>\n",
       "      <td>1</td>\n",
       "      <td>0</td>\n",
       "      <td>0</td>\n",
       "      <td>0</td>\n",
       "      <td>...</td>\n",
       "      <td>2</td>\n",
       "      <td>0</td>\n",
       "      <td>0</td>\n",
       "      <td>2</td>\n",
       "      <td>0</td>\n",
       "      <td>2</td>\n",
       "      <td>2</td>\n",
       "      <td>0.026786</td>\n",
       "      <td>0.430685</td>\n",
       "      <td>75</td>\n",
       "    </tr>\n",
       "    <tr>\n",
       "      <th>14</th>\n",
       "      <td>0.060017</td>\n",
       "      <td>1</td>\n",
       "      <td>1</td>\n",
       "      <td>0</td>\n",
       "      <td>1</td>\n",
       "      <td>0</td>\n",
       "      <td>1</td>\n",
       "      <td>0</td>\n",
       "      <td>0</td>\n",
       "      <td>0</td>\n",
       "      <td>...</td>\n",
       "      <td>1</td>\n",
       "      <td>1</td>\n",
       "      <td>1</td>\n",
       "      <td>1</td>\n",
       "      <td>1</td>\n",
       "      <td>1</td>\n",
       "      <td>2</td>\n",
       "      <td>0.026786</td>\n",
       "      <td>0.430685</td>\n",
       "      <td>75</td>\n",
       "    </tr>\n",
       "    <tr>\n",
       "      <th>16</th>\n",
       "      <td>0.060017</td>\n",
       "      <td>0</td>\n",
       "      <td>1</td>\n",
       "      <td>0</td>\n",
       "      <td>1</td>\n",
       "      <td>1</td>\n",
       "      <td>1</td>\n",
       "      <td>0</td>\n",
       "      <td>0</td>\n",
       "      <td>0</td>\n",
       "      <td>...</td>\n",
       "      <td>1</td>\n",
       "      <td>1</td>\n",
       "      <td>1</td>\n",
       "      <td>1</td>\n",
       "      <td>1</td>\n",
       "      <td>1</td>\n",
       "      <td>2</td>\n",
       "      <td>0.026786</td>\n",
       "      <td>0.430685</td>\n",
       "      <td>75</td>\n",
       "    </tr>\n",
       "  </tbody>\n",
       "</table>\n",
       "<p>5 rows × 27 columns</p>\n",
       "</div>"
      ],
      "text/plain": [
       "       race_ethnicity_combined  current_status  sex  hosp_yn  icu_yn  \\\n",
       "index                                                                  \n",
       "4                     0.060017               0    1        0       1   \n",
       "8                     0.108255               0    1        0       0   \n",
       "13                    0.060017               0    1        0       1   \n",
       "14                    0.060017               1    1        0       1   \n",
       "16                    0.060017               0    1        0       1   \n",
       "\n",
       "       death_yn  hc_work_yn  pna_yn  abxchest_yn  acuterespdistress_yn  ...  \\\n",
       "index                                                                   ...   \n",
       "4             1           1       0            0                     1  ...   \n",
       "8             1           1       0            1                     1  ...   \n",
       "13            1           1       0            0                     0  ...   \n",
       "14            0           1       0            0                     0  ...   \n",
       "16            1           1       0            0                     0  ...   \n",
       "\n",
       "       cough_yn  sob_yn  nauseavomit_yn  headache_yn  abdom_yn  diarrhea_yn  \\\n",
       "index                                                                         \n",
       "4             0       0               0            2         2            0   \n",
       "8             0       0               0            2         0            0   \n",
       "13            2       0               0            2         0            2   \n",
       "14            1       1               1            1         1            1   \n",
       "16            1       1               1            1         1            1   \n",
       "\n",
       "       medcond_yn  res_county  res_state  age_group  \n",
       "index                                                \n",
       "4               2    0.070389   0.225918         35  \n",
       "8               1    0.070389   0.225918         65  \n",
       "13              2    0.026786   0.430685         75  \n",
       "14              2    0.026786   0.430685         75  \n",
       "16              2    0.026786   0.430685         75  \n",
       "\n",
       "[5 rows x 27 columns]"
      ]
     },
     "execution_count": 28,
     "metadata": {},
     "output_type": "execute_result"
    }
   ],
   "source": [
    "df_cleaned.head()"
   ]
  },
  {
   "cell_type": "markdown",
   "id": "99ab4d54",
   "metadata": {},
   "source": [
    "## Training test split"
   ]
  },
  {
   "cell_type": "code",
   "execution_count": 29,
   "id": "c848e2fe",
   "metadata": {
    "ExecuteTime": {
     "end_time": "2022-11-10T07:52:52.466381Z",
     "start_time": "2022-11-10T07:52:52.405545Z"
    }
   },
   "outputs": [],
   "source": [
    "X = df_cleaned[df_cleaned.columns[df_cleaned.columns != 'pna_yn']]\n",
    "y = df_cleaned['pna_yn']"
   ]
  },
  {
   "cell_type": "code",
   "execution_count": 30,
   "id": "38b43715",
   "metadata": {
    "ExecuteTime": {
     "end_time": "2022-11-10T07:52:52.843560Z",
     "start_time": "2022-11-10T07:52:52.467400Z"
    }
   },
   "outputs": [],
   "source": [
    "from sklearn.model_selection import train_test_split\n",
    "\n",
    "X_train, X_test, y_train, y_test = train_test_split(\n",
    "    X, y, test_size=0.33, random_state=42)"
   ]
  },
  {
   "cell_type": "code",
   "execution_count": 31,
   "id": "8bdaf90b",
   "metadata": {
    "ExecuteTime": {
     "end_time": "2022-11-10T07:52:52.859504Z",
     "start_time": "2022-11-10T07:52:52.844524Z"
    }
   },
   "outputs": [],
   "source": [
    "drop_features_eda = [\n",
    "    'cdc_report_dt', 'cdc_case_earliest_dt', 'onset_dt', 'pos_spec_dt', # datetime\n",
    "    'hosp_yn','icu_yn', 'death_yn', 'mechvent_yn', # target leakage\n",
    "    'race_ethnicity_combined', 'sex', 'current_status'\n",
    "    'county_fips_code', 'res_state'] # dependence measure"
   ]
  },
  {
   "cell_type": "code",
   "execution_count": 32,
   "id": "f1710bb8",
   "metadata": {
    "ExecuteTime": {
     "end_time": "2022-11-10T07:52:52.905362Z",
     "start_time": "2022-11-10T07:52:52.860481Z"
    }
   },
   "outputs": [
    {
     "name": "stdout",
     "output_type": "stream",
     "text": [
      "19\n"
     ]
    },
    {
     "data": {
      "text/plain": [
       "Index(['current_status', 'hc_work_yn', 'abxchest_yn', 'acuterespdistress_yn',\n",
       "       'fever_yn', 'sfever_yn', 'chills_yn', 'myalgia_yn', 'runnose_yn',\n",
       "       'sthroat_yn', 'cough_yn', 'sob_yn', 'nauseavomit_yn', 'headache_yn',\n",
       "       'abdom_yn', 'diarrhea_yn', 'medcond_yn', 'res_county', 'age_group'],\n",
       "      dtype='object')"
      ]
     },
     "execution_count": 32,
     "metadata": {},
     "output_type": "execute_result"
    }
   ],
   "source": [
    "# df with feature selection\n",
    "X_eda=X.drop(drop_features_eda, axis=1, errors='ignore') \n",
    "# 'errors = ignore' so does not warn if label does not exist\n",
    "\n",
    "print(len(X_eda.columns))\n",
    "X_eda.columns"
   ]
  },
  {
   "cell_type": "code",
   "execution_count": 33,
   "id": "71fa0243",
   "metadata": {
    "ExecuteTime": {
     "end_time": "2022-11-10T07:52:53.249706Z",
     "start_time": "2022-11-10T07:52:52.906362Z"
    }
   },
   "outputs": [],
   "source": [
    "X_train_eda, X_test_eda, y_train, y_test = train_test_split(\n",
    "    X_eda, y, test_size=0.33, random_state=42)"
   ]
  },
  {
   "cell_type": "code",
   "execution_count": 34,
   "id": "bcd5cbbf",
   "metadata": {
    "ExecuteTime": {
     "end_time": "2022-11-10T07:52:53.295585Z",
     "start_time": "2022-11-10T07:52:53.250709Z"
    }
   },
   "outputs": [],
   "source": [
    "X_train_eda1, X_test_eda1 = X_train_eda.copy(), X_test_eda.copy()"
   ]
  },
  {
   "cell_type": "markdown",
   "id": "8c99af18",
   "metadata": {},
   "source": [
    "## Feature scaling"
   ]
  },
  {
   "cell_type": "code",
   "execution_count": 35,
   "id": "790e0475",
   "metadata": {
    "ExecuteTime": {
     "end_time": "2022-11-10T07:52:54.337805Z",
     "start_time": "2022-11-10T07:52:53.296583Z"
    }
   },
   "outputs": [],
   "source": [
    "from sklearn.preprocessing import StandardScaler\n",
    "scale=StandardScaler()\n",
    "X_train = scale.fit_transform(X_train)\n",
    "X_test = scale.transform(X_test)\n",
    "\n",
    "X_train_eda = scale.fit_transform(X_train_eda)\n",
    "X_test_eda = scale.transform(X_test_eda)"
   ]
  },
  {
   "cell_type": "markdown",
   "id": "c626c7c5",
   "metadata": {},
   "source": [
    "## Class imbalance"
   ]
  },
  {
   "cell_type": "code",
   "execution_count": 36,
   "id": "5dbf2869",
   "metadata": {
    "ExecuteTime": {
     "end_time": "2022-11-10T07:52:54.353772Z",
     "start_time": "2022-11-10T07:52:54.339808Z"
    }
   },
   "outputs": [
    {
     "data": {
      "text/plain": [
       "0    0.933405\n",
       "1    0.066595\n",
       "Name: pna_yn, dtype: float64"
      ]
     },
     "execution_count": 36,
     "metadata": {},
     "output_type": "execute_result"
    }
   ],
   "source": [
    "y_train.value_counts(normalize=True)"
   ]
  },
  {
   "cell_type": "markdown",
   "id": "34864670",
   "metadata": {},
   "source": [
    "# Logistic Regression\n",
    "https://www.analyticsvidhya.com/blog/2021/09/guide-for-building-an-end-to-end-logistic-regression-model/"
   ]
  },
  {
   "cell_type": "markdown",
   "id": "a6734d6e",
   "metadata": {},
   "source": [
    "## Hyperparameter Tuning\n",
    "Penalty: l1 vs elastic net\n",
    "(with solver as 'saga')"
   ]
  },
  {
   "cell_type": "code",
   "execution_count": 37,
   "id": "6d52912c",
   "metadata": {
    "ExecuteTime": {
     "end_time": "2022-11-10T07:53:41.715242Z",
     "start_time": "2022-11-10T07:52:54.355765Z"
    }
   },
   "outputs": [
    {
     "name": "stdout",
     "output_type": "stream",
     "text": [
      "Fitting 5 folds for each of 2 candidates, totalling 10 fits\n",
      "[CV] END .........................................penalty=l1; total time=   7.8s\n",
      "[CV] END .........................................penalty=l1; total time=   7.3s\n",
      "[CV] END .........................................penalty=l1; total time=   7.2s\n",
      "[CV] END .........................................penalty=l1; total time=   7.8s\n",
      "[CV] END .........................................penalty=l1; total time=   7.1s\n",
      "[CV] END .................................penalty=elasticnet; total time=   0.0s\n",
      "[CV] END .................................penalty=elasticnet; total time=   0.0s\n",
      "[CV] END .................................penalty=elasticnet; total time=   0.0s\n",
      "[CV] END .................................penalty=elasticnet; total time=   0.0s\n",
      "[CV] END .................................penalty=elasticnet; total time=   0.0s\n"
     ]
    }
   ],
   "source": [
    "from sklearn.linear_model import LogisticRegression\n",
    "from sklearn.model_selection import StratifiedKFold\n",
    "from sklearn.model_selection import cross_val_score\n",
    "from sklearn.model_selection import RandomizedSearchCV\n",
    "from scipy.stats import uniform\n",
    "\n",
    "# create model\n",
    "lr = LogisticRegression(solver='saga',\n",
    "                        random_state=0)\n",
    "\n",
    "# hyperparameters\n",
    "distributions = dict(penalty = ['l1','elasticnet'])\n",
    "\n",
    "# prepare crossvalidation\n",
    "kfold = StratifiedKFold(n_splits=5, random_state=1, shuffle=True)\n",
    "\n",
    "# create the random search\n",
    "lr_search = RandomizedSearchCV(lr,\n",
    "                               distributions,\n",
    "                               random_state=0,\n",
    "                               cv = kfold,\n",
    "                               scoring=\"f1\",\n",
    "                               verbose=2)\n",
    "\n",
    "#fit the model\n",
    "search = lr_search.fit(X_train, y_train)"
   ]
  },
  {
   "cell_type": "code",
   "execution_count": 38,
   "id": "7f6525d2",
   "metadata": {
    "ExecuteTime": {
     "end_time": "2022-11-10T07:53:41.731100Z",
     "start_time": "2022-11-10T07:53:41.716140Z"
    }
   },
   "outputs": [
    {
     "name": "stdout",
     "output_type": "stream",
     "text": [
      "Best F1 score:  0.7469539467369394\n",
      "Best hyperparameters:  {'penalty': 'l1'}\n"
     ]
    }
   ],
   "source": [
    "# obtain best hyperparameter\n",
    "print(\"Best F1 score: \", search.best_score_)\n",
    "print(\"Best hyperparameters: \", search.best_params_)\n",
    "# print(search.best_estimator_)"
   ]
  },
  {
   "cell_type": "markdown",
   "id": "653a0a6b",
   "metadata": {},
   "source": [
    "According to random-search cross-validation, the best penalty is the 'l1'"
   ]
  },
  {
   "cell_type": "markdown",
   "id": "35574ce5",
   "metadata": {},
   "source": [
    "Since penalty is 'l1', can tune for solver: 'saga vs sag'"
   ]
  },
  {
   "cell_type": "code",
   "execution_count": 39,
   "id": "e1aa9efa",
   "metadata": {
    "ExecuteTime": {
     "end_time": "2022-11-10T07:54:27.852086Z",
     "start_time": "2022-11-10T07:53:41.733065Z"
    }
   },
   "outputs": [
    {
     "name": "stdout",
     "output_type": "stream",
     "text": [
      "Fitting 5 folds for each of 2 candidates, totalling 10 fits\n",
      "[CV] END .........................................solver=sag; total time=   0.0s\n",
      "[CV] END .........................................solver=sag; total time=   0.0s\n",
      "[CV] END .........................................solver=sag; total time=   0.0s\n",
      "[CV] END .........................................solver=sag; total time=   0.0s\n",
      "[CV] END .........................................solver=sag; total time=   0.0s\n",
      "[CV] END ........................................solver=saga; total time=   7.0s\n",
      "[CV] END ........................................solver=saga; total time=   7.1s\n",
      "[CV] END ........................................solver=saga; total time=   7.1s\n",
      "[CV] END ........................................solver=saga; total time=   7.6s\n",
      "[CV] END ........................................solver=saga; total time=   7.0s\n"
     ]
    }
   ],
   "source": [
    "# create model\n",
    "lr = LogisticRegression(penalty='l1',\n",
    "                        random_state=0)\n",
    "\n",
    "# hyperparameters\n",
    "distributions = dict(solver = ['sag','saga'])\n",
    "\n",
    "# prepare crossvalidation\n",
    "kfold = StratifiedKFold(n_splits=5, random_state=1, shuffle=True)\n",
    "\n",
    "# create the random search\n",
    "lr_search = RandomizedSearchCV(lr,\n",
    "                               distributions,\n",
    "                               random_state=0,\n",
    "                               cv = kfold,\n",
    "                               scoring=\"f1\",\n",
    "                               verbose=2)\n",
    "\n",
    "#fit the model\n",
    "search = lr_search.fit(X_train, y_train)"
   ]
  },
  {
   "cell_type": "code",
   "execution_count": 40,
   "id": "761a1c8e",
   "metadata": {
    "ExecuteTime": {
     "end_time": "2022-11-10T07:54:27.867941Z",
     "start_time": "2022-11-10T07:54:27.852954Z"
    }
   },
   "outputs": [
    {
     "name": "stdout",
     "output_type": "stream",
     "text": [
      "Best F1 score:  0.7469539467369394\n",
      "Best hyperparameters:  {'solver': 'saga'}\n"
     ]
    }
   ],
   "source": [
    "# obtain best hyperparameter\n",
    "print(\"Best F1 score: \", search.best_score_)\n",
    "print(\"Best hyperparameters: \", search.best_params_)\n",
    "# print(search.best_estimator_)"
   ]
  },
  {
   "cell_type": "markdown",
   "id": "5b6164b6",
   "metadata": {},
   "source": [
    "## All Features\n",
    "### Model"
   ]
  },
  {
   "cell_type": "code",
   "execution_count": 41,
   "id": "56f9ab68",
   "metadata": {
    "ExecuteTime": {
     "end_time": "2022-11-10T08:00:40.126388Z",
     "start_time": "2022-11-10T08:00:24.730766Z"
    }
   },
   "outputs": [
    {
     "name": "stdout",
     "output_type": "stream",
     "text": [
      "f1 score validation dataset: 0.747 (0.002)\n"
     ]
    }
   ],
   "source": [
    "# evaluate a logistic regression model using stratified k-fold cross-validation\n",
    "from numpy import mean\n",
    "from numpy import std\n",
    "from sklearn.model_selection import StratifiedKFold\n",
    "from sklearn.model_selection import cross_val_score\n",
    "from sklearn.linear_model import LogisticRegression\n",
    "\n",
    "# prepare the cross-validation procedure\n",
    "cv = StratifiedKFold(n_splits=5, shuffle=True, random_state=1)\n",
    "\n",
    "# create model\n",
    "model = LogisticRegression(penalty = 'l1',\n",
    "                        solver='saga',\n",
    "                        random_state=0)\n",
    "\n",
    "# evaluate model\n",
    "scores = cross_val_score(model, X_train, y_train, scoring='f1', cv=cv, n_jobs=-1)\n",
    "\n",
    "# report performance\n",
    "print('f1 score validation dataset: %.3f (%.3f)' % (mean(scores), std(scores)))"
   ]
  },
  {
   "cell_type": "code",
   "execution_count": 42,
   "id": "9bc54504",
   "metadata": {
    "ExecuteTime": {
     "end_time": "2022-11-10T07:54:47.621088Z",
     "start_time": "2022-11-10T07:54:38.534839Z"
    }
   },
   "outputs": [
    {
     "data": {
      "text/html": [
       "<style>#sk-container-id-1 {color: black;background-color: white;}#sk-container-id-1 pre{padding: 0;}#sk-container-id-1 div.sk-toggleable {background-color: white;}#sk-container-id-1 label.sk-toggleable__label {cursor: pointer;display: block;width: 100%;margin-bottom: 0;padding: 0.3em;box-sizing: border-box;text-align: center;}#sk-container-id-1 label.sk-toggleable__label-arrow:before {content: \"▸\";float: left;margin-right: 0.25em;color: #696969;}#sk-container-id-1 label.sk-toggleable__label-arrow:hover:before {color: black;}#sk-container-id-1 div.sk-estimator:hover label.sk-toggleable__label-arrow:before {color: black;}#sk-container-id-1 div.sk-toggleable__content {max-height: 0;max-width: 0;overflow: hidden;text-align: left;background-color: #f0f8ff;}#sk-container-id-1 div.sk-toggleable__content pre {margin: 0.2em;color: black;border-radius: 0.25em;background-color: #f0f8ff;}#sk-container-id-1 input.sk-toggleable__control:checked~div.sk-toggleable__content {max-height: 200px;max-width: 100%;overflow: auto;}#sk-container-id-1 input.sk-toggleable__control:checked~label.sk-toggleable__label-arrow:before {content: \"▾\";}#sk-container-id-1 div.sk-estimator input.sk-toggleable__control:checked~label.sk-toggleable__label {background-color: #d4ebff;}#sk-container-id-1 div.sk-label input.sk-toggleable__control:checked~label.sk-toggleable__label {background-color: #d4ebff;}#sk-container-id-1 input.sk-hidden--visually {border: 0;clip: rect(1px 1px 1px 1px);clip: rect(1px, 1px, 1px, 1px);height: 1px;margin: -1px;overflow: hidden;padding: 0;position: absolute;width: 1px;}#sk-container-id-1 div.sk-estimator {font-family: monospace;background-color: #f0f8ff;border: 1px dotted black;border-radius: 0.25em;box-sizing: border-box;margin-bottom: 0.5em;}#sk-container-id-1 div.sk-estimator:hover {background-color: #d4ebff;}#sk-container-id-1 div.sk-parallel-item::after {content: \"\";width: 100%;border-bottom: 1px solid gray;flex-grow: 1;}#sk-container-id-1 div.sk-label:hover label.sk-toggleable__label {background-color: #d4ebff;}#sk-container-id-1 div.sk-serial::before {content: \"\";position: absolute;border-left: 1px solid gray;box-sizing: border-box;top: 0;bottom: 0;left: 50%;z-index: 0;}#sk-container-id-1 div.sk-serial {display: flex;flex-direction: column;align-items: center;background-color: white;padding-right: 0.2em;padding-left: 0.2em;position: relative;}#sk-container-id-1 div.sk-item {position: relative;z-index: 1;}#sk-container-id-1 div.sk-parallel {display: flex;align-items: stretch;justify-content: center;background-color: white;position: relative;}#sk-container-id-1 div.sk-item::before, #sk-container-id-1 div.sk-parallel-item::before {content: \"\";position: absolute;border-left: 1px solid gray;box-sizing: border-box;top: 0;bottom: 0;left: 50%;z-index: -1;}#sk-container-id-1 div.sk-parallel-item {display: flex;flex-direction: column;z-index: 1;position: relative;background-color: white;}#sk-container-id-1 div.sk-parallel-item:first-child::after {align-self: flex-end;width: 50%;}#sk-container-id-1 div.sk-parallel-item:last-child::after {align-self: flex-start;width: 50%;}#sk-container-id-1 div.sk-parallel-item:only-child::after {width: 0;}#sk-container-id-1 div.sk-dashed-wrapped {border: 1px dashed gray;margin: 0 0.4em 0.5em 0.4em;box-sizing: border-box;padding-bottom: 0.4em;background-color: white;}#sk-container-id-1 div.sk-label label {font-family: monospace;font-weight: bold;display: inline-block;line-height: 1.2em;}#sk-container-id-1 div.sk-label-container {text-align: center;}#sk-container-id-1 div.sk-container {/* jupyter's `normalize.less` sets `[hidden] { display: none; }` but bootstrap.min.css set `[hidden] { display: none !important; }` so we also need the `!important` here to be able to override the default hidden behavior on the sphinx rendered scikit-learn.org. See: https://github.com/scikit-learn/scikit-learn/issues/21755 */display: inline-block !important;position: relative;}#sk-container-id-1 div.sk-text-repr-fallback {display: none;}</style><div id=\"sk-container-id-1\" class=\"sk-top-container\"><div class=\"sk-text-repr-fallback\"><pre>LogisticRegression(penalty=&#x27;l1&#x27;, random_state=0, solver=&#x27;saga&#x27;)</pre><b>In a Jupyter environment, please rerun this cell to show the HTML representation or trust the notebook. <br />On GitHub, the HTML representation is unable to render, please try loading this page with nbviewer.org.</b></div><div class=\"sk-container\" hidden><div class=\"sk-item\"><div class=\"sk-estimator sk-toggleable\"><input class=\"sk-toggleable__control sk-hidden--visually\" id=\"sk-estimator-id-1\" type=\"checkbox\" checked><label for=\"sk-estimator-id-1\" class=\"sk-toggleable__label sk-toggleable__label-arrow\">LogisticRegression</label><div class=\"sk-toggleable__content\"><pre>LogisticRegression(penalty=&#x27;l1&#x27;, random_state=0, solver=&#x27;saga&#x27;)</pre></div></div></div></div></div>"
      ],
      "text/plain": [
       "LogisticRegression(penalty='l1', random_state=0, solver='saga')"
      ]
     },
     "execution_count": 42,
     "metadata": {},
     "output_type": "execute_result"
    }
   ],
   "source": [
    "# create model with best params\n",
    "lr2 = LogisticRegression(penalty = 'l1',\n",
    "                        solver='saga',\n",
    "                        random_state=0)\n",
    "\n",
    "# fit model\n",
    "lr2.fit(X_train, y_train)"
   ]
  },
  {
   "cell_type": "code",
   "execution_count": 43,
   "id": "f6bf65d9",
   "metadata": {
    "ExecuteTime": {
     "end_time": "2022-11-10T07:54:47.699548Z",
     "start_time": "2022-11-10T07:54:47.623063Z"
    }
   },
   "outputs": [],
   "source": [
    "# predict probabilities on test and take probability for class 1([:1])\n",
    "y_pred_prob_test = lr2.predict_proba(X_test)[:, 1]\n",
    "\n",
    "#predict labels on test dataset\n",
    "y_pred_test = lr2.predict(X_test)"
   ]
  },
  {
   "cell_type": "code",
   "execution_count": 44,
   "id": "e5d3796b",
   "metadata": {
    "ExecuteTime": {
     "end_time": "2022-11-10T07:54:48.173895Z",
     "start_time": "2022-11-10T07:54:47.700546Z"
    }
   },
   "outputs": [
    {
     "name": "stdout",
     "output_type": "stream",
     "text": [
      "Confusion Matrix is : \n",
      " [[462862   3950]\n",
      " [ 10889  22336]]\n",
      "\n",
      "\n",
      "ROC-AUC score test dataset:  \t 0.9564909148867646\n",
      "Precision score test dataset:\t 0.84972989424028\n",
      "Recall score test dataset:  \t 0.6722648607975922\n",
      "f1 score test dataset :  \t 0.750651140125355\n"
     ]
    }
   ],
   "source": [
    "from sklearn.metrics import confusion_matrix, roc_auc_score, precision_score, recall_score, f1_score\n",
    "\n",
    "# create onfusion matrix\n",
    "cm = confusion_matrix(y_test, y_pred_test)\n",
    "print(\"Confusion Matrix is : \\n\", cm)\n",
    "print(\"\\n\")\n",
    "\n",
    "# ROC- AUC score\n",
    "print(\"ROC-AUC score test dataset:  \\t\", roc_auc_score(y_test,y_pred_prob_test))\n",
    "#Precision score\n",
    "print(\"Precision score test dataset:\\t\", precision_score(y_test,y_pred_test))\n",
    "#Recall Score\n",
    "print(\"Recall score test dataset:  \\t\", recall_score(y_test,y_pred_test))\n",
    "#f1 score\n",
    "print(\"f1 score test dataset :  \\t\", f1_score(y_test,y_pred_test))"
   ]
  },
  {
   "cell_type": "markdown",
   "id": "bb452b00",
   "metadata": {},
   "source": [
    "### Feature importance\n",
    "https://machinelearningmastery.com/calculate-feature-importance-with-python/\n",
    "https://zetcode.com/python/fstring/\n",
    "https://realpython.com/python-formatted-output/\n",
    "https://stackoverflow.com/questions/59890977/f-string-multiple-format-specifiers"
   ]
  },
  {
   "cell_type": "code",
   "execution_count": 45,
   "id": "5bc20683",
   "metadata": {
    "ExecuteTime": {
     "end_time": "2022-11-10T07:54:48.189872Z",
     "start_time": "2022-11-10T07:54:48.175890Z"
    }
   },
   "outputs": [
    {
     "name": "stdout",
     "output_type": "stream",
     "text": [
      "(0) race_ethnicity_combined  :             0.024             \n",
      "(1) current_status           :             -0.068            \n",
      "(2) sex                      :             0.057             \n",
      "(3) hosp_yn                  :             0.646             \n",
      "(4) icu_yn                   :             -0.076            \n",
      "(5) death_yn                 :             0.123             \n",
      "(6) hc_work_yn               :             -0.011            \n",
      "(7) pna_yn                   :             1.222             \n",
      "(8) abxchest_yn              :             0.346             \n",
      "(9) acuterespdistress_yn     :             0.050             \n",
      "(10) mechvent_yn              :             0.174             \n",
      "(11) fever_yn                 :             0.110             \n",
      "(12) sfever_yn                :             0.076             \n",
      "(13) chills_yn                :             0.020             \n",
      "(14) myalgia_yn               :             -0.138            \n",
      "(15) runnose_yn               :             -0.031            \n",
      "(16) sthroat_yn               :             0.228             \n",
      "(17) cough_yn                 :             0.513             \n",
      "(18) sob_yn                   :             0.176             \n",
      "(19) nauseavomit_yn           :             -0.064            \n",
      "(20) headache_yn              :             0.037             \n",
      "(21) abdom_yn                 :             0.053             \n",
      "(22) diarrhea_yn              :             0.144             \n",
      "(23) medcond_yn               :             0.107             \n",
      "(24) res_county               :             0.206             \n",
      "(25) res_state                :             0.456             \n"
     ]
    }
   ],
   "source": [
    "# get importance\n",
    "importance = lr2.coef_[0]\n",
    "\n",
    "# summarize feature importance\n",
    "features = df_cleaned.columns\n",
    "for i,v in enumerate(importance):\n",
    "    print(f'({i}) {features[i] : <25}: {v : ^30.3f}')"
   ]
  },
  {
   "cell_type": "code",
   "execution_count": 46,
   "id": "a8b447af",
   "metadata": {
    "ExecuteTime": {
     "end_time": "2022-11-10T07:54:48.485093Z",
     "start_time": "2022-11-10T07:54:48.190874Z"
    },
    "scrolled": true
   },
   "outputs": [
    {
     "data": {
      "image/png": "[encoded data removed]",
      "text/plain": [
       "<Figure size 648x432 with 1 Axes>"
      ]
     },
     "metadata": {
      "needs_background": "light"
     },
     "output_type": "display_data"
    }
   ],
   "source": [
    "# plot feature importance\n",
    "plt.bar([x for x in range(len(importance))], importance)\n",
    "plt.title('Feature Importance for All Logistic Regression')\n",
    "plt.xlabel('Feature #')\n",
    "plt.ylabel('Feature Coefficient')\n",
    "plt.savefig('Feature Importance for All Logistic Regression.jpg', bbox_inches='tight')\n",
    "plt.show()"
   ]
  },
  {
   "cell_type": "markdown",
   "id": "88e4caed",
   "metadata": {},
   "source": [
    "Note: May need to un-normalize features to extract analysis"
   ]
  },
  {
   "cell_type": "markdown",
   "id": "d6d9c222",
   "metadata": {},
   "source": [
    "### Regularization Path\n",
    "https://scikit-learn.org/stable/auto_examples/linear_model/plot_logistic_path.html"
   ]
  },
  {
   "cell_type": "raw",
   "id": "a9d58f3e",
   "metadata": {
    "ExecuteTime": {
     "start_time": "2022-11-08T16:23:56.515Z"
    }
   },
   "source": [
    "%%time\n",
    "\n",
    "from sklearn import linear_model\n",
    "from sklearn.svm import l1_min_c\n",
    "\n",
    "cs = l1_min_c(X_train, y_train, loss=\"log\") * np.logspace(0, 7, 16)\n",
    "\n",
    "clf = linear_model.LogisticRegression(\n",
    "    penalty=\"l1\",\n",
    "    solver=\"saga\",\n",
    "    tol=1e-6,\n",
    "    max_iter=int(1e6),\n",
    "    warm_start=True,\n",
    "    intercept_scaling=10000.0,\n",
    "    random_state=0\n",
    ")\n",
    "\n",
    "coefs_ = []\n",
    "for c in cs:\n",
    "    clf.set_params(C=c)\n",
    "    clf.fit(X, y)\n",
    "    coefs_.append(clf.coef_.ravel().copy())\n",
    "\n",
    "coefs_ = np.array(coefs_)"
   ]
  },
  {
   "cell_type": "raw",
   "id": "01f1c7ec",
   "metadata": {
    "ExecuteTime": {
     "start_time": "2022-11-08T15:11:39.661Z"
    }
   },
   "source": [
    "import matplotlib.pyplot as plt\n",
    "\n",
    "plt.plot(np.log10(cs), coefs_, marker=\"o\")\n",
    "ymin, ymax = plt.ylim()\n",
    "plt.xlabel(\"log(C)\")\n",
    "plt.ylabel(\"Coefficients\")\n",
    "plt.title(\"Logistic Regression Path\")\n",
    "plt.axis(\"tight\")\n",
    "plt.savefig('regularization_path 1.jpg', bbox_inches='tight')\n",
    "plt.show()"
   ]
  },
  {
   "cell_type": "code",
   "execution_count": 47,
   "id": "69a913ef",
   "metadata": {
    "ExecuteTime": {
     "end_time": "2022-11-10T07:56:53.275856Z",
     "start_time": "2022-11-10T07:54:48.487074Z"
    }
   },
   "outputs": [
    {
     "name": "stdout",
     "output_type": "stream",
     "text": [
      "CPU times: total: 2min 5s\n",
      "Wall time: 2min 4s\n"
     ]
    }
   ],
   "source": [
    "%%time\n",
    "\n",
    "from sklearn import linear_model\n",
    "from sklearn.svm import l1_min_c\n",
    "\n",
    "cs = l1_min_c(X_train, y_train, loss=\"log\") * np.logspace(0, 7, 16)\n",
    "\n",
    "clf = linear_model.LogisticRegression(\n",
    "    penalty=\"l1\",\n",
    "    solver=\"saga\",\n",
    "    tol=1e-4,\n",
    "    max_iter=int(1e4),\n",
    "    warm_start=True,\n",
    "    intercept_scaling=10000.0,\n",
    "    random_state=0\n",
    ")\n",
    "\n",
    "coefs_ = []\n",
    "for c in cs:\n",
    "    clf.set_params(C=c)\n",
    "    clf.fit(X_train, y_train)\n",
    "    coefs_.append(clf.coef_.ravel().copy())\n",
    "\n",
    "coefs_ = np.array(coefs_)"
   ]
  },
  {
   "cell_type": "code",
   "execution_count": 48,
   "id": "c4678538",
   "metadata": {
    "ExecuteTime": {
     "end_time": "2022-11-10T07:56:53.556644Z",
     "start_time": "2022-11-10T07:56:53.277850Z"
    },
    "scrolled": false
   },
   "outputs": [
    {
     "data": {
      "image/png": "[encoded data removed]",
      "text/plain": [
       "<Figure size 648x432 with 1 Axes>"
      ]
     },
     "metadata": {
      "needs_background": "light"
     },
     "output_type": "display_data"
    }
   ],
   "source": [
    "import matplotlib.pyplot as plt\n",
    "\n",
    "plt.plot(np.log10(cs), coefs_, marker=\"o\")\n",
    "ymin, ymax = plt.ylim()\n",
    "plt.xlabel(\"log(C)\")\n",
    "plt.ylabel(\"Coefficients\")\n",
    "plt.title(\"All Logistic Regression Path\")\n",
    "plt.axis(\"tight\")\n",
    "plt.savefig('regularization_path_all.jpg', bbox_inches='tight')\n",
    "plt.show()"
   ]
  },
  {
   "cell_type": "markdown",
   "id": "58f727df",
   "metadata": {},
   "source": [
    "https://scikit-learn.org/stable/modules/generated/sklearn.linear_model.lasso_path.html#sklearn.linear_model.lasso_path\n",
    "\n",
    "https://scikit-learn.org/stable/auto_examples/linear_model/plot_lasso_coordinate_descent_path.html#sphx-glr-auto-examples-linear-model-plot-lasso-coordinate-descent-path-py"
   ]
  },
  {
   "cell_type": "markdown",
   "id": "cec7c32d",
   "metadata": {},
   "source": [
    "## EDA Features\n",
    "### Model"
   ]
  },
  {
   "cell_type": "code",
   "execution_count": 49,
   "id": "f4ef91ce",
   "metadata": {
    "ExecuteTime": {
     "end_time": "2022-11-10T07:57:01.801584Z",
     "start_time": "2022-11-10T07:56:53.557614Z"
    }
   },
   "outputs": [
    {
     "name": "stdout",
     "output_type": "stream",
     "text": [
      "f1 score validation dataset: 0.711 (0.002)\n"
     ]
    }
   ],
   "source": [
    "# evaluate a logistic regression model using stratified k-fold cross-validation\n",
    "from numpy import mean\n",
    "from numpy import std\n",
    "from sklearn.model_selection import StratifiedKFold\n",
    "from sklearn.model_selection import cross_val_score\n",
    "from sklearn.linear_model import LogisticRegression\n",
    "\n",
    "# prepare the cross-validation procedure\n",
    "cv = StratifiedKFold(n_splits=5, shuffle=True, random_state=1)\n",
    "\n",
    "# create model\n",
    "model = LogisticRegression(penalty = 'l1',\n",
    "                        solver='saga',\n",
    "                        random_state=0)\n",
    "\n",
    "# evaluate model\n",
    "scores = cross_val_score(model, X_train_eda, y_train, scoring='f1', cv=cv, n_jobs=-1)\n",
    "\n",
    "# report performance\n",
    "print('f1 score validation dataset: %.3f (%.3f)' % (mean(scores), std(scores)))"
   ]
  },
  {
   "cell_type": "code",
   "execution_count": 50,
   "id": "2fa2b7f2",
   "metadata": {
    "ExecuteTime": {
     "end_time": "2022-11-10T07:57:09.095118Z",
     "start_time": "2022-11-10T07:57:01.803577Z"
    }
   },
   "outputs": [
    {
     "data": {
      "text/html": [
       "<style>#sk-container-id-2 {color: black;background-color: white;}#sk-container-id-2 pre{padding: 0;}#sk-container-id-2 div.sk-toggleable {background-color: white;}#sk-container-id-2 label.sk-toggleable__label {cursor: pointer;display: block;width: 100%;margin-bottom: 0;padding: 0.3em;box-sizing: border-box;text-align: center;}#sk-container-id-2 label.sk-toggleable__label-arrow:before {content: \"▸\";float: left;margin-right: 0.25em;color: #696969;}#sk-container-id-2 label.sk-toggleable__label-arrow:hover:before {color: black;}#sk-container-id-2 div.sk-estimator:hover label.sk-toggleable__label-arrow:before {color: black;}#sk-container-id-2 div.sk-toggleable__content {max-height: 0;max-width: 0;overflow: hidden;text-align: left;background-color: #f0f8ff;}#sk-container-id-2 div.sk-toggleable__content pre {margin: 0.2em;color: black;border-radius: 0.25em;background-color: #f0f8ff;}#sk-container-id-2 input.sk-toggleable__control:checked~div.sk-toggleable__content {max-height: 200px;max-width: 100%;overflow: auto;}#sk-container-id-2 input.sk-toggleable__control:checked~label.sk-toggleable__label-arrow:before {content: \"▾\";}#sk-container-id-2 div.sk-estimator input.sk-toggleable__control:checked~label.sk-toggleable__label {background-color: #d4ebff;}#sk-container-id-2 div.sk-label input.sk-toggleable__control:checked~label.sk-toggleable__label {background-color: #d4ebff;}#sk-container-id-2 input.sk-hidden--visually {border: 0;clip: rect(1px 1px 1px 1px);clip: rect(1px, 1px, 1px, 1px);height: 1px;margin: -1px;overflow: hidden;padding: 0;position: absolute;width: 1px;}#sk-container-id-2 div.sk-estimator {font-family: monospace;background-color: #f0f8ff;border: 1px dotted black;border-radius: 0.25em;box-sizing: border-box;margin-bottom: 0.5em;}#sk-container-id-2 div.sk-estimator:hover {background-color: #d4ebff;}#sk-container-id-2 div.sk-parallel-item::after {content: \"\";width: 100%;border-bottom: 1px solid gray;flex-grow: 1;}#sk-container-id-2 div.sk-label:hover label.sk-toggleable__label {background-color: #d4ebff;}#sk-container-id-2 div.sk-serial::before {content: \"\";position: absolute;border-left: 1px solid gray;box-sizing: border-box;top: 0;bottom: 0;left: 50%;z-index: 0;}#sk-container-id-2 div.sk-serial {display: flex;flex-direction: column;align-items: center;background-color: white;padding-right: 0.2em;padding-left: 0.2em;position: relative;}#sk-container-id-2 div.sk-item {position: relative;z-index: 1;}#sk-container-id-2 div.sk-parallel {display: flex;align-items: stretch;justify-content: center;background-color: white;position: relative;}#sk-container-id-2 div.sk-item::before, #sk-container-id-2 div.sk-parallel-item::before {content: \"\";position: absolute;border-left: 1px solid gray;box-sizing: border-box;top: 0;bottom: 0;left: 50%;z-index: -1;}#sk-container-id-2 div.sk-parallel-item {display: flex;flex-direction: column;z-index: 1;position: relative;background-color: white;}#sk-container-id-2 div.sk-parallel-item:first-child::after {align-self: flex-end;width: 50%;}#sk-container-id-2 div.sk-parallel-item:last-child::after {align-self: flex-start;width: 50%;}#sk-container-id-2 div.sk-parallel-item:only-child::after {width: 0;}#sk-container-id-2 div.sk-dashed-wrapped {border: 1px dashed gray;margin: 0 0.4em 0.5em 0.4em;box-sizing: border-box;padding-bottom: 0.4em;background-color: white;}#sk-container-id-2 div.sk-label label {font-family: monospace;font-weight: bold;display: inline-block;line-height: 1.2em;}#sk-container-id-2 div.sk-label-container {text-align: center;}#sk-container-id-2 div.sk-container {/* jupyter's `normalize.less` sets `[hidden] { display: none; }` but bootstrap.min.css set `[hidden] { display: none !important; }` so we also need the `!important` here to be able to override the default hidden behavior on the sphinx rendered scikit-learn.org. See: https://github.com/scikit-learn/scikit-learn/issues/21755 */display: inline-block !important;position: relative;}#sk-container-id-2 div.sk-text-repr-fallback {display: none;}</style><div id=\"sk-container-id-2\" class=\"sk-top-container\"><div class=\"sk-text-repr-fallback\"><pre>LogisticRegression(penalty=&#x27;l1&#x27;, random_state=0, solver=&#x27;saga&#x27;)</pre><b>In a Jupyter environment, please rerun this cell to show the HTML representation or trust the notebook. <br />On GitHub, the HTML representation is unable to render, please try loading this page with nbviewer.org.</b></div><div class=\"sk-container\" hidden><div class=\"sk-item\"><div class=\"sk-estimator sk-toggleable\"><input class=\"sk-toggleable__control sk-hidden--visually\" id=\"sk-estimator-id-2\" type=\"checkbox\" checked><label for=\"sk-estimator-id-2\" class=\"sk-toggleable__label sk-toggleable__label-arrow\">LogisticRegression</label><div class=\"sk-toggleable__content\"><pre>LogisticRegression(penalty=&#x27;l1&#x27;, random_state=0, solver=&#x27;saga&#x27;)</pre></div></div></div></div></div>"
      ],
      "text/plain": [
       "LogisticRegression(penalty='l1', random_state=0, solver='saga')"
      ]
     },
     "execution_count": 50,
     "metadata": {},
     "output_type": "execute_result"
    }
   ],
   "source": [
    "# create model with best params\n",
    "lr3 = LogisticRegression(penalty = 'l1',\n",
    "                        solver='saga',\n",
    "                        random_state=0)\n",
    "\n",
    "# fit model\n",
    "lr3.fit(X_train_eda, y_train)"
   ]
  },
  {
   "cell_type": "code",
   "execution_count": 51,
   "id": "4d999df7",
   "metadata": {
    "ExecuteTime": {
     "end_time": "2022-11-10T07:57:09.158917Z",
     "start_time": "2022-11-10T07:57:09.096085Z"
    }
   },
   "outputs": [],
   "source": [
    "# predict probabilities on Test and take probability for class 1([:1])\n",
    "y_pred_prob_test_eda = lr3.predict_proba(X_test_eda)[:, 1]\n",
    "\n",
    "#predict labels on test dataset\n",
    "y_pred_test_eda = lr3.predict(X_test_eda)"
   ]
  },
  {
   "cell_type": "code",
   "execution_count": 52,
   "id": "01370e71",
   "metadata": {
    "ExecuteTime": {
     "end_time": "2022-11-10T07:57:09.618689Z",
     "start_time": "2022-11-10T07:57:09.159915Z"
    }
   },
   "outputs": [
    {
     "name": "stdout",
     "output_type": "stream",
     "text": [
      "Confusion Matrix is : \n",
      " [[463313   3499]\n",
      " [ 12753  20472]]\n",
      "\n",
      "\n",
      "ROC-AUC score test dataset:  \t 0.9451015825532618\n",
      "Precision score test dataset:\t 0.8540319552792958\n",
      "Recall score test dataset:  \t 0.6161625282167043\n",
      "f1 score test dataset :  \t 0.7158542555423456\n"
     ]
    }
   ],
   "source": [
    "from sklearn.metrics import confusion_matrix, roc_auc_score, precision_score, recall_score, f1_score\n",
    "\n",
    "# create onfusion matrix\n",
    "cm = confusion_matrix(y_test, y_pred_test_eda)\n",
    "print(\"Confusion Matrix is : \\n\", cm)\n",
    "print(\"\\n\")\n",
    "\n",
    "# ROC- AUC score\n",
    "print(\"ROC-AUC score test dataset:  \\t\", roc_auc_score(y_test,y_pred_prob_test_eda))\n",
    "#Precision score\n",
    "print(\"Precision score test dataset:\\t\", precision_score(y_test,y_pred_test_eda))\n",
    "#Recall Score\n",
    "print(\"Recall score test dataset:  \\t\", recall_score(y_test,y_pred_test_eda))\n",
    "#f1 score\n",
    "print(\"f1 score test dataset :  \\t\", f1_score(y_test,y_pred_test_eda))"
   ]
  },
  {
   "cell_type": "markdown",
   "id": "2af83c83",
   "metadata": {},
   "source": [
    "### Feature importance"
   ]
  },
  {
   "cell_type": "code",
   "execution_count": 53,
   "id": "d4fdc1f4",
   "metadata": {
    "ExecuteTime": {
     "end_time": "2022-11-10T07:57:09.634646Z",
     "start_time": "2022-11-10T07:57:09.620684Z"
    }
   },
   "outputs": [
    {
     "name": "stdout",
     "output_type": "stream",
     "text": [
      "(0) current_status           :             -0.124            \n",
      "(1) hc_work_yn               :             0.036             \n",
      "(2) abxchest_yn              :             1.392             \n",
      "(3) acuterespdistress_yn     :             0.492             \n",
      "(4) fever_yn                 :             0.221             \n",
      "(5) sfever_yn                :             0.145             \n",
      "(6) chills_yn                :             0.050             \n",
      "(7) myalgia_yn               :             -0.057            \n",
      "(8) runnose_yn               :             -0.190            \n",
      "(9) sthroat_yn               :             -0.063            \n",
      "(10) cough_yn                 :             0.168             \n",
      "(11) sob_yn                   :             0.682             \n",
      "(12) nauseavomit_yn           :             0.215             \n",
      "(13) headache_yn              :             -0.191            \n",
      "(14) abdom_yn                 :             0.032             \n",
      "(15) diarrhea_yn              :             0.045             \n",
      "(16) medcond_yn               :             0.247             \n",
      "(17) res_county               :             0.329             \n",
      "(18) age_group                :             0.764             \n"
     ]
    }
   ],
   "source": [
    "# get importance\n",
    "importance2 = lr3.coef_[0]\n",
    "\n",
    "# summarize feature importance\n",
    "features_eda = X_eda.columns\n",
    "for i,v in enumerate(importance2):\n",
    "    print(f'({i}) {features_eda[i] : <25}: {v : ^30.3f}')"
   ]
  },
  {
   "cell_type": "code",
   "execution_count": 54,
   "id": "681aab31",
   "metadata": {
    "ExecuteTime": {
     "end_time": "2022-11-10T07:57:09.945063Z",
     "start_time": "2022-11-10T07:57:09.635643Z"
    },
    "scrolled": false
   },
   "outputs": [
    {
     "data": {
      "image/png": "[encoded data removed]",
      "text/plain": [
       "<Figure size 648x432 with 1 Axes>"
      ]
     },
     "metadata": {
      "needs_background": "light"
     },
     "output_type": "display_data"
    }
   ],
   "source": [
    "# plot feature importance\n",
    "plt.bar([x for x in range(len(importance2))], importance2)\n",
    "plt.title('Feature Importance for EDA Logistic Regression')\n",
    "plt.xlabel('Feature #')\n",
    "plt.ylabel('Feature Coefficient')\n",
    "plt.savefig('Feature Importance for EDA Logistic Regression.jpg', bbox_inches='tight')\n",
    "plt.show()"
   ]
  },
  {
   "cell_type": "markdown",
   "id": "dfb2bc74",
   "metadata": {},
   "source": [
    "### Regularization Path"
   ]
  },
  {
   "cell_type": "code",
   "execution_count": 55,
   "id": "1f5e1914",
   "metadata": {
    "ExecuteTime": {
     "end_time": "2022-11-10T07:58:55.837688Z",
     "start_time": "2022-11-10T07:57:09.946060Z"
    }
   },
   "outputs": [
    {
     "name": "stdout",
     "output_type": "stream",
     "text": [
      "CPU times: total: 1min 46s\n",
      "Wall time: 1min 45s\n"
     ]
    }
   ],
   "source": [
    "%%time\n",
    "\n",
    "cs = l1_min_c(X_train_eda, y_train, loss=\"log\") * np.logspace(0, 7, 16)\n",
    "\n",
    "clf = linear_model.LogisticRegression(\n",
    "    penalty=\"l1\",\n",
    "    solver=\"saga\",\n",
    "    tol=1e-4,\n",
    "    max_iter=int(1e4),\n",
    "    warm_start=True,\n",
    "    intercept_scaling=10000.0,\n",
    "    random_state=0\n",
    ")\n",
    "\n",
    "coefs_ = []\n",
    "for c in cs:\n",
    "    clf.set_params(C=c)\n",
    "    clf.fit(X_train_eda, y_train)\n",
    "    coefs_.append(clf.coef_.ravel().copy())\n",
    "\n",
    "coefs_ = np.array(coefs_)"
   ]
  },
  {
   "cell_type": "code",
   "execution_count": 56,
   "id": "092e47dc",
   "metadata": {
    "ExecuteTime": {
     "end_time": "2022-11-10T07:58:56.121608Z",
     "start_time": "2022-11-10T07:58:55.838685Z"
    },
    "scrolled": false
   },
   "outputs": [
    {
     "data": {
      "image/png": "[encoded data removed]",
      "text/plain": [
       "<Figure size 648x432 with 1 Axes>"
      ]
     },
     "metadata": {
      "needs_background": "light"
     },
     "output_type": "display_data"
    }
   ],
   "source": [
    "import matplotlib.pyplot as plt\n",
    "\n",
    "plt.plot(np.log10(cs), coefs_, marker=\"o\")\n",
    "ymin, ymax = plt.ylim()\n",
    "plt.xlabel(\"log(C)\")\n",
    "plt.ylabel(\"Coefficients\")\n",
    "plt.title(\"EDA Logistic Regression Path\")\n",
    "plt.axis(\"tight\")\n",
    "plt.savefig('regularization_path_eda.jpg', bbox_inches='tight')\n",
    "plt.show()"
   ]
  },
  {
   "cell_type": "markdown",
   "id": "47dbf2ba",
   "metadata": {},
   "source": [
    "https://scikit-learn.org/stable/modules/generated/sklearn.linear_model.lasso_path.html#sklearn.linear_model.lasso_path\n",
    "\n",
    "https://scikit-learn.org/stable/auto_examples/linear_model/plot_lasso_coordinate_descent_path.html#sphx-glr-auto-examples-linear-model-plot-lasso-coordinate-descent-path-py"
   ]
  },
  {
   "cell_type": "raw",
   "id": "cd435684",
   "metadata": {
    "ExecuteTime": {
     "end_time": "2022-11-10T07:50:45.301298Z",
     "start_time": "2022-11-10T07:50:45.112826Z"
    }
   },
   "source": [
    "from itertools import cycle\n",
    "from sklearn.linear_model import lasso_path\n",
    "\n",
    "eps = 5e-3\n",
    "\n",
    "alphas_lasso, coefs_lasso, _ = lasso_path(X_test_eda, y_test, \n",
    "                                          alphas=[5., 1., .5],\n",
    "                                         eps=eps)\n",
    "\n",
    "# Display results\n",
    "plt.figure(1)\n",
    "colors = cycle([\"b\", \"r\", \"g\", \"c\", \"k\"])\n",
    "neg_log_alphas_lasso = -np.log10(alphas_lasso)\n",
    "\n",
    "for coef_l, c in zip(coefs_lasso, colors):\n",
    "    l1 = plt.plot(neg_log_alphas_lasso, coef_l, c=c)\n",
    "\n",
    "plt.xlabel(\"-Log(alpha)\")\n",
    "plt.ylabel(\"coefficients\")\n",
    "plt.title(\"Lasso Paths\")\n",
    "plt.axis(\"tight\")\n"
   ]
  },
  {
   "cell_type": "code",
   "execution_count": 57,
   "id": "e58b9b40",
   "metadata": {
    "ExecuteTime": {
     "end_time": "2022-11-10T07:58:56.136544Z",
     "start_time": "2022-11-10T07:58:56.123578Z"
    }
   },
   "outputs": [],
   "source": [
    "drop_features_lr = []"
   ]
  },
  {
   "cell_type": "markdown",
   "id": "34c94a5f",
   "metadata": {},
   "source": [
    "## LR Features\n",
    "### Model"
   ]
  },
  {
   "cell_type": "code",
   "execution_count": 58,
   "id": "f648e23a",
   "metadata": {
    "ExecuteTime": {
     "end_time": "2022-11-10T07:58:56.578390Z",
     "start_time": "2022-11-10T07:58:56.138538Z"
    }
   },
   "outputs": [],
   "source": [
    "X_train_lr= X_train_eda1.drop(drop_features_lr, axis=1)\n",
    "X_test_lr= X_test_eda1.drop(drop_features_lr, axis=1)\n",
    "\n",
    "features_lrc = X_train_lr.columns\n",
    "\n",
    "X_train_lr = scale.fit_transform(X_train_lr)\n",
    "X_test_lr = scale.transform(X_test_lr)"
   ]
  },
  {
   "cell_type": "markdown",
   "id": "5d1a0323",
   "metadata": {},
   "source": [
    "# LinearSVC\n",
    "https://www.youtube.com/watch?v=jzKSAeJpC6s\n",
    "\n",
    "Often in Machine Learning and Data Science, you need to perform a sequence of different transformations of the input data (such as finding a set of features or generating new features) before applying a final estimator. Pipeline gives you a single interface for encapsulating transformers and predictors to simplify the process. Since transformers are usually combined with estimators for preprocessing, using pipeline in scikit-learn can be really useful. To be precise, Pipelines sequentially apply a list of transformers and a final estimator. Therefore, the purpose of the pipeline is to assemble several steps that can be cross-validated while setting different parameters.\n",
    "\n",
    "In summary: Piplelines are built up of a list of transformers and a final estimator, allowing us to make predictions based on the raw input data (basically pre-processing).\n",
    "\n",
    "* https://scikit-learn.org/stable/modules/svm.html\n",
    "* https://scikit-learn.org/stable/modules/generated/sklearn.svm.LinearSVC.html#sklearn.svm.LinearSVC\n",
    "* https://towardsdatascience.com/everything-about-svm-classification-above-and-beyond-cc665bfd993e"
   ]
  },
  {
   "cell_type": "markdown",
   "id": "da47a28d",
   "metadata": {},
   "source": [
    "## Benchmark model"
   ]
  },
  {
   "cell_type": "code",
   "execution_count": 59,
   "id": "468614ce",
   "metadata": {
    "ExecuteTime": {
     "end_time": "2022-11-10T07:59:02.383936Z",
     "start_time": "2022-11-10T07:58:56.579389Z"
    }
   },
   "outputs": [
    {
     "name": "stdout",
     "output_type": "stream",
     "text": [
      "CPU times: total: 5.78 s\n",
      "Wall time: 5.79 s\n"
     ]
    },
    {
     "data": {
      "text/html": [
       "<style>#sk-container-id-3 {color: black;background-color: white;}#sk-container-id-3 pre{padding: 0;}#sk-container-id-3 div.sk-toggleable {background-color: white;}#sk-container-id-3 label.sk-toggleable__label {cursor: pointer;display: block;width: 100%;margin-bottom: 0;padding: 0.3em;box-sizing: border-box;text-align: center;}#sk-container-id-3 label.sk-toggleable__label-arrow:before {content: \"▸\";float: left;margin-right: 0.25em;color: #696969;}#sk-container-id-3 label.sk-toggleable__label-arrow:hover:before {color: black;}#sk-container-id-3 div.sk-estimator:hover label.sk-toggleable__label-arrow:before {color: black;}#sk-container-id-3 div.sk-toggleable__content {max-height: 0;max-width: 0;overflow: hidden;text-align: left;background-color: #f0f8ff;}#sk-container-id-3 div.sk-toggleable__content pre {margin: 0.2em;color: black;border-radius: 0.25em;background-color: #f0f8ff;}#sk-container-id-3 input.sk-toggleable__control:checked~div.sk-toggleable__content {max-height: 200px;max-width: 100%;overflow: auto;}#sk-container-id-3 input.sk-toggleable__control:checked~label.sk-toggleable__label-arrow:before {content: \"▾\";}#sk-container-id-3 div.sk-estimator input.sk-toggleable__control:checked~label.sk-toggleable__label {background-color: #d4ebff;}#sk-container-id-3 div.sk-label input.sk-toggleable__control:checked~label.sk-toggleable__label {background-color: #d4ebff;}#sk-container-id-3 input.sk-hidden--visually {border: 0;clip: rect(1px 1px 1px 1px);clip: rect(1px, 1px, 1px, 1px);height: 1px;margin: -1px;overflow: hidden;padding: 0;position: absolute;width: 1px;}#sk-container-id-3 div.sk-estimator {font-family: monospace;background-color: #f0f8ff;border: 1px dotted black;border-radius: 0.25em;box-sizing: border-box;margin-bottom: 0.5em;}#sk-container-id-3 div.sk-estimator:hover {background-color: #d4ebff;}#sk-container-id-3 div.sk-parallel-item::after {content: \"\";width: 100%;border-bottom: 1px solid gray;flex-grow: 1;}#sk-container-id-3 div.sk-label:hover label.sk-toggleable__label {background-color: #d4ebff;}#sk-container-id-3 div.sk-serial::before {content: \"\";position: absolute;border-left: 1px solid gray;box-sizing: border-box;top: 0;bottom: 0;left: 50%;z-index: 0;}#sk-container-id-3 div.sk-serial {display: flex;flex-direction: column;align-items: center;background-color: white;padding-right: 0.2em;padding-left: 0.2em;position: relative;}#sk-container-id-3 div.sk-item {position: relative;z-index: 1;}#sk-container-id-3 div.sk-parallel {display: flex;align-items: stretch;justify-content: center;background-color: white;position: relative;}#sk-container-id-3 div.sk-item::before, #sk-container-id-3 div.sk-parallel-item::before {content: \"\";position: absolute;border-left: 1px solid gray;box-sizing: border-box;top: 0;bottom: 0;left: 50%;z-index: -1;}#sk-container-id-3 div.sk-parallel-item {display: flex;flex-direction: column;z-index: 1;position: relative;background-color: white;}#sk-container-id-3 div.sk-parallel-item:first-child::after {align-self: flex-end;width: 50%;}#sk-container-id-3 div.sk-parallel-item:last-child::after {align-self: flex-start;width: 50%;}#sk-container-id-3 div.sk-parallel-item:only-child::after {width: 0;}#sk-container-id-3 div.sk-dashed-wrapped {border: 1px dashed gray;margin: 0 0.4em 0.5em 0.4em;box-sizing: border-box;padding-bottom: 0.4em;background-color: white;}#sk-container-id-3 div.sk-label label {font-family: monospace;font-weight: bold;display: inline-block;line-height: 1.2em;}#sk-container-id-3 div.sk-label-container {text-align: center;}#sk-container-id-3 div.sk-container {/* jupyter's `normalize.less` sets `[hidden] { display: none; }` but bootstrap.min.css set `[hidden] { display: none !important; }` so we also need the `!important` here to be able to override the default hidden behavior on the sphinx rendered scikit-learn.org. See: https://github.com/scikit-learn/scikit-learn/issues/21755 */display: inline-block !important;position: relative;}#sk-container-id-3 div.sk-text-repr-fallback {display: none;}</style><div id=\"sk-container-id-3\" class=\"sk-top-container\"><div class=\"sk-text-repr-fallback\"><pre>Pipeline(steps=[(&#x27;standardscaler&#x27;, StandardScaler()),\n",
       "                (&#x27;linearsvc&#x27;,\n",
       "                 LinearSVC(dual=False, penalty=&#x27;l1&#x27;, random_state=0))])</pre><b>In a Jupyter environment, please rerun this cell to show the HTML representation or trust the notebook. <br />On GitHub, the HTML representation is unable to render, please try loading this page with nbviewer.org.</b></div><div class=\"sk-container\" hidden><div class=\"sk-item sk-dashed-wrapped\"><div class=\"sk-label-container\"><div class=\"sk-label sk-toggleable\"><input class=\"sk-toggleable__control sk-hidden--visually\" id=\"sk-estimator-id-3\" type=\"checkbox\" ><label for=\"sk-estimator-id-3\" class=\"sk-toggleable__label sk-toggleable__label-arrow\">Pipeline</label><div class=\"sk-toggleable__content\"><pre>Pipeline(steps=[(&#x27;standardscaler&#x27;, StandardScaler()),\n",
       "                (&#x27;linearsvc&#x27;,\n",
       "                 LinearSVC(dual=False, penalty=&#x27;l1&#x27;, random_state=0))])</pre></div></div></div><div class=\"sk-serial\"><div class=\"sk-item\"><div class=\"sk-estimator sk-toggleable\"><input class=\"sk-toggleable__control sk-hidden--visually\" id=\"sk-estimator-id-4\" type=\"checkbox\" ><label for=\"sk-estimator-id-4\" class=\"sk-toggleable__label sk-toggleable__label-arrow\">StandardScaler</label><div class=\"sk-toggleable__content\"><pre>StandardScaler()</pre></div></div></div><div class=\"sk-item\"><div class=\"sk-estimator sk-toggleable\"><input class=\"sk-toggleable__control sk-hidden--visually\" id=\"sk-estimator-id-5\" type=\"checkbox\" ><label for=\"sk-estimator-id-5\" class=\"sk-toggleable__label sk-toggleable__label-arrow\">LinearSVC</label><div class=\"sk-toggleable__content\"><pre>LinearSVC(dual=False, penalty=&#x27;l1&#x27;, random_state=0)</pre></div></div></div></div></div></div></div>"
      ],
      "text/plain": [
       "Pipeline(steps=[('standardscaler', StandardScaler()),\n",
       "                ('linearsvc',\n",
       "                 LinearSVC(dual=False, penalty='l1', random_state=0))])"
      ]
     },
     "execution_count": 59,
     "metadata": {},
     "output_type": "execute_result"
    }
   ],
   "source": [
    "%%time\n",
    "\n",
    "from sklearn.svm import LinearSVC\n",
    "from sklearn.pipeline import make_pipeline\n",
    "from sklearn.preprocessing import StandardScaler\n",
    "\n",
    "svc = make_pipeline(StandardScaler(),\n",
    "                    LinearSVC(penalty='l1', dual=False, random_state=0))\n",
    "\n",
    "svc.fit(X_train, y_train)"
   ]
  },
  {
   "cell_type": "code",
   "execution_count": 60,
   "id": "296e2253",
   "metadata": {
    "ExecuteTime": {
     "end_time": "2022-11-10T07:59:02.494610Z",
     "start_time": "2022-11-10T07:59:02.385900Z"
    }
   },
   "outputs": [
    {
     "name": "stdout",
     "output_type": "stream",
     "text": [
      "[[ 0.00543484 -0.01374336  0.01533662  0.17408419 -0.02214105  0.03675044\n",
      "  -0.00731626  0.33912049  0.08330205  0.01792978  0.04050698  0.01919067\n",
      "   0.01228441  0.00257291 -0.03396514 -0.00350077  0.04935151  0.10284362\n",
      "   0.04031934 -0.01340157  0.00968343  0.00662351  0.03102047  0.03050849\n",
      "   0.05719993  0.08810083]]\n",
      "[-1.19933403]\n",
      "[0 0 0 ... 0 0 0]\n"
     ]
    }
   ],
   "source": [
    "print(svc.named_steps['linearsvc'].coef_)\n",
    "print(svc.named_steps['linearsvc'].intercept_)\n",
    "print(svc.predict(X_test))"
   ]
  },
  {
   "cell_type": "code",
   "execution_count": 61,
   "id": "2c8e247f",
   "metadata": {
    "ExecuteTime": {
     "end_time": "2022-11-10T07:59:02.695074Z",
     "start_time": "2022-11-10T07:59:02.495607Z"
    }
   },
   "outputs": [
    {
     "name": "stdout",
     "output_type": "stream",
     "text": [
      "f1 score test dataset :  \t 0.7465532263851161\n"
     ]
    }
   ],
   "source": [
    "#predict labels on test dataset\n",
    "y_pred_test = svc.predict(X_test)\n",
    "\n",
    "#f1 score\n",
    "print(\"f1 score test dataset :  \\t\", f1_score(y_test,y_pred_test))"
   ]
  },
  {
   "cell_type": "markdown",
   "id": "a452cbdd",
   "metadata": {},
   "source": [
    "## Hyperparameter tuning\n",
    "Hyperparameter tuning penalty term.\n",
    "If l1, loss must be the default squared_hinge, but if l2, can hypertune for hinge vs squared_hinge."
   ]
  },
  {
   "cell_type": "code",
   "execution_count": 62,
   "id": "5003002f",
   "metadata": {
    "ExecuteTime": {
     "end_time": "2022-11-10T07:59:41.961166Z",
     "start_time": "2022-11-10T07:59:02.696072Z"
    }
   },
   "outputs": [
    {
     "name": "stdout",
     "output_type": "stream",
     "text": [
      "Fitting 5 folds for each of 2 candidates, totalling 10 fits\n",
      "[CV] END .........................................penalty=l1; total time=   4.4s\n",
      "[CV] END .........................................penalty=l1; total time=   4.3s\n",
      "[CV] END .........................................penalty=l1; total time=   4.3s\n",
      "[CV] END .........................................penalty=l1; total time=   4.3s\n",
      "[CV] END .........................................penalty=l1; total time=   4.3s\n",
      "[CV] END .........................................penalty=l2; total time=   2.4s\n",
      "[CV] END .........................................penalty=l2; total time=   2.3s\n",
      "[CV] END .........................................penalty=l2; total time=   2.0s\n",
      "[CV] END .........................................penalty=l2; total time=   2.3s\n",
      "[CV] END .........................................penalty=l2; total time=   2.0s\n"
     ]
    }
   ],
   "source": [
    "# create model\n",
    "# svc2 = make_pipeline(StandardScaler(),\n",
    "#                      LinearSVC(dual=False, random_state=0))\n",
    "\n",
    "svc2 = LinearSVC(dual=False, random_state=0)\n",
    "\n",
    "\n",
    "# hyperparameters\n",
    "distributions = dict(penalty = ['l1','l2'])\n",
    "\n",
    "# prepare crossvalidation\n",
    "kfold = StratifiedKFold(n_splits=5, random_state=1, shuffle=True)\n",
    "\n",
    "# create the random search\n",
    "svc2_search = RandomizedSearchCV(svc2,\n",
    "                                   distributions,\n",
    "                                   random_state=0,\n",
    "                                   cv = kfold,\n",
    "                                   scoring=\"f1\",\n",
    "                                   verbose=2)\n",
    "\n",
    "#fit the model\n",
    "search2 = svc2_search.fit(X_train, y_train)"
   ]
  },
  {
   "cell_type": "code",
   "execution_count": 63,
   "id": "207071d2",
   "metadata": {
    "ExecuteTime": {
     "end_time": "2022-11-10T07:59:41.976001Z",
     "start_time": "2022-11-10T07:59:41.963054Z"
    }
   },
   "outputs": [
    {
     "name": "stdout",
     "output_type": "stream",
     "text": [
      "Best F1 score:  0.7422395857237404\n",
      "Best hyperparameters:  {'penalty': 'l1'}\n"
     ]
    }
   ],
   "source": [
    "# obtain best hyperparameter\n",
    "print(\"Best F1 score: \", search2.best_score_)\n",
    "print(\"Best hyperparameters: \", search2.best_params_)\n",
    "# print(search.best_estimator_)"
   ]
  },
  {
   "cell_type": "markdown",
   "id": "7ee87222",
   "metadata": {},
   "source": [
    "Hyperparameter tuning with pipeline"
   ]
  },
  {
   "cell_type": "code",
   "execution_count": 64,
   "id": "924d478d",
   "metadata": {
    "ExecuteTime": {
     "end_time": "2022-11-10T08:00:24.712813Z",
     "start_time": "2022-11-10T07:59:41.977996Z"
    }
   },
   "outputs": [
    {
     "name": "stdout",
     "output_type": "stream",
     "text": [
      "Fitting 5 folds for each of 2 candidates, totalling 10 fits\n",
      "[CV] END ....................................svc__penalty=l1; total time=   4.6s\n",
      "[CV] END ....................................svc__penalty=l1; total time=   4.6s\n",
      "[CV] END ....................................svc__penalty=l1; total time=   4.6s\n",
      "[CV] END ....................................svc__penalty=l1; total time=   4.6s\n",
      "[CV] END ....................................svc__penalty=l1; total time=   4.6s\n",
      "[CV] END ....................................svc__penalty=l2; total time=   2.4s\n",
      "[CV] END ....................................svc__penalty=l2; total time=   2.7s\n",
      "[CV] END ....................................svc__penalty=l2; total time=   2.3s\n",
      "[CV] END ....................................svc__penalty=l2; total time=   2.6s\n",
      "[CV] END ....................................svc__penalty=l2; total time=   2.6s\n"
     ]
    }
   ],
   "source": [
    "from sklearn.pipeline import Pipeline\n",
    "from sklearn.model_selection import GridSearchCV\n",
    "\n",
    "# create model\n",
    "svc3 = Pipeline([('scale', StandardScaler()),\n",
    "                 ('svc', LinearSVC(dual=False, random_state=0))])\n",
    "\n",
    "# hyperparameters\n",
    "param_grid = {'svc__penalty': ['l1','l2']}\n",
    "# param_grid = {'svc__loss': ['square_hinge', 'hinge']}\n",
    "\n",
    "# prepare crossvalidation\n",
    "kfold = StratifiedKFold(n_splits=5, random_state=1, shuffle=True)\n",
    "\n",
    "# create the random search\n",
    "svc3_search = GridSearchCV(svc3,\n",
    "                           param_grid,\n",
    "                           cv = kfold,\n",
    "                           scoring=\"f1\",\n",
    "                           verbose=2)\n",
    "\n",
    "#fit the model\n",
    "search3 = svc3_search.fit(X_train, y_train)"
   ]
  },
  {
   "cell_type": "code",
   "execution_count": 65,
   "id": "dd68345f",
   "metadata": {
    "ExecuteTime": {
     "end_time": "2022-11-10T08:00:24.728799Z",
     "start_time": "2022-11-10T08:00:24.714815Z"
    }
   },
   "outputs": [
    {
     "name": "stdout",
     "output_type": "stream",
     "text": [
      "Best F1 score:  0.7422395857237404\n",
      "Best hyperparameters:  {'svc__penalty': 'l1'}\n"
     ]
    }
   ],
   "source": [
    "# obtain best hyperparameter\n",
    "print(\"Best F1 score: \", search3.best_score_)\n",
    "print(\"Best hyperparameters: \", search3.best_params_)\n",
    "# print(search.best_estimator_)"
   ]
  },
  {
   "cell_type": "markdown",
   "id": "d5b31415",
   "metadata": {},
   "source": [
    "## All Features\n",
    "### Model"
   ]
  },
  {
   "cell_type": "code",
   "execution_count": 66,
   "id": "bf63a9b4",
   "metadata": {
    "ExecuteTime": {
     "end_time": "2022-11-10T08:00:40.126388Z",
     "start_time": "2022-11-10T08:00:24.730766Z"
    }
   },
   "outputs": [
    {
     "name": "stdout",
     "output_type": "stream",
     "text": [
      "Validation f1: 0.742 (0.001)\n"
     ]
    }
   ],
   "source": [
    "# evaluate a SVC model using stratified k-fold cross-validation\n",
    "from numpy import mean\n",
    "from numpy import std\n",
    "from sklearn.model_selection import StratifiedKFold\n",
    "from sklearn.model_selection import cross_val_score\n",
    "from sklearn.linear_model import LogisticRegression\n",
    "\n",
    "# prepare the cross-validation procedure\n",
    "cv = StratifiedKFold(n_splits=5, shuffle=True, random_state=1)\n",
    "\n",
    "# create model\n",
    "model = Pipeline([('scale', StandardScaler()),\n",
    "                 ('svc', LinearSVC(penalty='l1', dual=False, random_state=0))])\n",
    "\n",
    "# evaluate model\n",
    "scores = cross_val_score(model, X_train, y_train, scoring='f1', cv=cv, n_jobs=-1)\n",
    "# report performance\n",
    "print('Validation f1: %.3f (%.3f)' % (mean(scores), std(scores)))"
   ]
  },
  {
   "cell_type": "code",
   "execution_count": 67,
   "id": "9cbe44f6",
   "metadata": {
    "ExecuteTime": {
     "end_time": "2022-11-10T08:00:46.114814Z",
     "start_time": "2022-11-10T08:00:40.128412Z"
    }
   },
   "outputs": [
    {
     "data": {
      "text/html": [
       "<style>#sk-container-id-4 {color: black;background-color: white;}#sk-container-id-4 pre{padding: 0;}#sk-container-id-4 div.sk-toggleable {background-color: white;}#sk-container-id-4 label.sk-toggleable__label {cursor: pointer;display: block;width: 100%;margin-bottom: 0;padding: 0.3em;box-sizing: border-box;text-align: center;}#sk-container-id-4 label.sk-toggleable__label-arrow:before {content: \"▸\";float: left;margin-right: 0.25em;color: #696969;}#sk-container-id-4 label.sk-toggleable__label-arrow:hover:before {color: black;}#sk-container-id-4 div.sk-estimator:hover label.sk-toggleable__label-arrow:before {color: black;}#sk-container-id-4 div.sk-toggleable__content {max-height: 0;max-width: 0;overflow: hidden;text-align: left;background-color: #f0f8ff;}#sk-container-id-4 div.sk-toggleable__content pre {margin: 0.2em;color: black;border-radius: 0.25em;background-color: #f0f8ff;}#sk-container-id-4 input.sk-toggleable__control:checked~div.sk-toggleable__content {max-height: 200px;max-width: 100%;overflow: auto;}#sk-container-id-4 input.sk-toggleable__control:checked~label.sk-toggleable__label-arrow:before {content: \"▾\";}#sk-container-id-4 div.sk-estimator input.sk-toggleable__control:checked~label.sk-toggleable__label {background-color: #d4ebff;}#sk-container-id-4 div.sk-label input.sk-toggleable__control:checked~label.sk-toggleable__label {background-color: #d4ebff;}#sk-container-id-4 input.sk-hidden--visually {border: 0;clip: rect(1px 1px 1px 1px);clip: rect(1px, 1px, 1px, 1px);height: 1px;margin: -1px;overflow: hidden;padding: 0;position: absolute;width: 1px;}#sk-container-id-4 div.sk-estimator {font-family: monospace;background-color: #f0f8ff;border: 1px dotted black;border-radius: 0.25em;box-sizing: border-box;margin-bottom: 0.5em;}#sk-container-id-4 div.sk-estimator:hover {background-color: #d4ebff;}#sk-container-id-4 div.sk-parallel-item::after {content: \"\";width: 100%;border-bottom: 1px solid gray;flex-grow: 1;}#sk-container-id-4 div.sk-label:hover label.sk-toggleable__label {background-color: #d4ebff;}#sk-container-id-4 div.sk-serial::before {content: \"\";position: absolute;border-left: 1px solid gray;box-sizing: border-box;top: 0;bottom: 0;left: 50%;z-index: 0;}#sk-container-id-4 div.sk-serial {display: flex;flex-direction: column;align-items: center;background-color: white;padding-right: 0.2em;padding-left: 0.2em;position: relative;}#sk-container-id-4 div.sk-item {position: relative;z-index: 1;}#sk-container-id-4 div.sk-parallel {display: flex;align-items: stretch;justify-content: center;background-color: white;position: relative;}#sk-container-id-4 div.sk-item::before, #sk-container-id-4 div.sk-parallel-item::before {content: \"\";position: absolute;border-left: 1px solid gray;box-sizing: border-box;top: 0;bottom: 0;left: 50%;z-index: -1;}#sk-container-id-4 div.sk-parallel-item {display: flex;flex-direction: column;z-index: 1;position: relative;background-color: white;}#sk-container-id-4 div.sk-parallel-item:first-child::after {align-self: flex-end;width: 50%;}#sk-container-id-4 div.sk-parallel-item:last-child::after {align-self: flex-start;width: 50%;}#sk-container-id-4 div.sk-parallel-item:only-child::after {width: 0;}#sk-container-id-4 div.sk-dashed-wrapped {border: 1px dashed gray;margin: 0 0.4em 0.5em 0.4em;box-sizing: border-box;padding-bottom: 0.4em;background-color: white;}#sk-container-id-4 div.sk-label label {font-family: monospace;font-weight: bold;display: inline-block;line-height: 1.2em;}#sk-container-id-4 div.sk-label-container {text-align: center;}#sk-container-id-4 div.sk-container {/* jupyter's `normalize.less` sets `[hidden] { display: none; }` but bootstrap.min.css set `[hidden] { display: none !important; }` so we also need the `!important` here to be able to override the default hidden behavior on the sphinx rendered scikit-learn.org. See: https://github.com/scikit-learn/scikit-learn/issues/21755 */display: inline-block !important;position: relative;}#sk-container-id-4 div.sk-text-repr-fallback {display: none;}</style><div id=\"sk-container-id-4\" class=\"sk-top-container\"><div class=\"sk-text-repr-fallback\"><pre>Pipeline(steps=[(&#x27;scale&#x27;, StandardScaler()),\n",
       "                (&#x27;svc&#x27;, LinearSVC(dual=False, penalty=&#x27;l1&#x27;, random_state=0))])</pre><b>In a Jupyter environment, please rerun this cell to show the HTML representation or trust the notebook. <br />On GitHub, the HTML representation is unable to render, please try loading this page with nbviewer.org.</b></div><div class=\"sk-container\" hidden><div class=\"sk-item sk-dashed-wrapped\"><div class=\"sk-label-container\"><div class=\"sk-label sk-toggleable\"><input class=\"sk-toggleable__control sk-hidden--visually\" id=\"sk-estimator-id-6\" type=\"checkbox\" ><label for=\"sk-estimator-id-6\" class=\"sk-toggleable__label sk-toggleable__label-arrow\">Pipeline</label><div class=\"sk-toggleable__content\"><pre>Pipeline(steps=[(&#x27;scale&#x27;, StandardScaler()),\n",
       "                (&#x27;svc&#x27;, LinearSVC(dual=False, penalty=&#x27;l1&#x27;, random_state=0))])</pre></div></div></div><div class=\"sk-serial\"><div class=\"sk-item\"><div class=\"sk-estimator sk-toggleable\"><input class=\"sk-toggleable__control sk-hidden--visually\" id=\"sk-estimator-id-7\" type=\"checkbox\" ><label for=\"sk-estimator-id-7\" class=\"sk-toggleable__label sk-toggleable__label-arrow\">StandardScaler</label><div class=\"sk-toggleable__content\"><pre>StandardScaler()</pre></div></div></div><div class=\"sk-item\"><div class=\"sk-estimator sk-toggleable\"><input class=\"sk-toggleable__control sk-hidden--visually\" id=\"sk-estimator-id-8\" type=\"checkbox\" ><label for=\"sk-estimator-id-8\" class=\"sk-toggleable__label sk-toggleable__label-arrow\">LinearSVC</label><div class=\"sk-toggleable__content\"><pre>LinearSVC(dual=False, penalty=&#x27;l1&#x27;, random_state=0)</pre></div></div></div></div></div></div></div>"
      ],
      "text/plain": [
       "Pipeline(steps=[('scale', StandardScaler()),\n",
       "                ('svc', LinearSVC(dual=False, penalty='l1', random_state=0))])"
      ]
     },
     "execution_count": 67,
     "metadata": {},
     "output_type": "execute_result"
    }
   ],
   "source": [
    "svc4 = Pipeline([('scale', StandardScaler()),\n",
    "                 ('svc', LinearSVC(penalty='l1', dual=False, random_state=0))])\n",
    "\n",
    "svc4.fit(X_train, y_train)"
   ]
  },
  {
   "cell_type": "code",
   "execution_count": 68,
   "id": "d63702cd",
   "metadata": {
    "ExecuteTime": {
     "end_time": "2022-11-10T08:00:46.162685Z",
     "start_time": "2022-11-10T08:00:46.116809Z"
    }
   },
   "outputs": [
    {
     "name": "stdout",
     "output_type": "stream",
     "text": [
      "[[ 0.00543484 -0.01374336  0.01533662  0.17408419 -0.02214105  0.03675044\n",
      "  -0.00731626  0.33912049  0.08330205  0.01792978  0.04050698  0.01919067\n",
      "   0.01228441  0.00257291 -0.03396514 -0.00350077  0.04935151  0.10284362\n",
      "   0.04031934 -0.01340157  0.00968343  0.00662351  0.03102047  0.03050849\n",
      "   0.05719993  0.08810083]]\n",
      "[-1.19933403]\n",
      "[0 0 0 ... 0 0 0]\n"
     ]
    }
   ],
   "source": [
    "print(svc4.named_steps['svc'].coef_) #need to use .named_steps[''] to access model in pipeline\n",
    "print(svc4.named_steps['svc'].intercept_)\n",
    "print(svc4.named_steps['svc'].predict(X_test))"
   ]
  },
  {
   "cell_type": "code",
   "execution_count": 69,
   "id": "7156dc17",
   "metadata": {
    "ExecuteTime": {
     "end_time": "2022-11-10T08:00:46.386088Z",
     "start_time": "2022-11-10T08:00:46.163683Z"
    }
   },
   "outputs": [
    {
     "name": "stdout",
     "output_type": "stream",
     "text": [
      "Test f1:  \t 0.7465532263851161\n"
     ]
    }
   ],
   "source": [
    "#predict labels on test dataset\n",
    "y_pred_test = svc4.named_steps['svc'].predict(X_test)\n",
    "\n",
    "#f1 score\n",
    "print(\"Test f1:  \\t\", f1_score(y_test,y_pred_test))"
   ]
  },
  {
   "cell_type": "markdown",
   "id": "1f913af7",
   "metadata": {},
   "source": [
    "### Feature importance\n",
    "https://aneesha.medium.com/visualising-top-features-in-linear-svm-with-scikit-learn-and-matplotlib-3454ab18a14d"
   ]
  },
  {
   "cell_type": "code",
   "execution_count": 70,
   "id": "73917c3a",
   "metadata": {
    "ExecuteTime": {
     "end_time": "2022-11-10T08:00:48.014677Z",
     "start_time": "2022-11-10T08:00:46.387086Z"
    },
    "scrolled": false
   },
   "outputs": [
    {
     "data": {
      "image/png": "[encoded data removed]",
      "text/plain": [
       "<Figure size 1080x360 with 1 Axes>"
      ]
     },
     "metadata": {
      "needs_background": "light"
     },
     "output_type": "display_data"
    }
   ],
   "source": [
    "from sklearn.feature_extraction.text import CountVectorizer\n",
    "from sklearn.svm import LinearSVC\n",
    "import matplotlib.pyplot as plt\n",
    "\n",
    "def plot_coefficients(classifier, feature_names, top_features=20):\n",
    "    coef = classifier.coef_.ravel()\n",
    "    top_positive_coefficients = np.argsort(coef)[-top_features:]\n",
    "    top_negative_coefficients = np.argsort(coef)[:top_features]\n",
    "    top_coefficients = np.hstack([top_negative_coefficients, top_positive_coefficients])\n",
    "    \n",
    "    # create plot\n",
    "    plt.figure(figsize=(15, 5))\n",
    "    colors = ['red' if c < 0 else 'blue' for c in coef[top_coefficients]]\n",
    "    plt.bar(np.arange(2 * top_features), coef[top_coefficients], color=colors)\n",
    "    feature_names = np.array(feature_names)\n",
    "    plt.xticks(np.arange(1, 1 + 2 * top_features), feature_names[top_coefficients], rotation=60, ha='right')\n",
    "    plt.ylabel('Feature coefficient')\n",
    "    plt.xlabel('Feature name')\n",
    "    plt.title('Feature Importance for All LinearSVC')\n",
    "    plt.savefig('Feature Importance for All Linear SVC.jpg', bbox_inches='tight')\n",
    "    plt.show()\n",
    "    \n",
    "plot_coefficients(svc4.named_steps['svc'], features)"
   ]
  },
  {
   "cell_type": "code",
   "execution_count": 71,
   "id": "e7c4481c",
   "metadata": {
    "ExecuteTime": {
     "end_time": "2022-11-10T08:00:48.030350Z",
     "start_time": "2022-11-10T08:00:48.015379Z"
    }
   },
   "outputs": [
    {
     "name": "stdout",
     "output_type": "stream",
     "text": [
      "(0) race_ethnicity_combined  :             0.005             \n",
      "(1) current_status           :             -0.014            \n",
      "(2) sex                      :             0.015             \n",
      "(3) hosp_yn                  :             0.174             \n",
      "(4) icu_yn                   :             -0.022            \n",
      "(5) death_yn                 :             0.037             \n",
      "(6) hc_work_yn               :             -0.007            \n",
      "(7) pna_yn                   :             0.339             \n",
      "(8) abxchest_yn              :             0.083             \n",
      "(9) acuterespdistress_yn     :             0.018             \n",
      "(10) mechvent_yn              :             0.041             \n",
      "(11) fever_yn                 :             0.019             \n",
      "(12) sfever_yn                :             0.012             \n",
      "(13) chills_yn                :             0.003             \n",
      "(14) myalgia_yn               :             -0.034            \n",
      "(15) runnose_yn               :             -0.004            \n",
      "(16) sthroat_yn               :             0.049             \n",
      "(17) cough_yn                 :             0.103             \n",
      "(18) sob_yn                   :             0.040             \n",
      "(19) nauseavomit_yn           :             -0.013            \n",
      "(20) headache_yn              :             0.010             \n",
      "(21) abdom_yn                 :             0.007             \n",
      "(22) diarrhea_yn              :             0.031             \n",
      "(23) medcond_yn               :             0.031             \n",
      "(24) res_county               :             0.057             \n",
      "(25) res_state                :             0.088             \n"
     ]
    }
   ],
   "source": [
    "importance3 = svc4.named_steps['svc'].coef_.ravel()\n",
    "\n",
    "for i,v in enumerate(importance3):\n",
    "    print(f'({i}) {features[i] : <25}: {v : ^30.3f}')"
   ]
  },
  {
   "cell_type": "markdown",
   "id": "62983c1c",
   "metadata": {},
   "source": [
    "## EDA Features\n",
    "### Model"
   ]
  },
  {
   "cell_type": "code",
   "execution_count": 72,
   "id": "485c1b7e",
   "metadata": {
    "ExecuteTime": {
     "end_time": "2022-11-10T08:01:29.042598Z",
     "start_time": "2022-11-10T08:00:48.032076Z"
    }
   },
   "outputs": [
    {
     "name": "stdout",
     "output_type": "stream",
     "text": [
      "Validation f1: 0.699 (0.002)\n"
     ]
    }
   ],
   "source": [
    "# evaluate a SVC using stratified k-fold cross-validation\n",
    "\n",
    "# prepare the cross-validation procedure\n",
    "cv = StratifiedKFold(n_splits=5, shuffle=True, random_state=1)\n",
    "\n",
    "# create model\n",
    "model = Pipeline([('scale', StandardScaler()),\n",
    "                 ('svc', LinearSVC(penalty='l1', dual=False, random_state=0))])\n",
    "\n",
    "# evaluate model\n",
    "scores = cross_val_score(model, X_train_eda, y_train, scoring='f1', cv=cv, n_jobs=-1)\n",
    "\n",
    "# report performance\n",
    "print('Validation f1: %.3f (%.3f)' % (mean(scores), std(scores)))"
   ]
  },
  {
   "cell_type": "code",
   "execution_count": 73,
   "id": "5d0ee726",
   "metadata": {
    "ExecuteTime": {
     "end_time": "2022-11-10T08:01:33.916144Z",
     "start_time": "2022-11-10T08:01:29.043564Z"
    }
   },
   "outputs": [
    {
     "data": {
      "text/html": [
       "<style>#sk-container-id-5 {color: black;background-color: white;}#sk-container-id-5 pre{padding: 0;}#sk-container-id-5 div.sk-toggleable {background-color: white;}#sk-container-id-5 label.sk-toggleable__label {cursor: pointer;display: block;width: 100%;margin-bottom: 0;padding: 0.3em;box-sizing: border-box;text-align: center;}#sk-container-id-5 label.sk-toggleable__label-arrow:before {content: \"▸\";float: left;margin-right: 0.25em;color: #696969;}#sk-container-id-5 label.sk-toggleable__label-arrow:hover:before {color: black;}#sk-container-id-5 div.sk-estimator:hover label.sk-toggleable__label-arrow:before {color: black;}#sk-container-id-5 div.sk-toggleable__content {max-height: 0;max-width: 0;overflow: hidden;text-align: left;background-color: #f0f8ff;}#sk-container-id-5 div.sk-toggleable__content pre {margin: 0.2em;color: black;border-radius: 0.25em;background-color: #f0f8ff;}#sk-container-id-5 input.sk-toggleable__control:checked~div.sk-toggleable__content {max-height: 200px;max-width: 100%;overflow: auto;}#sk-container-id-5 input.sk-toggleable__control:checked~label.sk-toggleable__label-arrow:before {content: \"▾\";}#sk-container-id-5 div.sk-estimator input.sk-toggleable__control:checked~label.sk-toggleable__label {background-color: #d4ebff;}#sk-container-id-5 div.sk-label input.sk-toggleable__control:checked~label.sk-toggleable__label {background-color: #d4ebff;}#sk-container-id-5 input.sk-hidden--visually {border: 0;clip: rect(1px 1px 1px 1px);clip: rect(1px, 1px, 1px, 1px);height: 1px;margin: -1px;overflow: hidden;padding: 0;position: absolute;width: 1px;}#sk-container-id-5 div.sk-estimator {font-family: monospace;background-color: #f0f8ff;border: 1px dotted black;border-radius: 0.25em;box-sizing: border-box;margin-bottom: 0.5em;}#sk-container-id-5 div.sk-estimator:hover {background-color: #d4ebff;}#sk-container-id-5 div.sk-parallel-item::after {content: \"\";width: 100%;border-bottom: 1px solid gray;flex-grow: 1;}#sk-container-id-5 div.sk-label:hover label.sk-toggleable__label {background-color: #d4ebff;}#sk-container-id-5 div.sk-serial::before {content: \"\";position: absolute;border-left: 1px solid gray;box-sizing: border-box;top: 0;bottom: 0;left: 50%;z-index: 0;}#sk-container-id-5 div.sk-serial {display: flex;flex-direction: column;align-items: center;background-color: white;padding-right: 0.2em;padding-left: 0.2em;position: relative;}#sk-container-id-5 div.sk-item {position: relative;z-index: 1;}#sk-container-id-5 div.sk-parallel {display: flex;align-items: stretch;justify-content: center;background-color: white;position: relative;}#sk-container-id-5 div.sk-item::before, #sk-container-id-5 div.sk-parallel-item::before {content: \"\";position: absolute;border-left: 1px solid gray;box-sizing: border-box;top: 0;bottom: 0;left: 50%;z-index: -1;}#sk-container-id-5 div.sk-parallel-item {display: flex;flex-direction: column;z-index: 1;position: relative;background-color: white;}#sk-container-id-5 div.sk-parallel-item:first-child::after {align-self: flex-end;width: 50%;}#sk-container-id-5 div.sk-parallel-item:last-child::after {align-self: flex-start;width: 50%;}#sk-container-id-5 div.sk-parallel-item:only-child::after {width: 0;}#sk-container-id-5 div.sk-dashed-wrapped {border: 1px dashed gray;margin: 0 0.4em 0.5em 0.4em;box-sizing: border-box;padding-bottom: 0.4em;background-color: white;}#sk-container-id-5 div.sk-label label {font-family: monospace;font-weight: bold;display: inline-block;line-height: 1.2em;}#sk-container-id-5 div.sk-label-container {text-align: center;}#sk-container-id-5 div.sk-container {/* jupyter's `normalize.less` sets `[hidden] { display: none; }` but bootstrap.min.css set `[hidden] { display: none !important; }` so we also need the `!important` here to be able to override the default hidden behavior on the sphinx rendered scikit-learn.org. See: https://github.com/scikit-learn/scikit-learn/issues/21755 */display: inline-block !important;position: relative;}#sk-container-id-5 div.sk-text-repr-fallback {display: none;}</style><div id=\"sk-container-id-5\" class=\"sk-top-container\"><div class=\"sk-text-repr-fallback\"><pre>Pipeline(steps=[(&#x27;scale&#x27;, StandardScaler()),\n",
       "                (&#x27;svc&#x27;, LinearSVC(dual=False, penalty=&#x27;l1&#x27;, random_state=0))])</pre><b>In a Jupyter environment, please rerun this cell to show the HTML representation or trust the notebook. <br />On GitHub, the HTML representation is unable to render, please try loading this page with nbviewer.org.</b></div><div class=\"sk-container\" hidden><div class=\"sk-item sk-dashed-wrapped\"><div class=\"sk-label-container\"><div class=\"sk-label sk-toggleable\"><input class=\"sk-toggleable__control sk-hidden--visually\" id=\"sk-estimator-id-9\" type=\"checkbox\" ><label for=\"sk-estimator-id-9\" class=\"sk-toggleable__label sk-toggleable__label-arrow\">Pipeline</label><div class=\"sk-toggleable__content\"><pre>Pipeline(steps=[(&#x27;scale&#x27;, StandardScaler()),\n",
       "                (&#x27;svc&#x27;, LinearSVC(dual=False, penalty=&#x27;l1&#x27;, random_state=0))])</pre></div></div></div><div class=\"sk-serial\"><div class=\"sk-item\"><div class=\"sk-estimator sk-toggleable\"><input class=\"sk-toggleable__control sk-hidden--visually\" id=\"sk-estimator-id-10\" type=\"checkbox\" ><label for=\"sk-estimator-id-10\" class=\"sk-toggleable__label sk-toggleable__label-arrow\">StandardScaler</label><div class=\"sk-toggleable__content\"><pre>StandardScaler()</pre></div></div></div><div class=\"sk-item\"><div class=\"sk-estimator sk-toggleable\"><input class=\"sk-toggleable__control sk-hidden--visually\" id=\"sk-estimator-id-11\" type=\"checkbox\" ><label for=\"sk-estimator-id-11\" class=\"sk-toggleable__label sk-toggleable__label-arrow\">LinearSVC</label><div class=\"sk-toggleable__content\"><pre>LinearSVC(dual=False, penalty=&#x27;l1&#x27;, random_state=0)</pre></div></div></div></div></div></div></div>"
      ],
      "text/plain": [
       "Pipeline(steps=[('scale', StandardScaler()),\n",
       "                ('svc', LinearSVC(dual=False, penalty='l1', random_state=0))])"
      ]
     },
     "execution_count": 73,
     "metadata": {},
     "output_type": "execute_result"
    }
   ],
   "source": [
    "svc5 = Pipeline([('scale', StandardScaler()),\n",
    "                 ('svc', LinearSVC(penalty='l1', dual=False, random_state=0))])\n",
    "\n",
    "svc5.fit(X_train_eda, y_train)"
   ]
  },
  {
   "cell_type": "code",
   "execution_count": 74,
   "id": "a7d974a9",
   "metadata": {
    "ExecuteTime": {
     "end_time": "2022-11-10T08:01:33.963986Z",
     "start_time": "2022-11-10T08:01:33.917112Z"
    }
   },
   "outputs": [
    {
     "name": "stdout",
     "output_type": "stream",
     "text": [
      "[[-0.02884358  0.00585685  0.38653684  0.13010348  0.05650369  0.02915941\n",
      "   0.00800379 -0.01571566 -0.05333635 -0.01201201  0.03140665  0.15174742\n",
      "   0.05648596 -0.04499929  0.00627202  0.00539397  0.05528331  0.09822278\n",
      "   0.16659584]]\n",
      "[-1.2379312]\n",
      "[0 0 0 ... 0 0 0]\n"
     ]
    }
   ],
   "source": [
    "print(svc5.named_steps['svc'].coef_) #need to use .named_steps[''] to access model in pipeline\n",
    "print(svc5.named_steps['svc'].intercept_)\n",
    "print(svc5.named_steps['svc'].predict(X_test_eda))"
   ]
  },
  {
   "cell_type": "code",
   "execution_count": 75,
   "id": "21fbc850",
   "metadata": {
    "ExecuteTime": {
     "end_time": "2022-11-10T08:01:34.087656Z",
     "start_time": "2022-11-10T08:01:33.964984Z"
    }
   },
   "outputs": [
    {
     "name": "stdout",
     "output_type": "stream",
     "text": [
      "test f1:  \t 0.7028015271280313\n"
     ]
    }
   ],
   "source": [
    "#predict labels on test dataset\n",
    "y_pred_test_eda = svc5.named_steps['svc'].predict(X_test_eda)\n",
    "\n",
    "#f1 score\n",
    "print(\"test f1:  \\t\", f1_score(y_test, y_pred_test_eda))"
   ]
  },
  {
   "cell_type": "markdown",
   "id": "bdc7fa05",
   "metadata": {},
   "source": [
    "### Feature importance\n",
    "https://aneesha.medium.com/visualising-top-features-in-linear-svm-with-scikit-learn-and-matplotlib-3454ab18a14d"
   ]
  },
  {
   "cell_type": "code",
   "execution_count": 76,
   "id": "7b1812bd",
   "metadata": {
    "ExecuteTime": {
     "end_time": "2022-11-10T08:01:34.559064Z",
     "start_time": "2022-11-10T08:01:34.088653Z"
    },
    "scrolled": true
   },
   "outputs": [
    {
     "data": {
      "image/png": "[encoded data removed]",
      "text/plain": [
       "<Figure size 1080x360 with 1 Axes>"
      ]
     },
     "metadata": {
      "needs_background": "light"
     },
     "output_type": "display_data"
    }
   ],
   "source": [
    "plot_coefficients(svc5.named_steps['svc'], features_eda, top_features=19)"
   ]
  },
  {
   "cell_type": "code",
   "execution_count": 77,
   "id": "6fb4a3e6",
   "metadata": {
    "ExecuteTime": {
     "end_time": "2022-11-10T08:01:34.574993Z",
     "start_time": "2022-11-10T08:01:34.561031Z"
    }
   },
   "outputs": [
    {
     "name": "stdout",
     "output_type": "stream",
     "text": [
      "(0) current_status           :             -0.029            \n",
      "(1) hc_work_yn               :             0.006             \n",
      "(2) abxchest_yn              :             0.387             \n",
      "(3) acuterespdistress_yn     :             0.130             \n",
      "(4) fever_yn                 :             0.057             \n",
      "(5) sfever_yn                :             0.029             \n",
      "(6) chills_yn                :             0.008             \n",
      "(7) myalgia_yn               :             -0.016            \n",
      "(8) runnose_yn               :             -0.053            \n",
      "(9) sthroat_yn               :             -0.012            \n",
      "(10) cough_yn                 :             0.031             \n",
      "(11) sob_yn                   :             0.152             \n",
      "(12) nauseavomit_yn           :             0.056             \n",
      "(13) headache_yn              :             -0.045            \n",
      "(14) abdom_yn                 :             0.006             \n",
      "(15) diarrhea_yn              :             0.005             \n",
      "(16) medcond_yn               :             0.055             \n",
      "(17) res_county               :             0.098             \n",
      "(18) age_group                :             0.167             \n"
     ]
    }
   ],
   "source": [
    "importance4 = svc5.named_steps['svc'].coef_.ravel()\n",
    "\n",
    "for i,v in enumerate(importance4):\n",
    "    print(f'({i}) {features_eda[i] : <25}: {v : ^30.3f}')"
   ]
  },
  {
   "cell_type": "code",
   "execution_count": 78,
   "id": "6c20f1bd",
   "metadata": {
    "ExecuteTime": {
     "end_time": "2022-11-10T08:01:34.589978Z",
     "start_time": "2022-11-10T08:01:34.576988Z"
    }
   },
   "outputs": [],
   "source": [
    "drop_features_svc = ['hc_work_yn', 'chills_yn', 'abdom_yn', 'diarrhea_yn']"
   ]
  },
  {
   "cell_type": "markdown",
   "id": "88742c17",
   "metadata": {},
   "source": [
    "## SVC Features\n",
    "### Model"
   ]
  },
  {
   "cell_type": "code",
   "execution_count": 79,
   "id": "22482fb1",
   "metadata": {
    "ExecuteTime": {
     "end_time": "2022-11-10T08:01:34.971158Z",
     "start_time": "2022-11-10T08:01:34.591948Z"
    }
   },
   "outputs": [],
   "source": [
    "X_train_svc= X_train_eda1.drop(drop_features_svc, axis=1)\n",
    "X_test_svc= X_test_eda1.drop(drop_features_svc, axis=1)\n",
    "\n",
    "features_svc = X_train_svc.columns\n",
    "\n",
    "X_train_svc = scale.fit_transform(X_train_svc)\n",
    "X_test_svc = scale.transform(X_test_svc)"
   ]
  },
  {
   "cell_type": "code",
   "execution_count": 80,
   "id": "e1be5661",
   "metadata": {
    "ExecuteTime": {
     "end_time": "2022-11-10T08:01:42.392024Z",
     "start_time": "2022-11-10T08:01:34.973024Z"
    }
   },
   "outputs": [
    {
     "name": "stdout",
     "output_type": "stream",
     "text": [
      "Validation f1: 0.698 (0.002)\n"
     ]
    }
   ],
   "source": [
    "# evaluate a SVC using stratified k-fold cross-validation\n",
    "\n",
    "# prepare the cross-validation procedure\n",
    "cv = StratifiedKFold(n_splits=5, shuffle=True, random_state=1)\n",
    "\n",
    "# create model\n",
    "model = Pipeline([('scale', StandardScaler()),\n",
    "                 ('svc', LinearSVC(penalty='l1', dual=False, random_state=0))])\n",
    "\n",
    "# evaluate model\n",
    "scores = cross_val_score(model, X_train_svc, y_train, scoring='f1', cv=cv, n_jobs=-1)\n",
    "\n",
    "# report performance\n",
    "print('Validation f1: %.3f (%.3f)' % (mean(scores), std(scores)))"
   ]
  },
  {
   "cell_type": "code",
   "execution_count": 81,
   "id": "c88b066a",
   "metadata": {
    "ExecuteTime": {
     "end_time": "2022-11-10T08:01:46.478739Z",
     "start_time": "2022-11-10T08:01:42.393991Z"
    }
   },
   "outputs": [
    {
     "data": {
      "text/html": [
       "<style>#sk-container-id-6 {color: black;background-color: white;}#sk-container-id-6 pre{padding: 0;}#sk-container-id-6 div.sk-toggleable {background-color: white;}#sk-container-id-6 label.sk-toggleable__label {cursor: pointer;display: block;width: 100%;margin-bottom: 0;padding: 0.3em;box-sizing: border-box;text-align: center;}#sk-container-id-6 label.sk-toggleable__label-arrow:before {content: \"▸\";float: left;margin-right: 0.25em;color: #696969;}#sk-container-id-6 label.sk-toggleable__label-arrow:hover:before {color: black;}#sk-container-id-6 div.sk-estimator:hover label.sk-toggleable__label-arrow:before {color: black;}#sk-container-id-6 div.sk-toggleable__content {max-height: 0;max-width: 0;overflow: hidden;text-align: left;background-color: #f0f8ff;}#sk-container-id-6 div.sk-toggleable__content pre {margin: 0.2em;color: black;border-radius: 0.25em;background-color: #f0f8ff;}#sk-container-id-6 input.sk-toggleable__control:checked~div.sk-toggleable__content {max-height: 200px;max-width: 100%;overflow: auto;}#sk-container-id-6 input.sk-toggleable__control:checked~label.sk-toggleable__label-arrow:before {content: \"▾\";}#sk-container-id-6 div.sk-estimator input.sk-toggleable__control:checked~label.sk-toggleable__label {background-color: #d4ebff;}#sk-container-id-6 div.sk-label input.sk-toggleable__control:checked~label.sk-toggleable__label {background-color: #d4ebff;}#sk-container-id-6 input.sk-hidden--visually {border: 0;clip: rect(1px 1px 1px 1px);clip: rect(1px, 1px, 1px, 1px);height: 1px;margin: -1px;overflow: hidden;padding: 0;position: absolute;width: 1px;}#sk-container-id-6 div.sk-estimator {font-family: monospace;background-color: #f0f8ff;border: 1px dotted black;border-radius: 0.25em;box-sizing: border-box;margin-bottom: 0.5em;}#sk-container-id-6 div.sk-estimator:hover {background-color: #d4ebff;}#sk-container-id-6 div.sk-parallel-item::after {content: \"\";width: 100%;border-bottom: 1px solid gray;flex-grow: 1;}#sk-container-id-6 div.sk-label:hover label.sk-toggleable__label {background-color: #d4ebff;}#sk-container-id-6 div.sk-serial::before {content: \"\";position: absolute;border-left: 1px solid gray;box-sizing: border-box;top: 0;bottom: 0;left: 50%;z-index: 0;}#sk-container-id-6 div.sk-serial {display: flex;flex-direction: column;align-items: center;background-color: white;padding-right: 0.2em;padding-left: 0.2em;position: relative;}#sk-container-id-6 div.sk-item {position: relative;z-index: 1;}#sk-container-id-6 div.sk-parallel {display: flex;align-items: stretch;justify-content: center;background-color: white;position: relative;}#sk-container-id-6 div.sk-item::before, #sk-container-id-6 div.sk-parallel-item::before {content: \"\";position: absolute;border-left: 1px solid gray;box-sizing: border-box;top: 0;bottom: 0;left: 50%;z-index: -1;}#sk-container-id-6 div.sk-parallel-item {display: flex;flex-direction: column;z-index: 1;position: relative;background-color: white;}#sk-container-id-6 div.sk-parallel-item:first-child::after {align-self: flex-end;width: 50%;}#sk-container-id-6 div.sk-parallel-item:last-child::after {align-self: flex-start;width: 50%;}#sk-container-id-6 div.sk-parallel-item:only-child::after {width: 0;}#sk-container-id-6 div.sk-dashed-wrapped {border: 1px dashed gray;margin: 0 0.4em 0.5em 0.4em;box-sizing: border-box;padding-bottom: 0.4em;background-color: white;}#sk-container-id-6 div.sk-label label {font-family: monospace;font-weight: bold;display: inline-block;line-height: 1.2em;}#sk-container-id-6 div.sk-label-container {text-align: center;}#sk-container-id-6 div.sk-container {/* jupyter's `normalize.less` sets `[hidden] { display: none; }` but bootstrap.min.css set `[hidden] { display: none !important; }` so we also need the `!important` here to be able to override the default hidden behavior on the sphinx rendered scikit-learn.org. See: https://github.com/scikit-learn/scikit-learn/issues/21755 */display: inline-block !important;position: relative;}#sk-container-id-6 div.sk-text-repr-fallback {display: none;}</style><div id=\"sk-container-id-6\" class=\"sk-top-container\"><div class=\"sk-text-repr-fallback\"><pre>Pipeline(steps=[(&#x27;scale&#x27;, StandardScaler()),\n",
       "                (&#x27;svc&#x27;, LinearSVC(dual=False, penalty=&#x27;l1&#x27;, random_state=0))])</pre><b>In a Jupyter environment, please rerun this cell to show the HTML representation or trust the notebook. <br />On GitHub, the HTML representation is unable to render, please try loading this page with nbviewer.org.</b></div><div class=\"sk-container\" hidden><div class=\"sk-item sk-dashed-wrapped\"><div class=\"sk-label-container\"><div class=\"sk-label sk-toggleable\"><input class=\"sk-toggleable__control sk-hidden--visually\" id=\"sk-estimator-id-12\" type=\"checkbox\" ><label for=\"sk-estimator-id-12\" class=\"sk-toggleable__label sk-toggleable__label-arrow\">Pipeline</label><div class=\"sk-toggleable__content\"><pre>Pipeline(steps=[(&#x27;scale&#x27;, StandardScaler()),\n",
       "                (&#x27;svc&#x27;, LinearSVC(dual=False, penalty=&#x27;l1&#x27;, random_state=0))])</pre></div></div></div><div class=\"sk-serial\"><div class=\"sk-item\"><div class=\"sk-estimator sk-toggleable\"><input class=\"sk-toggleable__control sk-hidden--visually\" id=\"sk-estimator-id-13\" type=\"checkbox\" ><label for=\"sk-estimator-id-13\" class=\"sk-toggleable__label sk-toggleable__label-arrow\">StandardScaler</label><div class=\"sk-toggleable__content\"><pre>StandardScaler()</pre></div></div></div><div class=\"sk-item\"><div class=\"sk-estimator sk-toggleable\"><input class=\"sk-toggleable__control sk-hidden--visually\" id=\"sk-estimator-id-14\" type=\"checkbox\" ><label for=\"sk-estimator-id-14\" class=\"sk-toggleable__label sk-toggleable__label-arrow\">LinearSVC</label><div class=\"sk-toggleable__content\"><pre>LinearSVC(dual=False, penalty=&#x27;l1&#x27;, random_state=0)</pre></div></div></div></div></div></div></div>"
      ],
      "text/plain": [
       "Pipeline(steps=[('scale', StandardScaler()),\n",
       "                ('svc', LinearSVC(dual=False, penalty='l1', random_state=0))])"
      ]
     },
     "execution_count": 81,
     "metadata": {},
     "output_type": "execute_result"
    }
   ],
   "source": [
    "svc6 = Pipeline([('scale', StandardScaler()),\n",
    "                 ('svc', LinearSVC(penalty='l1', dual=False, random_state=0))])\n",
    "\n",
    "svc6.fit(X_train_svc, y_train)"
   ]
  },
  {
   "cell_type": "code",
   "execution_count": 83,
   "id": "eeea108c",
   "metadata": {
    "ExecuteTime": {
     "end_time": "2022-11-10T08:59:05.378743Z",
     "start_time": "2022-11-10T08:59:05.251085Z"
    }
   },
   "outputs": [
    {
     "name": "stdout",
     "output_type": "stream",
     "text": [
      "test f1:  \t 0.7023303374414726\n"
     ]
    }
   ],
   "source": [
    "#predict labels on test dataset\n",
    "y_pred_test_svc = svc6.named_steps['svc'].predict(X_test_svc)\n",
    "\n",
    "#f1 score\n",
    "print(\"test f1:  \\t\", f1_score(y_test, y_pred_test_svc))"
   ]
  },
  {
   "cell_type": "markdown",
   "id": "51239441",
   "metadata": {},
   "source": [
    "### Feature importance\n",
    "https://aneesha.medium.com/visualising-top-features-in-linear-svm-with-scikit-learn-and-matplotlib-3454ab18a14d"
   ]
  },
  {
   "cell_type": "code",
   "execution_count": 84,
   "id": "7827f55e",
   "metadata": {
    "ExecuteTime": {
     "end_time": "2022-11-10T08:59:06.539490Z",
     "start_time": "2022-11-10T08:59:06.126593Z"
    },
    "scrolled": true
   },
   "outputs": [
    {
     "data": {
      "image/png": "[encoded data removed]",
      "text/plain": [
       "<Figure size 1080x360 with 1 Axes>"
      ]
     },
     "metadata": {
      "needs_background": "light"
     },
     "output_type": "display_data"
    }
   ],
   "source": [
    "plot_coefficients(svc6.named_steps['svc'], features_svc, top_features=len(features_svc))"
   ]
  },
  {
   "cell_type": "code",
   "execution_count": 85,
   "id": "64845018",
   "metadata": {
    "ExecuteTime": {
     "end_time": "2022-11-10T08:59:06.695063Z",
     "start_time": "2022-11-10T08:59:06.689077Z"
    }
   },
   "outputs": [
    {
     "name": "stdout",
     "output_type": "stream",
     "text": [
      "(0) current_status           :             -0.029            \n",
      "(1) abxchest_yn              :             0.387             \n",
      "(2) acuterespdistress_yn     :             0.131             \n",
      "(3) fever_yn                 :             0.058             \n",
      "(4) sfever_yn                :             0.031             \n",
      "(5) myalgia_yn               :             -0.013            \n",
      "(6) runnose_yn               :             -0.052            \n",
      "(7) sthroat_yn               :             -0.011            \n",
      "(8) cough_yn                 :             0.032             \n",
      "(9) sob_yn                   :             0.153             \n",
      "(10) nauseavomit_yn           :             0.060             \n",
      "(11) headache_yn              :             -0.043            \n",
      "(12) medcond_yn               :             0.055             \n",
      "(13) res_county               :             0.099             \n",
      "(14) age_group                :             0.166             \n"
     ]
    }
   ],
   "source": [
    "importance5 = svc6.named_steps['svc'].coef_.ravel()\n",
    "\n",
    "for i,v in enumerate(importance5):\n",
    "    print(f'({i}) {features_svc[i] : <25}: {v : ^30.3f}')"
   ]
  },
  {
   "cell_type": "code",
   "execution_count": null,
   "id": "8de5d93d",
   "metadata": {},
   "outputs": [],
   "source": []
  }
 ],
 "metadata": {
  "kernelspec": {
   "display_name": "qbus4934",
   "language": "python",
   "name": "qbus4934"
  },
  "language_info": {
   "codemirror_mode": {
    "name": "ipython",
    "version": 3
   },
   "file_extension": ".py",
   "mimetype": "text/x-python",
   "name": "python",
   "nbconvert_exporter": "python",
   "pygments_lexer": "ipython3",
   "version": "3.10.4"
  },
  "toc": {
   "base_numbering": 1,
   "nav_menu": {},
   "number_sections": true,
   "sideBar": true,
   "skip_h1_title": false,
   "title_cell": "Table of Contents",
   "title_sidebar": "Contents",
   "toc_cell": false,
   "toc_position": {
    "height": "calc(100% - 180px)",
    "left": "10px",
    "top": "150px",
    "width": "227.628px"
   },
   "toc_section_display": true,
   "toc_window_display": true
  },
  "varInspector": {
   "cols": {
    "lenName": 16,
    "lenType": 16,
    "lenVar": 40
   },
   "kernels_config": {
    "python": {
     "delete_cmd_postfix": "",
     "delete_cmd_prefix": "del ",
     "library": "var_list.py",
     "varRefreshCmd": "print(var_dic_list())"
    },
    "r": {
     "delete_cmd_postfix": ") ",
     "delete_cmd_prefix": "rm(",
     "library": "var_list.r",
     "varRefreshCmd": "cat(var_dic_list()) "
    }
   },
   "types_to_exclude": [
    "module",
    "function",
    "builtin_function_or_method",
    "instance",
    "_Feature"
   ],
   "window_display": false
  }
 },
 "nbformat": 4,
 "nbformat_minor": 5
}
