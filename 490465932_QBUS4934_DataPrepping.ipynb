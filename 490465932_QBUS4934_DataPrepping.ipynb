{
 "cells": [
  {
   "cell_type": "code",
   "execution_count": 1,
   "id": "9c0869fa",
   "metadata": {},
   "outputs": [],
   "source": [
    "import zipfile\n",
    "import glob\n",
    "\n",
    "import pandas as pd\n",
    "import numpy as np"
   ]
  },
  {
   "cell_type": "markdown",
   "id": "38b9ccf6",
   "metadata": {},
   "source": [
    "code to check computer stat"
   ]
  },
  {
   "cell_type": "code",
   "execution_count": 2,
   "id": "2fe45da2",
   "metadata": {},
   "outputs": [],
   "source": [
    "#check usage\n",
    "import psutil\n",
    "\n",
    "def usage():\n",
    "    cpu_usage = psutil.cpu_percent()\n",
    "    ram_usage = psutil.virtual_memory()[2]\n",
    "\n",
    "    print(f'CPU usage: {cpu_usage}%')\n",
    "    print(f'RAM usage {ram_usage}%')\n",
    "    \n",
    "# run 'usage()' to check cpu and ram % usage"
   ]
  },
  {
   "cell_type": "code",
   "execution_count": 3,
   "id": "d7101296",
   "metadata": {},
   "outputs": [
    {
     "name": "stdout",
     "output_type": "stream",
     "text": [
      "CPU usage: 37.8%\n",
      "RAM usage 45.5%\n"
     ]
    }
   ],
   "source": [
    "usage()"
   ]
  },
  {
   "cell_type": "markdown",
   "id": "d8718e31",
   "metadata": {},
   "source": [
    "# csv files "
   ]
  },
  {
   "cell_type": "code",
   "execution_count": 4,
   "id": "e649bf22",
   "metadata": {},
   "outputs": [
    {
     "name": "stdout",
     "output_type": "stream",
     "text": [
      "Using glob.glob()\n",
      "D:\\University\\Y4S1\\QBUS4934\\data\\extracted data\\20210718_Ridura_32_Part2.csv\n",
      "D:\\University\\Y4S1\\QBUS4934\\data\\extracted data\\20210718_Ridura_32_Part3.csv\n",
      "D:\\University\\Y4S1\\QBUS4934\\data\\extracted data\\20210718_Ridura_32_Part4.csv\n",
      "D:\\University\\Y4S1\\QBUS4934\\data\\extracted data\\20210718_Ridura_32_Part_1.csv\n",
      "D:\\University\\Y4S1\\QBUS4934\\data\\extracted data\\COVID_Cases_Restricted_Detailed_01032022_Part_1.csv\n",
      "D:\\University\\Y4S1\\QBUS4934\\data\\extracted data\\COVID_Cases_Restricted_Detailed_01032022_Part_2.csv\n",
      "D:\\University\\Y4S1\\QBUS4934\\data\\extracted data\\COVID_Cases_Restricted_Detailed_01032022_Part_3.csv\n",
      "D:\\University\\Y4S1\\QBUS4934\\data\\extracted data\\COVID_Cases_Restricted_Detailed_01032022_Part_4.csv\n",
      "D:\\University\\Y4S1\\QBUS4934\\data\\extracted data\\COVID_Cases_Restricted_Detailed_01032022_Part_5.csv\n",
      "D:\\University\\Y4S1\\QBUS4934\\data\\extracted data\\COVID_Cases_Restricted_Detailed_01032022_Part_6.csv\n",
      "D:\\University\\Y4S1\\QBUS4934\\data\\extracted data\\COVID_Cases_Restricted_Detailed_01102022_Part_1.csv\n",
      "D:\\University\\Y4S1\\QBUS4934\\data\\extracted data\\COVID_Cases_Restricted_Detailed_01102022_Part_2.csv\n",
      "D:\\University\\Y4S1\\QBUS4934\\data\\extracted data\\COVID_Cases_Restricted_Detailed_01102022_Part_3.csv\n",
      "D:\\University\\Y4S1\\QBUS4934\\data\\extracted data\\COVID_Cases_Restricted_Detailed_01102022_Part_4.csv\n",
      "D:\\University\\Y4S1\\QBUS4934\\data\\extracted data\\COVID_Cases_Restricted_Detailed_01102022_Part_5.csv\n",
      "D:\\University\\Y4S1\\QBUS4934\\data\\extracted data\\COVID_Cases_Restricted_Detailed_01102022_Part_6.csv\n",
      "D:\\University\\Y4S1\\QBUS4934\\data\\extracted data\\COVID_Cases_Restricted_Detailed_01242022_Part_1.csv\n",
      "D:\\University\\Y4S1\\QBUS4934\\data\\extracted data\\COVID_Cases_Restricted_Detailed_01242022_Part_2.csv\n",
      "D:\\University\\Y4S1\\QBUS4934\\data\\extracted data\\COVID_Cases_Restricted_Detailed_01242022_Part_3.csv\n",
      "D:\\University\\Y4S1\\QBUS4934\\data\\extracted data\\COVID_Cases_Restricted_Detailed_01242022_Part_4.csv\n",
      "D:\\University\\Y4S1\\QBUS4934\\data\\extracted data\\COVID_Cases_Restricted_Detailed_01242022_Part_5.csv\n",
      "D:\\University\\Y4S1\\QBUS4934\\data\\extracted data\\COVID_Cases_Restricted_Detailed_01242022_Part_6.csv\n",
      "D:\\University\\Y4S1\\QBUS4934\\data\\extracted data\\COVID_Cases_Restricted_Detailed_01242022_Part_7.csv\n",
      "D:\\University\\Y4S1\\QBUS4934\\data\\extracted data\\COVID_Cases_Restricted_Detailed_01312021_Part_1.csv\n",
      "D:\\University\\Y4S1\\QBUS4934\\data\\extracted data\\COVID_Cases_Restricted_Detailed_01312021_Part_2.csv\n",
      "D:\\University\\Y4S1\\QBUS4934\\data\\extracted data\\COVID_Cases_Restricted_Detailed_01312021_Part_3.csv\n",
      "D:\\University\\Y4S1\\QBUS4934\\data\\extracted data\\COVID_Cases_Restricted_Detailed_02182022_Part_1.csv\n",
      "D:\\University\\Y4S1\\QBUS4934\\data\\extracted data\\COVID_Cases_Restricted_Detailed_02182022_Part_2.csv\n",
      "D:\\University\\Y4S1\\QBUS4934\\data\\extracted data\\COVID_Cases_Restricted_Detailed_02182022_Part_3.csv\n",
      "D:\\University\\Y4S1\\QBUS4934\\data\\extracted data\\COVID_Cases_Restricted_Detailed_02182022_Part_4.csv\n",
      "D:\\University\\Y4S1\\QBUS4934\\data\\extracted data\\COVID_Cases_Restricted_Detailed_02282021_Part_1.csv\n",
      "D:\\University\\Y4S1\\QBUS4934\\data\\extracted data\\COVID_Cases_Restricted_Detailed_02282021_Part_2.csv\n",
      "D:\\University\\Y4S1\\QBUS4934\\data\\extracted data\\COVID_Cases_Restricted_Detailed_02282021_Part_3.csv\n",
      "D:\\University\\Y4S1\\QBUS4934\\data\\extracted data\\COVID_Cases_Restricted_Detailed_03312021_Part_1.csv\n",
      "D:\\University\\Y4S1\\QBUS4934\\data\\extracted data\\COVID_Cases_Restricted_Detailed_03312021_Part_2.csv\n",
      "D:\\University\\Y4S1\\QBUS4934\\data\\extracted data\\COVID_Cases_Restricted_Detailed_03312021_Part_3.csv\n",
      "D:\\University\\Y4S1\\QBUS4934\\data\\extracted data\\COVID_Cases_Restricted_Detailed_04302021_Part_1.csv\n",
      "D:\\University\\Y4S1\\QBUS4934\\data\\extracted data\\COVID_Cases_Restricted_Detailed_04302021_Part_2.csv\n",
      "D:\\University\\Y4S1\\QBUS4934\\data\\extracted data\\COVID_Cases_Restricted_Detailed_04302021_Part_3.csv\n",
      "D:\\University\\Y4S1\\QBUS4934\\data\\extracted data\\COVID_Cases_Restricted_Detailed_05112021_Part_1.csv\n",
      "D:\\University\\Y4S1\\QBUS4934\\data\\extracted data\\COVID_Cases_Restricted_Detailed_05112021_Part_2.csv\n",
      "D:\\University\\Y4S1\\QBUS4934\\data\\extracted data\\COVID_Cases_Restricted_Detailed_05112021_Part_3.csv\n",
      "D:\\University\\Y4S1\\QBUS4934\\data\\extracted data\\COVID_Cases_Restricted_Detailed_05112021_Part_4.csv\n",
      "D:\\University\\Y4S1\\QBUS4934\\data\\extracted data\\COVID_Cases_Restricted_Detailed_05172020.csv\n",
      "D:\\University\\Y4S1\\QBUS4934\\data\\extracted data\\COVID_Cases_Restricted_Detailed_05242021_Part_1.csv\n",
      "D:\\University\\Y4S1\\QBUS4934\\data\\extracted data\\COVID_Cases_Restricted_Detailed_05242021_Part_2.csv\n",
      "D:\\University\\Y4S1\\QBUS4934\\data\\extracted data\\COVID_Cases_Restricted_Detailed_05242021_Part_3.csv\n",
      "D:\\University\\Y4S1\\QBUS4934\\data\\extracted data\\COVID_Cases_Restricted_Detailed_05242021_Part_4.csv\n",
      "D:\\University\\Y4S1\\QBUS4934\\data\\extracted data\\COVID_Cases_Restricted_Detailed_05292020.csv\n",
      "D:\\University\\Y4S1\\QBUS4934\\data\\extracted data\\COVID_Cases_Restricted_Detailed_06072021_Part_1.csv\n",
      "D:\\University\\Y4S1\\QBUS4934\\data\\extracted data\\COVID_Cases_Restricted_Detailed_06072021_Part_2.csv\n",
      "D:\\University\\Y4S1\\QBUS4934\\data\\extracted data\\COVID_Cases_Restricted_Detailed_06072021_Part_3.csv\n",
      "D:\\University\\Y4S1\\QBUS4934\\data\\extracted data\\COVID_Cases_Restricted_Detailed_06072021_Part_4.csv\n",
      "D:\\University\\Y4S1\\QBUS4934\\data\\extracted data\\COVID_Cases_Restricted_Detailed_06212021_Part_1.csv\n",
      "D:\\University\\Y4S1\\QBUS4934\\data\\extracted data\\COVID_Cases_Restricted_Detailed_06212021_Part_2.csv\n",
      "D:\\University\\Y4S1\\QBUS4934\\data\\extracted data\\COVID_Cases_Restricted_Detailed_06212021_Part_3.csv\n",
      "D:\\University\\Y4S1\\QBUS4934\\data\\extracted data\\COVID_Cases_Restricted_Detailed_06212021_Part_4.csv\n",
      "D:\\University\\Y4S1\\QBUS4934\\data\\extracted data\\COVID_Cases_Restricted_Detailed_07062021_Part_1.csv\n",
      "D:\\University\\Y4S1\\QBUS4934\\data\\extracted data\\COVID_Cases_Restricted_Detailed_07062021_Part_2.csv\n",
      "D:\\University\\Y4S1\\QBUS4934\\data\\extracted data\\COVID_Cases_Restricted_Detailed_07062021_Part_3.csv\n",
      "D:\\University\\Y4S1\\QBUS4934\\data\\extracted data\\COVID_Cases_Restricted_Detailed_07062021_Part_4.csv\n",
      "D:\\University\\Y4S1\\QBUS4934\\data\\extracted data\\COVID_Cases_Restricted_Detailed_07312020.csv\n",
      "D:\\University\\Y4S1\\QBUS4934\\data\\extracted data\\COVID_Cases_Restricted_Detailed_08032021_Part_1.csv\n",
      "D:\\University\\Y4S1\\QBUS4934\\data\\extracted data\\COVID_Cases_Restricted_Detailed_08032021_Part_2.csv\n",
      "D:\\University\\Y4S1\\QBUS4934\\data\\extracted data\\COVID_Cases_Restricted_Detailed_08032021_Part_3.csv\n",
      "D:\\University\\Y4S1\\QBUS4934\\data\\extracted data\\COVID_Cases_Restricted_Detailed_08032021_Part_4.csv\n",
      "D:\\University\\Y4S1\\QBUS4934\\data\\extracted data\\COVID_Cases_Restricted_Detailed_08172021_Part_1.csv\n",
      "D:\\University\\Y4S1\\QBUS4934\\data\\extracted data\\COVID_Cases_Restricted_Detailed_08172021_Part_2.csv\n",
      "D:\\University\\Y4S1\\QBUS4934\\data\\extracted data\\COVID_Cases_Restricted_Detailed_08172021_Part_3.csv\n",
      "D:\\University\\Y4S1\\QBUS4934\\data\\extracted data\\COVID_Cases_Restricted_Detailed_08172021_Part_4.csv\n",
      "D:\\University\\Y4S1\\QBUS4934\\data\\extracted data\\COVID_Cases_Restricted_Detailed_08312020.csv\n",
      "D:\\University\\Y4S1\\QBUS4934\\data\\extracted data\\COVID_Cases_Restricted_Detailed_08312021_Part_1.csv\n",
      "D:\\University\\Y4S1\\QBUS4934\\data\\extracted data\\COVID_Cases_Restricted_Detailed_08312021_Part_2.csv\n",
      "D:\\University\\Y4S1\\QBUS4934\\data\\extracted data\\COVID_Cases_Restricted_Detailed_08312021_Part_3.csv\n",
      "D:\\University\\Y4S1\\QBUS4934\\data\\extracted data\\COVID_Cases_Restricted_Detailed_08312021_Part_4.csv\n",
      "D:\\University\\Y4S1\\QBUS4934\\data\\extracted data\\COVID_Cases_Restricted_Detailed_09302020.csv\n",
      "D:\\University\\Y4S1\\QBUS4934\\data\\extracted data\\COVID_Cases_Restricted_Detailed_10122021_Part_1.csv\n",
      "D:\\University\\Y4S1\\QBUS4934\\data\\extracted data\\COVID_Cases_Restricted_Detailed_10122021_Part_2.csv\n",
      "D:\\University\\Y4S1\\QBUS4934\\data\\extracted data\\COVID_Cases_Restricted_Detailed_10122021_Part_3.csv\n",
      "D:\\University\\Y4S1\\QBUS4934\\data\\extracted data\\COVID_Cases_Restricted_Detailed_10122021_Part_4.csv\n",
      "D:\\University\\Y4S1\\QBUS4934\\data\\extracted data\\COVID_Cases_Restricted_Detailed_10122021_Part_5.csv\n",
      "D:\\University\\Y4S1\\QBUS4934\\data\\extracted data\\COVID_Cases_Restricted_Detailed_10252021_Part_1.csv\n",
      "D:\\University\\Y4S1\\QBUS4934\\data\\extracted data\\COVID_Cases_Restricted_Detailed_10252021_Part_2.csv\n",
      "D:\\University\\Y4S1\\QBUS4934\\data\\extracted data\\COVID_Cases_Restricted_Detailed_10252021_Part_3.csv\n",
      "D:\\University\\Y4S1\\QBUS4934\\data\\extracted data\\COVID_Cases_Restricted_Detailed_10252021_Part_4.csv\n",
      "D:\\University\\Y4S1\\QBUS4934\\data\\extracted data\\COVID_Cases_Restricted_Detailed_10252021_Part_5.csv\n",
      "D:\\University\\Y4S1\\QBUS4934\\data\\extracted data\\COVID_Cases_Restricted_Detailed_10312020.csv\n",
      "D:\\University\\Y4S1\\QBUS4934\\data\\extracted data\\COVID_Cases_Restricted_Detailed_11302021_Part_1.csv\n",
      "D:\\University\\Y4S1\\QBUS4934\\data\\extracted data\\COVID_Cases_Restricted_Detailed_11302021_Part_2.csv\n",
      "D:\\University\\Y4S1\\QBUS4934\\data\\extracted data\\COVID_Cases_Restricted_Detailed_11302021_Part_3.csv\n",
      "D:\\University\\Y4S1\\QBUS4934\\data\\extracted data\\COVID_Cases_Restricted_Detailed_11302021_Part_4.csv\n",
      "D:\\University\\Y4S1\\QBUS4934\\data\\extracted data\\COVID_Cases_Restricted_Detailed_11302021_Part_5.csv\n",
      "D:\\University\\Y4S1\\QBUS4934\\data\\extracted data\\COVID_Cases_Restricted_Detailed_12042020.csv\n",
      "D:\\University\\Y4S1\\QBUS4934\\data\\extracted data\\COVID_Cases_Restricted_Detailed_12142021_Part_1.csv\n",
      "D:\\University\\Y4S1\\QBUS4934\\data\\extracted data\\COVID_Cases_Restricted_Detailed_12142021_Part_2.csv\n",
      "D:\\University\\Y4S1\\QBUS4934\\data\\extracted data\\COVID_Cases_Restricted_Detailed_12142021_Part_3.csv\n",
      "D:\\University\\Y4S1\\QBUS4934\\data\\extracted data\\COVID_Cases_Restricted_Detailed_12142021_Part_4.csv\n",
      "D:\\University\\Y4S1\\QBUS4934\\data\\extracted data\\COVID_Cases_Restricted_Detailed_12142021_Part_5.csv\n",
      "D:\\University\\Y4S1\\QBUS4934\\data\\extracted data\\COVID_Cases_Restricted_Detailed_12142021_Part_6.csv\n",
      "D:\\University\\Y4S1\\QBUS4934\\data\\extracted data\\COVID_Cases_Restricted_Detailed_12202021_Part_1.csv\n",
      "D:\\University\\Y4S1\\QBUS4934\\data\\extracted data\\COVID_Cases_Restricted_Detailed_12202021_Part_2.csv\n",
      "D:\\University\\Y4S1\\QBUS4934\\data\\extracted data\\COVID_Cases_Restricted_Detailed_12202021_Part_3.csv\n",
      "D:\\University\\Y4S1\\QBUS4934\\data\\extracted data\\COVID_Cases_Restricted_Detailed_12202021_Part_4.csv\n",
      "D:\\University\\Y4S1\\QBUS4934\\data\\extracted data\\COVID_Cases_Restricted_Detailed_12202021_Part_5.csv\n",
      "D:\\University\\Y4S1\\QBUS4934\\data\\extracted data\\COVID_Cases_Restricted_Detailed_12202021_Part_6.csv\n",
      "D:\\University\\Y4S1\\QBUS4934\\data\\extracted data\\COVID_Cases_Restricted_Detailed_12312020_Part_1.csv\n",
      "D:\\University\\Y4S1\\QBUS4934\\data\\extracted data\\COVID_Cases_Restricted_Detailed_12312020_Part_2.csv\n",
      "D:\\University\\Y4S1\\QBUS4934\\data\\extracted data\\COVID_Cases_Restricted_Detailed_Internal_06272020.csv\n"
     ]
    }
   ],
   "source": [
    "# Returns a list of names in list files.\n",
    "print(\"Using glob.glob()\")\n",
    "csv_files = glob.glob(r'D:\\University\\Y4S1\\QBUS4934\\data\\extracted data\\*.csv', \n",
    "                   recursive = True)\n",
    "\n",
    "for file in csv_files:\n",
    "    print(file)"
   ]
  },
  {
   "cell_type": "code",
   "execution_count": 5,
   "id": "96871451",
   "metadata": {},
   "outputs": [],
   "source": [
    "files = csv_files"
   ]
  },
  {
   "cell_type": "code",
   "execution_count": 6,
   "id": "5351515f",
   "metadata": {},
   "outputs": [],
   "source": [
    "#obtain name of each file name, with extension\n",
    "filenames = list(range(len(files)))\n",
    "for i in range(len(files)):\n",
    "    filenames[i] = files[i].split('\\\\')[-1]\n",
    "# print(filenames[0])\n",
    "\n",
    "#obtain file name, without extension\n",
    "titles = list(range(len(filenames)))\n",
    "for i in range(len(filenames)):\n",
    "    titles[i] = filenames[i].split('.csv')[0]\n",
    "    \n",
    "# print(titles[0])"
   ]
  },
  {
   "cell_type": "code",
   "execution_count": 7,
   "id": "bc3ed9e8",
   "metadata": {},
   "outputs": [],
   "source": [
    "def remove_unknown_missing(df_1):\n",
    "    #obtain variables in dataset\n",
    "    labels = df_1.columns\n",
    "    \n",
    "    #obtain original size\n",
    "    rows_before = df_1.shape[0]\n",
    "    \n",
    "    #remove all rows with 'Unknown' or 'Missing' value in the pna_yn column\n",
    "    if 'pna_yn' in df_1.columns:\n",
    "        df_2 = df_1[df_1.pna_yn != 'Unknown']\n",
    "        df_2 = df_2[df_2.pna_yn != 'Missing']\n",
    "    else:\n",
    "        df_2 = df_1\n",
    "    \n",
    "    #obtain new size\n",
    "    rows_after = df_2.shape[0]\n",
    "    \n",
    "    #obtain number of observations removed\n",
    "    rows_removed = rows_before - rows_after\n",
    "    \n",
    "    return df_2, rows_removed, rows_before, labels"
   ]
  },
  {
   "cell_type": "code",
   "execution_count": 8,
   "id": "48436d44",
   "metadata": {
    "scrolled": false
   },
   "outputs": [
    {
     "name": "stderr",
     "output_type": "stream",
     "text": [
      "<timed exec>:10: DtypeWarning: Columns (24) have mixed types. Specify dtype option on import or set low_memory=False.\n"
     ]
    },
    {
     "name": "stdout",
     "output_type": "stream",
     "text": [
      "1/108 complete\n"
     ]
    },
    {
     "name": "stderr",
     "output_type": "stream",
     "text": [
      "<timed exec>:10: DtypeWarning: Columns (24) have mixed types. Specify dtype option on import or set low_memory=False.\n"
     ]
    },
    {
     "name": "stdout",
     "output_type": "stream",
     "text": [
      "2/108 complete\n"
     ]
    },
    {
     "name": "stderr",
     "output_type": "stream",
     "text": [
      "<timed exec>:10: DtypeWarning: Columns (24) have mixed types. Specify dtype option on import or set low_memory=False.\n"
     ]
    },
    {
     "name": "stdout",
     "output_type": "stream",
     "text": [
      "3/108 complete\n"
     ]
    },
    {
     "name": "stderr",
     "output_type": "stream",
     "text": [
      "<timed exec>:10: DtypeWarning: Columns (24) have mixed types. Specify dtype option on import or set low_memory=False.\n"
     ]
    },
    {
     "name": "stdout",
     "output_type": "stream",
     "text": [
      "4/108 complete\n"
     ]
    },
    {
     "name": "stderr",
     "output_type": "stream",
     "text": [
      "<timed exec>:10: DtypeWarning: Columns (24) have mixed types. Specify dtype option on import or set low_memory=False.\n"
     ]
    },
    {
     "name": "stdout",
     "output_type": "stream",
     "text": [
      "5/108 complete\n"
     ]
    },
    {
     "name": "stderr",
     "output_type": "stream",
     "text": [
      "<timed exec>:10: DtypeWarning: Columns (24) have mixed types. Specify dtype option on import or set low_memory=False.\n"
     ]
    },
    {
     "name": "stdout",
     "output_type": "stream",
     "text": [
      "6/108 complete\n"
     ]
    },
    {
     "name": "stderr",
     "output_type": "stream",
     "text": [
      "<timed exec>:10: DtypeWarning: Columns (24) have mixed types. Specify dtype option on import or set low_memory=False.\n"
     ]
    },
    {
     "name": "stdout",
     "output_type": "stream",
     "text": [
      "7/108 complete\n"
     ]
    },
    {
     "name": "stderr",
     "output_type": "stream",
     "text": [
      "<timed exec>:10: DtypeWarning: Columns (24) have mixed types. Specify dtype option on import or set low_memory=False.\n"
     ]
    },
    {
     "name": "stdout",
     "output_type": "stream",
     "text": [
      "8/108 complete\n"
     ]
    },
    {
     "name": "stderr",
     "output_type": "stream",
     "text": [
      "<timed exec>:10: DtypeWarning: Columns (24) have mixed types. Specify dtype option on import or set low_memory=False.\n"
     ]
    },
    {
     "name": "stdout",
     "output_type": "stream",
     "text": [
      "9/108 complete\n"
     ]
    },
    {
     "name": "stderr",
     "output_type": "stream",
     "text": [
      "<timed exec>:10: DtypeWarning: Columns (24) have mixed types. Specify dtype option on import or set low_memory=False.\n"
     ]
    },
    {
     "name": "stdout",
     "output_type": "stream",
     "text": [
      "10/108 complete\n"
     ]
    },
    {
     "name": "stderr",
     "output_type": "stream",
     "text": [
      "<timed exec>:10: DtypeWarning: Columns (24) have mixed types. Specify dtype option on import or set low_memory=False.\n"
     ]
    },
    {
     "name": "stdout",
     "output_type": "stream",
     "text": [
      "11/108 complete\n"
     ]
    },
    {
     "name": "stderr",
     "output_type": "stream",
     "text": [
      "<timed exec>:10: DtypeWarning: Columns (24) have mixed types. Specify dtype option on import or set low_memory=False.\n"
     ]
    },
    {
     "name": "stdout",
     "output_type": "stream",
     "text": [
      "12/108 complete\n"
     ]
    },
    {
     "name": "stderr",
     "output_type": "stream",
     "text": [
      "<timed exec>:10: DtypeWarning: Columns (24) have mixed types. Specify dtype option on import or set low_memory=False.\n"
     ]
    },
    {
     "name": "stdout",
     "output_type": "stream",
     "text": [
      "13/108 complete\n"
     ]
    },
    {
     "name": "stderr",
     "output_type": "stream",
     "text": [
      "<timed exec>:10: DtypeWarning: Columns (24) have mixed types. Specify dtype option on import or set low_memory=False.\n"
     ]
    },
    {
     "name": "stdout",
     "output_type": "stream",
     "text": [
      "14/108 complete\n"
     ]
    },
    {
     "name": "stderr",
     "output_type": "stream",
     "text": [
      "<timed exec>:10: DtypeWarning: Columns (24) have mixed types. Specify dtype option on import or set low_memory=False.\n"
     ]
    },
    {
     "name": "stdout",
     "output_type": "stream",
     "text": [
      "15/108 complete\n"
     ]
    },
    {
     "name": "stderr",
     "output_type": "stream",
     "text": [
      "<timed exec>:10: DtypeWarning: Columns (24) have mixed types. Specify dtype option on import or set low_memory=False.\n"
     ]
    },
    {
     "name": "stdout",
     "output_type": "stream",
     "text": [
      "16/108 complete\n"
     ]
    },
    {
     "name": "stderr",
     "output_type": "stream",
     "text": [
      "<timed exec>:10: DtypeWarning: Columns (24) have mixed types. Specify dtype option on import or set low_memory=False.\n"
     ]
    },
    {
     "name": "stdout",
     "output_type": "stream",
     "text": [
      "17/108 complete\n"
     ]
    },
    {
     "name": "stderr",
     "output_type": "stream",
     "text": [
      "<timed exec>:10: DtypeWarning: Columns (24) have mixed types. Specify dtype option on import or set low_memory=False.\n"
     ]
    },
    {
     "name": "stdout",
     "output_type": "stream",
     "text": [
      "18/108 complete\n"
     ]
    },
    {
     "name": "stderr",
     "output_type": "stream",
     "text": [
      "<timed exec>:10: DtypeWarning: Columns (24) have mixed types. Specify dtype option on import or set low_memory=False.\n"
     ]
    },
    {
     "name": "stdout",
     "output_type": "stream",
     "text": [
      "19/108 complete\n"
     ]
    },
    {
     "name": "stderr",
     "output_type": "stream",
     "text": [
      "<timed exec>:10: DtypeWarning: Columns (24) have mixed types. Specify dtype option on import or set low_memory=False.\n"
     ]
    },
    {
     "name": "stdout",
     "output_type": "stream",
     "text": [
      "20/108 complete\n"
     ]
    },
    {
     "name": "stderr",
     "output_type": "stream",
     "text": [
      "<timed exec>:10: DtypeWarning: Columns (24) have mixed types. Specify dtype option on import or set low_memory=False.\n"
     ]
    },
    {
     "name": "stdout",
     "output_type": "stream",
     "text": [
      "21/108 complete\n"
     ]
    },
    {
     "name": "stderr",
     "output_type": "stream",
     "text": [
      "<timed exec>:10: DtypeWarning: Columns (24) have mixed types. Specify dtype option on import or set low_memory=False.\n"
     ]
    },
    {
     "name": "stdout",
     "output_type": "stream",
     "text": [
      "22/108 complete\n"
     ]
    },
    {
     "name": "stderr",
     "output_type": "stream",
     "text": [
      "<timed exec>:10: DtypeWarning: Columns (24) have mixed types. Specify dtype option on import or set low_memory=False.\n"
     ]
    },
    {
     "name": "stdout",
     "output_type": "stream",
     "text": [
      "23/108 complete\n"
     ]
    },
    {
     "name": "stderr",
     "output_type": "stream",
     "text": [
      "<timed exec>:10: DtypeWarning: Columns (6) have mixed types. Specify dtype option on import or set low_memory=False.\n"
     ]
    },
    {
     "name": "stdout",
     "output_type": "stream",
     "text": [
      "24/108 complete\n"
     ]
    },
    {
     "name": "stderr",
     "output_type": "stream",
     "text": [
      "<timed exec>:10: DtypeWarning: Columns (6) have mixed types. Specify dtype option on import or set low_memory=False.\n"
     ]
    },
    {
     "name": "stdout",
     "output_type": "stream",
     "text": [
      "25/108 complete\n"
     ]
    },
    {
     "name": "stderr",
     "output_type": "stream",
     "text": [
      "<timed exec>:10: DtypeWarning: Columns (6) have mixed types. Specify dtype option on import or set low_memory=False.\n"
     ]
    },
    {
     "name": "stdout",
     "output_type": "stream",
     "text": [
      "26/108 complete\n"
     ]
    },
    {
     "name": "stderr",
     "output_type": "stream",
     "text": [
      "<timed exec>:10: DtypeWarning: Columns (24) have mixed types. Specify dtype option on import or set low_memory=False.\n"
     ]
    },
    {
     "name": "stdout",
     "output_type": "stream",
     "text": [
      "27/108 complete\n"
     ]
    },
    {
     "name": "stderr",
     "output_type": "stream",
     "text": [
      "<timed exec>:10: DtypeWarning: Columns (24) have mixed types. Specify dtype option on import or set low_memory=False.\n"
     ]
    },
    {
     "name": "stdout",
     "output_type": "stream",
     "text": [
      "28/108 complete\n"
     ]
    },
    {
     "name": "stderr",
     "output_type": "stream",
     "text": [
      "<timed exec>:10: DtypeWarning: Columns (22,24) have mixed types. Specify dtype option on import or set low_memory=False.\n"
     ]
    },
    {
     "name": "stdout",
     "output_type": "stream",
     "text": [
      "29/108 complete\n"
     ]
    },
    {
     "name": "stderr",
     "output_type": "stream",
     "text": [
      "<timed exec>:10: DtypeWarning: Columns (24) have mixed types. Specify dtype option on import or set low_memory=False.\n"
     ]
    },
    {
     "name": "stdout",
     "output_type": "stream",
     "text": [
      "30/108 complete\n"
     ]
    },
    {
     "name": "stderr",
     "output_type": "stream",
     "text": [
      "<timed exec>:10: DtypeWarning: Columns (6) have mixed types. Specify dtype option on import or set low_memory=False.\n"
     ]
    },
    {
     "name": "stdout",
     "output_type": "stream",
     "text": [
      "31/108 complete\n"
     ]
    },
    {
     "name": "stderr",
     "output_type": "stream",
     "text": [
      "<timed exec>:10: DtypeWarning: Columns (6) have mixed types. Specify dtype option on import or set low_memory=False.\n"
     ]
    },
    {
     "name": "stdout",
     "output_type": "stream",
     "text": [
      "32/108 complete\n"
     ]
    },
    {
     "name": "stderr",
     "output_type": "stream",
     "text": [
      "<timed exec>:10: DtypeWarning: Columns (6) have mixed types. Specify dtype option on import or set low_memory=False.\n"
     ]
    },
    {
     "name": "stdout",
     "output_type": "stream",
     "text": [
      "33/108 complete\n"
     ]
    },
    {
     "name": "stderr",
     "output_type": "stream",
     "text": [
      "<timed exec>:10: DtypeWarning: Columns (6) have mixed types. Specify dtype option on import or set low_memory=False.\n"
     ]
    },
    {
     "name": "stdout",
     "output_type": "stream",
     "text": [
      "34/108 complete\n"
     ]
    },
    {
     "name": "stderr",
     "output_type": "stream",
     "text": [
      "<timed exec>:10: DtypeWarning: Columns (6) have mixed types. Specify dtype option on import or set low_memory=False.\n"
     ]
    },
    {
     "name": "stdout",
     "output_type": "stream",
     "text": [
      "35/108 complete\n"
     ]
    },
    {
     "name": "stderr",
     "output_type": "stream",
     "text": [
      "<timed exec>:10: DtypeWarning: Columns (6) have mixed types. Specify dtype option on import or set low_memory=False.\n"
     ]
    },
    {
     "name": "stdout",
     "output_type": "stream",
     "text": [
      "36/108 complete\n"
     ]
    },
    {
     "name": "stderr",
     "output_type": "stream",
     "text": [
      "<timed exec>:10: DtypeWarning: Columns (6) have mixed types. Specify dtype option on import or set low_memory=False.\n"
     ]
    },
    {
     "name": "stdout",
     "output_type": "stream",
     "text": [
      "37/108 complete\n"
     ]
    },
    {
     "name": "stderr",
     "output_type": "stream",
     "text": [
      "<timed exec>:10: DtypeWarning: Columns (6) have mixed types. Specify dtype option on import or set low_memory=False.\n"
     ]
    },
    {
     "name": "stdout",
     "output_type": "stream",
     "text": [
      "38/108 complete\n"
     ]
    },
    {
     "name": "stderr",
     "output_type": "stream",
     "text": [
      "<timed exec>:10: DtypeWarning: Columns (6) have mixed types. Specify dtype option on import or set low_memory=False.\n"
     ]
    },
    {
     "name": "stdout",
     "output_type": "stream",
     "text": [
      "39/108 complete\n"
     ]
    },
    {
     "name": "stderr",
     "output_type": "stream",
     "text": [
      "<timed exec>:10: DtypeWarning: Columns (24) have mixed types. Specify dtype option on import or set low_memory=False.\n"
     ]
    },
    {
     "name": "stdout",
     "output_type": "stream",
     "text": [
      "40/108 complete\n"
     ]
    },
    {
     "name": "stderr",
     "output_type": "stream",
     "text": [
      "<timed exec>:10: DtypeWarning: Columns (24) have mixed types. Specify dtype option on import or set low_memory=False.\n"
     ]
    },
    {
     "name": "stdout",
     "output_type": "stream",
     "text": [
      "41/108 complete\n"
     ]
    },
    {
     "name": "stderr",
     "output_type": "stream",
     "text": [
      "<timed exec>:10: DtypeWarning: Columns (24) have mixed types. Specify dtype option on import or set low_memory=False.\n"
     ]
    },
    {
     "name": "stdout",
     "output_type": "stream",
     "text": [
      "42/108 complete\n"
     ]
    },
    {
     "name": "stderr",
     "output_type": "stream",
     "text": [
      "<timed exec>:10: DtypeWarning: Columns (24) have mixed types. Specify dtype option on import or set low_memory=False.\n"
     ]
    },
    {
     "name": "stdout",
     "output_type": "stream",
     "text": [
      "43/108 complete\n",
      "44/108 complete\n",
      "45/108 complete\n",
      "46/108 complete\n",
      "47/108 complete\n",
      "48/108 complete\n",
      "49/108 complete\n"
     ]
    },
    {
     "name": "stderr",
     "output_type": "stream",
     "text": [
      "<timed exec>:10: DtypeWarning: Columns (24) have mixed types. Specify dtype option on import or set low_memory=False.\n"
     ]
    },
    {
     "name": "stdout",
     "output_type": "stream",
     "text": [
      "50/108 complete\n"
     ]
    },
    {
     "name": "stderr",
     "output_type": "stream",
     "text": [
      "<timed exec>:10: DtypeWarning: Columns (24) have mixed types. Specify dtype option on import or set low_memory=False.\n"
     ]
    },
    {
     "name": "stdout",
     "output_type": "stream",
     "text": [
      "51/108 complete\n"
     ]
    },
    {
     "name": "stderr",
     "output_type": "stream",
     "text": [
      "<timed exec>:10: DtypeWarning: Columns (24) have mixed types. Specify dtype option on import or set low_memory=False.\n"
     ]
    },
    {
     "name": "stdout",
     "output_type": "stream",
     "text": [
      "52/108 complete\n"
     ]
    },
    {
     "name": "stderr",
     "output_type": "stream",
     "text": [
      "<timed exec>:10: DtypeWarning: Columns (24) have mixed types. Specify dtype option on import or set low_memory=False.\n"
     ]
    },
    {
     "name": "stdout",
     "output_type": "stream",
     "text": [
      "53/108 complete\n"
     ]
    },
    {
     "name": "stderr",
     "output_type": "stream",
     "text": [
      "<timed exec>:10: DtypeWarning: Columns (24) have mixed types. Specify dtype option on import or set low_memory=False.\n"
     ]
    },
    {
     "name": "stdout",
     "output_type": "stream",
     "text": [
      "54/108 complete\n"
     ]
    },
    {
     "name": "stderr",
     "output_type": "stream",
     "text": [
      "<timed exec>:10: DtypeWarning: Columns (24) have mixed types. Specify dtype option on import or set low_memory=False.\n"
     ]
    },
    {
     "name": "stdout",
     "output_type": "stream",
     "text": [
      "55/108 complete\n"
     ]
    },
    {
     "name": "stderr",
     "output_type": "stream",
     "text": [
      "<timed exec>:10: DtypeWarning: Columns (24) have mixed types. Specify dtype option on import or set low_memory=False.\n"
     ]
    },
    {
     "name": "stdout",
     "output_type": "stream",
     "text": [
      "56/108 complete\n",
      "57/108 complete\n"
     ]
    },
    {
     "name": "stderr",
     "output_type": "stream",
     "text": [
      "<timed exec>:10: DtypeWarning: Columns (24) have mixed types. Specify dtype option on import or set low_memory=False.\n"
     ]
    },
    {
     "name": "stdout",
     "output_type": "stream",
     "text": [
      "58/108 complete\n"
     ]
    },
    {
     "name": "stderr",
     "output_type": "stream",
     "text": [
      "<timed exec>:10: DtypeWarning: Columns (24) have mixed types. Specify dtype option on import or set low_memory=False.\n"
     ]
    },
    {
     "name": "stdout",
     "output_type": "stream",
     "text": [
      "59/108 complete\n"
     ]
    },
    {
     "name": "stderr",
     "output_type": "stream",
     "text": [
      "<timed exec>:10: DtypeWarning: Columns (24) have mixed types. Specify dtype option on import or set low_memory=False.\n"
     ]
    },
    {
     "name": "stdout",
     "output_type": "stream",
     "text": [
      "60/108 complete\n"
     ]
    },
    {
     "name": "stderr",
     "output_type": "stream",
     "text": [
      "<timed exec>:10: DtypeWarning: Columns (24) have mixed types. Specify dtype option on import or set low_memory=False.\n"
     ]
    },
    {
     "name": "stdout",
     "output_type": "stream",
     "text": [
      "61/108 complete\n",
      "62/108 complete\n"
     ]
    },
    {
     "name": "stderr",
     "output_type": "stream",
     "text": [
      "<timed exec>:10: DtypeWarning: Columns (24) have mixed types. Specify dtype option on import or set low_memory=False.\n"
     ]
    },
    {
     "name": "stdout",
     "output_type": "stream",
     "text": [
      "63/108 complete\n"
     ]
    },
    {
     "name": "stderr",
     "output_type": "stream",
     "text": [
      "<timed exec>:10: DtypeWarning: Columns (24) have mixed types. Specify dtype option on import or set low_memory=False.\n"
     ]
    },
    {
     "name": "stdout",
     "output_type": "stream",
     "text": [
      "64/108 complete\n"
     ]
    },
    {
     "name": "stderr",
     "output_type": "stream",
     "text": [
      "<timed exec>:10: DtypeWarning: Columns (24) have mixed types. Specify dtype option on import or set low_memory=False.\n"
     ]
    },
    {
     "name": "stdout",
     "output_type": "stream",
     "text": [
      "65/108 complete\n"
     ]
    },
    {
     "name": "stderr",
     "output_type": "stream",
     "text": [
      "<timed exec>:10: DtypeWarning: Columns (24) have mixed types. Specify dtype option on import or set low_memory=False.\n"
     ]
    },
    {
     "name": "stdout",
     "output_type": "stream",
     "text": [
      "66/108 complete\n",
      "67/108 complete\n"
     ]
    },
    {
     "name": "stderr",
     "output_type": "stream",
     "text": [
      "<timed exec>:10: DtypeWarning: Columns (24) have mixed types. Specify dtype option on import or set low_memory=False.\n"
     ]
    },
    {
     "name": "stdout",
     "output_type": "stream",
     "text": [
      "68/108 complete\n"
     ]
    },
    {
     "name": "stderr",
     "output_type": "stream",
     "text": [
      "<timed exec>:10: DtypeWarning: Columns (24) have mixed types. Specify dtype option on import or set low_memory=False.\n"
     ]
    },
    {
     "name": "stdout",
     "output_type": "stream",
     "text": [
      "69/108 complete\n",
      "70/108 complete\n",
      "71/108 complete\n"
     ]
    },
    {
     "name": "stderr",
     "output_type": "stream",
     "text": [
      "<timed exec>:10: DtypeWarning: Columns (24) have mixed types. Specify dtype option on import or set low_memory=False.\n"
     ]
    },
    {
     "name": "stdout",
     "output_type": "stream",
     "text": [
      "72/108 complete\n"
     ]
    },
    {
     "name": "stderr",
     "output_type": "stream",
     "text": [
      "<timed exec>:10: DtypeWarning: Columns (24) have mixed types. Specify dtype option on import or set low_memory=False.\n"
     ]
    },
    {
     "name": "stdout",
     "output_type": "stream",
     "text": [
      "73/108 complete\n"
     ]
    },
    {
     "name": "stderr",
     "output_type": "stream",
     "text": [
      "<timed exec>:10: DtypeWarning: Columns (24) have mixed types. Specify dtype option on import or set low_memory=False.\n"
     ]
    },
    {
     "name": "stdout",
     "output_type": "stream",
     "text": [
      "74/108 complete\n"
     ]
    },
    {
     "name": "stderr",
     "output_type": "stream",
     "text": [
      "<timed exec>:10: DtypeWarning: Columns (24) have mixed types. Specify dtype option on import or set low_memory=False.\n"
     ]
    },
    {
     "name": "stdout",
     "output_type": "stream",
     "text": [
      "75/108 complete\n",
      "76/108 complete\n"
     ]
    },
    {
     "name": "stderr",
     "output_type": "stream",
     "text": [
      "<timed exec>:10: DtypeWarning: Columns (24) have mixed types. Specify dtype option on import or set low_memory=False.\n"
     ]
    },
    {
     "name": "stdout",
     "output_type": "stream",
     "text": [
      "77/108 complete\n"
     ]
    },
    {
     "name": "stderr",
     "output_type": "stream",
     "text": [
      "<timed exec>:10: DtypeWarning: Columns (24) have mixed types. Specify dtype option on import or set low_memory=False.\n"
     ]
    },
    {
     "name": "stdout",
     "output_type": "stream",
     "text": [
      "78/108 complete\n"
     ]
    },
    {
     "name": "stderr",
     "output_type": "stream",
     "text": [
      "<timed exec>:10: DtypeWarning: Columns (24) have mixed types. Specify dtype option on import or set low_memory=False.\n"
     ]
    },
    {
     "name": "stdout",
     "output_type": "stream",
     "text": [
      "79/108 complete\n"
     ]
    },
    {
     "name": "stderr",
     "output_type": "stream",
     "text": [
      "<timed exec>:10: DtypeWarning: Columns (24) have mixed types. Specify dtype option on import or set low_memory=False.\n"
     ]
    },
    {
     "name": "stdout",
     "output_type": "stream",
     "text": [
      "80/108 complete\n"
     ]
    },
    {
     "name": "stderr",
     "output_type": "stream",
     "text": [
      "<timed exec>:10: DtypeWarning: Columns (24) have mixed types. Specify dtype option on import or set low_memory=False.\n"
     ]
    },
    {
     "name": "stdout",
     "output_type": "stream",
     "text": [
      "81/108 complete\n"
     ]
    },
    {
     "name": "stderr",
     "output_type": "stream",
     "text": [
      "<timed exec>:10: DtypeWarning: Columns (24) have mixed types. Specify dtype option on import or set low_memory=False.\n"
     ]
    },
    {
     "name": "stdout",
     "output_type": "stream",
     "text": [
      "82/108 complete\n"
     ]
    },
    {
     "name": "stderr",
     "output_type": "stream",
     "text": [
      "<timed exec>:10: DtypeWarning: Columns (24) have mixed types. Specify dtype option on import or set low_memory=False.\n"
     ]
    },
    {
     "name": "stdout",
     "output_type": "stream",
     "text": [
      "83/108 complete\n"
     ]
    },
    {
     "name": "stderr",
     "output_type": "stream",
     "text": [
      "<timed exec>:10: DtypeWarning: Columns (24) have mixed types. Specify dtype option on import or set low_memory=False.\n"
     ]
    },
    {
     "name": "stdout",
     "output_type": "stream",
     "text": [
      "84/108 complete\n"
     ]
    },
    {
     "name": "stderr",
     "output_type": "stream",
     "text": [
      "<timed exec>:10: DtypeWarning: Columns (24) have mixed types. Specify dtype option on import or set low_memory=False.\n"
     ]
    },
    {
     "name": "stdout",
     "output_type": "stream",
     "text": [
      "85/108 complete\n"
     ]
    },
    {
     "name": "stderr",
     "output_type": "stream",
     "text": [
      "<timed exec>:10: DtypeWarning: Columns (24) have mixed types. Specify dtype option on import or set low_memory=False.\n"
     ]
    },
    {
     "name": "stdout",
     "output_type": "stream",
     "text": [
      "86/108 complete\n",
      "87/108 complete\n"
     ]
    },
    {
     "name": "stderr",
     "output_type": "stream",
     "text": [
      "<timed exec>:10: DtypeWarning: Columns (24) have mixed types. Specify dtype option on import or set low_memory=False.\n"
     ]
    },
    {
     "name": "stdout",
     "output_type": "stream",
     "text": [
      "88/108 complete\n"
     ]
    },
    {
     "name": "stderr",
     "output_type": "stream",
     "text": [
      "<timed exec>:10: DtypeWarning: Columns (24) have mixed types. Specify dtype option on import or set low_memory=False.\n"
     ]
    },
    {
     "name": "stdout",
     "output_type": "stream",
     "text": [
      "89/108 complete\n"
     ]
    },
    {
     "name": "stderr",
     "output_type": "stream",
     "text": [
      "<timed exec>:10: DtypeWarning: Columns (24) have mixed types. Specify dtype option on import or set low_memory=False.\n"
     ]
    },
    {
     "name": "stdout",
     "output_type": "stream",
     "text": [
      "90/108 complete\n"
     ]
    },
    {
     "name": "stderr",
     "output_type": "stream",
     "text": [
      "<timed exec>:10: DtypeWarning: Columns (24) have mixed types. Specify dtype option on import or set low_memory=False.\n"
     ]
    },
    {
     "name": "stdout",
     "output_type": "stream",
     "text": [
      "91/108 complete\n"
     ]
    },
    {
     "name": "stderr",
     "output_type": "stream",
     "text": [
      "<timed exec>:10: DtypeWarning: Columns (24) have mixed types. Specify dtype option on import or set low_memory=False.\n"
     ]
    },
    {
     "name": "stdout",
     "output_type": "stream",
     "text": [
      "92/108 complete\n",
      "93/108 complete\n"
     ]
    },
    {
     "name": "stderr",
     "output_type": "stream",
     "text": [
      "<timed exec>:10: DtypeWarning: Columns (24) have mixed types. Specify dtype option on import or set low_memory=False.\n"
     ]
    },
    {
     "name": "stdout",
     "output_type": "stream",
     "text": [
      "94/108 complete\n"
     ]
    },
    {
     "name": "stderr",
     "output_type": "stream",
     "text": [
      "<timed exec>:10: DtypeWarning: Columns (24) have mixed types. Specify dtype option on import or set low_memory=False.\n"
     ]
    },
    {
     "name": "stdout",
     "output_type": "stream",
     "text": [
      "95/108 complete\n"
     ]
    },
    {
     "name": "stderr",
     "output_type": "stream",
     "text": [
      "<timed exec>:10: DtypeWarning: Columns (24) have mixed types. Specify dtype option on import or set low_memory=False.\n"
     ]
    },
    {
     "name": "stdout",
     "output_type": "stream",
     "text": [
      "96/108 complete\n"
     ]
    },
    {
     "name": "stderr",
     "output_type": "stream",
     "text": [
      "<timed exec>:10: DtypeWarning: Columns (24) have mixed types. Specify dtype option on import or set low_memory=False.\n"
     ]
    },
    {
     "name": "stdout",
     "output_type": "stream",
     "text": [
      "97/108 complete\n"
     ]
    },
    {
     "name": "stderr",
     "output_type": "stream",
     "text": [
      "<timed exec>:10: DtypeWarning: Columns (24) have mixed types. Specify dtype option on import or set low_memory=False.\n"
     ]
    },
    {
     "name": "stdout",
     "output_type": "stream",
     "text": [
      "98/108 complete\n"
     ]
    },
    {
     "name": "stderr",
     "output_type": "stream",
     "text": [
      "<timed exec>:10: DtypeWarning: Columns (24) have mixed types. Specify dtype option on import or set low_memory=False.\n"
     ]
    },
    {
     "name": "stdout",
     "output_type": "stream",
     "text": [
      "99/108 complete\n"
     ]
    },
    {
     "name": "stderr",
     "output_type": "stream",
     "text": [
      "<timed exec>:10: DtypeWarning: Columns (24) have mixed types. Specify dtype option on import or set low_memory=False.\n"
     ]
    },
    {
     "name": "stdout",
     "output_type": "stream",
     "text": [
      "100/108 complete\n"
     ]
    },
    {
     "name": "stderr",
     "output_type": "stream",
     "text": [
      "<timed exec>:10: DtypeWarning: Columns (24) have mixed types. Specify dtype option on import or set low_memory=False.\n"
     ]
    },
    {
     "name": "stdout",
     "output_type": "stream",
     "text": [
      "101/108 complete\n"
     ]
    },
    {
     "name": "stderr",
     "output_type": "stream",
     "text": [
      "<timed exec>:10: DtypeWarning: Columns (22,24) have mixed types. Specify dtype option on import or set low_memory=False.\n"
     ]
    },
    {
     "name": "stdout",
     "output_type": "stream",
     "text": [
      "102/108 complete\n"
     ]
    },
    {
     "name": "stderr",
     "output_type": "stream",
     "text": [
      "<timed exec>:10: DtypeWarning: Columns (24) have mixed types. Specify dtype option on import or set low_memory=False.\n"
     ]
    },
    {
     "name": "stdout",
     "output_type": "stream",
     "text": [
      "103/108 complete\n"
     ]
    },
    {
     "name": "stderr",
     "output_type": "stream",
     "text": [
      "<timed exec>:10: DtypeWarning: Columns (24) have mixed types. Specify dtype option on import or set low_memory=False.\n"
     ]
    },
    {
     "name": "stdout",
     "output_type": "stream",
     "text": [
      "104/108 complete\n"
     ]
    },
    {
     "name": "stderr",
     "output_type": "stream",
     "text": [
      "<timed exec>:10: DtypeWarning: Columns (24) have mixed types. Specify dtype option on import or set low_memory=False.\n"
     ]
    },
    {
     "name": "stdout",
     "output_type": "stream",
     "text": [
      "105/108 complete\n"
     ]
    },
    {
     "name": "stderr",
     "output_type": "stream",
     "text": [
      "<timed exec>:10: DtypeWarning: Columns (6) have mixed types. Specify dtype option on import or set low_memory=False.\n"
     ]
    },
    {
     "name": "stdout",
     "output_type": "stream",
     "text": [
      "106/108 complete\n"
     ]
    },
    {
     "name": "stderr",
     "output_type": "stream",
     "text": [
      "<timed exec>:10: DtypeWarning: Columns (6) have mixed types. Specify dtype option on import or set low_memory=False.\n"
     ]
    },
    {
     "name": "stdout",
     "output_type": "stream",
     "text": [
      "107/108 complete\n",
      "108/108 complete\n",
      "Number of observations removed: 678828298\n",
      "Number of observations originally: 731409914\n",
      "CPU times: total: 1h 14min 17s\n",
      "Wall time: 1h 22min 43s\n"
     ]
    }
   ],
   "source": [
    "%%time\n",
    "# 1h 46min\n",
    "\n",
    "counter_removed = 0\n",
    "counter_original = 0\n",
    "df_labels = {}\n",
    "\n",
    "for i in range(len(csv_files)):\n",
    "    #import csv file as dataframe\n",
    "    f = csv_files[i]\n",
    "    df_original = pd.read_csv(f)\n",
    "    \n",
    "    #remove all rows with 'Unknown' or 'Missing' value in the pna_yn column\n",
    "    df_new, rows_removed, rows_before, labels = remove_unknown_missing(df_original)\n",
    "    \n",
    "    #save prepped df as parquet file\n",
    "    t = titles[i]\n",
    "    df_new.to_parquet(r'D:\\University\\Y4S1\\QBUS4934\\data\\new data\\{}_csvnew'.format(t))\n",
    "    \n",
    "    #update counter\n",
    "    counter_removed += rows_removed\n",
    "    counter_original += rows_before\n",
    "\n",
    "    #update label\n",
    "    df_labels[f] = labels\n",
    "    \n",
    "    #progress report\n",
    "    print(f'{i+1}/{len(csv_files)} complete' )\n",
    "    \n",
    "#     #make for loop run once\n",
    "#     if i==0:\n",
    "#         break\n",
    "    \n",
    "print(f'Number of observations removed: {counter_removed}')\n",
    "print(f'Number of observations originally: {counter_original}')"
   ]
  },
  {
   "cell_type": "code",
   "execution_count": 9,
   "id": "118b968a",
   "metadata": {},
   "outputs": [],
   "source": [
    "# df_labels"
   ]
  },
  {
   "cell_type": "markdown",
   "id": "62e15239",
   "metadata": {},
   "source": [
    "# parquet files"
   ]
  },
  {
   "cell_type": "code",
   "execution_count": 10,
   "id": "d4cf6e3e",
   "metadata": {
    "scrolled": true
   },
   "outputs": [
    {
     "name": "stdout",
     "output_type": "stream",
     "text": [
      "Using glob.glob()\n",
      "D:\\University\\Y4S1\\QBUS4934\\data\\extracted data\\COVID_Cases_Restricted_Detailed_01032022_Part_1.parquet\n",
      "D:\\University\\Y4S1\\QBUS4934\\data\\extracted data\\COVID_Cases_Restricted_Detailed_01032022_Part_2.parquet\n",
      "D:\\University\\Y4S1\\QBUS4934\\data\\extracted data\\COVID_Cases_Restricted_Detailed_01032022_Part_3.parquet\n",
      "D:\\University\\Y4S1\\QBUS4934\\data\\extracted data\\COVID_Cases_Restricted_Detailed_01102022_Part_1.parquet\n",
      "D:\\University\\Y4S1\\QBUS4934\\data\\extracted data\\COVID_Cases_Restricted_Detailed_01102022_Part_2.parquet\n",
      "D:\\University\\Y4S1\\QBUS4934\\data\\extracted data\\COVID_Cases_Restricted_Detailed_01102022_Part_3.parquet\n",
      "D:\\University\\Y4S1\\QBUS4934\\data\\extracted data\\COVID_Cases_Restricted_Detailed_01242022_Part_1.parquet\n",
      "D:\\University\\Y4S1\\QBUS4934\\data\\extracted data\\COVID_Cases_Restricted_Detailed_01242022_Part_2.parquet\n",
      "D:\\University\\Y4S1\\QBUS4934\\data\\extracted data\\COVID_Cases_Restricted_Detailed_01242022_Part_3.parquet\n",
      "D:\\University\\Y4S1\\QBUS4934\\data\\extracted data\\COVID_Cases_Restricted_Detailed_02182022_Part_1.parquet\n",
      "D:\\University\\Y4S1\\QBUS4934\\data\\extracted data\\COVID_Cases_Restricted_Detailed_02182022_Part_2.parquet\n",
      "D:\\University\\Y4S1\\QBUS4934\\data\\extracted data\\COVID_Cases_Restricted_Detailed_02182022_Part_3.parquet\n",
      "D:\\University\\Y4S1\\QBUS4934\\data\\extracted data\\COVID_Cases_Restricted_Detailed_02182022_Part_4.parquet\n",
      "D:\\University\\Y4S1\\QBUS4934\\data\\extracted data\\COVID_Cases_Restricted_Detailed_04302021_Part_1.parquet\n",
      "D:\\University\\Y4S1\\QBUS4934\\data\\extracted data\\COVID_Cases_Restricted_Detailed_04302021_Part_2.parquet\n",
      "D:\\University\\Y4S1\\QBUS4934\\data\\extracted data\\COVID_Cases_Restricted_Detailed_04302021_Part_3.parquet\n",
      "D:\\University\\Y4S1\\QBUS4934\\data\\extracted data\\COVID_Cases_Restricted_Detailed_05112021_Part_1.parquet\n",
      "D:\\University\\Y4S1\\QBUS4934\\data\\extracted data\\COVID_Cases_Restricted_Detailed_05112021_Part_2.parquet\n",
      "D:\\University\\Y4S1\\QBUS4934\\data\\extracted data\\COVID_Cases_Restricted_Detailed_05242021_Part_1.parquet\n",
      "D:\\University\\Y4S1\\QBUS4934\\data\\extracted data\\COVID_Cases_Restricted_Detailed_05242021_Part_2.parquet\n",
      "D:\\University\\Y4S1\\QBUS4934\\data\\extracted data\\COVID_Cases_Restricted_Detailed_06072021_Part_1.parquet\n",
      "D:\\University\\Y4S1\\QBUS4934\\data\\extracted data\\COVID_Cases_Restricted_Detailed_06072021_Part_2.parquet\n",
      "D:\\University\\Y4S1\\QBUS4934\\data\\extracted data\\COVID_Cases_Restricted_Detailed_06212021_Part_1.parquet\n",
      "D:\\University\\Y4S1\\QBUS4934\\data\\extracted data\\COVID_Cases_Restricted_Detailed_06212021_Part_2.parquet\n",
      "D:\\University\\Y4S1\\QBUS4934\\data\\extracted data\\COVID_Cases_Restricted_Detailed_07062021_Part_1.parquet\n",
      "D:\\University\\Y4S1\\QBUS4934\\data\\extracted data\\COVID_Cases_Restricted_Detailed_07062021_Part_2.parquet\n",
      "D:\\University\\Y4S1\\QBUS4934\\data\\extracted data\\COVID_Cases_Restricted_Detailed_07192021_Part_1.parquet\n",
      "D:\\University\\Y4S1\\QBUS4934\\data\\extracted data\\COVID_Cases_Restricted_Detailed_07192021_Part_2.parquet\n",
      "D:\\University\\Y4S1\\QBUS4934\\data\\extracted data\\COVID_Cases_Restricted_Detailed_08032021_Part_1.parquet\n",
      "D:\\University\\Y4S1\\QBUS4934\\data\\extracted data\\COVID_Cases_Restricted_Detailed_08032021_Part_2.parquet\n",
      "D:\\University\\Y4S1\\QBUS4934\\data\\extracted data\\COVID_Cases_Restricted_Detailed_08172021_Part_1.parquet\n",
      "D:\\University\\Y4S1\\QBUS4934\\data\\extracted data\\COVID_Cases_Restricted_Detailed_08172021_Part_2.parquet\n",
      "D:\\University\\Y4S1\\QBUS4934\\data\\extracted data\\COVID_Cases_Restricted_Detailed_08312021_Part_1.parquet\n",
      "D:\\University\\Y4S1\\QBUS4934\\data\\extracted data\\COVID_Cases_Restricted_Detailed_08312021_Part_2.parquet\n",
      "D:\\University\\Y4S1\\QBUS4934\\data\\extracted data\\COVID_Cases_Restricted_Detailed_10122021_Part_1.parquet\n",
      "D:\\University\\Y4S1\\QBUS4934\\data\\extracted data\\COVID_Cases_Restricted_Detailed_10122021_Part_2.parquet\n",
      "D:\\University\\Y4S1\\QBUS4934\\data\\extracted data\\COVID_Cases_Restricted_Detailed_10252021_Part_1.parquet\n",
      "D:\\University\\Y4S1\\QBUS4934\\data\\extracted data\\COVID_Cases_Restricted_Detailed_10252021_Part_2.parquet\n",
      "D:\\University\\Y4S1\\QBUS4934\\data\\extracted data\\COVID_Cases_Restricted_Detailed_11302021_Part_1.parquet\n",
      "D:\\University\\Y4S1\\QBUS4934\\data\\extracted data\\COVID_Cases_Restricted_Detailed_11302021_Part_2.parquet\n",
      "D:\\University\\Y4S1\\QBUS4934\\data\\extracted data\\COVID_Cases_Restricted_Detailed_11302021_Part_3.parquet\n",
      "D:\\University\\Y4S1\\QBUS4934\\data\\extracted data\\COVID_Cases_Restricted_Detailed_12142021_Part_1.parquet\n",
      "D:\\University\\Y4S1\\QBUS4934\\data\\extracted data\\COVID_Cases_Restricted_Detailed_12142021_Part_2.parquet\n",
      "D:\\University\\Y4S1\\QBUS4934\\data\\extracted data\\COVID_Cases_Restricted_Detailed_12142021_Part_3.parquet\n",
      "D:\\University\\Y4S1\\QBUS4934\\data\\extracted data\\COVID_Cases_Restricted_Detailed_12202021_Part_1.parquet\n",
      "D:\\University\\Y4S1\\QBUS4934\\data\\extracted data\\COVID_Cases_Restricted_Detailed_12202021_Part_2.parquet\n",
      "D:\\University\\Y4S1\\QBUS4934\\data\\extracted data\\COVID_Cases_Restricted_Detailed_12202021_Part_3.parquet\n",
      "D:\\University\\Y4S1\\QBUS4934\\data\\extracted data\\COVID_Cases_Restricted_Details_02282021.parquet\n",
      "D:\\University\\Y4S1\\QBUS4934\\data\\extracted data\\COVID_Cases_Restricted_Details_03312021_Part_1.parquet\n",
      "D:\\University\\Y4S1\\QBUS4934\\data\\extracted data\\COVID_Cases_Restricted_Details_03312021_Part_2.parquet\n",
      "D:\\University\\Y4S1\\QBUS4934\\data\\extracted data\\COVID_Cases_Restricted_Details_03312021_Part_3.parquet\n"
     ]
    }
   ],
   "source": [
    "# Returns a list of names in list files.\n",
    "print(\"Using glob.glob()\")\n",
    "parquet_files = glob.glob(r'D:\\University\\Y4S1\\QBUS4934\\data\\extracted data\\*.parquet', \n",
    "                   recursive = True)\n",
    "\n",
    "for file in parquet_files:\n",
    "    print(file)"
   ]
  },
  {
   "cell_type": "code",
   "execution_count": 11,
   "id": "ad6a928b",
   "metadata": {},
   "outputs": [],
   "source": [
    "files = parquet_files"
   ]
  },
  {
   "cell_type": "code",
   "execution_count": 12,
   "id": "249ac496",
   "metadata": {},
   "outputs": [],
   "source": [
    "#obtain name of each file name, with extension\n",
    "filenames = list(range(len(files)))\n",
    "for i in range(len(files)):\n",
    "    filenames[i] = files[i].split('\\\\')[-1]\n",
    "# print(filenames[0])\n",
    "\n",
    "#obtain file name, without extension\n",
    "titles = list(range(len(filenames)))\n",
    "for i in range(len(filenames)):\n",
    "    titles[i] = filenames[i].split('.parquet')[0]\n",
    "    \n",
    "# print(titles[0])"
   ]
  },
  {
   "cell_type": "code",
   "execution_count": 13,
   "id": "dd271e59",
   "metadata": {},
   "outputs": [
    {
     "name": "stdout",
     "output_type": "stream",
     "text": [
      "1/51 complete\n",
      "2/51 complete\n",
      "3/51 complete\n",
      "4/51 complete\n",
      "5/51 complete\n",
      "6/51 complete\n",
      "7/51 complete\n",
      "8/51 complete\n",
      "9/51 complete\n",
      "10/51 complete\n",
      "11/51 complete\n",
      "12/51 complete\n",
      "13/51 complete\n",
      "14/51 complete\n",
      "15/51 complete\n",
      "16/51 complete\n",
      "17/51 complete\n",
      "18/51 complete\n",
      "19/51 complete\n",
      "20/51 complete\n",
      "21/51 complete\n",
      "22/51 complete\n",
      "23/51 complete\n",
      "24/51 complete\n",
      "25/51 complete\n",
      "26/51 complete\n",
      "27/51 complete\n",
      "28/51 complete\n",
      "29/51 complete\n",
      "30/51 complete\n",
      "31/51 complete\n",
      "32/51 complete\n",
      "33/51 complete\n",
      "34/51 complete\n",
      "35/51 complete\n",
      "36/51 complete\n",
      "37/51 complete\n",
      "38/51 complete\n",
      "39/51 complete\n",
      "40/51 complete\n",
      "41/51 complete\n",
      "42/51 complete\n",
      "43/51 complete\n",
      "44/51 complete\n",
      "45/51 complete\n",
      "46/51 complete\n",
      "47/51 complete\n",
      "48/51 complete\n",
      "49/51 complete\n",
      "50/51 complete\n",
      "51/51 complete\n",
      "Number of observations removed: 1337516466\n",
      "Number of observations originally: 1433415248\n",
      "CPU times: total: 13min 59s\n",
      "Wall time: 15min 55s\n"
     ]
    }
   ],
   "source": [
    "%%time\n",
    "#14min\n",
    "\n",
    "for i in range(len(parquet_files)):\n",
    "    #import parquet file as dataframe\n",
    "    f = parquet_files[i]\n",
    "    df_original = pd.read_parquet(f)\n",
    "    \n",
    "    #remove all rows with 'Unknown' or 'Missing' value in the pna_yn column\n",
    "    df_new, rows_removed, rows_before, labels = remove_unknown_missing(df_original)\n",
    "    \n",
    "    #save prepped df as parquet file\n",
    "    t = titles[i]\n",
    "    df_new.to_parquet(r'D:\\University\\Y4S1\\QBUS4934\\data\\new data\\{}_parquetnew'.format(t))\n",
    "    \n",
    "    #update counter\n",
    "    counter_removed += rows_removed\n",
    "    counter_original += rows_before\n",
    "\n",
    "    #update label\n",
    "    df_labels[f] = labels\n",
    "    \n",
    "    #progress report\n",
    "    print(f'{i+1}/{len(parquet_files)} complete' )\n",
    "    \n",
    "#     #make for loop run once\n",
    "#     if i==0:\n",
    "#         break\n",
    "    \n",
    "print(f'Number of observations removed: {counter_removed}')\n",
    "print(f'Number of observations originally: {counter_original}')"
   ]
  },
  {
   "cell_type": "markdown",
   "id": "9bfa1824",
   "metadata": {},
   "source": [
    "# export dictionary of file labels into csv file\n",
    "https://www.geeksforgeeks.org/python-write-dictionary-of-list-to-csv/#:~:text=csv.writerows()-,To%20write%20a%20dictionary%20of%20list%20to%20CSV%20files%2C%20the,to%20the%20writer's%20file%20object."
   ]
  },
  {
   "cell_type": "code",
   "execution_count": 14,
   "id": "ea9f6894",
   "metadata": {},
   "outputs": [],
   "source": [
    "import csv\n",
    "\n",
    "field_names = ['file name', 'labels']\n",
    "\n",
    "# create a csv file  test.csv and store\n",
    "# it in a variable as outfile\n",
    "with open(\"features.csv\", \"w\") as outfile:\n",
    " \n",
    "    # pass the csv file to csv.writer function.\n",
    "    writer = csv.writer(outfile)\n",
    " \n",
    "    # pass the dictionary keys to writerow\n",
    "    # function to frame the columns of the csv file\n",
    "    writer.writerow(df_labels.keys())\n",
    "   \n",
    "    # make use of writerows function to append\n",
    "    # the remaining values to the corresponding\n",
    "    # columns using zip function.\n",
    "    writer.writerows(zip(*df_labels.values()))"
   ]
  }
 ],
 "metadata": {
  "kernelspec": {
   "display_name": "qbus4934",
   "language": "python",
   "name": "qbus4934"
  },
  "language_info": {
   "codemirror_mode": {
    "name": "ipython",
    "version": 3
   },
   "file_extension": ".py",
   "mimetype": "text/x-python",
   "name": "python",
   "nbconvert_exporter": "python",
   "pygments_lexer": "ipython3",
   "version": "3.10.4"
  },
  "toc": {
   "base_numbering": 1,
   "nav_menu": {},
   "number_sections": true,
   "sideBar": true,
   "skip_h1_title": false,
   "title_cell": "Table of Contents",
   "title_sidebar": "Contents",
   "toc_cell": false,
   "toc_position": {},
   "toc_section_display": true,
   "toc_window_display": false
  }
 },
 "nbformat": 4,
 "nbformat_minor": 5
}
